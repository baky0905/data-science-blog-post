{
 "nbformat": 4,
 "nbformat_minor": 2,
 "metadata": {
  "language_info": {
   "name": "python",
   "codemirror_mode": {
    "name": "ipython",
    "version": 3
   },
   "version": "3.7.3-final"
  },
  "orig_nbformat": 2,
  "file_extension": ".py",
  "mimetype": "text/x-python",
  "name": "python",
  "npconvert_exporter": "python",
  "pygments_lexer": "ipython3",
  "version": 3,
  "kernelspec": {
   "name": "python37364bitminimaldsconda91f0080ae0504f57af51d0d614f986b5",
   "display_name": "Python 3.7.3 64-bit ('minimal_ds': conda)"
  }
 },
 "cells": [
  {
   "cell_type": "markdown",
   "metadata": {},
   "source": [
    "# Seatle airbnb"
   ]
  },
  {
   "cell_type": "markdown",
   "metadata": {},
   "source": [
    "Context\n",
    "\n",
    "Since 2008, guests and hosts have used Airbnb to travel in a more unique, personalized way. As part of the Airbnb Inside initiative, this dataset describes the listing activity of homestays in Seattle, WA.\n",
    "Content\n",
    "\n",
    "The following Airbnb activity is included in this Seattle dataset:\n",
    "\n",
    "    Listings, including full descriptions and average review score\n",
    "    Reviews, including unique id for each reviewer and detailed comments\n",
    "    Calendar, including listing id and the price and availability for that day\n",
    "\n",
    "Inspiration\n",
    "\n",
    "    Can you describe the vibe of each Seattle neighborhood using listing descriptions?\n",
    "    What are the busiest times of the year to visit Seattle? By how much do prices spike?\n",
    "    Is there a general upward trend of both new Airbnb listings and total Airbnb visitors to Seattle?\n"
   ]
  },
  {
   "cell_type": "markdown",
   "metadata": {},
   "source": [
    "# Library and data"
   ]
  },
  {
   "cell_type": "code",
   "execution_count": 284,
   "metadata": {},
   "outputs": [],
   "source": [
    "import pandas as pd\n",
    "import datetime\n",
    "import numpy as np\n",
    "#import pathlib"
   ]
  },
  {
   "cell_type": "code",
   "execution_count": 296,
   "metadata": {},
   "outputs": [],
   "source": [
    "calendar_seattle = pd.read_csv(\"../data/seattle/calendar.csv\")\n",
    "listings_seattle = pd.read_csv(\"../data/seattle/listings.csv\")\n",
    "reviews_seattle = pd.read_csv(\"../data/seattle/reviews.csv\")"
   ]
  },
  {
   "cell_type": "code",
   "execution_count": 297,
   "metadata": {},
   "outputs": [],
   "source": [
    "# https://www.kaggle.com/airbnb/seattle/data"
   ]
  },
  {
   "cell_type": "code",
   "execution_count": 298,
   "metadata": {},
   "outputs": [
    {
     "output_type": "execute_result",
     "data": {
      "text/plain": "((1393570, 4), (3818, 92), (84849, 6))"
     },
     "metadata": {},
     "execution_count": 298
    }
   ],
   "source": [
    "calendar_seattle.shape, listings_seattle.shape, reviews_seattle.shape"
   ]
  },
  {
   "cell_type": "markdown",
   "metadata": {},
   "source": [
    "## 1) how much AirBNB homes are earning in certain time frames and areas?"
   ]
  },
  {
   "cell_type": "code",
   "execution_count": 299,
   "metadata": {},
   "outputs": [
    {
     "output_type": "execute_result",
     "data": {
      "text/plain": "   listing_id        date available   price\n0      241032  2016-01-04         t  $85.00\n1      241032  2016-01-05         t  $85.00\n2      241032  2016-01-06         f     NaN\n3      241032  2016-01-07         f     NaN\n4      241032  2016-01-08         f     NaN",
      "text/html": "<div>\n<style scoped>\n    .dataframe tbody tr th:only-of-type {\n        vertical-align: middle;\n    }\n\n    .dataframe tbody tr th {\n        vertical-align: top;\n    }\n\n    .dataframe thead th {\n        text-align: right;\n    }\n</style>\n<table border=\"1\" class=\"dataframe\">\n  <thead>\n    <tr style=\"text-align: right;\">\n      <th></th>\n      <th>listing_id</th>\n      <th>date</th>\n      <th>available</th>\n      <th>price</th>\n    </tr>\n  </thead>\n  <tbody>\n    <tr>\n      <th>0</th>\n      <td>241032</td>\n      <td>2016-01-04</td>\n      <td>t</td>\n      <td>$85.00</td>\n    </tr>\n    <tr>\n      <th>1</th>\n      <td>241032</td>\n      <td>2016-01-05</td>\n      <td>t</td>\n      <td>$85.00</td>\n    </tr>\n    <tr>\n      <th>2</th>\n      <td>241032</td>\n      <td>2016-01-06</td>\n      <td>f</td>\n      <td>NaN</td>\n    </tr>\n    <tr>\n      <th>3</th>\n      <td>241032</td>\n      <td>2016-01-07</td>\n      <td>f</td>\n      <td>NaN</td>\n    </tr>\n    <tr>\n      <th>4</th>\n      <td>241032</td>\n      <td>2016-01-08</td>\n      <td>f</td>\n      <td>NaN</td>\n    </tr>\n  </tbody>\n</table>\n</div>"
     },
     "metadata": {},
     "execution_count": 299
    }
   ],
   "source": [
    "calendar_seattle.head()"
   ]
  },
  {
   "cell_type": "code",
   "execution_count": 300,
   "metadata": {},
   "outputs": [
    {
     "output_type": "execute_result",
     "data": {
      "text/plain": "         listing_id\ncount  1.393570e+06\nmean   5.550111e+06\nstd    2.962274e+06\nmin    3.335000e+03\n25%    3.258213e+06\n50%    6.118244e+06\n75%    8.035212e+06\nmax    1.034016e+07",
      "text/html": "<div>\n<style scoped>\n    .dataframe tbody tr th:only-of-type {\n        vertical-align: middle;\n    }\n\n    .dataframe tbody tr th {\n        vertical-align: top;\n    }\n\n    .dataframe thead th {\n        text-align: right;\n    }\n</style>\n<table border=\"1\" class=\"dataframe\">\n  <thead>\n    <tr style=\"text-align: right;\">\n      <th></th>\n      <th>listing_id</th>\n    </tr>\n  </thead>\n  <tbody>\n    <tr>\n      <th>count</th>\n      <td>1.393570e+06</td>\n    </tr>\n    <tr>\n      <th>mean</th>\n      <td>5.550111e+06</td>\n    </tr>\n    <tr>\n      <th>std</th>\n      <td>2.962274e+06</td>\n    </tr>\n    <tr>\n      <th>min</th>\n      <td>3.335000e+03</td>\n    </tr>\n    <tr>\n      <th>25%</th>\n      <td>3.258213e+06</td>\n    </tr>\n    <tr>\n      <th>50%</th>\n      <td>6.118244e+06</td>\n    </tr>\n    <tr>\n      <th>75%</th>\n      <td>8.035212e+06</td>\n    </tr>\n    <tr>\n      <th>max</th>\n      <td>1.034016e+07</td>\n    </tr>\n  </tbody>\n</table>\n</div>"
     },
     "metadata": {},
     "execution_count": 300
    }
   ],
   "source": [
    "calendar_seattle.describe()"
   ]
  },
  {
   "cell_type": "code",
   "execution_count": 301,
   "metadata": {},
   "outputs": [
    {
     "output_type": "execute_result",
     "data": {
      "text/plain": "listing_id    0.00000\ndate          0.00000\navailable     0.00000\nprice         0.32939\ndtype: float64"
     },
     "metadata": {},
     "execution_count": 301
    }
   ],
   "source": [
    "calendar_seattle.isnull().mean()"
   ]
  },
  {
   "cell_type": "markdown",
   "metadata": {},
   "source": [
    "Since I am interested in agregating and analyzing prices, I will drop all 30% of the rows with NaN."
   ]
  },
  {
   "cell_type": "code",
   "execution_count": 302,
   "metadata": {},
   "outputs": [
    {
     "output_type": "execute_result",
     "data": {
      "text/plain": "(934542, 4)"
     },
     "metadata": {},
     "execution_count": 302
    }
   ],
   "source": [
    "calendar_seattle_dropped_na = calendar_seattle.dropna(subset=[\"price\"])\n",
    "calendar_seattle_dropped_na.shape"
   ]
  },
  {
   "cell_type": "markdown",
   "metadata": {},
   "source": [
    "Convert date column into a datetime datatype.\n",
    "Create year and month columns for grouping together with cleaning price columns since it contains characters, i.e. parse only numbers."
   ]
  },
  {
   "cell_type": "code",
   "execution_count": 303,
   "metadata": {},
   "outputs": [
    {
     "output_type": "stream",
     "name": "stdout",
     "text": "<class 'pandas.core.frame.DataFrame'>\nInt64Index: 934542 entries, 0 to 1393213\nData columns (total 4 columns):\nlisting_id    934542 non-null int64\ndate          934542 non-null object\navailable     934542 non-null object\nprice         934542 non-null object\ndtypes: int64(1), object(3)\nmemory usage: 35.6+ MB\n"
    }
   ],
   "source": [
    "calendar_seattle_dropped_na.info()"
   ]
  },
  {
   "cell_type": "markdown",
   "metadata": {},
   "source": []
  },
  {
   "cell_type": "code",
   "execution_count": 304,
   "metadata": {},
   "outputs": [
    {
     "output_type": "execute_result",
     "data": {
      "text/plain": "    listing_id       date available  price  year  month\n0       241032 2016-01-04         t     85  2016      1\n1       241032 2016-01-05         t     85  2016      1\n9       241032 2016-01-13         t     85  2016      1\n10      241032 2016-01-14         t     85  2016      1\n14      241032 2016-01-18         t     85  2016      1",
      "text/html": "<div>\n<style scoped>\n    .dataframe tbody tr th:only-of-type {\n        vertical-align: middle;\n    }\n\n    .dataframe tbody tr th {\n        vertical-align: top;\n    }\n\n    .dataframe thead th {\n        text-align: right;\n    }\n</style>\n<table border=\"1\" class=\"dataframe\">\n  <thead>\n    <tr style=\"text-align: right;\">\n      <th></th>\n      <th>listing_id</th>\n      <th>date</th>\n      <th>available</th>\n      <th>price</th>\n      <th>year</th>\n      <th>month</th>\n    </tr>\n  </thead>\n  <tbody>\n    <tr>\n      <th>0</th>\n      <td>241032</td>\n      <td>2016-01-04</td>\n      <td>t</td>\n      <td>85</td>\n      <td>2016</td>\n      <td>1</td>\n    </tr>\n    <tr>\n      <th>1</th>\n      <td>241032</td>\n      <td>2016-01-05</td>\n      <td>t</td>\n      <td>85</td>\n      <td>2016</td>\n      <td>1</td>\n    </tr>\n    <tr>\n      <th>9</th>\n      <td>241032</td>\n      <td>2016-01-13</td>\n      <td>t</td>\n      <td>85</td>\n      <td>2016</td>\n      <td>1</td>\n    </tr>\n    <tr>\n      <th>10</th>\n      <td>241032</td>\n      <td>2016-01-14</td>\n      <td>t</td>\n      <td>85</td>\n      <td>2016</td>\n      <td>1</td>\n    </tr>\n    <tr>\n      <th>14</th>\n      <td>241032</td>\n      <td>2016-01-18</td>\n      <td>t</td>\n      <td>85</td>\n      <td>2016</td>\n      <td>1</td>\n    </tr>\n  </tbody>\n</table>\n</div>"
     },
     "metadata": {},
     "execution_count": 304
    }
   ],
   "source": [
    "calendar_seattle_dropped_na['date'] = pd.to_datetime(calendar_seattle_dropped_na['date'])\n",
    "\n",
    "calendar_seattle_dropped_na = (calendar_seattle_dropped_na\n",
    "    .assign(\n",
    "        year = calendar_seattle_dropped_na[\"date\"].dt.year,\n",
    "        month = calendar_seattle_dropped_na[\"date\"].dt.month,\n",
    "        price = calendar_seattle_dropped_na[\"price\"].str.extract('(\\d+)').astype(int)\n",
    "        )\n",
    "    )\n",
    "calendar_seattle_dropped_na.head()"
   ]
  },
  {
   "cell_type": "code",
   "execution_count": 305,
   "metadata": {},
   "outputs": [
    {
     "output_type": "execute_result",
     "data": {
      "text/plain": "         listing_id          price           year          month\ncount  9.345420e+05  934542.000000  934542.000000  934542.000000\nmean   5.305517e+06     137.090652    2016.006097       6.661120\nstd    2.974821e+06     101.274170       0.077846       3.446401\nmin    3.335000e+03       1.000000    2016.000000       1.000000\n25%    2.875975e+06      75.000000    2016.000000       4.000000\n50%    5.615620e+06     109.000000    2016.000000       7.000000\n75%    7.873345e+06     160.000000    2016.000000      10.000000\nmax    1.034016e+07     999.000000    2017.000000      12.000000",
      "text/html": "<div>\n<style scoped>\n    .dataframe tbody tr th:only-of-type {\n        vertical-align: middle;\n    }\n\n    .dataframe tbody tr th {\n        vertical-align: top;\n    }\n\n    .dataframe thead th {\n        text-align: right;\n    }\n</style>\n<table border=\"1\" class=\"dataframe\">\n  <thead>\n    <tr style=\"text-align: right;\">\n      <th></th>\n      <th>listing_id</th>\n      <th>price</th>\n      <th>year</th>\n      <th>month</th>\n    </tr>\n  </thead>\n  <tbody>\n    <tr>\n      <th>count</th>\n      <td>9.345420e+05</td>\n      <td>934542.000000</td>\n      <td>934542.000000</td>\n      <td>934542.000000</td>\n    </tr>\n    <tr>\n      <th>mean</th>\n      <td>5.305517e+06</td>\n      <td>137.090652</td>\n      <td>2016.006097</td>\n      <td>6.661120</td>\n    </tr>\n    <tr>\n      <th>std</th>\n      <td>2.974821e+06</td>\n      <td>101.274170</td>\n      <td>0.077846</td>\n      <td>3.446401</td>\n    </tr>\n    <tr>\n      <th>min</th>\n      <td>3.335000e+03</td>\n      <td>1.000000</td>\n      <td>2016.000000</td>\n      <td>1.000000</td>\n    </tr>\n    <tr>\n      <th>25%</th>\n      <td>2.875975e+06</td>\n      <td>75.000000</td>\n      <td>2016.000000</td>\n      <td>4.000000</td>\n    </tr>\n    <tr>\n      <th>50%</th>\n      <td>5.615620e+06</td>\n      <td>109.000000</td>\n      <td>2016.000000</td>\n      <td>7.000000</td>\n    </tr>\n    <tr>\n      <th>75%</th>\n      <td>7.873345e+06</td>\n      <td>160.000000</td>\n      <td>2016.000000</td>\n      <td>10.000000</td>\n    </tr>\n    <tr>\n      <th>max</th>\n      <td>1.034016e+07</td>\n      <td>999.000000</td>\n      <td>2017.000000</td>\n      <td>12.000000</td>\n    </tr>\n  </tbody>\n</table>\n</div>"
     },
     "metadata": {},
     "execution_count": 305
    }
   ],
   "source": [
    "calendar_seattle_dropped_na.describe()"
   ]
  },
  {
   "cell_type": "code",
   "execution_count": 306,
   "metadata": {},
   "outputs": [
    {
     "output_type": "stream",
     "name": "stderr",
     "text": "C:\\appl\\Miniconda3\\envs\\minimal_ds\\lib\\site-packages\\pandas\\plotting\\_matplotlib\\tools.py:307: MatplotlibDeprecationWarning: \nThe rowNum attribute was deprecated in Matplotlib 3.2 and will be removed two minor releases later. Use ax.get_subplotspec().rowspan.start instead.\n  layout[ax.rowNum, ax.colNum] = ax.get_visible()\nC:\\appl\\Miniconda3\\envs\\minimal_ds\\lib\\site-packages\\pandas\\plotting\\_matplotlib\\tools.py:307: MatplotlibDeprecationWarning: \nThe colNum attribute was deprecated in Matplotlib 3.2 and will be removed two minor releases later. Use ax.get_subplotspec().colspan.start instead.\n  layout[ax.rowNum, ax.colNum] = ax.get_visible()\nC:\\appl\\Miniconda3\\envs\\minimal_ds\\lib\\site-packages\\pandas\\plotting\\_matplotlib\\tools.py:307: MatplotlibDeprecationWarning: \nThe rowNum attribute was deprecated in Matplotlib 3.2 and will be removed two minor releases later. Use ax.get_subplotspec().rowspan.start instead.\n  layout[ax.rowNum, ax.colNum] = ax.get_visible()\nC:\\appl\\Miniconda3\\envs\\minimal_ds\\lib\\site-packages\\pandas\\plotting\\_matplotlib\\tools.py:307: MatplotlibDeprecationWarning: \nThe colNum attribute was deprecated in Matplotlib 3.2 and will be removed two minor releases later. Use ax.get_subplotspec().colspan.start instead.\n  layout[ax.rowNum, ax.colNum] = ax.get_visible()\nC:\\appl\\Miniconda3\\envs\\minimal_ds\\lib\\site-packages\\pandas\\plotting\\_matplotlib\\tools.py:307: MatplotlibDeprecationWarning: \nThe rowNum attribute was deprecated in Matplotlib 3.2 and will be removed two minor releases later. Use ax.get_subplotspec().rowspan.start instead.\n  layout[ax.rowNum, ax.colNum] = ax.get_visible()\nC:\\appl\\Miniconda3\\envs\\minimal_ds\\lib\\site-packages\\pandas\\plotting\\_matplotlib\\tools.py:307: MatplotlibDeprecationWarning: \nThe colNum attribute was deprecated in Matplotlib 3.2 and will be removed two minor releases later. Use ax.get_subplotspec().colspan.start instead.\n  layout[ax.rowNum, ax.colNum] = ax.get_visible()\nC:\\appl\\Miniconda3\\envs\\minimal_ds\\lib\\site-packages\\pandas\\plotting\\_matplotlib\\tools.py:307: MatplotlibDeprecationWarning: \nThe rowNum attribute was deprecated in Matplotlib 3.2 and will be removed two minor releases later. Use ax.get_subplotspec().rowspan.start instead.\n  layout[ax.rowNum, ax.colNum] = ax.get_visible()\nC:\\appl\\Miniconda3\\envs\\minimal_ds\\lib\\site-packages\\pandas\\plotting\\_matplotlib\\tools.py:307: MatplotlibDeprecationWarning: \nThe colNum attribute was deprecated in Matplotlib 3.2 and will be removed two minor releases later. Use ax.get_subplotspec().colspan.start instead.\n  layout[ax.rowNum, ax.colNum] = ax.get_visible()\nC:\\appl\\Miniconda3\\envs\\minimal_ds\\lib\\site-packages\\pandas\\plotting\\_matplotlib\\tools.py:313: MatplotlibDeprecationWarning: \nThe rowNum attribute was deprecated in Matplotlib 3.2 and will be removed two minor releases later. Use ax.get_subplotspec().rowspan.start instead.\n  if not layout[ax.rowNum + 1, ax.colNum]:\nC:\\appl\\Miniconda3\\envs\\minimal_ds\\lib\\site-packages\\pandas\\plotting\\_matplotlib\\tools.py:313: MatplotlibDeprecationWarning: \nThe colNum attribute was deprecated in Matplotlib 3.2 and will be removed two minor releases later. Use ax.get_subplotspec().colspan.start instead.\n  if not layout[ax.rowNum + 1, ax.colNum]:\nC:\\appl\\Miniconda3\\envs\\minimal_ds\\lib\\site-packages\\pandas\\plotting\\_matplotlib\\tools.py:313: MatplotlibDeprecationWarning: \nThe rowNum attribute was deprecated in Matplotlib 3.2 and will be removed two minor releases later. Use ax.get_subplotspec().rowspan.start instead.\n  if not layout[ax.rowNum + 1, ax.colNum]:\nC:\\appl\\Miniconda3\\envs\\minimal_ds\\lib\\site-packages\\pandas\\plotting\\_matplotlib\\tools.py:313: MatplotlibDeprecationWarning: \nThe colNum attribute was deprecated in Matplotlib 3.2 and will be removed two minor releases later. Use ax.get_subplotspec().colspan.start instead.\n  if not layout[ax.rowNum + 1, ax.colNum]:\nC:\\appl\\Miniconda3\\envs\\minimal_ds\\lib\\site-packages\\pandas\\plotting\\_matplotlib\\tools.py:313: MatplotlibDeprecationWarning: \nThe rowNum attribute was deprecated in Matplotlib 3.2 and will be removed two minor releases later. Use ax.get_subplotspec().rowspan.start instead.\n  if not layout[ax.rowNum + 1, ax.colNum]:\nC:\\appl\\Miniconda3\\envs\\minimal_ds\\lib\\site-packages\\pandas\\plotting\\_matplotlib\\tools.py:313: MatplotlibDeprecationWarning: \nThe colNum attribute was deprecated in Matplotlib 3.2 and will be removed two minor releases later. Use ax.get_subplotspec().colspan.start instead.\n  if not layout[ax.rowNum + 1, ax.colNum]:\nC:\\appl\\Miniconda3\\envs\\minimal_ds\\lib\\site-packages\\pandas\\plotting\\_matplotlib\\tools.py:313: MatplotlibDeprecationWarning: \nThe rowNum attribute was deprecated in Matplotlib 3.2 and will be removed two minor releases later. Use ax.get_subplotspec().rowspan.start instead.\n  if not layout[ax.rowNum + 1, ax.colNum]:\nC:\\appl\\Miniconda3\\envs\\minimal_ds\\lib\\site-packages\\pandas\\plotting\\_matplotlib\\tools.py:313: MatplotlibDeprecationWarning: \nThe colNum attribute was deprecated in Matplotlib 3.2 and will be removed two minor releases later. Use ax.get_subplotspec().colspan.start instead.\n  if not layout[ax.rowNum + 1, ax.colNum]:\n"
    },
    {
     "output_type": "display_data",
     "data": {
      "text/plain": "<Figure size 432x288 with 4 Axes>",
      "image/svg+xml": "<?xml version=\"1.0\" encoding=\"utf-8\" standalone=\"no\"?>\r\n<!DOCTYPE svg PUBLIC \"-//W3C//DTD SVG 1.1//EN\"\r\n  \"http://www.w3.org/Graphics/SVG/1.1/DTD/svg11.dtd\">\r\n<!-- Created with matplotlib (https://matplotlib.org/) -->\r\n<svg height=\"265.989219pt\" version=\"1.1\" viewBox=\"0 0 405.606134 265.989219\" width=\"405.606134pt\" xmlns=\"http://www.w3.org/2000/svg\" xmlns:xlink=\"http://www.w3.org/1999/xlink\">\r\n <defs>\r\n  <style type=\"text/css\">\r\n*{stroke-linecap:butt;stroke-linejoin:round;}\r\n  </style>\r\n </defs>\r\n <g id=\"figure_1\">\r\n  <g id=\"patch_1\">\r\n   <path d=\"M 0 265.989219 \r\nL 405.606134 265.989219 \r\nL 405.606134 0 \r\nL 0 0 \r\nz\r\n\" style=\"fill:#ffffff;\"/>\r\n  </g>\r\n  <g id=\"axes_1\">\r\n   <g id=\"patch_2\">\r\n    <path d=\"M 53.402188 116.328505 \r\nL 198.967405 116.328505 \r\nL 198.967405 21.789375 \r\nL 53.402188 21.789375 \r\nz\r\n\" style=\"fill:#eaeaf2;\"/>\r\n   </g>\r\n   <g id=\"matplotlib.axis_1\">\r\n    <g id=\"xtick_1\">\r\n     <g id=\"line2d_1\">\r\n      <path clip-path=\"url(#p330a0e46b4)\" d=\"M 59.976094 116.328505 \r\nL 59.976094 21.789375 \r\n\" style=\"fill:none;stroke:#ffffff;stroke-linecap:round;\"/>\r\n     </g>\r\n     <g id=\"text_1\">\r\n      <!-- 0.0 -->\r\n      <defs>\r\n       <path d=\"M 4.15625 35.296875 \r\nQ 4.15625 48 6.765625 55.734375 \r\nQ 9.375 63.484375 14.515625 67.671875 \r\nQ 19.671875 71.875 27.484375 71.875 \r\nQ 33.25 71.875 37.59375 69.546875 \r\nQ 41.9375 67.234375 44.765625 62.859375 \r\nQ 47.609375 58.5 49.21875 52.21875 \r\nQ 50.828125 45.953125 50.828125 35.296875 \r\nQ 50.828125 22.703125 48.234375 14.96875 \r\nQ 45.65625 7.234375 40.5 3 \r\nQ 35.359375 -1.21875 27.484375 -1.21875 \r\nQ 17.140625 -1.21875 11.234375 6.203125 \r\nQ 4.15625 15.140625 4.15625 35.296875 \r\nz\r\nM 13.1875 35.296875 \r\nQ 13.1875 17.671875 17.3125 11.828125 \r\nQ 21.4375 6 27.484375 6 \r\nQ 33.546875 6 37.671875 11.859375 \r\nQ 41.796875 17.71875 41.796875 35.296875 \r\nQ 41.796875 52.984375 37.671875 58.78125 \r\nQ 33.546875 64.59375 27.390625 64.59375 \r\nQ 21.34375 64.59375 17.71875 59.46875 \r\nQ 13.1875 52.9375 13.1875 35.296875 \r\nz\r\n\" id=\"ArialMT-48\"/>\r\n       <path d=\"M 9.078125 0 \r\nL 9.078125 10.015625 \r\nL 19.09375 10.015625 \r\nL 19.09375 0 \r\nz\r\n\" id=\"ArialMT-46\"/>\r\n      </defs>\r\n      <g style=\"fill:#262626;\" transform=\"translate(52.331094 133.702099)scale(0.11 -0.11)\">\r\n       <use xlink:href=\"#ArialMT-48\"/>\r\n       <use x=\"55.615234\" xlink:href=\"#ArialMT-46\"/>\r\n       <use x=\"83.398438\" xlink:href=\"#ArialMT-48\"/>\r\n      </g>\r\n     </g>\r\n    </g>\r\n    <g id=\"xtick_2\">\r\n     <g id=\"line2d_2\">\r\n      <path clip-path=\"url(#p330a0e46b4)\" d=\"M 123.986054 116.328505 \r\nL 123.986054 21.789375 \r\n\" style=\"fill:none;stroke:#ffffff;stroke-linecap:round;\"/>\r\n     </g>\r\n     <g id=\"text_2\">\r\n      <!-- 0.5 -->\r\n      <defs>\r\n       <path d=\"M 4.15625 18.75 \r\nL 13.375 19.53125 \r\nQ 14.40625 12.796875 18.140625 9.390625 \r\nQ 21.875 6 27.15625 6 \r\nQ 33.5 6 37.890625 10.78125 \r\nQ 42.28125 15.578125 42.28125 23.484375 \r\nQ 42.28125 31 38.0625 35.34375 \r\nQ 33.84375 39.703125 27 39.703125 \r\nQ 22.75 39.703125 19.328125 37.765625 \r\nQ 15.921875 35.84375 13.96875 32.765625 \r\nL 5.71875 33.84375 \r\nL 12.640625 70.609375 \r\nL 48.25 70.609375 \r\nL 48.25 62.203125 \r\nL 19.671875 62.203125 \r\nL 15.828125 42.96875 \r\nQ 22.265625 47.46875 29.34375 47.46875 \r\nQ 38.71875 47.46875 45.15625 40.96875 \r\nQ 51.609375 34.46875 51.609375 24.265625 \r\nQ 51.609375 14.546875 45.953125 7.46875 \r\nQ 39.0625 -1.21875 27.15625 -1.21875 \r\nQ 17.390625 -1.21875 11.203125 4.25 \r\nQ 5.03125 9.71875 4.15625 18.75 \r\nz\r\n\" id=\"ArialMT-53\"/>\r\n      </defs>\r\n      <g style=\"fill:#262626;\" transform=\"translate(116.341054 133.702099)scale(0.11 -0.11)\">\r\n       <use xlink:href=\"#ArialMT-48\"/>\r\n       <use x=\"55.615234\" xlink:href=\"#ArialMT-46\"/>\r\n       <use x=\"83.398438\" xlink:href=\"#ArialMT-53\"/>\r\n      </g>\r\n     </g>\r\n    </g>\r\n    <g id=\"xtick_3\">\r\n     <g id=\"line2d_3\">\r\n      <path clip-path=\"url(#p330a0e46b4)\" d=\"M 187.996014 116.328505 \r\nL 187.996014 21.789375 \r\n\" style=\"fill:none;stroke:#ffffff;stroke-linecap:round;\"/>\r\n     </g>\r\n     <g id=\"text_3\">\r\n      <!-- 1.0 -->\r\n      <defs>\r\n       <path d=\"M 37.25 0 \r\nL 28.46875 0 \r\nL 28.46875 56 \r\nQ 25.296875 52.984375 20.140625 49.953125 \r\nQ 14.984375 46.921875 10.890625 45.40625 \r\nL 10.890625 53.90625 \r\nQ 18.265625 57.375 23.78125 62.296875 \r\nQ 29.296875 67.234375 31.59375 71.875 \r\nL 37.25 71.875 \r\nz\r\n\" id=\"ArialMT-49\"/>\r\n      </defs>\r\n      <g style=\"fill:#262626;\" transform=\"translate(180.351014 133.702099)scale(0.11 -0.11)\">\r\n       <use xlink:href=\"#ArialMT-49\"/>\r\n       <use x=\"55.615234\" xlink:href=\"#ArialMT-46\"/>\r\n       <use x=\"83.398438\" xlink:href=\"#ArialMT-48\"/>\r\n      </g>\r\n     </g>\r\n    </g>\r\n    <g id=\"text_4\">\r\n     <!-- 1e7 -->\r\n     <defs>\r\n      <path d=\"M 42.09375 16.703125 \r\nL 51.171875 15.578125 \r\nQ 49.03125 7.625 43.21875 3.21875 \r\nQ 37.40625 -1.171875 28.375 -1.171875 \r\nQ 17 -1.171875 10.328125 5.828125 \r\nQ 3.65625 12.84375 3.65625 25.484375 \r\nQ 3.65625 38.578125 10.390625 45.796875 \r\nQ 17.140625 53.03125 27.875 53.03125 \r\nQ 38.28125 53.03125 44.875 45.953125 \r\nQ 51.46875 38.875 51.46875 26.03125 \r\nQ 51.46875 25.25 51.421875 23.6875 \r\nL 12.75 23.6875 \r\nQ 13.234375 15.140625 17.578125 10.59375 \r\nQ 21.921875 6.0625 28.421875 6.0625 \r\nQ 33.25 6.0625 36.671875 8.59375 \r\nQ 40.09375 11.140625 42.09375 16.703125 \r\nz\r\nM 13.234375 30.90625 \r\nL 42.1875 30.90625 \r\nQ 41.609375 37.453125 38.875 40.71875 \r\nQ 34.671875 45.796875 27.984375 45.796875 \r\nQ 21.921875 45.796875 17.796875 41.75 \r\nQ 13.671875 37.703125 13.234375 30.90625 \r\nz\r\n\" id=\"ArialMT-101\"/>\r\n      <path d=\"M 4.734375 62.203125 \r\nL 4.734375 70.65625 \r\nL 51.078125 70.65625 \r\nL 51.078125 63.8125 \r\nQ 44.234375 56.546875 37.515625 44.484375 \r\nQ 30.8125 32.421875 27.15625 19.671875 \r\nQ 24.515625 10.6875 23.78125 0 \r\nL 14.75 0 \r\nQ 14.890625 8.453125 18.0625 20.40625 \r\nQ 21.234375 32.375 27.171875 43.484375 \r\nQ 33.109375 54.59375 39.796875 62.203125 \r\nz\r\n\" id=\"ArialMT-55\"/>\r\n     </defs>\r\n     <g style=\"fill:#262626;\" transform=\"translate(180.616311 146.761943)scale(0.11 -0.11)\">\r\n      <use xlink:href=\"#ArialMT-49\"/>\r\n      <use x=\"55.615234\" xlink:href=\"#ArialMT-101\"/>\r\n      <use x=\"111.230469\" xlink:href=\"#ArialMT-55\"/>\r\n     </g>\r\n    </g>\r\n   </g>\r\n   <g id=\"matplotlib.axis_2\">\r\n    <g id=\"ytick_1\">\r\n     <g id=\"line2d_4\">\r\n      <path clip-path=\"url(#p330a0e46b4)\" d=\"M 53.402188 116.328505 \r\nL 198.967405 116.328505 \r\n\" style=\"fill:none;stroke:#ffffff;stroke-linecap:round;\"/>\r\n     </g>\r\n     <g id=\"text_5\">\r\n      <!-- 0 -->\r\n      <g style=\"fill:#262626;\" transform=\"translate(37.785156 120.265302)scale(0.11 -0.11)\">\r\n       <use xlink:href=\"#ArialMT-48\"/>\r\n      </g>\r\n     </g>\r\n    </g>\r\n    <g id=\"ytick_2\">\r\n     <g id=\"line2d_5\">\r\n      <path clip-path=\"url(#p330a0e46b4)\" d=\"M 53.402188 83.454992 \r\nL 198.967405 83.454992 \r\n\" style=\"fill:none;stroke:#ffffff;stroke-linecap:round;\"/>\r\n     </g>\r\n     <g id=\"text_6\">\r\n      <!-- 50000 -->\r\n      <g style=\"fill:#262626;\" transform=\"translate(13.317031 87.391788)scale(0.11 -0.11)\">\r\n       <use xlink:href=\"#ArialMT-53\"/>\r\n       <use x=\"55.615234\" xlink:href=\"#ArialMT-48\"/>\r\n       <use x=\"111.230469\" xlink:href=\"#ArialMT-48\"/>\r\n       <use x=\"166.845703\" xlink:href=\"#ArialMT-48\"/>\r\n       <use x=\"222.460938\" xlink:href=\"#ArialMT-48\"/>\r\n      </g>\r\n     </g>\r\n    </g>\r\n    <g id=\"ytick_3\">\r\n     <g id=\"line2d_6\">\r\n      <path clip-path=\"url(#p330a0e46b4)\" d=\"M 53.402188 50.581478 \r\nL 198.967405 50.581478 \r\n\" style=\"fill:none;stroke:#ffffff;stroke-linecap:round;\"/>\r\n     </g>\r\n     <g id=\"text_7\">\r\n      <!-- 100000 -->\r\n      <g style=\"fill:#262626;\" transform=\"translate(7.2 54.518275)scale(0.11 -0.11)\">\r\n       <use xlink:href=\"#ArialMT-49\"/>\r\n       <use x=\"55.615234\" xlink:href=\"#ArialMT-48\"/>\r\n       <use x=\"111.230469\" xlink:href=\"#ArialMT-48\"/>\r\n       <use x=\"166.845703\" xlink:href=\"#ArialMT-48\"/>\r\n       <use x=\"222.460938\" xlink:href=\"#ArialMT-48\"/>\r\n       <use x=\"278.076172\" xlink:href=\"#ArialMT-48\"/>\r\n      </g>\r\n     </g>\r\n    </g>\r\n   </g>\r\n   <g id=\"patch_3\">\r\n    <path clip-path=\"url(#p330a0e46b4)\" d=\"M 60.018788 116.328505 \r\nL 73.25199 116.328505 \r\nL 73.25199 46.104105 \r\nL 60.018788 46.104105 \r\nz\r\n\" style=\"fill:#4c72b0;stroke:#ffffff;stroke-linejoin:miter;\"/>\r\n   </g>\r\n   <g id=\"patch_4\">\r\n    <path clip-path=\"url(#p330a0e46b4)\" d=\"M 73.25199 116.328505 \r\nL 86.485191 116.328505 \r\nL 86.485191 61.317967 \r\nL 73.25199 61.317967 \r\nz\r\n\" style=\"fill:#4c72b0;stroke:#ffffff;stroke-linejoin:miter;\"/>\r\n   </g>\r\n   <g id=\"patch_5\">\r\n    <path clip-path=\"url(#p330a0e46b4)\" d=\"M 86.485191 116.328505 \r\nL 99.718393 116.328505 \r\nL 99.718393 79.123577 \r\nL 86.485191 79.123577 \r\nz\r\n\" style=\"fill:#4c72b0;stroke:#ffffff;stroke-linejoin:miter;\"/>\r\n   </g>\r\n   <g id=\"patch_6\">\r\n    <path clip-path=\"url(#p330a0e46b4)\" d=\"M 99.718393 116.328505 \r\nL 112.951595 116.328505 \r\nL 112.951595 52.644619 \r\nL 99.718393 52.644619 \r\nz\r\n\" style=\"fill:#4c72b0;stroke:#ffffff;stroke-linejoin:miter;\"/>\r\n   </g>\r\n   <g id=\"patch_7\">\r\n    <path clip-path=\"url(#p330a0e46b4)\" d=\"M 112.951595 116.328505 \r\nL 126.184796 116.328505 \r\nL 126.184796 55.603236 \r\nL 112.951595 55.603236 \r\nz\r\n\" style=\"fill:#4c72b0;stroke:#ffffff;stroke-linejoin:miter;\"/>\r\n   </g>\r\n   <g id=\"patch_8\">\r\n    <path clip-path=\"url(#p330a0e46b4)\" d=\"M 126.184796 116.328505 \r\nL 139.417998 116.328505 \r\nL 139.417998 67.780243 \r\nL 126.184796 67.780243 \r\nz\r\n\" style=\"fill:#4c72b0;stroke:#ffffff;stroke-linejoin:miter;\"/>\r\n   </g>\r\n   <g id=\"patch_9\">\r\n    <path clip-path=\"url(#p330a0e46b4)\" d=\"M 139.417998 116.328505 \r\nL 152.651199 116.328505 \r\nL 152.651199 44.520259 \r\nL 139.417998 44.520259 \r\nz\r\n\" style=\"fill:#4c72b0;stroke:#ffffff;stroke-linejoin:miter;\"/>\r\n   </g>\r\n   <g id=\"patch_10\">\r\n    <path clip-path=\"url(#p330a0e46b4)\" d=\"M 152.651199 116.328505 \r\nL 165.884401 116.328505 \r\nL 165.884401 26.291238 \r\nL 152.651199 26.291238 \r\nz\r\n\" style=\"fill:#4c72b0;stroke:#ffffff;stroke-linejoin:miter;\"/>\r\n   </g>\r\n   <g id=\"patch_11\">\r\n    <path clip-path=\"url(#p330a0e46b4)\" d=\"M 165.884401 116.328505 \r\nL 179.117603 116.328505 \r\nL 179.117603 48.547265 \r\nL 165.884401 48.547265 \r\nz\r\n\" style=\"fill:#4c72b0;stroke:#ffffff;stroke-linejoin:miter;\"/>\r\n   </g>\r\n   <g id=\"patch_12\">\r\n    <path clip-path=\"url(#p330a0e46b4)\" d=\"M 179.117603 116.328505 \r\nL 192.350804 116.328505 \r\nL 192.350804 66.918957 \r\nL 179.117603 66.918957 \r\nz\r\n\" style=\"fill:#4c72b0;stroke:#ffffff;stroke-linejoin:miter;\"/>\r\n   </g>\r\n   <g id=\"patch_13\">\r\n    <path d=\"M 53.402188 116.328505 \r\nL 53.402188 21.789375 \r\n\" style=\"fill:none;stroke:#ffffff;stroke-linecap:square;stroke-linejoin:miter;stroke-width:1.25;\"/>\r\n   </g>\r\n   <g id=\"patch_14\">\r\n    <path d=\"M 198.967405 116.328505 \r\nL 198.967405 21.789375 \r\n\" style=\"fill:none;stroke:#ffffff;stroke-linecap:square;stroke-linejoin:miter;stroke-width:1.25;\"/>\r\n   </g>\r\n   <g id=\"patch_15\">\r\n    <path d=\"M 53.402188 116.328505 \r\nL 198.967405 116.328505 \r\n\" style=\"fill:none;stroke:#ffffff;stroke-linecap:square;stroke-linejoin:miter;stroke-width:1.25;\"/>\r\n   </g>\r\n   <g id=\"patch_16\">\r\n    <path d=\"M 53.402188 21.789375 \r\nL 198.967405 21.789375 \r\n\" style=\"fill:none;stroke:#ffffff;stroke-linecap:square;stroke-linejoin:miter;stroke-width:1.25;\"/>\r\n   </g>\r\n   <g id=\"text_8\">\r\n    <!-- listing_id -->\r\n    <defs>\r\n     <path d=\"M 6.390625 0 \r\nL 6.390625 71.578125 \r\nL 15.1875 71.578125 \r\nL 15.1875 0 \r\nz\r\n\" id=\"ArialMT-108\"/>\r\n     <path d=\"M 6.640625 61.46875 \r\nL 6.640625 71.578125 \r\nL 15.4375 71.578125 \r\nL 15.4375 61.46875 \r\nz\r\nM 6.640625 0 \r\nL 6.640625 51.859375 \r\nL 15.4375 51.859375 \r\nL 15.4375 0 \r\nz\r\n\" id=\"ArialMT-105\"/>\r\n     <path d=\"M 3.078125 15.484375 \r\nL 11.765625 16.84375 \r\nQ 12.5 11.625 15.84375 8.84375 \r\nQ 19.1875 6.0625 25.203125 6.0625 \r\nQ 31.25 6.0625 34.171875 8.515625 \r\nQ 37.109375 10.984375 37.109375 14.3125 \r\nQ 37.109375 17.28125 34.515625 19 \r\nQ 32.71875 20.171875 25.53125 21.96875 \r\nQ 15.875 24.421875 12.140625 26.203125 \r\nQ 8.40625 27.984375 6.46875 31.125 \r\nQ 4.546875 34.28125 4.546875 38.09375 \r\nQ 4.546875 41.546875 6.125 44.5 \r\nQ 7.71875 47.46875 10.453125 49.421875 \r\nQ 12.5 50.921875 16.03125 51.96875 \r\nQ 19.578125 53.03125 23.640625 53.03125 \r\nQ 29.734375 53.03125 34.34375 51.265625 \r\nQ 38.96875 49.515625 41.15625 46.5 \r\nQ 43.359375 43.5 44.1875 38.484375 \r\nL 35.59375 37.3125 \r\nQ 35.015625 41.3125 32.203125 43.546875 \r\nQ 29.390625 45.796875 24.265625 45.796875 \r\nQ 18.21875 45.796875 15.625 43.796875 \r\nQ 13.03125 41.796875 13.03125 39.109375 \r\nQ 13.03125 37.40625 14.109375 36.03125 \r\nQ 15.1875 34.625 17.484375 33.6875 \r\nQ 18.796875 33.203125 25.25 31.453125 \r\nQ 34.578125 28.953125 38.25 27.359375 \r\nQ 41.9375 25.78125 44.03125 22.75 \r\nQ 46.140625 19.734375 46.140625 15.234375 \r\nQ 46.140625 10.84375 43.578125 6.953125 \r\nQ 41.015625 3.078125 36.171875 0.953125 \r\nQ 31.34375 -1.171875 25.25 -1.171875 \r\nQ 15.140625 -1.171875 9.84375 3.03125 \r\nQ 4.546875 7.234375 3.078125 15.484375 \r\nz\r\n\" id=\"ArialMT-115\"/>\r\n     <path d=\"M 25.78125 7.859375 \r\nL 27.046875 0.09375 \r\nQ 23.34375 -0.6875 20.40625 -0.6875 \r\nQ 15.625 -0.6875 12.984375 0.828125 \r\nQ 10.359375 2.34375 9.28125 4.8125 \r\nQ 8.203125 7.28125 8.203125 15.1875 \r\nL 8.203125 45.015625 \r\nL 1.765625 45.015625 \r\nL 1.765625 51.859375 \r\nL 8.203125 51.859375 \r\nL 8.203125 64.703125 \r\nL 16.9375 69.96875 \r\nL 16.9375 51.859375 \r\nL 25.78125 51.859375 \r\nL 25.78125 45.015625 \r\nL 16.9375 45.015625 \r\nL 16.9375 14.703125 \r\nQ 16.9375 10.9375 17.40625 9.859375 \r\nQ 17.875 8.796875 18.921875 8.15625 \r\nQ 19.96875 7.515625 21.921875 7.515625 \r\nQ 23.390625 7.515625 25.78125 7.859375 \r\nz\r\n\" id=\"ArialMT-116\"/>\r\n     <path d=\"M 6.59375 0 \r\nL 6.59375 51.859375 \r\nL 14.5 51.859375 \r\nL 14.5 44.484375 \r\nQ 20.21875 53.03125 31 53.03125 \r\nQ 35.6875 53.03125 39.625 51.34375 \r\nQ 43.5625 49.65625 45.515625 46.921875 \r\nQ 47.46875 44.1875 48.25 40.4375 \r\nQ 48.734375 37.984375 48.734375 31.890625 \r\nL 48.734375 0 \r\nL 39.9375 0 \r\nL 39.9375 31.546875 \r\nQ 39.9375 36.921875 38.90625 39.578125 \r\nQ 37.890625 42.234375 35.28125 43.8125 \r\nQ 32.671875 45.40625 29.15625 45.40625 \r\nQ 23.53125 45.40625 19.453125 41.84375 \r\nQ 15.375 38.28125 15.375 28.328125 \r\nL 15.375 0 \r\nz\r\n\" id=\"ArialMT-110\"/>\r\n     <path d=\"M 4.984375 -4.296875 \r\nL 13.53125 -5.5625 \r\nQ 14.0625 -9.515625 16.5 -11.328125 \r\nQ 19.78125 -13.765625 25.4375 -13.765625 \r\nQ 31.546875 -13.765625 34.859375 -11.328125 \r\nQ 38.1875 -8.890625 39.359375 -4.5 \r\nQ 40.046875 -1.8125 39.984375 6.78125 \r\nQ 34.234375 0 25.640625 0 \r\nQ 14.9375 0 9.078125 7.71875 \r\nQ 3.21875 15.4375 3.21875 26.21875 \r\nQ 3.21875 33.640625 5.90625 39.90625 \r\nQ 8.59375 46.1875 13.6875 49.609375 \r\nQ 18.796875 53.03125 25.6875 53.03125 \r\nQ 34.859375 53.03125 40.828125 45.609375 \r\nL 40.828125 51.859375 \r\nL 48.921875 51.859375 \r\nL 48.921875 7.03125 \r\nQ 48.921875 -5.078125 46.453125 -10.125 \r\nQ 44 -15.1875 38.640625 -18.109375 \r\nQ 33.296875 -21.046875 25.484375 -21.046875 \r\nQ 16.21875 -21.046875 10.5 -16.875 \r\nQ 4.78125 -12.703125 4.984375 -4.296875 \r\nz\r\nM 12.25 26.859375 \r\nQ 12.25 16.65625 16.296875 11.96875 \r\nQ 20.359375 7.28125 26.46875 7.28125 \r\nQ 32.515625 7.28125 36.609375 11.9375 \r\nQ 40.71875 16.609375 40.71875 26.5625 \r\nQ 40.71875 36.078125 36.5 40.90625 \r\nQ 32.28125 45.75 26.3125 45.75 \r\nQ 20.453125 45.75 16.34375 40.984375 \r\nQ 12.25 36.234375 12.25 26.859375 \r\nz\r\n\" id=\"ArialMT-103\"/>\r\n     <path d=\"M -1.515625 -19.875 \r\nL -1.515625 -13.53125 \r\nL 56.734375 -13.53125 \r\nL 56.734375 -19.875 \r\nz\r\n\" id=\"ArialMT-95\"/>\r\n     <path d=\"M 40.234375 0 \r\nL 40.234375 6.546875 \r\nQ 35.296875 -1.171875 25.734375 -1.171875 \r\nQ 19.53125 -1.171875 14.328125 2.25 \r\nQ 9.125 5.671875 6.265625 11.796875 \r\nQ 3.421875 17.921875 3.421875 25.875 \r\nQ 3.421875 33.640625 6 39.96875 \r\nQ 8.59375 46.296875 13.765625 49.65625 \r\nQ 18.953125 53.03125 25.34375 53.03125 \r\nQ 30.03125 53.03125 33.6875 51.046875 \r\nQ 37.359375 49.078125 39.65625 45.90625 \r\nL 39.65625 71.578125 \r\nL 48.390625 71.578125 \r\nL 48.390625 0 \r\nz\r\nM 12.453125 25.875 \r\nQ 12.453125 15.921875 16.640625 10.984375 \r\nQ 20.84375 6.0625 26.5625 6.0625 \r\nQ 32.328125 6.0625 36.34375 10.765625 \r\nQ 40.375 15.484375 40.375 25.140625 \r\nQ 40.375 35.796875 36.265625 40.765625 \r\nQ 32.171875 45.75 26.171875 45.75 \r\nQ 20.3125 45.75 16.375 40.96875 \r\nQ 12.453125 36.1875 12.453125 25.875 \r\nz\r\n\" id=\"ArialMT-100\"/>\r\n    </defs>\r\n    <g style=\"fill:#262626;\" transform=\"translate(102.839171 15.789375)scale(0.12 -0.12)\">\r\n     <use xlink:href=\"#ArialMT-108\"/>\r\n     <use x=\"22.216797\" xlink:href=\"#ArialMT-105\"/>\r\n     <use x=\"44.433594\" xlink:href=\"#ArialMT-115\"/>\r\n     <use x=\"94.433594\" xlink:href=\"#ArialMT-116\"/>\r\n     <use x=\"122.216797\" xlink:href=\"#ArialMT-105\"/>\r\n     <use x=\"144.433594\" xlink:href=\"#ArialMT-110\"/>\r\n     <use x=\"200.048828\" xlink:href=\"#ArialMT-103\"/>\r\n     <use x=\"255.664062\" xlink:href=\"#ArialMT-95\"/>\r\n     <use x=\"311.279297\" xlink:href=\"#ArialMT-105\"/>\r\n     <use x=\"333.496094\" xlink:href=\"#ArialMT-100\"/>\r\n    </g>\r\n   </g>\r\n  </g>\r\n  <g id=\"axes_2\">\r\n   <g id=\"patch_17\">\r\n    <path d=\"M 242.63697 116.328505 \r\nL 388.202188 116.328505 \r\nL 388.202188 21.789375 \r\nL 242.63697 21.789375 \r\nz\r\n\" style=\"fill:#eaeaf2;\"/>\r\n   </g>\r\n   <g id=\"matplotlib.axis_3\">\r\n    <g id=\"xtick_4\">\r\n     <g id=\"line2d_7\">\r\n      <path clip-path=\"url(#pf4c208e9fd)\" d=\"M 297.374304 116.328505 \r\nL 297.374304 21.789375 \r\n\" style=\"fill:none;stroke:#ffffff;stroke-linecap:round;\"/>\r\n     </g>\r\n     <g id=\"text_9\">\r\n      <!-- 5 -->\r\n      <g style=\"fill:#262626;\" transform=\"translate(294.315788 133.702099)scale(0.11 -0.11)\">\r\n       <use xlink:href=\"#ArialMT-53\"/>\r\n      </g>\r\n     </g>\r\n    </g>\r\n    <g id=\"xtick_5\">\r\n     <g id=\"line2d_8\">\r\n      <path clip-path=\"url(#pf4c208e9fd)\" d=\"M 357.52522 116.328505 \r\nL 357.52522 21.789375 \r\n\" style=\"fill:none;stroke:#ffffff;stroke-linecap:round;\"/>\r\n     </g>\r\n     <g id=\"text_10\">\r\n      <!-- 10 -->\r\n      <g style=\"fill:#262626;\" transform=\"translate(351.408189 133.702099)scale(0.11 -0.11)\">\r\n       <use xlink:href=\"#ArialMT-49\"/>\r\n       <use x=\"55.615234\" xlink:href=\"#ArialMT-48\"/>\r\n      </g>\r\n     </g>\r\n    </g>\r\n   </g>\r\n   <g id=\"matplotlib.axis_4\">\r\n    <g id=\"ytick_4\">\r\n     <g id=\"line2d_9\">\r\n      <path clip-path=\"url(#pf4c208e9fd)\" d=\"M 242.63697 116.328505 \r\nL 388.202188 116.328505 \r\n\" style=\"fill:none;stroke:#ffffff;stroke-linecap:round;\"/>\r\n     </g>\r\n     <g id=\"text_11\">\r\n      <!-- 0 -->\r\n      <g style=\"fill:#262626;\" transform=\"translate(227.019939 120.265302)scale(0.11 -0.11)\">\r\n       <use xlink:href=\"#ArialMT-48\"/>\r\n      </g>\r\n     </g>\r\n    </g>\r\n    <g id=\"ytick_5\">\r\n     <g id=\"line2d_10\">\r\n      <path clip-path=\"url(#pf4c208e9fd)\" d=\"M 242.63697 89.665175 \r\nL 388.202188 89.665175 \r\n\" style=\"fill:none;stroke:#ffffff;stroke-linecap:round;\"/>\r\n     </g>\r\n     <g id=\"text_12\">\r\n      <!-- 50000 -->\r\n      <g style=\"fill:#262626;\" transform=\"translate(202.551814 93.601972)scale(0.11 -0.11)\">\r\n       <use xlink:href=\"#ArialMT-53\"/>\r\n       <use x=\"55.615234\" xlink:href=\"#ArialMT-48\"/>\r\n       <use x=\"111.230469\" xlink:href=\"#ArialMT-48\"/>\r\n       <use x=\"166.845703\" xlink:href=\"#ArialMT-48\"/>\r\n       <use x=\"222.460938\" xlink:href=\"#ArialMT-48\"/>\r\n      </g>\r\n     </g>\r\n    </g>\r\n    <g id=\"ytick_6\">\r\n     <g id=\"line2d_11\">\r\n      <path clip-path=\"url(#pf4c208e9fd)\" d=\"M 242.63697 63.001845 \r\nL 388.202188 63.001845 \r\n\" style=\"fill:none;stroke:#ffffff;stroke-linecap:round;\"/>\r\n     </g>\r\n     <g id=\"text_13\">\r\n      <!-- 100000 -->\r\n      <g style=\"fill:#262626;\" transform=\"translate(196.434783 66.938642)scale(0.11 -0.11)\">\r\n       <use xlink:href=\"#ArialMT-49\"/>\r\n       <use x=\"55.615234\" xlink:href=\"#ArialMT-48\"/>\r\n       <use x=\"111.230469\" xlink:href=\"#ArialMT-48\"/>\r\n       <use x=\"166.845703\" xlink:href=\"#ArialMT-48\"/>\r\n       <use x=\"222.460938\" xlink:href=\"#ArialMT-48\"/>\r\n       <use x=\"278.076172\" xlink:href=\"#ArialMT-48\"/>\r\n      </g>\r\n     </g>\r\n    </g>\r\n    <g id=\"ytick_7\">\r\n     <g id=\"line2d_12\">\r\n      <path clip-path=\"url(#pf4c208e9fd)\" d=\"M 242.63697 36.338514 \r\nL 388.202188 36.338514 \r\n\" style=\"fill:none;stroke:#ffffff;stroke-linecap:round;\"/>\r\n     </g>\r\n     <g id=\"text_14\">\r\n      <!-- 150000 -->\r\n      <g style=\"fill:#262626;\" transform=\"translate(196.434783 40.275311)scale(0.11 -0.11)\">\r\n       <use xlink:href=\"#ArialMT-49\"/>\r\n       <use x=\"55.615234\" xlink:href=\"#ArialMT-53\"/>\r\n       <use x=\"111.230469\" xlink:href=\"#ArialMT-48\"/>\r\n       <use x=\"166.845703\" xlink:href=\"#ArialMT-48\"/>\r\n       <use x=\"222.460938\" xlink:href=\"#ArialMT-48\"/>\r\n       <use x=\"278.076172\" xlink:href=\"#ArialMT-48\"/>\r\n      </g>\r\n     </g>\r\n    </g>\r\n   </g>\r\n   <g id=\"patch_18\">\r\n    <path clip-path=\"url(#pf4c208e9fd)\" d=\"M 249.253571 116.328505 \r\nL 262.486772 116.328505 \r\nL 262.486772 42.600131 \r\nL 249.253571 42.600131 \r\nz\r\n\" style=\"fill:#4c72b0;stroke:#ffffff;stroke-linejoin:miter;\"/>\r\n   </g>\r\n   <g id=\"patch_19\">\r\n    <path clip-path=\"url(#pf4c208e9fd)\" d=\"M 262.486772 116.328505 \r\nL 275.719974 116.328505 \r\nL 275.719974 71.567173 \r\nL 262.486772 71.567173 \r\nz\r\n\" style=\"fill:#4c72b0;stroke:#ffffff;stroke-linejoin:miter;\"/>\r\n   </g>\r\n   <g id=\"patch_20\">\r\n    <path clip-path=\"url(#pf4c208e9fd)\" d=\"M 275.719974 116.328505 \r\nL 288.953176 116.328505 \r\nL 288.953176 75.780512 \r\nL 275.719974 75.780512 \r\nz\r\n\" style=\"fill:#4c72b0;stroke:#ffffff;stroke-linejoin:miter;\"/>\r\n   </g>\r\n   <g id=\"patch_21\">\r\n    <path clip-path=\"url(#pf4c208e9fd)\" d=\"M 288.953176 116.328505 \r\nL 302.186377 116.328505 \r\nL 302.186377 73.682642 \r\nL 288.953176 73.682642 \r\nz\r\n\" style=\"fill:#4c72b0;stroke:#ffffff;stroke-linejoin:miter;\"/>\r\n   </g>\r\n   <g id=\"patch_22\">\r\n    <path clip-path=\"url(#pf4c208e9fd)\" d=\"M 302.186377 116.328505 \r\nL 315.419579 116.328505 \r\nL 315.419579 75.13686 \r\nL 302.186377 75.13686 \r\nz\r\n\" style=\"fill:#4c72b0;stroke:#ffffff;stroke-linejoin:miter;\"/>\r\n   </g>\r\n   <g id=\"patch_23\">\r\n    <path clip-path=\"url(#pf4c208e9fd)\" d=\"M 315.419579 116.328505 \r\nL 328.65278 116.328505 \r\nL 328.65278 76.748391 \r\nL 315.419579 76.748391 \r\nz\r\n\" style=\"fill:#4c72b0;stroke:#ffffff;stroke-linejoin:miter;\"/>\r\n   </g>\r\n   <g id=\"patch_24\">\r\n    <path clip-path=\"url(#pf4c208e9fd)\" d=\"M 328.65278 116.328505 \r\nL 341.885982 116.328505 \r\nL 341.885982 75.6152 \r\nL 328.65278 75.6152 \r\nz\r\n\" style=\"fill:#4c72b0;stroke:#ffffff;stroke-linejoin:miter;\"/>\r\n   </g>\r\n   <g id=\"patch_25\">\r\n    <path clip-path=\"url(#pf4c208e9fd)\" d=\"M 341.885982 116.328505 \r\nL 355.119184 116.328505 \r\nL 355.119184 75.135793 \r\nL 341.885982 75.135793 \r\nz\r\n\" style=\"fill:#4c72b0;stroke:#ffffff;stroke-linejoin:miter;\"/>\r\n   </g>\r\n   <g id=\"patch_26\">\r\n    <path clip-path=\"url(#pf4c208e9fd)\" d=\"M 355.119184 116.328505 \r\nL 368.352385 116.328505 \r\nL 368.352385 72.367073 \r\nL 355.119184 72.367073 \r\nz\r\n\" style=\"fill:#4c72b0;stroke:#ffffff;stroke-linejoin:miter;\"/>\r\n   </g>\r\n   <g id=\"patch_27\">\r\n    <path clip-path=\"url(#pf4c208e9fd)\" d=\"M 368.352385 116.328505 \r\nL 381.585587 116.328505 \r\nL 381.585587 26.291238 \r\nL 368.352385 26.291238 \r\nz\r\n\" style=\"fill:#4c72b0;stroke:#ffffff;stroke-linejoin:miter;\"/>\r\n   </g>\r\n   <g id=\"patch_28\">\r\n    <path d=\"M 242.63697 116.328505 \r\nL 242.63697 21.789375 \r\n\" style=\"fill:none;stroke:#ffffff;stroke-linecap:square;stroke-linejoin:miter;stroke-width:1.25;\"/>\r\n   </g>\r\n   <g id=\"patch_29\">\r\n    <path d=\"M 388.202188 116.328505 \r\nL 388.202188 21.789375 \r\n\" style=\"fill:none;stroke:#ffffff;stroke-linecap:square;stroke-linejoin:miter;stroke-width:1.25;\"/>\r\n   </g>\r\n   <g id=\"patch_30\">\r\n    <path d=\"M 242.63697 116.328505 \r\nL 388.202188 116.328505 \r\n\" style=\"fill:none;stroke:#ffffff;stroke-linecap:square;stroke-linejoin:miter;stroke-width:1.25;\"/>\r\n   </g>\r\n   <g id=\"patch_31\">\r\n    <path d=\"M 242.63697 21.789375 \r\nL 388.202188 21.789375 \r\n\" style=\"fill:none;stroke:#ffffff;stroke-linecap:square;stroke-linejoin:miter;stroke-width:1.25;\"/>\r\n   </g>\r\n   <g id=\"text_15\">\r\n    <!-- month -->\r\n    <defs>\r\n     <path d=\"M 6.59375 0 \r\nL 6.59375 51.859375 \r\nL 14.453125 51.859375 \r\nL 14.453125 44.578125 \r\nQ 16.890625 48.390625 20.9375 50.703125 \r\nQ 25 53.03125 30.171875 53.03125 \r\nQ 35.9375 53.03125 39.625 50.640625 \r\nQ 43.3125 48.25 44.828125 43.953125 \r\nQ 50.984375 53.03125 60.84375 53.03125 \r\nQ 68.5625 53.03125 72.703125 48.75 \r\nQ 76.859375 44.484375 76.859375 35.59375 \r\nL 76.859375 0 \r\nL 68.109375 0 \r\nL 68.109375 32.671875 \r\nQ 68.109375 37.9375 67.25 40.25 \r\nQ 66.40625 42.578125 64.15625 43.984375 \r\nQ 61.921875 45.40625 58.890625 45.40625 \r\nQ 53.421875 45.40625 49.796875 41.765625 \r\nQ 46.1875 38.140625 46.1875 30.125 \r\nL 46.1875 0 \r\nL 37.40625 0 \r\nL 37.40625 33.6875 \r\nQ 37.40625 39.546875 35.25 42.46875 \r\nQ 33.109375 45.40625 28.21875 45.40625 \r\nQ 24.515625 45.40625 21.359375 43.453125 \r\nQ 18.21875 41.5 16.796875 37.734375 \r\nQ 15.375 33.984375 15.375 26.90625 \r\nL 15.375 0 \r\nz\r\n\" id=\"ArialMT-109\"/>\r\n     <path d=\"M 3.328125 25.921875 \r\nQ 3.328125 40.328125 11.328125 47.265625 \r\nQ 18.015625 53.03125 27.640625 53.03125 \r\nQ 38.328125 53.03125 45.109375 46.015625 \r\nQ 51.90625 39.015625 51.90625 26.65625 \r\nQ 51.90625 16.65625 48.90625 10.90625 \r\nQ 45.90625 5.171875 40.15625 2 \r\nQ 34.421875 -1.171875 27.640625 -1.171875 \r\nQ 16.75 -1.171875 10.03125 5.8125 \r\nQ 3.328125 12.796875 3.328125 25.921875 \r\nz\r\nM 12.359375 25.921875 \r\nQ 12.359375 15.96875 16.703125 11.015625 \r\nQ 21.046875 6.0625 27.640625 6.0625 \r\nQ 34.1875 6.0625 38.53125 11.03125 \r\nQ 42.875 16.015625 42.875 26.21875 \r\nQ 42.875 35.84375 38.5 40.796875 \r\nQ 34.125 45.75 27.640625 45.75 \r\nQ 21.046875 45.75 16.703125 40.8125 \r\nQ 12.359375 35.890625 12.359375 25.921875 \r\nz\r\n\" id=\"ArialMT-111\"/>\r\n     <path d=\"M 6.59375 0 \r\nL 6.59375 71.578125 \r\nL 15.375 71.578125 \r\nL 15.375 45.90625 \r\nQ 21.53125 53.03125 30.90625 53.03125 \r\nQ 36.671875 53.03125 40.921875 50.75 \r\nQ 45.171875 48.484375 47 44.484375 \r\nQ 48.828125 40.484375 48.828125 32.859375 \r\nL 48.828125 0 \r\nL 40.046875 0 \r\nL 40.046875 32.859375 \r\nQ 40.046875 39.453125 37.1875 42.453125 \r\nQ 34.328125 45.453125 29.109375 45.453125 \r\nQ 25.203125 45.453125 21.75 43.421875 \r\nQ 18.3125 41.40625 16.84375 37.9375 \r\nQ 15.375 34.46875 15.375 28.375 \r\nL 15.375 0 \r\nz\r\n\" id=\"ArialMT-104\"/>\r\n    </defs>\r\n    <g style=\"fill:#262626;\" transform=\"translate(298.745204 15.789375)scale(0.12 -0.12)\">\r\n     <use xlink:href=\"#ArialMT-109\"/>\r\n     <use x=\"83.300781\" xlink:href=\"#ArialMT-111\"/>\r\n     <use x=\"138.916016\" xlink:href=\"#ArialMT-110\"/>\r\n     <use x=\"194.53125\" xlink:href=\"#ArialMT-116\"/>\r\n     <use x=\"222.314453\" xlink:href=\"#ArialMT-104\"/>\r\n    </g>\r\n   </g>\r\n  </g>\r\n  <g id=\"axes_3\">\r\n   <g id=\"patch_32\">\r\n    <path d=\"M 53.402188 239.229375 \r\nL 198.967405 239.229375 \r\nL 198.967405 144.690245 \r\nL 53.402188 144.690245 \r\nz\r\n\" style=\"fill:#eaeaf2;\"/>\r\n   </g>\r\n   <g id=\"matplotlib.axis_5\">\r\n    <g id=\"xtick_6\">\r\n     <g id=\"line2d_13\">\r\n      <path clip-path=\"url(#pc0e15048f0)\" d=\"M 59.886191 239.229375 \r\nL 59.886191 144.690245 \r\n\" style=\"fill:none;stroke:#ffffff;stroke-linecap:round;\"/>\r\n     </g>\r\n     <g id=\"text_16\">\r\n      <!-- 0 -->\r\n      <g style=\"fill:#262626;\" transform=\"translate(56.827675 256.602969)scale(0.11 -0.11)\">\r\n       <use xlink:href=\"#ArialMT-48\"/>\r\n      </g>\r\n     </g>\r\n    </g>\r\n    <g id=\"xtick_7\">\r\n     <g id=\"line2d_14\">\r\n      <path clip-path=\"url(#pc0e15048f0)\" d=\"M 126.184796 239.229375 \r\nL 126.184796 144.690245 \r\n\" style=\"fill:none;stroke:#ffffff;stroke-linecap:round;\"/>\r\n     </g>\r\n     <g id=\"text_17\">\r\n      <!-- 500 -->\r\n      <g style=\"fill:#262626;\" transform=\"translate(117.009249 256.602969)scale(0.11 -0.11)\">\r\n       <use xlink:href=\"#ArialMT-53\"/>\r\n       <use x=\"55.615234\" xlink:href=\"#ArialMT-48\"/>\r\n       <use x=\"111.230469\" xlink:href=\"#ArialMT-48\"/>\r\n      </g>\r\n     </g>\r\n    </g>\r\n    <g id=\"xtick_8\">\r\n     <g id=\"line2d_15\">\r\n      <path clip-path=\"url(#pc0e15048f0)\" d=\"M 192.483401 239.229375 \r\nL 192.483401 144.690245 \r\n\" style=\"fill:none;stroke:#ffffff;stroke-linecap:round;\"/>\r\n     </g>\r\n     <g id=\"text_18\">\r\n      <!-- 1000 -->\r\n      <g style=\"fill:#262626;\" transform=\"translate(180.249339 256.602969)scale(0.11 -0.11)\">\r\n       <use xlink:href=\"#ArialMT-49\"/>\r\n       <use x=\"55.615234\" xlink:href=\"#ArialMT-48\"/>\r\n       <use x=\"111.230469\" xlink:href=\"#ArialMT-48\"/>\r\n       <use x=\"166.845703\" xlink:href=\"#ArialMT-48\"/>\r\n      </g>\r\n     </g>\r\n    </g>\r\n   </g>\r\n   <g id=\"matplotlib.axis_6\">\r\n    <g id=\"ytick_8\">\r\n     <g id=\"line2d_16\">\r\n      <path clip-path=\"url(#pc0e15048f0)\" d=\"M 53.402188 239.229375 \r\nL 198.967405 239.229375 \r\n\" style=\"fill:none;stroke:#ffffff;stroke-linecap:round;\"/>\r\n     </g>\r\n     <g id=\"text_19\">\r\n      <!-- 0 -->\r\n      <g style=\"fill:#262626;\" transform=\"translate(37.785156 243.166172)scale(0.11 -0.11)\">\r\n       <use xlink:href=\"#ArialMT-48\"/>\r\n      </g>\r\n     </g>\r\n    </g>\r\n    <g id=\"ytick_9\">\r\n     <g id=\"line2d_17\">\r\n      <path clip-path=\"url(#pc0e15048f0)\" d=\"M 53.402188 199.177299 \r\nL 198.967405 199.177299 \r\n\" style=\"fill:none;stroke:#ffffff;stroke-linecap:round;\"/>\r\n     </g>\r\n     <g id=\"text_20\">\r\n      <!-- 200000 -->\r\n      <defs>\r\n       <path d=\"M 50.34375 8.453125 \r\nL 50.34375 0 \r\nL 3.03125 0 \r\nQ 2.9375 3.171875 4.046875 6.109375 \r\nQ 5.859375 10.9375 9.828125 15.625 \r\nQ 13.8125 20.3125 21.34375 26.46875 \r\nQ 33.015625 36.03125 37.109375 41.625 \r\nQ 41.21875 47.21875 41.21875 52.203125 \r\nQ 41.21875 57.421875 37.46875 61 \r\nQ 33.734375 64.59375 27.734375 64.59375 \r\nQ 21.390625 64.59375 17.578125 60.78125 \r\nQ 13.765625 56.984375 13.71875 50.25 \r\nL 4.6875 51.171875 \r\nQ 5.609375 61.28125 11.65625 66.578125 \r\nQ 17.71875 71.875 27.9375 71.875 \r\nQ 38.234375 71.875 44.234375 66.15625 \r\nQ 50.25 60.453125 50.25 52 \r\nQ 50.25 47.703125 48.484375 43.546875 \r\nQ 46.734375 39.40625 42.65625 34.8125 \r\nQ 38.578125 30.21875 29.109375 22.21875 \r\nQ 21.1875 15.578125 18.9375 13.203125 \r\nQ 16.703125 10.84375 15.234375 8.453125 \r\nz\r\n\" id=\"ArialMT-50\"/>\r\n      </defs>\r\n      <g style=\"fill:#262626;\" transform=\"translate(7.2 203.114096)scale(0.11 -0.11)\">\r\n       <use xlink:href=\"#ArialMT-50\"/>\r\n       <use x=\"55.615234\" xlink:href=\"#ArialMT-48\"/>\r\n       <use x=\"111.230469\" xlink:href=\"#ArialMT-48\"/>\r\n       <use x=\"166.845703\" xlink:href=\"#ArialMT-48\"/>\r\n       <use x=\"222.460938\" xlink:href=\"#ArialMT-48\"/>\r\n       <use x=\"278.076172\" xlink:href=\"#ArialMT-48\"/>\r\n      </g>\r\n     </g>\r\n    </g>\r\n    <g id=\"ytick_10\">\r\n     <g id=\"line2d_18\">\r\n      <path clip-path=\"url(#pc0e15048f0)\" d=\"M 53.402188 159.125223 \r\nL 198.967405 159.125223 \r\n\" style=\"fill:none;stroke:#ffffff;stroke-linecap:round;\"/>\r\n     </g>\r\n     <g id=\"text_21\">\r\n      <!-- 400000 -->\r\n      <defs>\r\n       <path d=\"M 32.328125 0 \r\nL 32.328125 17.140625 \r\nL 1.265625 17.140625 \r\nL 1.265625 25.203125 \r\nL 33.9375 71.578125 \r\nL 41.109375 71.578125 \r\nL 41.109375 25.203125 \r\nL 50.78125 25.203125 \r\nL 50.78125 17.140625 \r\nL 41.109375 17.140625 \r\nL 41.109375 0 \r\nz\r\nM 32.328125 25.203125 \r\nL 32.328125 57.46875 \r\nL 9.90625 25.203125 \r\nz\r\n\" id=\"ArialMT-52\"/>\r\n      </defs>\r\n      <g style=\"fill:#262626;\" transform=\"translate(7.2 163.06202)scale(0.11 -0.11)\">\r\n       <use xlink:href=\"#ArialMT-52\"/>\r\n       <use x=\"55.615234\" xlink:href=\"#ArialMT-48\"/>\r\n       <use x=\"111.230469\" xlink:href=\"#ArialMT-48\"/>\r\n       <use x=\"166.845703\" xlink:href=\"#ArialMT-48\"/>\r\n       <use x=\"222.460938\" xlink:href=\"#ArialMT-48\"/>\r\n       <use x=\"278.076172\" xlink:href=\"#ArialMT-48\"/>\r\n      </g>\r\n     </g>\r\n    </g>\r\n   </g>\r\n   <g id=\"patch_33\">\r\n    <path clip-path=\"url(#pc0e15048f0)\" d=\"M 60.018788 239.229375 \r\nL 73.25199 239.229375 \r\nL 73.25199 149.192108 \r\nL 60.018788 149.192108 \r\nz\r\n\" style=\"fill:#4c72b0;stroke:#ffffff;stroke-linejoin:miter;\"/>\r\n   </g>\r\n   <g id=\"patch_34\">\r\n    <path clip-path=\"url(#pc0e15048f0)\" d=\"M 73.25199 239.229375 \r\nL 86.485191 239.229375 \r\nL 86.485191 170.883711 \r\nL 73.25199 170.883711 \r\nz\r\n\" style=\"fill:#4c72b0;stroke:#ffffff;stroke-linejoin:miter;\"/>\r\n   </g>\r\n   <g id=\"patch_35\">\r\n    <path clip-path=\"url(#pc0e15048f0)\" d=\"M 86.485191 239.229375 \r\nL 99.718393 239.229375 \r\nL 99.718393 221.271826 \r\nL 86.485191 221.271826 \r\nz\r\n\" style=\"fill:#4c72b0;stroke:#ffffff;stroke-linejoin:miter;\"/>\r\n   </g>\r\n   <g id=\"patch_36\">\r\n    <path clip-path=\"url(#pc0e15048f0)\" d=\"M 99.718393 239.229375 \r\nL 112.951595 239.229375 \r\nL 112.951595 233.254406 \r\nL 99.718393 233.254406 \r\nz\r\n\" style=\"fill:#4c72b0;stroke:#ffffff;stroke-linejoin:miter;\"/>\r\n   </g>\r\n   <g id=\"patch_37\">\r\n    <path clip-path=\"url(#pc0e15048f0)\" d=\"M 112.951595 239.229375 \r\nL 126.184796 239.229375 \r\nL 126.184796 236.968035 \r\nL 112.951595 236.968035 \r\nz\r\n\" style=\"fill:#4c72b0;stroke:#ffffff;stroke-linejoin:miter;\"/>\r\n   </g>\r\n   <g id=\"patch_38\">\r\n    <path clip-path=\"url(#pc0e15048f0)\" d=\"M 126.184796 239.229375 \r\nL 139.417998 239.229375 \r\nL 139.417998 238.130346 \r\nL 126.184796 238.130346 \r\nz\r\n\" style=\"fill:#4c72b0;stroke:#ffffff;stroke-linejoin:miter;\"/>\r\n   </g>\r\n   <g id=\"patch_39\">\r\n    <path clip-path=\"url(#pc0e15048f0)\" d=\"M 139.417998 239.229375 \r\nL 152.651199 239.229375 \r\nL 152.651199 238.624188 \r\nL 139.417998 238.624188 \r\nz\r\n\" style=\"fill:#4c72b0;stroke:#ffffff;stroke-linejoin:miter;\"/>\r\n   </g>\r\n   <g id=\"patch_40\">\r\n    <path clip-path=\"url(#pc0e15048f0)\" d=\"M 152.651199 239.229375 \r\nL 165.884401 239.229375 \r\nL 165.884401 238.668045 \r\nL 152.651199 238.668045 \r\nz\r\n\" style=\"fill:#4c72b0;stroke:#ffffff;stroke-linejoin:miter;\"/>\r\n   </g>\r\n   <g id=\"patch_41\">\r\n    <path clip-path=\"url(#pc0e15048f0)\" d=\"M 165.884401 239.229375 \r\nL 179.117603 239.229375 \r\nL 179.117603 239.10221 \r\nL 165.884401 239.10221 \r\nz\r\n\" style=\"fill:#4c72b0;stroke:#ffffff;stroke-linejoin:miter;\"/>\r\n   </g>\r\n   <g id=\"patch_42\">\r\n    <path clip-path=\"url(#pc0e15048f0)\" d=\"M 179.117603 239.229375 \r\nL 192.350804 239.229375 \r\nL 192.350804 239.047138 \r\nL 179.117603 239.047138 \r\nz\r\n\" style=\"fill:#4c72b0;stroke:#ffffff;stroke-linejoin:miter;\"/>\r\n   </g>\r\n   <g id=\"patch_43\">\r\n    <path d=\"M 53.402188 239.229375 \r\nL 53.402188 144.690245 \r\n\" style=\"fill:none;stroke:#ffffff;stroke-linecap:square;stroke-linejoin:miter;stroke-width:1.25;\"/>\r\n   </g>\r\n   <g id=\"patch_44\">\r\n    <path d=\"M 198.967405 239.229375 \r\nL 198.967405 144.690245 \r\n\" style=\"fill:none;stroke:#ffffff;stroke-linecap:square;stroke-linejoin:miter;stroke-width:1.25;\"/>\r\n   </g>\r\n   <g id=\"patch_45\">\r\n    <path d=\"M 53.402188 239.229375 \r\nL 198.967405 239.229375 \r\n\" style=\"fill:none;stroke:#ffffff;stroke-linecap:square;stroke-linejoin:miter;stroke-width:1.25;\"/>\r\n   </g>\r\n   <g id=\"patch_46\">\r\n    <path d=\"M 53.402188 144.690245 \r\nL 198.967405 144.690245 \r\n\" style=\"fill:none;stroke:#ffffff;stroke-linecap:square;stroke-linejoin:miter;stroke-width:1.25;\"/>\r\n   </g>\r\n   <g id=\"text_22\">\r\n    <!-- price -->\r\n    <defs>\r\n     <path d=\"M 6.59375 -19.875 \r\nL 6.59375 51.859375 \r\nL 14.59375 51.859375 \r\nL 14.59375 45.125 \r\nQ 17.4375 49.078125 21 51.046875 \r\nQ 24.5625 53.03125 29.640625 53.03125 \r\nQ 36.28125 53.03125 41.359375 49.609375 \r\nQ 46.4375 46.1875 49.015625 39.953125 \r\nQ 51.609375 33.734375 51.609375 26.3125 \r\nQ 51.609375 18.359375 48.75 11.984375 \r\nQ 45.90625 5.609375 40.453125 2.21875 \r\nQ 35.015625 -1.171875 29 -1.171875 \r\nQ 24.609375 -1.171875 21.109375 0.6875 \r\nQ 17.625 2.546875 15.375 5.375 \r\nL 15.375 -19.875 \r\nz\r\nM 14.546875 25.640625 \r\nQ 14.546875 15.625 18.59375 10.84375 \r\nQ 22.65625 6.0625 28.421875 6.0625 \r\nQ 34.28125 6.0625 38.453125 11.015625 \r\nQ 42.625 15.96875 42.625 26.375 \r\nQ 42.625 36.28125 38.546875 41.203125 \r\nQ 34.46875 46.140625 28.8125 46.140625 \r\nQ 23.1875 46.140625 18.859375 40.890625 \r\nQ 14.546875 35.640625 14.546875 25.640625 \r\nz\r\n\" id=\"ArialMT-112\"/>\r\n     <path d=\"M 6.5 0 \r\nL 6.5 51.859375 \r\nL 14.40625 51.859375 \r\nL 14.40625 44 \r\nQ 17.4375 49.515625 20 51.265625 \r\nQ 22.5625 53.03125 25.640625 53.03125 \r\nQ 30.078125 53.03125 34.671875 50.203125 \r\nL 31.640625 42.046875 \r\nQ 28.421875 43.953125 25.203125 43.953125 \r\nQ 22.3125 43.953125 20.015625 42.21875 \r\nQ 17.71875 40.484375 16.75 37.40625 \r\nQ 15.28125 32.71875 15.28125 27.15625 \r\nL 15.28125 0 \r\nz\r\n\" id=\"ArialMT-114\"/>\r\n     <path d=\"M 40.4375 19 \r\nL 49.078125 17.875 \r\nQ 47.65625 8.9375 41.8125 3.875 \r\nQ 35.984375 -1.171875 27.484375 -1.171875 \r\nQ 16.84375 -1.171875 10.375 5.78125 \r\nQ 3.90625 12.75 3.90625 25.734375 \r\nQ 3.90625 34.125 6.6875 40.421875 \r\nQ 9.46875 46.734375 15.15625 49.875 \r\nQ 20.84375 53.03125 27.546875 53.03125 \r\nQ 35.984375 53.03125 41.359375 48.75 \r\nQ 46.734375 44.484375 48.25 36.625 \r\nL 39.703125 35.296875 \r\nQ 38.484375 40.53125 35.375 43.15625 \r\nQ 32.28125 45.796875 27.875 45.796875 \r\nQ 21.234375 45.796875 17.078125 41.03125 \r\nQ 12.9375 36.28125 12.9375 25.984375 \r\nQ 12.9375 15.53125 16.9375 10.796875 \r\nQ 20.953125 6.0625 27.390625 6.0625 \r\nQ 32.5625 6.0625 36.03125 9.234375 \r\nQ 39.5 12.40625 40.4375 19 \r\nz\r\n\" id=\"ArialMT-99\"/>\r\n    </defs>\r\n    <g style=\"fill:#262626;\" transform=\"translate(113.180734 138.690245)scale(0.12 -0.12)\">\r\n     <use xlink:href=\"#ArialMT-112\"/>\r\n     <use x=\"55.615234\" xlink:href=\"#ArialMT-114\"/>\r\n     <use x=\"88.916016\" xlink:href=\"#ArialMT-105\"/>\r\n     <use x=\"111.132812\" xlink:href=\"#ArialMT-99\"/>\r\n     <use x=\"161.132812\" xlink:href=\"#ArialMT-101\"/>\r\n    </g>\r\n   </g>\r\n  </g>\r\n  <g id=\"axes_4\">\r\n   <g id=\"patch_47\">\r\n    <path d=\"M 242.63697 239.229375 \r\nL 388.202188 239.229375 \r\nL 388.202188 144.690245 \r\nL 242.63697 144.690245 \r\nz\r\n\" style=\"fill:#eaeaf2;\"/>\r\n   </g>\r\n   <g id=\"matplotlib.axis_7\">\r\n    <g id=\"xtick_9\">\r\n     <g id=\"line2d_19\">\r\n      <path clip-path=\"url(#pe82ab666b2)\" d=\"M 249.253571 239.229375 \r\nL 249.253571 144.690245 \r\n\" style=\"fill:none;stroke:#ffffff;stroke-linecap:round;\"/>\r\n     </g>\r\n     <g id=\"text_23\">\r\n      <!-- 2016.0 -->\r\n      <defs>\r\n       <path d=\"M 49.75 54.046875 \r\nL 41.015625 53.375 \r\nQ 39.84375 58.546875 37.703125 60.890625 \r\nQ 34.125 64.65625 28.90625 64.65625 \r\nQ 24.703125 64.65625 21.53125 62.3125 \r\nQ 17.390625 59.28125 14.984375 53.46875 \r\nQ 12.59375 47.65625 12.5 36.921875 \r\nQ 15.671875 41.75 20.265625 44.09375 \r\nQ 24.859375 46.4375 29.890625 46.4375 \r\nQ 38.671875 46.4375 44.84375 39.96875 \r\nQ 51.03125 33.5 51.03125 23.25 \r\nQ 51.03125 16.5 48.125 10.71875 \r\nQ 45.21875 4.9375 40.140625 1.859375 \r\nQ 35.0625 -1.21875 28.609375 -1.21875 \r\nQ 17.625 -1.21875 10.6875 6.859375 \r\nQ 3.765625 14.9375 3.765625 33.5 \r\nQ 3.765625 54.25 11.421875 63.671875 \r\nQ 18.109375 71.875 29.4375 71.875 \r\nQ 37.890625 71.875 43.28125 67.140625 \r\nQ 48.6875 62.40625 49.75 54.046875 \r\nz\r\nM 13.875 23.1875 \r\nQ 13.875 18.65625 15.796875 14.5 \r\nQ 17.71875 10.359375 21.1875 8.171875 \r\nQ 24.65625 6 28.46875 6 \r\nQ 34.03125 6 38.03125 10.484375 \r\nQ 42.046875 14.984375 42.046875 22.703125 \r\nQ 42.046875 30.125 38.078125 34.390625 \r\nQ 34.125 38.671875 28.125 38.671875 \r\nQ 22.171875 38.671875 18.015625 34.390625 \r\nQ 13.875 30.125 13.875 23.1875 \r\nz\r\n\" id=\"ArialMT-54\"/>\r\n      </defs>\r\n      <g style=\"fill:#262626;\" transform=\"translate(232.433024 256.602969)scale(0.11 -0.11)\">\r\n       <use xlink:href=\"#ArialMT-50\"/>\r\n       <use x=\"55.615234\" xlink:href=\"#ArialMT-48\"/>\r\n       <use x=\"111.230469\" xlink:href=\"#ArialMT-49\"/>\r\n       <use x=\"166.845703\" xlink:href=\"#ArialMT-54\"/>\r\n       <use x=\"222.460938\" xlink:href=\"#ArialMT-46\"/>\r\n       <use x=\"250.244141\" xlink:href=\"#ArialMT-48\"/>\r\n      </g>\r\n     </g>\r\n    </g>\r\n    <g id=\"xtick_10\">\r\n     <g id=\"line2d_20\">\r\n      <path clip-path=\"url(#pe82ab666b2)\" d=\"M 315.419579 239.229375 \r\nL 315.419579 144.690245 \r\n\" style=\"fill:none;stroke:#ffffff;stroke-linecap:round;\"/>\r\n     </g>\r\n     <g id=\"text_24\">\r\n      <!-- 2016.5 -->\r\n      <g style=\"fill:#262626;\" transform=\"translate(298.599032 256.602969)scale(0.11 -0.11)\">\r\n       <use xlink:href=\"#ArialMT-50\"/>\r\n       <use x=\"55.615234\" xlink:href=\"#ArialMT-48\"/>\r\n       <use x=\"111.230469\" xlink:href=\"#ArialMT-49\"/>\r\n       <use x=\"166.845703\" xlink:href=\"#ArialMT-54\"/>\r\n       <use x=\"222.460938\" xlink:href=\"#ArialMT-46\"/>\r\n       <use x=\"250.244141\" xlink:href=\"#ArialMT-53\"/>\r\n      </g>\r\n     </g>\r\n    </g>\r\n    <g id=\"xtick_11\">\r\n     <g id=\"line2d_21\">\r\n      <path clip-path=\"url(#pe82ab666b2)\" d=\"M 381.585587 239.229375 \r\nL 381.585587 144.690245 \r\n\" style=\"fill:none;stroke:#ffffff;stroke-linecap:round;\"/>\r\n     </g>\r\n     <g id=\"text_25\">\r\n      <!-- 2017.0 -->\r\n      <g style=\"fill:#262626;\" transform=\"translate(364.76504 256.602969)scale(0.11 -0.11)\">\r\n       <use xlink:href=\"#ArialMT-50\"/>\r\n       <use x=\"55.615234\" xlink:href=\"#ArialMT-48\"/>\r\n       <use x=\"111.230469\" xlink:href=\"#ArialMT-49\"/>\r\n       <use x=\"166.845703\" xlink:href=\"#ArialMT-55\"/>\r\n       <use x=\"222.460938\" xlink:href=\"#ArialMT-46\"/>\r\n       <use x=\"250.244141\" xlink:href=\"#ArialMT-48\"/>\r\n      </g>\r\n     </g>\r\n    </g>\r\n   </g>\r\n   <g id=\"matplotlib.axis_8\">\r\n    <g id=\"ytick_11\">\r\n     <g id=\"line2d_22\">\r\n      <path clip-path=\"url(#pe82ab666b2)\" d=\"M 242.63697 239.229375 \r\nL 388.202188 239.229375 \r\n\" style=\"fill:none;stroke:#ffffff;stroke-linecap:round;\"/>\r\n     </g>\r\n     <g id=\"text_26\">\r\n      <!-- 0 -->\r\n      <g style=\"fill:#262626;\" transform=\"translate(227.019939 243.166172)scale(0.11 -0.11)\">\r\n       <use xlink:href=\"#ArialMT-48\"/>\r\n      </g>\r\n     </g>\r\n    </g>\r\n    <g id=\"ytick_12\">\r\n     <g id=\"line2d_23\">\r\n      <path clip-path=\"url(#pe82ab666b2)\" d=\"M 242.63697 214.995686 \r\nL 388.202188 214.995686 \r\n\" style=\"fill:none;stroke:#ffffff;stroke-linecap:round;\"/>\r\n     </g>\r\n     <g id=\"text_27\">\r\n      <!-- 250000 -->\r\n      <g style=\"fill:#262626;\" transform=\"translate(196.434783 218.932483)scale(0.11 -0.11)\">\r\n       <use xlink:href=\"#ArialMT-50\"/>\r\n       <use x=\"55.615234\" xlink:href=\"#ArialMT-53\"/>\r\n       <use x=\"111.230469\" xlink:href=\"#ArialMT-48\"/>\r\n       <use x=\"166.845703\" xlink:href=\"#ArialMT-48\"/>\r\n       <use x=\"222.460938\" xlink:href=\"#ArialMT-48\"/>\r\n       <use x=\"278.076172\" xlink:href=\"#ArialMT-48\"/>\r\n      </g>\r\n     </g>\r\n    </g>\r\n    <g id=\"ytick_13\">\r\n     <g id=\"line2d_24\">\r\n      <path clip-path=\"url(#pe82ab666b2)\" d=\"M 242.63697 190.761997 \r\nL 388.202188 190.761997 \r\n\" style=\"fill:none;stroke:#ffffff;stroke-linecap:round;\"/>\r\n     </g>\r\n     <g id=\"text_28\">\r\n      <!-- 500000 -->\r\n      <g style=\"fill:#262626;\" transform=\"translate(196.434783 194.698794)scale(0.11 -0.11)\">\r\n       <use xlink:href=\"#ArialMT-53\"/>\r\n       <use x=\"55.615234\" xlink:href=\"#ArialMT-48\"/>\r\n       <use x=\"111.230469\" xlink:href=\"#ArialMT-48\"/>\r\n       <use x=\"166.845703\" xlink:href=\"#ArialMT-48\"/>\r\n       <use x=\"222.460938\" xlink:href=\"#ArialMT-48\"/>\r\n       <use x=\"278.076172\" xlink:href=\"#ArialMT-48\"/>\r\n      </g>\r\n     </g>\r\n    </g>\r\n    <g id=\"ytick_14\">\r\n     <g id=\"line2d_25\">\r\n      <path clip-path=\"url(#pe82ab666b2)\" d=\"M 242.63697 166.528308 \r\nL 388.202188 166.528308 \r\n\" style=\"fill:none;stroke:#ffffff;stroke-linecap:round;\"/>\r\n     </g>\r\n     <g id=\"text_29\">\r\n      <!-- 750000 -->\r\n      <g style=\"fill:#262626;\" transform=\"translate(196.434783 170.465104)scale(0.11 -0.11)\">\r\n       <use xlink:href=\"#ArialMT-55\"/>\r\n       <use x=\"55.615234\" xlink:href=\"#ArialMT-53\"/>\r\n       <use x=\"111.230469\" xlink:href=\"#ArialMT-48\"/>\r\n       <use x=\"166.845703\" xlink:href=\"#ArialMT-48\"/>\r\n       <use x=\"222.460938\" xlink:href=\"#ArialMT-48\"/>\r\n       <use x=\"278.076172\" xlink:href=\"#ArialMT-48\"/>\r\n      </g>\r\n     </g>\r\n    </g>\r\n   </g>\r\n   <g id=\"patch_48\">\r\n    <path clip-path=\"url(#pe82ab666b2)\" d=\"M 249.253571 239.229375 \r\nL 262.486772 239.229375 \r\nL 262.486772 149.192108 \r\nL 249.253571 149.192108 \r\nz\r\n\" style=\"fill:#4c72b0;stroke:#ffffff;stroke-linejoin:miter;\"/>\r\n   </g>\r\n   <g id=\"patch_49\">\r\n    <path clip-path=\"url(#pe82ab666b2)\" d=\"M 262.486772 239.229375 \r\nL 275.719974 239.229375 \r\nL 275.719974 239.229375 \r\nL 262.486772 239.229375 \r\nz\r\n\" style=\"fill:#4c72b0;stroke:#ffffff;stroke-linejoin:miter;\"/>\r\n   </g>\r\n   <g id=\"patch_50\">\r\n    <path clip-path=\"url(#pe82ab666b2)\" d=\"M 275.719974 239.229375 \r\nL 288.953176 239.229375 \r\nL 288.953176 239.229375 \r\nL 275.719974 239.229375 \r\nz\r\n\" style=\"fill:#4c72b0;stroke:#ffffff;stroke-linejoin:miter;\"/>\r\n   </g>\r\n   <g id=\"patch_51\">\r\n    <path clip-path=\"url(#pe82ab666b2)\" d=\"M 288.953176 239.229375 \r\nL 302.186377 239.229375 \r\nL 302.186377 239.229375 \r\nL 288.953176 239.229375 \r\nz\r\n\" style=\"fill:#4c72b0;stroke:#ffffff;stroke-linejoin:miter;\"/>\r\n   </g>\r\n   <g id=\"patch_52\">\r\n    <path clip-path=\"url(#pe82ab666b2)\" d=\"M 302.186377 239.229375 \r\nL 315.419579 239.229375 \r\nL 315.419579 239.229375 \r\nL 302.186377 239.229375 \r\nz\r\n\" style=\"fill:#4c72b0;stroke:#ffffff;stroke-linejoin:miter;\"/>\r\n   </g>\r\n   <g id=\"patch_53\">\r\n    <path clip-path=\"url(#pe82ab666b2)\" d=\"M 315.419579 239.229375 \r\nL 328.65278 239.229375 \r\nL 328.65278 239.229375 \r\nL 315.419579 239.229375 \r\nz\r\n\" style=\"fill:#4c72b0;stroke:#ffffff;stroke-linejoin:miter;\"/>\r\n   </g>\r\n   <g id=\"patch_54\">\r\n    <path clip-path=\"url(#pe82ab666b2)\" d=\"M 328.65278 239.229375 \r\nL 341.885982 239.229375 \r\nL 341.885982 239.229375 \r\nL 328.65278 239.229375 \r\nz\r\n\" style=\"fill:#4c72b0;stroke:#ffffff;stroke-linejoin:miter;\"/>\r\n   </g>\r\n   <g id=\"patch_55\">\r\n    <path clip-path=\"url(#pe82ab666b2)\" d=\"M 341.885982 239.229375 \r\nL 355.119184 239.229375 \r\nL 355.119184 239.229375 \r\nL 341.885982 239.229375 \r\nz\r\n\" style=\"fill:#4c72b0;stroke:#ffffff;stroke-linejoin:miter;\"/>\r\n   </g>\r\n   <g id=\"patch_56\">\r\n    <path clip-path=\"url(#pe82ab666b2)\" d=\"M 355.119184 239.229375 \r\nL 368.352385 239.229375 \r\nL 368.352385 239.229375 \r\nL 355.119184 239.229375 \r\nz\r\n\" style=\"fill:#4c72b0;stroke:#ffffff;stroke-linejoin:miter;\"/>\r\n   </g>\r\n   <g id=\"patch_57\">\r\n    <path clip-path=\"url(#pe82ab666b2)\" d=\"M 368.352385 239.229375 \r\nL 381.585587 239.229375 \r\nL 381.585587 238.677041 \r\nL 368.352385 238.677041 \r\nz\r\n\" style=\"fill:#4c72b0;stroke:#ffffff;stroke-linejoin:miter;\"/>\r\n   </g>\r\n   <g id=\"patch_58\">\r\n    <path d=\"M 242.63697 239.229375 \r\nL 242.63697 144.690245 \r\n\" style=\"fill:none;stroke:#ffffff;stroke-linecap:square;stroke-linejoin:miter;stroke-width:1.25;\"/>\r\n   </g>\r\n   <g id=\"patch_59\">\r\n    <path d=\"M 388.202188 239.229375 \r\nL 388.202188 144.690245 \r\n\" style=\"fill:none;stroke:#ffffff;stroke-linecap:square;stroke-linejoin:miter;stroke-width:1.25;\"/>\r\n   </g>\r\n   <g id=\"patch_60\">\r\n    <path d=\"M 242.63697 239.229375 \r\nL 388.202188 239.229375 \r\n\" style=\"fill:none;stroke:#ffffff;stroke-linecap:square;stroke-linejoin:miter;stroke-width:1.25;\"/>\r\n   </g>\r\n   <g id=\"patch_61\">\r\n    <path d=\"M 242.63697 144.690245 \r\nL 388.202188 144.690245 \r\n\" style=\"fill:none;stroke:#ffffff;stroke-linecap:square;stroke-linejoin:miter;stroke-width:1.25;\"/>\r\n   </g>\r\n   <g id=\"text_30\">\r\n    <!-- year -->\r\n    <defs>\r\n     <path d=\"M 6.203125 -19.96875 \r\nL 5.21875 -11.71875 \r\nQ 8.109375 -12.5 10.25 -12.5 \r\nQ 13.1875 -12.5 14.9375 -11.515625 \r\nQ 16.703125 -10.546875 17.828125 -8.796875 \r\nQ 18.65625 -7.46875 20.515625 -2.25 \r\nQ 20.75 -1.515625 21.296875 -0.09375 \r\nL 1.609375 51.859375 \r\nL 11.078125 51.859375 \r\nL 21.875 21.828125 \r\nQ 23.96875 16.109375 25.640625 9.8125 \r\nQ 27.15625 15.875 29.25 21.625 \r\nL 40.328125 51.859375 \r\nL 49.125 51.859375 \r\nL 29.390625 -0.875 \r\nQ 26.21875 -9.421875 24.46875 -12.640625 \r\nQ 22.125 -17 19.09375 -19.015625 \r\nQ 16.0625 -21.046875 11.859375 -21.046875 \r\nQ 9.328125 -21.046875 6.203125 -19.96875 \r\nz\r\n\" id=\"ArialMT-121\"/>\r\n     <path d=\"M 40.4375 6.390625 \r\nQ 35.546875 2.25 31.03125 0.53125 \r\nQ 26.515625 -1.171875 21.34375 -1.171875 \r\nQ 12.796875 -1.171875 8.203125 3 \r\nQ 3.609375 7.171875 3.609375 13.671875 \r\nQ 3.609375 17.484375 5.34375 20.625 \r\nQ 7.078125 23.78125 9.890625 25.6875 \r\nQ 12.703125 27.59375 16.21875 28.5625 \r\nQ 18.796875 29.25 24.03125 29.890625 \r\nQ 34.671875 31.15625 39.703125 32.90625 \r\nQ 39.75 34.71875 39.75 35.203125 \r\nQ 39.75 40.578125 37.25 42.78125 \r\nQ 33.890625 45.75 27.25 45.75 \r\nQ 21.046875 45.75 18.09375 43.578125 \r\nQ 15.140625 41.40625 13.71875 35.890625 \r\nL 5.125 37.0625 \r\nQ 6.296875 42.578125 8.984375 45.96875 \r\nQ 11.671875 49.359375 16.75 51.1875 \r\nQ 21.828125 53.03125 28.515625 53.03125 \r\nQ 35.15625 53.03125 39.296875 51.46875 \r\nQ 43.453125 49.90625 45.40625 47.53125 \r\nQ 47.359375 45.171875 48.140625 41.546875 \r\nQ 48.578125 39.3125 48.578125 33.453125 \r\nL 48.578125 21.734375 \r\nQ 48.578125 9.46875 49.140625 6.21875 \r\nQ 49.703125 2.984375 51.375 0 \r\nL 42.1875 0 \r\nQ 40.828125 2.734375 40.4375 6.390625 \r\nz\r\nM 39.703125 26.03125 \r\nQ 34.90625 24.078125 25.34375 22.703125 \r\nQ 19.921875 21.921875 17.671875 20.9375 \r\nQ 15.4375 19.96875 14.203125 18.09375 \r\nQ 12.984375 16.21875 12.984375 13.921875 \r\nQ 12.984375 10.40625 15.640625 8.0625 \r\nQ 18.3125 5.71875 23.4375 5.71875 \r\nQ 28.515625 5.71875 32.46875 7.9375 \r\nQ 36.421875 10.15625 38.28125 14.015625 \r\nQ 39.703125 17 39.703125 22.796875 \r\nz\r\n\" id=\"ArialMT-97\"/>\r\n    </defs>\r\n    <g style=\"fill:#262626;\" transform=\"translate(303.748641 138.690245)scale(0.12 -0.12)\">\r\n     <use xlink:href=\"#ArialMT-121\"/>\r\n     <use x=\"50\" xlink:href=\"#ArialMT-101\"/>\r\n     <use x=\"105.615234\" xlink:href=\"#ArialMT-97\"/>\r\n     <use x=\"161.230469\" xlink:href=\"#ArialMT-114\"/>\r\n    </g>\r\n   </g>\r\n  </g>\r\n </g>\r\n <defs>\r\n  <clipPath id=\"p330a0e46b4\">\r\n   <rect height=\"94.53913\" width=\"145.565217\" x=\"53.402188\" y=\"21.789375\"/>\r\n  </clipPath>\r\n  <clipPath id=\"pf4c208e9fd\">\r\n   <rect height=\"94.53913\" width=\"145.565217\" x=\"242.63697\" y=\"21.789375\"/>\r\n  </clipPath>\r\n  <clipPath id=\"pc0e15048f0\">\r\n   <rect height=\"94.53913\" width=\"145.565217\" x=\"53.402188\" y=\"144.690245\"/>\r\n  </clipPath>\r\n  <clipPath id=\"pe82ab666b2\">\r\n   <rect height=\"94.53913\" width=\"145.565217\" x=\"242.63697\" y=\"144.690245\"/>\r\n  </clipPath>\r\n </defs>\r\n</svg>\r\n",
      "image/png": "[encoded data removed]"
     },
     "metadata": {}
    }
   ],
   "source": [
    "calendar_seattle_dropped_na.hist();"
   ]
  },
  {
   "cell_type": "markdown",
   "metadata": {},
   "source": [
    "Group by listing_id, year and month, and extract mean price."
   ]
  },
  {
   "cell_type": "code",
   "execution_count": 308,
   "metadata": {},
   "outputs": [
    {
     "output_type": "execute_result",
     "data": {
      "text/plain": "       listing_id  year  month  price_year_month_mean\n0            3335  2016      2                    120\n1            3335  2016      3                    120\n2            3335  2016      4                    120\n3            3335  2016      5                    120\n4            3335  2016      6                    120\n...           ...   ...    ...                    ...\n36110    10340165  2016      9                     43\n36111    10340165  2016     10                     43\n36112    10340165  2016     11                     43\n36113    10340165  2016     12                     43\n36114    10340165  2017      1                     43\n\n[36115 rows x 4 columns]",
      "text/html": "<div>\n<style scoped>\n    .dataframe tbody tr th:only-of-type {\n        vertical-align: middle;\n    }\n\n    .dataframe tbody tr th {\n        vertical-align: top;\n    }\n\n    .dataframe thead th {\n        text-align: right;\n    }\n</style>\n<table border=\"1\" class=\"dataframe\">\n  <thead>\n    <tr style=\"text-align: right;\">\n      <th></th>\n      <th>listing_id</th>\n      <th>year</th>\n      <th>month</th>\n      <th>price_year_month_mean</th>\n    </tr>\n  </thead>\n  <tbody>\n    <tr>\n      <th>0</th>\n      <td>3335</td>\n      <td>2016</td>\n      <td>2</td>\n      <td>120</td>\n    </tr>\n    <tr>\n      <th>1</th>\n      <td>3335</td>\n      <td>2016</td>\n      <td>3</td>\n      <td>120</td>\n    </tr>\n    <tr>\n      <th>2</th>\n      <td>3335</td>\n      <td>2016</td>\n      <td>4</td>\n      <td>120</td>\n    </tr>\n    <tr>\n      <th>3</th>\n      <td>3335</td>\n      <td>2016</td>\n      <td>5</td>\n      <td>120</td>\n    </tr>\n    <tr>\n      <th>4</th>\n      <td>3335</td>\n      <td>2016</td>\n      <td>6</td>\n      <td>120</td>\n    </tr>\n    <tr>\n      <th>...</th>\n      <td>...</td>\n      <td>...</td>\n      <td>...</td>\n      <td>...</td>\n    </tr>\n    <tr>\n      <th>36110</th>\n      <td>10340165</td>\n      <td>2016</td>\n      <td>9</td>\n      <td>43</td>\n    </tr>\n    <tr>\n      <th>36111</th>\n      <td>10340165</td>\n      <td>2016</td>\n      <td>10</td>\n      <td>43</td>\n    </tr>\n    <tr>\n      <th>36112</th>\n      <td>10340165</td>\n      <td>2016</td>\n      <td>11</td>\n      <td>43</td>\n    </tr>\n    <tr>\n      <th>36113</th>\n      <td>10340165</td>\n      <td>2016</td>\n      <td>12</td>\n      <td>43</td>\n    </tr>\n    <tr>\n      <th>36114</th>\n      <td>10340165</td>\n      <td>2017</td>\n      <td>1</td>\n      <td>43</td>\n    </tr>\n  </tbody>\n</table>\n<p>36115 rows × 4 columns</p>\n</div>"
     },
     "metadata": {},
     "execution_count": 308
    }
   ],
   "source": [
    "calendar_seattle_grouped = (calendar_seattle_dropped_na\n",
    "    .groupby([\"listing_id\", \"year\", \"month\"])\n",
    "    .agg(price_year_month_mean = pd.NamedAgg(column=\"price\", aggfunc=\"mean\")).astype(\"int\")\n",
    "    .reset_index()\n",
    "    )\n",
    "calendar_seattle_grouped"
   ]
  },
  {
   "cell_type": "code",
   "execution_count": 57,
   "metadata": {},
   "outputs": [
    {
     "output_type": "execute_result",
     "data": {
      "text/plain": "license                        1.000000\nsquare_feet                    0.974594\nmonthly_price                  0.602672\nsecurity_deposit               0.511262\nweekly_price                   0.473808\nnotes                          0.420639\nneighborhood_overview          0.270299\ncleaning_fee                   0.269775\ntransit                        0.244631\nhost_about                     0.224987\nhost_acceptance_rate           0.202462\nreview_scores_accuracy         0.172342\nreview_scores_checkin          0.172342\nreview_scores_value            0.171818\nreview_scores_location         0.171556\nreview_scores_cleanliness      0.171032\nreview_scores_communication    0.170508\nreview_scores_rating           0.169460\nreviews_per_month              0.164222\nfirst_review                   0.164222\nlast_review                    0.164222\nspace                          0.149031\nhost_response_time             0.136983\nhost_response_rate             0.136983\nneighbourhood                  0.108958\nthumbnail_url                  0.083814\nmedium_url                     0.083814\nxl_picture_url                 0.083814\nhost_neighbourhood             0.078575\nsummary                        0.046359\nbathrooms                      0.004191\nhost_location                  0.002095\nzipcode                        0.001833\nbedrooms                       0.001572\nhost_is_superhost              0.000524\nhost_thumbnail_url             0.000524\nhost_picture_url               0.000524\nhost_listings_count            0.000524\nhost_since                     0.000524\nhost_name                      0.000524\nhost_total_listings_count      0.000524\nhost_has_profile_pic           0.000524\nhost_identity_verified         0.000524\nproperty_type                  0.000262\nbeds                           0.000262\ndtype: float64"
     },
     "metadata": {},
     "execution_count": 57
    }
   ],
   "source": [
    "listings_seattle.isnull().mean()[listings_seattle.isnull().mean() != 0].sort_values(ascending=False)"
   ]
  },
  {
   "cell_type": "markdown",
   "metadata": {},
   "source": [
    "Remove one \\n value from zip code."
   ]
  },
  {
   "cell_type": "code",
   "execution_count": 200,
   "metadata": {},
   "outputs": [
    {
     "output_type": "execute_result",
     "data": {
      "text/plain": "'99\\n98122'"
     },
     "metadata": {},
     "execution_count": 200
    }
   ],
   "source": [
    "# error\n",
    "listings_seattle.loc[859,\"zipcode\"]"
   ]
  },
  {
   "cell_type": "code",
   "execution_count": 201,
   "metadata": {},
   "outputs": [],
   "source": [
    "listings_seattle = listings_seattle.assign(zipcode = pd.to_numeric(listings_seattle[\"zipcode\"], errors='coerce'))"
   ]
  },
  {
   "cell_type": "code",
   "execution_count": 202,
   "metadata": {},
   "outputs": [
    {
     "output_type": "execute_result",
     "data": {
      "text/plain": "28"
     },
     "metadata": {},
     "execution_count": 202
    }
   ],
   "source": [
    "len(listings_seattle[\"zipcode\"].unique())"
   ]
  },
  {
   "cell_type": "code",
   "execution_count": 203,
   "metadata": {},
   "outputs": [
    {
     "output_type": "execute_result",
     "data": {
      "text/plain": "82"
     },
     "metadata": {},
     "execution_count": 203
    }
   ],
   "source": [
    "len(listings_seattle[\"neighbourhood\"].unique())"
   ]
  },
  {
   "cell_type": "code",
   "execution_count": 135,
   "metadata": {},
   "outputs": [
    {
     "output_type": "execute_result",
     "data": {
      "text/plain": "        id                           listing_url       scrape_id last_scraped  \\\n0   241032   https://www.airbnb.com/rooms/241032  20160104002432   2016-01-04   \n1   953595   https://www.airbnb.com/rooms/953595  20160104002432   2016-01-04   \n2  3308979  https://www.airbnb.com/rooms/3308979  20160104002432   2016-01-04   \n3  7421966  https://www.airbnb.com/rooms/7421966  20160104002432   2016-01-04   \n4   278830   https://www.airbnb.com/rooms/278830  20160104002432   2016-01-04   \n\n                                  name  \\\n0         Stylish Queen Anne Apartment   \n1   Bright & Airy Queen Anne Apartment   \n2  New Modern House-Amazing water view   \n3                   Queen Anne Chateau   \n4       Charming craftsman 3 bdm house   \n\n                                             summary  \\\n0                                                NaN   \n1  Chemically sensitive? We've removed the irrita...   \n2  New modern house built in 2013.  Spectacular s...   \n3  A charming apartment that sits atop Queen Anne...   \n4  Cozy family craftman house in beautiful neighb...   \n\n                                               space  \\\n0  Make your self at home in this charming one-be...   \n1  Beautiful, hypoallergenic apartment in an extr...   \n2  Our house is modern, light and fresh with a wa...   \n3                                                NaN   \n4  Cozy family craftman house in beautiful neighb...   \n\n                                         description experiences_offered  \\\n0  Make your self at home in this charming one-be...                none   \n1  Chemically sensitive? We've removed the irrita...                none   \n2  New modern house built in 2013.  Spectacular s...                none   \n3  A charming apartment that sits atop Queen Anne...                none   \n4  Cozy family craftman house in beautiful neighb...                none   \n\n                               neighborhood_overview  ... review_scores_value  \\\n0                                                NaN  ...                10.0   \n1  Queen Anne is a wonderful, truly functional vi...  ...                10.0   \n2  Upper Queen Anne is a charming neighborhood fu...  ...                10.0   \n3                                                NaN  ...                 NaN   \n4  We are in the beautiful neighborhood of Queen ...  ...                 9.0   \n\n  requires_license license jurisdiction_names instant_bookable  \\\n0                f     NaN         WASHINGTON                f   \n1                f     NaN         WASHINGTON                f   \n2                f     NaN         WASHINGTON                f   \n3                f     NaN         WASHINGTON                f   \n4                f     NaN         WASHINGTON                f   \n\n  cancellation_policy  require_guest_profile_picture  \\\n0            moderate                              f   \n1              strict                              t   \n2              strict                              f   \n3            flexible                              f   \n4              strict                              f   \n\n  require_guest_phone_verification calculated_host_listings_count  \\\n0                                f                              2   \n1                                t                              6   \n2                                f                              2   \n3                                f                              1   \n4                                f                              1   \n\n  reviews_per_month  \n0              4.07  \n1              1.48  \n2              1.15  \n3               NaN  \n4              0.89  \n\n[5 rows x 92 columns]",
      "text/html": "<div>\n<style scoped>\n    .dataframe tbody tr th:only-of-type {\n        vertical-align: middle;\n    }\n\n    .dataframe tbody tr th {\n        vertical-align: top;\n    }\n\n    .dataframe thead th {\n        text-align: right;\n    }\n</style>\n<table border=\"1\" class=\"dataframe\">\n  <thead>\n    <tr style=\"text-align: right;\">\n      <th></th>\n      <th>id</th>\n      <th>listing_url</th>\n      <th>scrape_id</th>\n      <th>last_scraped</th>\n      <th>name</th>\n      <th>summary</th>\n      <th>space</th>\n      <th>description</th>\n      <th>experiences_offered</th>\n      <th>neighborhood_overview</th>\n      <th>...</th>\n      <th>review_scores_value</th>\n      <th>requires_license</th>\n      <th>license</th>\n      <th>jurisdiction_names</th>\n      <th>instant_bookable</th>\n      <th>cancellation_policy</th>\n      <th>require_guest_profile_picture</th>\n      <th>require_guest_phone_verification</th>\n      <th>calculated_host_listings_count</th>\n      <th>reviews_per_month</th>\n    </tr>\n  </thead>\n  <tbody>\n    <tr>\n      <th>0</th>\n      <td>241032</td>\n      <td>https://www.airbnb.com/rooms/241032</td>\n      <td>20160104002432</td>\n      <td>2016-01-04</td>\n      <td>Stylish Queen Anne Apartment</td>\n      <td>NaN</td>\n      <td>Make your self at home in this charming one-be...</td>\n      <td>Make your self at home in this charming one-be...</td>\n      <td>none</td>\n      <td>NaN</td>\n      <td>...</td>\n      <td>10.0</td>\n      <td>f</td>\n      <td>NaN</td>\n      <td>WASHINGTON</td>\n      <td>f</td>\n      <td>moderate</td>\n      <td>f</td>\n      <td>f</td>\n      <td>2</td>\n      <td>4.07</td>\n    </tr>\n    <tr>\n      <th>1</th>\n      <td>953595</td>\n      <td>https://www.airbnb.com/rooms/953595</td>\n      <td>20160104002432</td>\n      <td>2016-01-04</td>\n      <td>Bright &amp; Airy Queen Anne Apartment</td>\n      <td>Chemically sensitive? We've removed the irrita...</td>\n      <td>Beautiful, hypoallergenic apartment in an extr...</td>\n      <td>Chemically sensitive? We've removed the irrita...</td>\n      <td>none</td>\n      <td>Queen Anne is a wonderful, truly functional vi...</td>\n      <td>...</td>\n      <td>10.0</td>\n      <td>f</td>\n      <td>NaN</td>\n      <td>WASHINGTON</td>\n      <td>f</td>\n      <td>strict</td>\n      <td>t</td>\n      <td>t</td>\n      <td>6</td>\n      <td>1.48</td>\n    </tr>\n    <tr>\n      <th>2</th>\n      <td>3308979</td>\n      <td>https://www.airbnb.com/rooms/3308979</td>\n      <td>20160104002432</td>\n      <td>2016-01-04</td>\n      <td>New Modern House-Amazing water view</td>\n      <td>New modern house built in 2013.  Spectacular s...</td>\n      <td>Our house is modern, light and fresh with a wa...</td>\n      <td>New modern house built in 2013.  Spectacular s...</td>\n      <td>none</td>\n      <td>Upper Queen Anne is a charming neighborhood fu...</td>\n      <td>...</td>\n      <td>10.0</td>\n      <td>f</td>\n      <td>NaN</td>\n      <td>WASHINGTON</td>\n      <td>f</td>\n      <td>strict</td>\n      <td>f</td>\n      <td>f</td>\n      <td>2</td>\n      <td>1.15</td>\n    </tr>\n    <tr>\n      <th>3</th>\n      <td>7421966</td>\n      <td>https://www.airbnb.com/rooms/7421966</td>\n      <td>20160104002432</td>\n      <td>2016-01-04</td>\n      <td>Queen Anne Chateau</td>\n      <td>A charming apartment that sits atop Queen Anne...</td>\n      <td>NaN</td>\n      <td>A charming apartment that sits atop Queen Anne...</td>\n      <td>none</td>\n      <td>NaN</td>\n      <td>...</td>\n      <td>NaN</td>\n      <td>f</td>\n      <td>NaN</td>\n      <td>WASHINGTON</td>\n      <td>f</td>\n      <td>flexible</td>\n      <td>f</td>\n      <td>f</td>\n      <td>1</td>\n      <td>NaN</td>\n    </tr>\n    <tr>\n      <th>4</th>\n      <td>278830</td>\n      <td>https://www.airbnb.com/rooms/278830</td>\n      <td>20160104002432</td>\n      <td>2016-01-04</td>\n      <td>Charming craftsman 3 bdm house</td>\n      <td>Cozy family craftman house in beautiful neighb...</td>\n      <td>Cozy family craftman house in beautiful neighb...</td>\n      <td>Cozy family craftman house in beautiful neighb...</td>\n      <td>none</td>\n      <td>We are in the beautiful neighborhood of Queen ...</td>\n      <td>...</td>\n      <td>9.0</td>\n      <td>f</td>\n      <td>NaN</td>\n      <td>WASHINGTON</td>\n      <td>f</td>\n      <td>strict</td>\n      <td>f</td>\n      <td>f</td>\n      <td>1</td>\n      <td>0.89</td>\n    </tr>\n  </tbody>\n</table>\n<p>5 rows × 92 columns</p>\n</div>"
     },
     "metadata": {},
     "execution_count": 135
    }
   ],
   "source": [
    "listings_seattle.head()"
   ]
  },
  {
   "cell_type": "code",
   "execution_count": 221,
   "metadata": {},
   "outputs": [
    {
     "output_type": "execute_result",
     "data": {
      "text/plain": "((3818, 92), (36115, 4))"
     },
     "metadata": {},
     "execution_count": 221
    }
   ],
   "source": [
    "listings_seattle.shape, calendar_seattle_grouped.shape"
   ]
  },
  {
   "cell_type": "code",
   "execution_count": 217,
   "metadata": {},
   "outputs": [
    {
     "output_type": "execute_result",
     "data": {
      "text/plain": "32392"
     },
     "metadata": {},
     "execution_count": 217
    }
   ],
   "source": [
    "calendar_seattle_grouped[\"listing_id\"].duplicated().sum()"
   ]
  },
  {
   "cell_type": "code",
   "execution_count": 309,
   "metadata": {},
   "outputs": [],
   "source": [
    "calendar_listings_joined = calendar_seattle_grouped.merge(\n",
    "    listings_seattle, \n",
    "    how = \"left\",\n",
    "    left_on = \"listing_id\",\n",
    "    right_on= \"id\")"
   ]
  },
  {
   "cell_type": "code",
   "execution_count": 314,
   "metadata": {},
   "outputs": [],
   "source": [
    "df_lineplot = calendar_listings_joined.filter([\"year\", \"month\", \"price_year_month_mean\", \"neighbourhood_group_cleansed\"]).groupby([\"year\", \"month\", \"neighbourhood_group_cleansed\"]).agg(price_year_month_mean = pd.NamedAgg(column=\"price_year_month_mean\", aggfunc=\"mean\")).reset_index()"
   ]
  },
  {
   "cell_type": "code",
   "execution_count": 333,
   "metadata": {},
   "outputs": [
    {
     "output_type": "stream",
     "name": "stdout",
     "text": "<class 'pandas.core.frame.DataFrame'>\nRangeIndex: 221 entries, 0 to 220\nData columns (total 4 columns):\nyear                            221 non-null int64\nmonth                           221 non-null int64\nneighbourhood_group_cleansed    221 non-null object\nprice_year_month_mean           221 non-null float64\ndtypes: float64(1), int64(2), object(1)\nmemory usage: 7.0+ KB\n"
    }
   ],
   "source": [
    "df_lineplot.info()"
   ]
  },
  {
   "cell_type": "code",
   "execution_count": 360,
   "metadata": {},
   "outputs": [],
   "source": [
    "df_lineplot[\"date\"] = df_lineplot[\"year\"].astype(str) + \"-\" + df_lineplot[\"month\"].astype(str)\n",
    "df_lineplot[\"day\"] = 1\n",
    "df_lineplot[\"date\"] = pd.to_datetime(df_lineplot[[\"year\",\"month\", \"day\"]])"
   ]
  },
  {
   "cell_type": "code",
   "execution_count": 361,
   "metadata": {},
   "outputs": [
    {
     "output_type": "execute_result",
     "data": {
      "text/plain": "     year  month neighbourhood_group_cleansed  price_year_month_mean  \\\n0    2016      1                      Ballard             107.604790   \n1    2016      1                  Beacon Hill              93.322222   \n2    2016      1                 Capitol Hill             120.229117   \n3    2016      1                      Cascade             138.900000   \n4    2016      1                 Central Area             114.064639   \n..    ...    ...                          ...                    ...   \n216  2017      1                   Queen Anne             175.786957   \n217  2017      1               Rainier Valley              96.859504   \n218  2017      1                  Seward Park             120.000000   \n219  2017      1          University District             106.787234   \n220  2017      1                 West Seattle             145.487013   \n\n          date  day  \n0   2016-01-01    1  \n1   2016-01-01    1  \n2   2016-01-01    1  \n3   2016-01-01    1  \n4   2016-01-01    1  \n..         ...  ...  \n216 2017-01-01    1  \n217 2017-01-01    1  \n218 2017-01-01    1  \n219 2017-01-01    1  \n220 2017-01-01    1  \n\n[221 rows x 6 columns]",
      "text/html": "<div>\n<style scoped>\n    .dataframe tbody tr th:only-of-type {\n        vertical-align: middle;\n    }\n\n    .dataframe tbody tr th {\n        vertical-align: top;\n    }\n\n    .dataframe thead th {\n        text-align: right;\n    }\n</style>\n<table border=\"1\" class=\"dataframe\">\n  <thead>\n    <tr style=\"text-align: right;\">\n      <th></th>\n      <th>year</th>\n      <th>month</th>\n      <th>neighbourhood_group_cleansed</th>\n      <th>price_year_month_mean</th>\n      <th>date</th>\n      <th>day</th>\n    </tr>\n  </thead>\n  <tbody>\n    <tr>\n      <th>0</th>\n      <td>2016</td>\n      <td>1</td>\n      <td>Ballard</td>\n      <td>107.604790</td>\n      <td>2016-01-01</td>\n      <td>1</td>\n    </tr>\n    <tr>\n      <th>1</th>\n      <td>2016</td>\n      <td>1</td>\n      <td>Beacon Hill</td>\n      <td>93.322222</td>\n      <td>2016-01-01</td>\n      <td>1</td>\n    </tr>\n    <tr>\n      <th>2</th>\n      <td>2016</td>\n      <td>1</td>\n      <td>Capitol Hill</td>\n      <td>120.229117</td>\n      <td>2016-01-01</td>\n      <td>1</td>\n    </tr>\n    <tr>\n      <th>3</th>\n      <td>2016</td>\n      <td>1</td>\n      <td>Cascade</td>\n      <td>138.900000</td>\n      <td>2016-01-01</td>\n      <td>1</td>\n    </tr>\n    <tr>\n      <th>4</th>\n      <td>2016</td>\n      <td>1</td>\n      <td>Central Area</td>\n      <td>114.064639</td>\n      <td>2016-01-01</td>\n      <td>1</td>\n    </tr>\n    <tr>\n      <th>...</th>\n      <td>...</td>\n      <td>...</td>\n      <td>...</td>\n      <td>...</td>\n      <td>...</td>\n      <td>...</td>\n    </tr>\n    <tr>\n      <th>216</th>\n      <td>2017</td>\n      <td>1</td>\n      <td>Queen Anne</td>\n      <td>175.786957</td>\n      <td>2017-01-01</td>\n      <td>1</td>\n    </tr>\n    <tr>\n      <th>217</th>\n      <td>2017</td>\n      <td>1</td>\n      <td>Rainier Valley</td>\n      <td>96.859504</td>\n      <td>2017-01-01</td>\n      <td>1</td>\n    </tr>\n    <tr>\n      <th>218</th>\n      <td>2017</td>\n      <td>1</td>\n      <td>Seward Park</td>\n      <td>120.000000</td>\n      <td>2017-01-01</td>\n      <td>1</td>\n    </tr>\n    <tr>\n      <th>219</th>\n      <td>2017</td>\n      <td>1</td>\n      <td>University District</td>\n      <td>106.787234</td>\n      <td>2017-01-01</td>\n      <td>1</td>\n    </tr>\n    <tr>\n      <th>220</th>\n      <td>2017</td>\n      <td>1</td>\n      <td>West Seattle</td>\n      <td>145.487013</td>\n      <td>2017-01-01</td>\n      <td>1</td>\n    </tr>\n  </tbody>\n</table>\n<p>221 rows × 6 columns</p>\n</div>"
     },
     "metadata": {},
     "execution_count": 361
    }
   ],
   "source": [
    "df_lineplot"
   ]
  },
  {
   "cell_type": "code",
   "execution_count": 367,
   "metadata": {},
   "outputs": [
    {
     "output_type": "execute_result",
     "data": {
      "application/vnd.vegalite.v3+json": {
       "config": {
        "view": {
         "width": 400,
         "height": 300
        },
        "mark": {
         "tooltip": null
        }
       },
       "data": {
        "name": "data-fe1b2df9de8de16b7b19801f18643f3a"
       },
       "mark": "line",
       "encoding": {
        "color": {
         "type": "nominal",
         "field": "neighbourhood_group_cleansed"
        },
        "x": {
         "type": "temporal",
         "field": "date"
        },
        "y": {
         "type": "quantitative",
         "field": "price_year_month_mean"
        }
       },
       "$schema": "https://vega.github.io/schema/vega-lite/v3.4.0.json",
       "datasets": {
        "data-fe1b2df9de8de16b7b19801f18643f3a": [
         {
          "year": 2016,
          "month": 1,
          "neighbourhood_group_cleansed": "Ballard",
          "price_year_month_mean": 107.60479041916167,
          "date": "2016-01-01T00:00:00",
          "day": 1
         },
         {
          "year": 2016,
          "month": 1,
          "neighbourhood_group_cleansed": "Beacon Hill",
          "price_year_month_mean": 93.32222222222222,
          "date": "2016-01-01T00:00:00",
          "day": 1
         },
         {
          "year": 2016,
          "month": 1,
          "neighbourhood_group_cleansed": "Capitol Hill",
          "price_year_month_mean": 120.22911694510739,
          "date": "2016-01-01T00:00:00",
          "day": 1
         },
         {
          "year": 2016,
          "month": 1,
          "neighbourhood_group_cleansed": "Cascade",
          "price_year_month_mean": 138.9,
          "date": "2016-01-01T00:00:00",
          "day": 1
         },
         {
          "year": 2016,
          "month": 1,
          "neighbourhood_group_cleansed": "Central Area",
          "price_year_month_mean": 114.06463878326996,
          "date": "2016-01-01T00:00:00",
          "day": 1
         },
         {
          "year": 2016,
          "month": 1,
          "neighbourhood_group_cleansed": "Delridge",
          "price_year_month_mean": 74.12903225806451,
          "date": "2016-01-01T00:00:00",
          "day": 1
         },
         {
          "year": 2016,
          "month": 1,
          "neighbourhood_group_cleansed": "Downtown",
          "price_year_month_mean": 145.2408256880734,
          "date": "2016-01-01T00:00:00",
          "day": 1
         },
         {
          "year": 2016,
          "month": 1,
          "neighbourhood_group_cleansed": "Interbay",
          "price_year_month_mean": 112.5,
          "date": "2016-01-01T00:00:00",
          "day": 1
         },
         {
          "year": 2016,
          "month": 1,
          "neighbourhood_group_cleansed": "Lake City",
          "price_year_month_mean": 90.16363636363636,
          "date": "2016-01-01T00:00:00",
          "day": 1
         },
         {
          "year": 2016,
          "month": 1,
          "neighbourhood_group_cleansed": "Magnolia",
          "price_year_month_mean": 176.18867924528303,
          "date": "2016-01-01T00:00:00",
          "day": 1
         },
         {
          "year": 2016,
          "month": 1,
          "neighbourhood_group_cleansed": "Northgate",
          "price_year_month_mean": 88.06666666666666,
          "date": "2016-01-01T00:00:00",
          "day": 1
         },
         {
          "year": 2016,
          "month": 1,
          "neighbourhood_group_cleansed": "Other neighborhoods",
          "price_year_month_mean": 105.70298769771529,
          "date": "2016-01-01T00:00:00",
          "day": 1
         },
         {
          "year": 2016,
          "month": 1,
          "neighbourhood_group_cleansed": "Queen Anne",
          "price_year_month_mean": 148.26291079812208,
          "date": "2016-01-01T00:00:00",
          "day": 1
         },
         {
          "year": 2016,
          "month": 1,
          "neighbourhood_group_cleansed": "Rainier Valley",
          "price_year_month_mean": 87.92436974789916,
          "date": "2016-01-01T00:00:00",
          "day": 1
         },
         {
          "year": 2016,
          "month": 1,
          "neighbourhood_group_cleansed": "Seward Park",
          "price_year_month_mean": 96.55263157894737,
          "date": "2016-01-01T00:00:00",
          "day": 1
         },
         {
          "year": 2016,
          "month": 1,
          "neighbourhood_group_cleansed": "University District",
          "price_year_month_mean": 93.27450980392157,
          "date": "2016-01-01T00:00:00",
          "day": 1
         },
         {
          "year": 2016,
          "month": 1,
          "neighbourhood_group_cleansed": "West Seattle",
          "price_year_month_mean": 134.0921052631579,
          "date": "2016-01-01T00:00:00",
          "day": 1
         },
         {
          "year": 2016,
          "month": 2,
          "neighbourhood_group_cleansed": "Ballard",
          "price_year_month_mean": 111.35882352941177,
          "date": "2016-02-01T00:00:00",
          "day": 1
         },
         {
          "year": 2016,
          "month": 2,
          "neighbourhood_group_cleansed": "Beacon Hill",
          "price_year_month_mean": 93.79120879120879,
          "date": "2016-02-01T00:00:00",
          "day": 1
         },
         {
          "year": 2016,
          "month": 2,
          "neighbourhood_group_cleansed": "Capitol Hill",
          "price_year_month_mean": 124.55690072639226,
          "date": "2016-02-01T00:00:00",
          "day": 1
         },
         {
          "year": 2016,
          "month": 2,
          "neighbourhood_group_cleansed": "Cascade",
          "price_year_month_mean": 145.60655737704917,
          "date": "2016-02-01T00:00:00",
          "day": 1
         },
         {
          "year": 2016,
          "month": 2,
          "neighbourhood_group_cleansed": "Central Area",
          "price_year_month_mean": 121.73260073260073,
          "date": "2016-02-01T00:00:00",
          "day": 1
         },
         {
          "year": 2016,
          "month": 2,
          "neighbourhood_group_cleansed": "Delridge",
          "price_year_month_mean": 80.70769230769231,
          "date": "2016-02-01T00:00:00",
          "day": 1
         },
         {
          "year": 2016,
          "month": 2,
          "neighbourhood_group_cleansed": "Downtown",
          "price_year_month_mean": 153.5625,
          "date": "2016-02-01T00:00:00",
          "day": 1
         },
         {
          "year": 2016,
          "month": 2,
          "neighbourhood_group_cleansed": "Interbay",
          "price_year_month_mean": 112.2,
          "date": "2016-02-01T00:00:00",
          "day": 1
         },
         {
          "year": 2016,
          "month": 2,
          "neighbourhood_group_cleansed": "Lake City",
          "price_year_month_mean": 92.71698113207547,
          "date": "2016-02-01T00:00:00",
          "day": 1
         },
         {
          "year": 2016,
          "month": 2,
          "neighbourhood_group_cleansed": "Magnolia",
          "price_year_month_mean": 182,
          "date": "2016-02-01T00:00:00",
          "day": 1
         },
         {
          "year": 2016,
          "month": 2,
          "neighbourhood_group_cleansed": "Northgate",
          "price_year_month_mean": 86.61290322580645,
          "date": "2016-02-01T00:00:00",
          "day": 1
         },
         {
          "year": 2016,
          "month": 2,
          "neighbourhood_group_cleansed": "Other neighborhoods",
          "price_year_month_mean": 110.60172413793103,
          "date": "2016-02-01T00:00:00",
          "day": 1
         },
         {
          "year": 2016,
          "month": 2,
          "neighbourhood_group_cleansed": "Queen Anne",
          "price_year_month_mean": 153.373786407767,
          "date": "2016-02-01T00:00:00",
          "day": 1
         },
         {
          "year": 2016,
          "month": 2,
          "neighbourhood_group_cleansed": "Rainier Valley",
          "price_year_month_mean": 89.352,
          "date": "2016-02-01T00:00:00",
          "day": 1
         },
         {
          "year": 2016,
          "month": 2,
          "neighbourhood_group_cleansed": "Seward Park",
          "price_year_month_mean": 97.05405405405405,
          "date": "2016-02-01T00:00:00",
          "day": 1
         },
         {
          "year": 2016,
          "month": 2,
          "neighbourhood_group_cleansed": "University District",
          "price_year_month_mean": 99.15841584158416,
          "date": "2016-02-01T00:00:00",
          "day": 1
         },
         {
          "year": 2016,
          "month": 2,
          "neighbourhood_group_cleansed": "West Seattle",
          "price_year_month_mean": 138.42944785276075,
          "date": "2016-02-01T00:00:00",
          "day": 1
         },
         {
          "year": 2016,
          "month": 3,
          "neighbourhood_group_cleansed": "Ballard",
          "price_year_month_mean": 114.57714285714286,
          "date": "2016-03-01T00:00:00",
          "day": 1
         },
         {
          "year": 2016,
          "month": 3,
          "neighbourhood_group_cleansed": "Beacon Hill",
          "price_year_month_mean": 93.22340425531915,
          "date": "2016-03-01T00:00:00",
          "day": 1
         },
         {
          "year": 2016,
          "month": 3,
          "neighbourhood_group_cleansed": "Capitol Hill",
          "price_year_month_mean": 130.16058394160584,
          "date": "2016-03-01T00:00:00",
          "day": 1
         },
         {
          "year": 2016,
          "month": 3,
          "neighbourhood_group_cleansed": "Cascade",
          "price_year_month_mean": 144.82258064516128,
          "date": "2016-03-01T00:00:00",
          "day": 1
         },
         {
          "year": 2016,
          "month": 3,
          "neighbourhood_group_cleansed": "Central Area",
          "price_year_month_mean": 121.48028673835125,
          "date": "2016-03-01T00:00:00",
          "day": 1
         },
         {
          "year": 2016,
          "month": 3,
          "neighbourhood_group_cleansed": "Delridge",
          "price_year_month_mean": 86.8030303030303,
          "date": "2016-03-01T00:00:00",
          "day": 1
         },
         {
          "year": 2016,
          "month": 3,
          "neighbourhood_group_cleansed": "Downtown",
          "price_year_month_mean": 169.52927927927928,
          "date": "2016-03-01T00:00:00",
          "day": 1
         },
         {
          "year": 2016,
          "month": 3,
          "neighbourhood_group_cleansed": "Interbay",
          "price_year_month_mean": 118.9,
          "date": "2016-03-01T00:00:00",
          "day": 1
         },
         {
          "year": 2016,
          "month": 3,
          "neighbourhood_group_cleansed": "Lake City",
          "price_year_month_mean": 90.82456140350877,
          "date": "2016-03-01T00:00:00",
          "day": 1
         },
         {
          "year": 2016,
          "month": 3,
          "neighbourhood_group_cleansed": "Magnolia",
          "price_year_month_mean": 187.27450980392157,
          "date": "2016-03-01T00:00:00",
          "day": 1
         },
         {
          "year": 2016,
          "month": 3,
          "neighbourhood_group_cleansed": "Northgate",
          "price_year_month_mean": 89.54545454545455,
          "date": "2016-03-01T00:00:00",
          "day": 1
         },
         {
          "year": 2016,
          "month": 3,
          "neighbourhood_group_cleansed": "Other neighborhoods",
          "price_year_month_mean": 112.75462184873949,
          "date": "2016-03-01T00:00:00",
          "day": 1
         },
         {
          "year": 2016,
          "month": 3,
          "neighbourhood_group_cleansed": "Queen Anne",
          "price_year_month_mean": 156.59047619047618,
          "date": "2016-03-01T00:00:00",
          "day": 1
         },
         {
          "year": 2016,
          "month": 3,
          "neighbourhood_group_cleansed": "Rainier Valley",
          "price_year_month_mean": 93.27131782945736,
          "date": "2016-03-01T00:00:00",
          "day": 1
         },
         {
          "year": 2016,
          "month": 3,
          "neighbourhood_group_cleansed": "Seward Park",
          "price_year_month_mean": 97.48648648648648,
          "date": "2016-03-01T00:00:00",
          "day": 1
         },
         {
          "year": 2016,
          "month": 3,
          "neighbourhood_group_cleansed": "University District",
          "price_year_month_mean": 100.05940594059406,
          "date": "2016-03-01T00:00:00",
          "day": 1
         },
         {
          "year": 2016,
          "month": 3,
          "neighbourhood_group_cleansed": "West Seattle",
          "price_year_month_mean": 138.22699386503066,
          "date": "2016-03-01T00:00:00",
          "day": 1
         },
         {
          "year": 2016,
          "month": 4,
          "neighbourhood_group_cleansed": "Ballard",
          "price_year_month_mean": 121.5303867403315,
          "date": "2016-04-01T00:00:00",
          "day": 1
         },
         {
          "year": 2016,
          "month": 4,
          "neighbourhood_group_cleansed": "Beacon Hill",
          "price_year_month_mean": 95.84,
          "date": "2016-04-01T00:00:00",
          "day": 1
         },
         {
          "year": 2016,
          "month": 4,
          "neighbourhood_group_cleansed": "Capitol Hill",
          "price_year_month_mean": 135.0286396181384,
          "date": "2016-04-01T00:00:00",
          "day": 1
         },
         {
          "year": 2016,
          "month": 4,
          "neighbourhood_group_cleansed": "Cascade",
          "price_year_month_mean": 151.33870967741936,
          "date": "2016-04-01T00:00:00",
          "day": 1
         },
         {
          "year": 2016,
          "month": 4,
          "neighbourhood_group_cleansed": "Central Area",
          "price_year_month_mean": 125.63829787234043,
          "date": "2016-04-01T00:00:00",
          "day": 1
         },
         {
          "year": 2016,
          "month": 4,
          "neighbourhood_group_cleansed": "Delridge",
          "price_year_month_mean": 87.72058823529412,
          "date": "2016-04-01T00:00:00",
          "day": 1
         },
         {
          "year": 2016,
          "month": 4,
          "neighbourhood_group_cleansed": "Downtown",
          "price_year_month_mean": 177.9241379310345,
          "date": "2016-04-01T00:00:00",
          "day": 1
         },
         {
          "year": 2016,
          "month": 4,
          "neighbourhood_group_cleansed": "Interbay",
          "price_year_month_mean": 119.5,
          "date": "2016-04-01T00:00:00",
          "day": 1
         },
         {
          "year": 2016,
          "month": 4,
          "neighbourhood_group_cleansed": "Lake City",
          "price_year_month_mean": 92.24561403508773,
          "date": "2016-04-01T00:00:00",
          "day": 1
         },
         {
          "year": 2016,
          "month": 4,
          "neighbourhood_group_cleansed": "Magnolia",
          "price_year_month_mean": 192.69811320754718,
          "date": "2016-04-01T00:00:00",
          "day": 1
         },
         {
          "year": 2016,
          "month": 4,
          "neighbourhood_group_cleansed": "Northgate",
          "price_year_month_mean": 90.41791044776119,
          "date": "2016-04-01T00:00:00",
          "day": 1
         },
         {
          "year": 2016,
          "month": 4,
          "neighbourhood_group_cleansed": "Other neighborhoods",
          "price_year_month_mean": 117.14814814814815,
          "date": "2016-04-01T00:00:00",
          "day": 1
         },
         {
          "year": 2016,
          "month": 4,
          "neighbourhood_group_cleansed": "Queen Anne",
          "price_year_month_mean": 163.40952380952382,
          "date": "2016-04-01T00:00:00",
          "day": 1
         },
         {
          "year": 2016,
          "month": 4,
          "neighbourhood_group_cleansed": "Rainier Valley",
          "price_year_month_mean": 95.67669172932331,
          "date": "2016-04-01T00:00:00",
          "day": 1
         },
         {
          "year": 2016,
          "month": 4,
          "neighbourhood_group_cleansed": "Seward Park",
          "price_year_month_mean": 97.13888888888889,
          "date": "2016-04-01T00:00:00",
          "day": 1
         },
         {
          "year": 2016,
          "month": 4,
          "neighbourhood_group_cleansed": "University District",
          "price_year_month_mean": 102.8019801980198,
          "date": "2016-04-01T00:00:00",
          "day": 1
         },
         {
          "year": 2016,
          "month": 4,
          "neighbourhood_group_cleansed": "West Seattle",
          "price_year_month_mean": 144.63473053892216,
          "date": "2016-04-01T00:00:00",
          "day": 1
         },
         {
          "year": 2016,
          "month": 5,
          "neighbourhood_group_cleansed": "Ballard",
          "price_year_month_mean": 126.12352941176471,
          "date": "2016-05-01T00:00:00",
          "day": 1
         },
         {
          "year": 2016,
          "month": 5,
          "neighbourhood_group_cleansed": "Beacon Hill",
          "price_year_month_mean": 103.20652173913044,
          "date": "2016-05-01T00:00:00",
          "day": 1
         },
         {
          "year": 2016,
          "month": 5,
          "neighbourhood_group_cleansed": "Capitol Hill",
          "price_year_month_mean": 137.53066666666666,
          "date": "2016-05-01T00:00:00",
          "day": 1
         },
         {
          "year": 2016,
          "month": 5,
          "neighbourhood_group_cleansed": "Cascade",
          "price_year_month_mean": 169.5,
          "date": "2016-05-01T00:00:00",
          "day": 1
         },
         {
          "year": 2016,
          "month": 5,
          "neighbourhood_group_cleansed": "Central Area",
          "price_year_month_mean": 134.31007751937983,
          "date": "2016-05-01T00:00:00",
          "day": 1
         },
         {
          "year": 2016,
          "month": 5,
          "neighbourhood_group_cleansed": "Delridge",
          "price_year_month_mean": 91.51612903225806,
          "date": "2016-05-01T00:00:00",
          "day": 1
         },
         {
          "year": 2016,
          "month": 5,
          "neighbourhood_group_cleansed": "Downtown",
          "price_year_month_mean": 195.16153846153847,
          "date": "2016-05-01T00:00:00",
          "day": 1
         },
         {
          "year": 2016,
          "month": 5,
          "neighbourhood_group_cleansed": "Interbay",
          "price_year_month_mean": 116.22222222222223,
          "date": "2016-05-01T00:00:00",
          "day": 1
         },
         {
          "year": 2016,
          "month": 5,
          "neighbourhood_group_cleansed": "Lake City",
          "price_year_month_mean": 98.58181818181818,
          "date": "2016-05-01T00:00:00",
          "day": 1
         },
         {
          "year": 2016,
          "month": 5,
          "neighbourhood_group_cleansed": "Magnolia",
          "price_year_month_mean": 201.04166666666666,
          "date": "2016-05-01T00:00:00",
          "day": 1
         },
         {
          "year": 2016,
          "month": 5,
          "neighbourhood_group_cleansed": "Northgate",
          "price_year_month_mean": 95.82539682539682,
          "date": "2016-05-01T00:00:00",
          "day": 1
         },
         {
          "year": 2016,
          "month": 5,
          "neighbourhood_group_cleansed": "Other neighborhoods",
          "price_year_month_mean": 123.52035398230089,
          "date": "2016-05-01T00:00:00",
          "day": 1
         },
         {
          "year": 2016,
          "month": 5,
          "neighbourhood_group_cleansed": "Queen Anne",
          "price_year_month_mean": 171.39444444444445,
          "date": "2016-05-01T00:00:00",
          "day": 1
         },
         {
          "year": 2016,
          "month": 5,
          "neighbourhood_group_cleansed": "Rainier Valley",
          "price_year_month_mean": 104.2909090909091,
          "date": "2016-05-01T00:00:00",
          "day": 1
         },
         {
          "year": 2016,
          "month": 5,
          "neighbourhood_group_cleansed": "Seward Park",
          "price_year_month_mean": 107.46875,
          "date": "2016-05-01T00:00:00",
          "day": 1
         },
         {
          "year": 2016,
          "month": 5,
          "neighbourhood_group_cleansed": "University District",
          "price_year_month_mean": 107.06451612903226,
          "date": "2016-05-01T00:00:00",
          "day": 1
         },
         {
          "year": 2016,
          "month": 5,
          "neighbourhood_group_cleansed": "West Seattle",
          "price_year_month_mean": 149.1208053691275,
          "date": "2016-05-01T00:00:00",
          "day": 1
         },
         {
          "year": 2016,
          "month": 6,
          "neighbourhood_group_cleansed": "Ballard",
          "price_year_month_mean": 137.54748603351956,
          "date": "2016-06-01T00:00:00",
          "day": 1
         },
         {
          "year": 2016,
          "month": 6,
          "neighbourhood_group_cleansed": "Beacon Hill",
          "price_year_month_mean": 105.93181818181819,
          "date": "2016-06-01T00:00:00",
          "day": 1
         },
         {
          "year": 2016,
          "month": 6,
          "neighbourhood_group_cleansed": "Capitol Hill",
          "price_year_month_mean": 146.5064935064935,
          "date": "2016-06-01T00:00:00",
          "day": 1
         },
         {
          "year": 2016,
          "month": 6,
          "neighbourhood_group_cleansed": "Cascade",
          "price_year_month_mean": 168.8653846153846,
          "date": "2016-06-01T00:00:00",
          "day": 1
         },
         {
          "year": 2016,
          "month": 6,
          "neighbourhood_group_cleansed": "Central Area",
          "price_year_month_mean": 142.11278195488723,
          "date": "2016-06-01T00:00:00",
          "day": 1
         },
         {
          "year": 2016,
          "month": 6,
          "neighbourhood_group_cleansed": "Delridge",
          "price_year_month_mean": 92.5079365079365,
          "date": "2016-06-01T00:00:00",
          "day": 1
         },
         {
          "year": 2016,
          "month": 6,
          "neighbourhood_group_cleansed": "Downtown",
          "price_year_month_mean": 223.09615384615384,
          "date": "2016-06-01T00:00:00",
          "day": 1
         },
         {
          "year": 2016,
          "month": 6,
          "neighbourhood_group_cleansed": "Interbay",
          "price_year_month_mean": 121.66666666666667,
          "date": "2016-06-01T00:00:00",
          "day": 1
         },
         {
          "year": 2016,
          "month": 6,
          "neighbourhood_group_cleansed": "Lake City",
          "price_year_month_mean": 102.64814814814815,
          "date": "2016-06-01T00:00:00",
          "day": 1
         },
         {
          "year": 2016,
          "month": 6,
          "neighbourhood_group_cleansed": "Magnolia",
          "price_year_month_mean": 200.875,
          "date": "2016-06-01T00:00:00",
          "day": 1
         },
         {
          "year": 2016,
          "month": 6,
          "neighbourhood_group_cleansed": "Northgate",
          "price_year_month_mean": 98.0625,
          "date": "2016-06-01T00:00:00",
          "day": 1
         },
         {
          "year": 2016,
          "month": 6,
          "neighbourhood_group_cleansed": "Other neighborhoods",
          "price_year_month_mean": 129.55221238938054,
          "date": "2016-06-01T00:00:00",
          "day": 1
         },
         {
          "year": 2016,
          "month": 6,
          "neighbourhood_group_cleansed": "Queen Anne",
          "price_year_month_mean": 185.4866310160428,
          "date": "2016-06-01T00:00:00",
          "day": 1
         },
         {
          "year": 2016,
          "month": 6,
          "neighbourhood_group_cleansed": "Rainier Valley",
          "price_year_month_mean": 106.86725663716814,
          "date": "2016-06-01T00:00:00",
          "day": 1
         },
         {
          "year": 2016,
          "month": 6,
          "neighbourhood_group_cleansed": "Seward Park",
          "price_year_month_mean": 106.29032258064517,
          "date": "2016-06-01T00:00:00",
          "day": 1
         },
         {
          "year": 2016,
          "month": 6,
          "neighbourhood_group_cleansed": "University District",
          "price_year_month_mean": 109.89583333333333,
          "date": "2016-06-01T00:00:00",
          "day": 1
         },
         {
          "year": 2016,
          "month": 6,
          "neighbourhood_group_cleansed": "West Seattle",
          "price_year_month_mean": 160.57692307692307,
          "date": "2016-06-01T00:00:00",
          "day": 1
         },
         {
          "year": 2016,
          "month": 7,
          "neighbourhood_group_cleansed": "Ballard",
          "price_year_month_mean": 142.76687116564418,
          "date": "2016-07-01T00:00:00",
          "day": 1
         },
         {
          "year": 2016,
          "month": 7,
          "neighbourhood_group_cleansed": "Beacon Hill",
          "price_year_month_mean": 105.16455696202532,
          "date": "2016-07-01T00:00:00",
          "day": 1
         },
         {
          "year": 2016,
          "month": 7,
          "neighbourhood_group_cleansed": "Capitol Hill",
          "price_year_month_mean": 146.06741573033707,
          "date": "2016-07-01T00:00:00",
          "day": 1
         },
         {
          "year": 2016,
          "month": 7,
          "neighbourhood_group_cleansed": "Cascade",
          "price_year_month_mean": 175.40425531914894,
          "date": "2016-07-01T00:00:00",
          "day": 1
         },
         {
          "year": 2016,
          "month": 7,
          "neighbourhood_group_cleansed": "Central Area",
          "price_year_month_mean": 148.0691056910569,
          "date": "2016-07-01T00:00:00",
          "day": 1
         },
         {
          "year": 2016,
          "month": 7,
          "neighbourhood_group_cleansed": "Delridge",
          "price_year_month_mean": 95.15517241379311,
          "date": "2016-07-01T00:00:00",
          "day": 1
         },
         {
          "year": 2016,
          "month": 7,
          "neighbourhood_group_cleansed": "Downtown",
          "price_year_month_mean": 228.12883435582822,
          "date": "2016-07-01T00:00:00",
          "day": 1
         },
         {
          "year": 2016,
          "month": 7,
          "neighbourhood_group_cleansed": "Interbay",
          "price_year_month_mean": 126.11111111111111,
          "date": "2016-07-01T00:00:00",
          "day": 1
         },
         {
          "year": 2016,
          "month": 7,
          "neighbourhood_group_cleansed": "Lake City",
          "price_year_month_mean": 105.87755102040816,
          "date": "2016-07-01T00:00:00",
          "day": 1
         },
         {
          "year": 2016,
          "month": 7,
          "neighbourhood_group_cleansed": "Magnolia",
          "price_year_month_mean": 215.75,
          "date": "2016-07-01T00:00:00",
          "day": 1
         },
         {
          "year": 2016,
          "month": 7,
          "neighbourhood_group_cleansed": "Northgate",
          "price_year_month_mean": 99.84482758620689,
          "date": "2016-07-01T00:00:00",
          "day": 1
         },
         {
          "year": 2016,
          "month": 7,
          "neighbourhood_group_cleansed": "Other neighborhoods",
          "price_year_month_mean": 136.35687022900763,
          "date": "2016-07-01T00:00:00",
          "day": 1
         },
         {
          "year": 2016,
          "month": 7,
          "neighbourhood_group_cleansed": "Queen Anne",
          "price_year_month_mean": 188.2888888888889,
          "date": "2016-07-01T00:00:00",
          "day": 1
         },
         {
          "year": 2016,
          "month": 7,
          "neighbourhood_group_cleansed": "Rainier Valley",
          "price_year_month_mean": 110.69902912621359,
          "date": "2016-07-01T00:00:00",
          "day": 1
         },
         {
          "year": 2016,
          "month": 7,
          "neighbourhood_group_cleansed": "Seward Park",
          "price_year_month_mean": 121.25925925925925,
          "date": "2016-07-01T00:00:00",
          "day": 1
         },
         {
          "year": 2016,
          "month": 7,
          "neighbourhood_group_cleansed": "University District",
          "price_year_month_mean": 110.74444444444444,
          "date": "2016-07-01T00:00:00",
          "day": 1
         },
         {
          "year": 2016,
          "month": 7,
          "neighbourhood_group_cleansed": "West Seattle",
          "price_year_month_mean": 165.27857142857144,
          "date": "2016-07-01T00:00:00",
          "day": 1
         },
         {
          "year": 2016,
          "month": 8,
          "neighbourhood_group_cleansed": "Ballard",
          "price_year_month_mean": 139.2,
          "date": "2016-08-01T00:00:00",
          "day": 1
         },
         {
          "year": 2016,
          "month": 8,
          "neighbourhood_group_cleansed": "Beacon Hill",
          "price_year_month_mean": 103.12048192771084,
          "date": "2016-08-01T00:00:00",
          "day": 1
         },
         {
          "year": 2016,
          "month": 8,
          "neighbourhood_group_cleansed": "Capitol Hill",
          "price_year_month_mean": 143.76775956284152,
          "date": "2016-08-01T00:00:00",
          "day": 1
         },
         {
          "year": 2016,
          "month": 8,
          "neighbourhood_group_cleansed": "Cascade",
          "price_year_month_mean": 173.54166666666666,
          "date": "2016-08-01T00:00:00",
          "day": 1
         },
         {
          "year": 2016,
          "month": 8,
          "neighbourhood_group_cleansed": "Central Area",
          "price_year_month_mean": 145.13899613899613,
          "date": "2016-08-01T00:00:00",
          "day": 1
         },
         {
          "year": 2016,
          "month": 8,
          "neighbourhood_group_cleansed": "Delridge",
          "price_year_month_mean": 96.08771929824562,
          "date": "2016-08-01T00:00:00",
          "day": 1
         },
         {
          "year": 2016,
          "month": 8,
          "neighbourhood_group_cleansed": "Downtown",
          "price_year_month_mean": 223.73394495412845,
          "date": "2016-08-01T00:00:00",
          "day": 1
         },
         {
          "year": 2016,
          "month": 8,
          "neighbourhood_group_cleansed": "Interbay",
          "price_year_month_mean": 124.55555555555556,
          "date": "2016-08-01T00:00:00",
          "day": 1
         },
         {
          "year": 2016,
          "month": 8,
          "neighbourhood_group_cleansed": "Lake City",
          "price_year_month_mean": 99.05882352941177,
          "date": "2016-08-01T00:00:00",
          "day": 1
         },
         {
          "year": 2016,
          "month": 8,
          "neighbourhood_group_cleansed": "Magnolia",
          "price_year_month_mean": 213.47916666666666,
          "date": "2016-08-01T00:00:00",
          "day": 1
         },
         {
          "year": 2016,
          "month": 8,
          "neighbourhood_group_cleansed": "Northgate",
          "price_year_month_mean": 99.29310344827586,
          "date": "2016-08-01T00:00:00",
          "day": 1
         },
         {
          "year": 2016,
          "month": 8,
          "neighbourhood_group_cleansed": "Other neighborhoods",
          "price_year_month_mean": 134.98327137546468,
          "date": "2016-08-01T00:00:00",
          "day": 1
         },
         {
          "year": 2016,
          "month": 8,
          "neighbourhood_group_cleansed": "Queen Anne",
          "price_year_month_mean": 185.4945054945055,
          "date": "2016-08-01T00:00:00",
          "day": 1
         },
         {
          "year": 2016,
          "month": 8,
          "neighbourhood_group_cleansed": "Rainier Valley",
          "price_year_month_mean": 107.94174757281553,
          "date": "2016-08-01T00:00:00",
          "day": 1
         },
         {
          "year": 2016,
          "month": 8,
          "neighbourhood_group_cleansed": "Seward Park",
          "price_year_month_mean": 122.70370370370371,
          "date": "2016-08-01T00:00:00",
          "day": 1
         },
         {
          "year": 2016,
          "month": 8,
          "neighbourhood_group_cleansed": "University District",
          "price_year_month_mean": 112.47826086956522,
          "date": "2016-08-01T00:00:00",
          "day": 1
         },
         {
          "year": 2016,
          "month": 8,
          "neighbourhood_group_cleansed": "West Seattle",
          "price_year_month_mean": 162.3986013986014,
          "date": "2016-08-01T00:00:00",
          "day": 1
         },
         {
          "year": 2016,
          "month": 9,
          "neighbourhood_group_cleansed": "Ballard",
          "price_year_month_mean": 132.69230769230768,
          "date": "2016-09-01T00:00:00",
          "day": 1
         },
         {
          "year": 2016,
          "month": 9,
          "neighbourhood_group_cleansed": "Beacon Hill",
          "price_year_month_mean": 101.45882352941176,
          "date": "2016-09-01T00:00:00",
          "day": 1
         },
         {
          "year": 2016,
          "month": 9,
          "neighbourhood_group_cleansed": "Capitol Hill",
          "price_year_month_mean": 138.31413612565444,
          "date": "2016-09-01T00:00:00",
          "day": 1
         },
         {
          "year": 2016,
          "month": 9,
          "neighbourhood_group_cleansed": "Cascade",
          "price_year_month_mean": 152.72727272727272,
          "date": "2016-09-01T00:00:00",
          "day": 1
         },
         {
          "year": 2016,
          "month": 9,
          "neighbourhood_group_cleansed": "Central Area",
          "price_year_month_mean": 141.83333333333334,
          "date": "2016-09-01T00:00:00",
          "day": 1
         },
         {
          "year": 2016,
          "month": 9,
          "neighbourhood_group_cleansed": "Delridge",
          "price_year_month_mean": 95.31147540983606,
          "date": "2016-09-01T00:00:00",
          "day": 1
         },
         {
          "year": 2016,
          "month": 9,
          "neighbourhood_group_cleansed": "Downtown",
          "price_year_month_mean": 194.5868263473054,
          "date": "2016-09-01T00:00:00",
          "day": 1
         },
         {
          "year": 2016,
          "month": 9,
          "neighbourhood_group_cleansed": "Interbay",
          "price_year_month_mean": 119.22222222222223,
          "date": "2016-09-01T00:00:00",
          "day": 1
         },
         {
          "year": 2016,
          "month": 9,
          "neighbourhood_group_cleansed": "Lake City",
          "price_year_month_mean": 96.77358490566037,
          "date": "2016-09-01T00:00:00",
          "day": 1
         },
         {
          "year": 2016,
          "month": 9,
          "neighbourhood_group_cleansed": "Magnolia",
          "price_year_month_mean": 203.16666666666666,
          "date": "2016-09-01T00:00:00",
          "day": 1
         },
         {
          "year": 2016,
          "month": 9,
          "neighbourhood_group_cleansed": "Northgate",
          "price_year_month_mean": 96.32203389830508,
          "date": "2016-09-01T00:00:00",
          "day": 1
         },
         {
          "year": 2016,
          "month": 9,
          "neighbourhood_group_cleansed": "Other neighborhoods",
          "price_year_month_mean": 132.36851520572452,
          "date": "2016-09-01T00:00:00",
          "day": 1
         },
         {
          "year": 2016,
          "month": 9,
          "neighbourhood_group_cleansed": "Queen Anne",
          "price_year_month_mean": 175.73604060913706,
          "date": "2016-09-01T00:00:00",
          "day": 1
         },
         {
          "year": 2016,
          "month": 9,
          "neighbourhood_group_cleansed": "Rainier Valley",
          "price_year_month_mean": 103.96261682242991,
          "date": "2016-09-01T00:00:00",
          "day": 1
         },
         {
          "year": 2016,
          "month": 9,
          "neighbourhood_group_cleansed": "Seward Park",
          "price_year_month_mean": 123.17857142857143,
          "date": "2016-09-01T00:00:00",
          "day": 1
         },
         {
          "year": 2016,
          "month": 9,
          "neighbourhood_group_cleansed": "University District",
          "price_year_month_mean": 107.8586956521739,
          "date": "2016-09-01T00:00:00",
          "day": 1
         },
         {
          "year": 2016,
          "month": 9,
          "neighbourhood_group_cleansed": "West Seattle",
          "price_year_month_mean": 156.5374149659864,
          "date": "2016-09-01T00:00:00",
          "day": 1
         },
         {
          "year": 2016,
          "month": 10,
          "neighbourhood_group_cleansed": "Ballard",
          "price_year_month_mean": 126.75862068965517,
          "date": "2016-10-01T00:00:00",
          "day": 1
         },
         {
          "year": 2016,
          "month": 10,
          "neighbourhood_group_cleansed": "Beacon Hill",
          "price_year_month_mean": 99.72619047619048,
          "date": "2016-10-01T00:00:00",
          "day": 1
         },
         {
          "year": 2016,
          "month": 10,
          "neighbourhood_group_cleansed": "Capitol Hill",
          "price_year_month_mean": 132.24427480916032,
          "date": "2016-10-01T00:00:00",
          "day": 1
         },
         {
          "year": 2016,
          "month": 10,
          "neighbourhood_group_cleansed": "Cascade",
          "price_year_month_mean": 149.05454545454546,
          "date": "2016-10-01T00:00:00",
          "day": 1
         },
         {
          "year": 2016,
          "month": 10,
          "neighbourhood_group_cleansed": "Central Area",
          "price_year_month_mean": 137.7680608365019,
          "date": "2016-10-01T00:00:00",
          "day": 1
         },
         {
          "year": 2016,
          "month": 10,
          "neighbourhood_group_cleansed": "Delridge",
          "price_year_month_mean": 93.73770491803279,
          "date": "2016-10-01T00:00:00",
          "day": 1
         },
         {
          "year": 2016,
          "month": 10,
          "neighbourhood_group_cleansed": "Downtown",
          "price_year_month_mean": 174.19590643274853,
          "date": "2016-10-01T00:00:00",
          "day": 1
         },
         {
          "year": 2016,
          "month": 10,
          "neighbourhood_group_cleansed": "Interbay",
          "price_year_month_mean": 116.33333333333333,
          "date": "2016-10-01T00:00:00",
          "day": 1
         },
         {
          "year": 2016,
          "month": 10,
          "neighbourhood_group_cleansed": "Lake City",
          "price_year_month_mean": 89.9090909090909,
          "date": "2016-10-01T00:00:00",
          "day": 1
         },
         {
          "year": 2016,
          "month": 10,
          "neighbourhood_group_cleansed": "Magnolia",
          "price_year_month_mean": 199.91836734693877,
          "date": "2016-10-01T00:00:00",
          "day": 1
         },
         {
          "year": 2016,
          "month": 10,
          "neighbourhood_group_cleansed": "Northgate",
          "price_year_month_mean": 93.05,
          "date": "2016-10-01T00:00:00",
          "day": 1
         },
         {
          "year": 2016,
          "month": 10,
          "neighbourhood_group_cleansed": "Other neighborhoods",
          "price_year_month_mean": 127.23985890652557,
          "date": "2016-10-01T00:00:00",
          "day": 1
         },
         {
          "year": 2016,
          "month": 10,
          "neighbourhood_group_cleansed": "Queen Anne",
          "price_year_month_mean": 167.7536231884058,
          "date": "2016-10-01T00:00:00",
          "day": 1
         },
         {
          "year": 2016,
          "month": 10,
          "neighbourhood_group_cleansed": "Rainier Valley",
          "price_year_month_mean": 100.45370370370371,
          "date": "2016-10-01T00:00:00",
          "day": 1
         },
         {
          "year": 2016,
          "month": 10,
          "neighbourhood_group_cleansed": "Seward Park",
          "price_year_month_mean": 119.2,
          "date": "2016-10-01T00:00:00",
          "day": 1
         },
         {
          "year": 2016,
          "month": 10,
          "neighbourhood_group_cleansed": "University District",
          "price_year_month_mean": 104.93406593406593,
          "date": "2016-10-01T00:00:00",
          "day": 1
         },
         {
          "year": 2016,
          "month": 10,
          "neighbourhood_group_cleansed": "West Seattle",
          "price_year_month_mean": 146.63698630136986,
          "date": "2016-10-01T00:00:00",
          "day": 1
         },
         {
          "year": 2016,
          "month": 11,
          "neighbourhood_group_cleansed": "Ballard",
          "price_year_month_mean": 126.53107344632768,
          "date": "2016-11-01T00:00:00",
          "day": 1
         },
         {
          "year": 2016,
          "month": 11,
          "neighbourhood_group_cleansed": "Beacon Hill",
          "price_year_month_mean": 101.29069767441861,
          "date": "2016-11-01T00:00:00",
          "day": 1
         },
         {
          "year": 2016,
          "month": 11,
          "neighbourhood_group_cleansed": "Capitol Hill",
          "price_year_month_mean": 134.18069306930693,
          "date": "2016-11-01T00:00:00",
          "day": 1
         },
         {
          "year": 2016,
          "month": 11,
          "neighbourhood_group_cleansed": "Cascade",
          "price_year_month_mean": 142.6949152542373,
          "date": "2016-11-01T00:00:00",
          "day": 1
         },
         {
          "year": 2016,
          "month": 11,
          "neighbourhood_group_cleansed": "Central Area",
          "price_year_month_mean": 138.19272727272727,
          "date": "2016-11-01T00:00:00",
          "day": 1
         },
         {
          "year": 2016,
          "month": 11,
          "neighbourhood_group_cleansed": "Delridge",
          "price_year_month_mean": 92.88709677419355,
          "date": "2016-11-01T00:00:00",
          "day": 1
         },
         {
          "year": 2016,
          "month": 11,
          "neighbourhood_group_cleansed": "Downtown",
          "price_year_month_mean": 168.3449275362319,
          "date": "2016-11-01T00:00:00",
          "day": 1
         },
         {
          "year": 2016,
          "month": 11,
          "neighbourhood_group_cleansed": "Interbay",
          "price_year_month_mean": 112.2,
          "date": "2016-11-01T00:00:00",
          "day": 1
         },
         {
          "year": 2016,
          "month": 11,
          "neighbourhood_group_cleansed": "Lake City",
          "price_year_month_mean": 90.2909090909091,
          "date": "2016-11-01T00:00:00",
          "day": 1
         },
         {
          "year": 2016,
          "month": 11,
          "neighbourhood_group_cleansed": "Magnolia",
          "price_year_month_mean": 197.44,
          "date": "2016-11-01T00:00:00",
          "day": 1
         },
         {
          "year": 2016,
          "month": 11,
          "neighbourhood_group_cleansed": "Northgate",
          "price_year_month_mean": 91.45901639344262,
          "date": "2016-11-01T00:00:00",
          "day": 1
         },
         {
          "year": 2016,
          "month": 11,
          "neighbourhood_group_cleansed": "Other neighborhoods",
          "price_year_month_mean": 127.9706390328152,
          "date": "2016-11-01T00:00:00",
          "day": 1
         },
         {
          "year": 2016,
          "month": 11,
          "neighbourhood_group_cleansed": "Queen Anne",
          "price_year_month_mean": 163.38181818181818,
          "date": "2016-11-01T00:00:00",
          "day": 1
         },
         {
          "year": 2016,
          "month": 11,
          "neighbourhood_group_cleansed": "Rainier Valley",
          "price_year_month_mean": 98.77586206896552,
          "date": "2016-11-01T00:00:00",
          "day": 1
         },
         {
          "year": 2016,
          "month": 11,
          "neighbourhood_group_cleansed": "Seward Park",
          "price_year_month_mean": 118.7,
          "date": "2016-11-01T00:00:00",
          "day": 1
         },
         {
          "year": 2016,
          "month": 11,
          "neighbourhood_group_cleansed": "University District",
          "price_year_month_mean": 104.03260869565217,
          "date": "2016-11-01T00:00:00",
          "day": 1
         },
         {
          "year": 2016,
          "month": 11,
          "neighbourhood_group_cleansed": "West Seattle",
          "price_year_month_mean": 146.15333333333334,
          "date": "2016-11-01T00:00:00",
          "day": 1
         },
         {
          "year": 2016,
          "month": 12,
          "neighbourhood_group_cleansed": "Ballard",
          "price_year_month_mean": 131.86187845303868,
          "date": "2016-12-01T00:00:00",
          "day": 1
         },
         {
          "year": 2016,
          "month": 12,
          "neighbourhood_group_cleansed": "Beacon Hill",
          "price_year_month_mean": 100.93258426966293,
          "date": "2016-12-01T00:00:00",
          "day": 1
         },
         {
          "year": 2016,
          "month": 12,
          "neighbourhood_group_cleansed": "Capitol Hill",
          "price_year_month_mean": 132.88755980861245,
          "date": "2016-12-01T00:00:00",
          "day": 1
         },
         {
          "year": 2016,
          "month": 12,
          "neighbourhood_group_cleansed": "Cascade",
          "price_year_month_mean": 142.65079365079364,
          "date": "2016-12-01T00:00:00",
          "day": 1
         },
         {
          "year": 2016,
          "month": 12,
          "neighbourhood_group_cleansed": "Central Area",
          "price_year_month_mean": 138.5658362989324,
          "date": "2016-12-01T00:00:00",
          "day": 1
         },
         {
          "year": 2016,
          "month": 12,
          "neighbourhood_group_cleansed": "Delridge",
          "price_year_month_mean": 92.15625,
          "date": "2016-12-01T00:00:00",
          "day": 1
         },
         {
          "year": 2016,
          "month": 12,
          "neighbourhood_group_cleansed": "Downtown",
          "price_year_month_mean": 175.45478723404256,
          "date": "2016-12-01T00:00:00",
          "day": 1
         },
         {
          "year": 2016,
          "month": 12,
          "neighbourhood_group_cleansed": "Interbay",
          "price_year_month_mean": 114.4,
          "date": "2016-12-01T00:00:00",
          "day": 1
         },
         {
          "year": 2016,
          "month": 12,
          "neighbourhood_group_cleansed": "Lake City",
          "price_year_month_mean": 90.72727272727273,
          "date": "2016-12-01T00:00:00",
          "day": 1
         },
         {
          "year": 2016,
          "month": 12,
          "neighbourhood_group_cleansed": "Magnolia",
          "price_year_month_mean": 206.12,
          "date": "2016-12-01T00:00:00",
          "day": 1
         },
         {
          "year": 2016,
          "month": 12,
          "neighbourhood_group_cleansed": "Northgate",
          "price_year_month_mean": 92.66666666666667,
          "date": "2016-12-01T00:00:00",
          "day": 1
         },
         {
          "year": 2016,
          "month": 12,
          "neighbourhood_group_cleansed": "Other neighborhoods",
          "price_year_month_mean": 128.0569514237856,
          "date": "2016-12-01T00:00:00",
          "day": 1
         },
         {
          "year": 2016,
          "month": 12,
          "neighbourhood_group_cleansed": "Queen Anne",
          "price_year_month_mean": 164.43303571428572,
          "date": "2016-12-01T00:00:00",
          "day": 1
         },
         {
          "year": 2016,
          "month": 12,
          "neighbourhood_group_cleansed": "Rainier Valley",
          "price_year_month_mean": 98.67521367521367,
          "date": "2016-12-01T00:00:00",
          "day": 1
         },
         {
          "year": 2016,
          "month": 12,
          "neighbourhood_group_cleansed": "Seward Park",
          "price_year_month_mean": 120.58064516129032,
          "date": "2016-12-01T00:00:00",
          "day": 1
         },
         {
          "year": 2016,
          "month": 12,
          "neighbourhood_group_cleansed": "University District",
          "price_year_month_mean": 104.13978494623656,
          "date": "2016-12-01T00:00:00",
          "day": 1
         },
         {
          "year": 2016,
          "month": 12,
          "neighbourhood_group_cleansed": "West Seattle",
          "price_year_month_mean": 148.36363636363637,
          "date": "2016-12-01T00:00:00",
          "day": 1
         },
         {
          "year": 2017,
          "month": 1,
          "neighbourhood_group_cleansed": "Ballard",
          "price_year_month_mean": 131.29508196721312,
          "date": "2017-01-01T00:00:00",
          "day": 1
         },
         {
          "year": 2017,
          "month": 1,
          "neighbourhood_group_cleansed": "Beacon Hill",
          "price_year_month_mean": 101.17045454545455,
          "date": "2017-01-01T00:00:00",
          "day": 1
         },
         {
          "year": 2017,
          "month": 1,
          "neighbourhood_group_cleansed": "Capitol Hill",
          "price_year_month_mean": 130.73863636363637,
          "date": "2017-01-01T00:00:00",
          "day": 1
         },
         {
          "year": 2017,
          "month": 1,
          "neighbourhood_group_cleansed": "Cascade",
          "price_year_month_mean": 142.73846153846154,
          "date": "2017-01-01T00:00:00",
          "day": 1
         },
         {
          "year": 2017,
          "month": 1,
          "neighbourhood_group_cleansed": "Central Area",
          "price_year_month_mean": 135.75524475524475,
          "date": "2017-01-01T00:00:00",
          "day": 1
         },
         {
          "year": 2017,
          "month": 1,
          "neighbourhood_group_cleansed": "Delridge",
          "price_year_month_mean": 92.53968253968254,
          "date": "2017-01-01T00:00:00",
          "day": 1
         },
         {
          "year": 2017,
          "month": 1,
          "neighbourhood_group_cleansed": "Downtown",
          "price_year_month_mean": 174.02295918367346,
          "date": "2017-01-01T00:00:00",
          "day": 1
         },
         {
          "year": 2017,
          "month": 1,
          "neighbourhood_group_cleansed": "Interbay",
          "price_year_month_mean": 141.5,
          "date": "2017-01-01T00:00:00",
          "day": 1
         },
         {
          "year": 2017,
          "month": 1,
          "neighbourhood_group_cleansed": "Lake City",
          "price_year_month_mean": 90.21428571428571,
          "date": "2017-01-01T00:00:00",
          "day": 1
         },
         {
          "year": 2017,
          "month": 1,
          "neighbourhood_group_cleansed": "Magnolia",
          "price_year_month_mean": 213.78,
          "date": "2017-01-01T00:00:00",
          "day": 1
         },
         {
          "year": 2017,
          "month": 1,
          "neighbourhood_group_cleansed": "Northgate",
          "price_year_month_mean": 88.46774193548387,
          "date": "2017-01-01T00:00:00",
          "day": 1
         },
         {
          "year": 2017,
          "month": 1,
          "neighbourhood_group_cleansed": "Other neighborhoods",
          "price_year_month_mean": 128.509900990099,
          "date": "2017-01-01T00:00:00",
          "day": 1
         },
         {
          "year": 2017,
          "month": 1,
          "neighbourhood_group_cleansed": "Queen Anne",
          "price_year_month_mean": 175.78695652173914,
          "date": "2017-01-01T00:00:00",
          "day": 1
         },
         {
          "year": 2017,
          "month": 1,
          "neighbourhood_group_cleansed": "Rainier Valley",
          "price_year_month_mean": 96.85950413223141,
          "date": "2017-01-01T00:00:00",
          "day": 1
         },
         {
          "year": 2017,
          "month": 1,
          "neighbourhood_group_cleansed": "Seward Park",
          "price_year_month_mean": 120,
          "date": "2017-01-01T00:00:00",
          "day": 1
         },
         {
          "year": 2017,
          "month": 1,
          "neighbourhood_group_cleansed": "University District",
          "price_year_month_mean": 106.7872340425532,
          "date": "2017-01-01T00:00:00",
          "day": 1
         },
         {
          "year": 2017,
          "month": 1,
          "neighbourhood_group_cleansed": "West Seattle",
          "price_year_month_mean": 145.48701298701297,
          "date": "2017-01-01T00:00:00",
          "day": 1
         }
        ]
       }
      },
      "text/plain": "<VegaLite 3 object>\n\nIf you see this message, it means the renderer has not been properly enabled\nfor the frontend that you are using. For more information, see\nhttps://altair-viz.github.io/user_guide/troubleshooting.html\n"
     },
     "metadata": {},
     "execution_count": 367
    }
   ],
   "source": [
    "import altair as alt\n",
    "from vega_datasets import data\n",
    "\n",
    "alt.Chart(df_lineplot).mark_line().encode(\n",
    "    x='date',\n",
    "    y='price_year_month_mean',\n",
    "    color='neighbourhood_group_cleansed'\n",
    ")"
   ]
  },
  {
   "cell_type": "code",
   "execution_count": 210,
   "metadata": {},
   "outputs": [
    {
     "output_type": "execute_result",
     "data": {
      "text/plain": "Index(['id', 'listing_url', 'scrape_id', 'last_scraped', 'name', 'summary',\n       'space', 'description', 'experiences_offered', 'neighborhood_overview',\n       'notes', 'transit', 'thumbnail_url', 'medium_url', 'picture_url',\n       'xl_picture_url', 'host_id', 'host_url', 'host_name', 'host_since',\n       'host_location', 'host_about', 'host_response_time',\n       'host_response_rate', 'host_acceptance_rate', 'host_is_superhost',\n       'host_thumbnail_url', 'host_picture_url', 'host_neighbourhood',\n       'host_listings_count', 'host_total_listings_count',\n       'host_verifications', 'host_has_profile_pic', 'host_identity_verified',\n       'street', 'neighbourhood', 'neighbourhood_cleansed',\n       'neighbourhood_group_cleansed', 'city', 'state', 'zipcode', 'market',\n       'smart_location', 'country_code', 'country', 'latitude', 'longitude',\n       'is_location_exact', 'property_type', 'room_type', 'accommodates',\n       'bathrooms', 'bedrooms', 'beds', 'bed_type', 'amenities', 'square_feet',\n       'price', 'weekly_price', 'monthly_price', 'security_deposit',\n       'cleaning_fee', 'guests_included', 'extra_people', 'minimum_nights',\n       'maximum_nights', 'calendar_updated', 'has_availability',\n       'availability_30', 'availability_60', 'availability_90',\n       'availability_365', 'calendar_last_scraped', 'number_of_reviews',\n       'first_review', 'last_review', 'review_scores_rating',\n       'review_scores_accuracy', 'review_scores_cleanliness',\n       'review_scores_checkin', 'review_scores_communication',\n       'review_scores_location', 'review_scores_value', 'requires_license',\n       'license', 'jurisdiction_names', 'instant_bookable',\n       'cancellation_policy', 'require_guest_profile_picture',\n       'require_guest_phone_verification', 'calculated_host_listings_count',\n       'reviews_per_month'],\n      dtype='object')"
     },
     "metadata": {},
     "execution_count": 210
    }
   ],
   "source": [
    "listings_seattle.columns"
   ]
  },
  {
   "cell_type": "code",
   "execution_count": null,
   "metadata": {},
   "outputs": [],
   "source": []
  },
  {
   "cell_type": "code",
   "execution_count": 236,
   "metadata": {},
   "outputs": [
    {
     "output_type": "execute_result",
     "data": {
      "text/plain": "                           host_location neighbourhood neighbourhood_cleansed  \\\n0     Seattle, Washington, United States    Queen Anne        West Queen Anne   \n1     Seattle, Washington, United States    Queen Anne        West Queen Anne   \n2     Seattle, Washington, United States    Queen Anne        West Queen Anne   \n3     Seattle, Washington, United States    Queen Anne        West Queen Anne   \n4     Seattle, Washington, United States    Queen Anne        West Queen Anne   \n...                                  ...           ...                    ...   \n3813                                  US       Fremont                Fremont   \n3814  Seattle, Washington, United States   Portage Bay            Portage Bay   \n3815                                  US           NaN          Rainier Beach   \n3816   Tacoma, Washington, United States           NaN           Madison Park   \n3817  Seattle, Washington, United States    Queen Anne        East Queen Anne   \n\n     neighbourhood_group_cleansed  \n0                      Queen Anne  \n1                      Queen Anne  \n2                      Queen Anne  \n3                      Queen Anne  \n4                      Queen Anne  \n...                           ...  \n3813          Other neighborhoods  \n3814                 Capitol Hill  \n3815               Rainier Valley  \n3816                 Capitol Hill  \n3817                   Queen Anne  \n\n[3818 rows x 4 columns]",
      "text/html": "<div>\n<style scoped>\n    .dataframe tbody tr th:only-of-type {\n        vertical-align: middle;\n    }\n\n    .dataframe tbody tr th {\n        vertical-align: top;\n    }\n\n    .dataframe thead th {\n        text-align: right;\n    }\n</style>\n<table border=\"1\" class=\"dataframe\">\n  <thead>\n    <tr style=\"text-align: right;\">\n      <th></th>\n      <th>host_location</th>\n      <th>neighbourhood</th>\n      <th>neighbourhood_cleansed</th>\n      <th>neighbourhood_group_cleansed</th>\n    </tr>\n  </thead>\n  <tbody>\n    <tr>\n      <th>0</th>\n      <td>Seattle, Washington, United States</td>\n      <td>Queen Anne</td>\n      <td>West Queen Anne</td>\n      <td>Queen Anne</td>\n    </tr>\n    <tr>\n      <th>1</th>\n      <td>Seattle, Washington, United States</td>\n      <td>Queen Anne</td>\n      <td>West Queen Anne</td>\n      <td>Queen Anne</td>\n    </tr>\n    <tr>\n      <th>2</th>\n      <td>Seattle, Washington, United States</td>\n      <td>Queen Anne</td>\n      <td>West Queen Anne</td>\n      <td>Queen Anne</td>\n    </tr>\n    <tr>\n      <th>3</th>\n      <td>Seattle, Washington, United States</td>\n      <td>Queen Anne</td>\n      <td>West Queen Anne</td>\n      <td>Queen Anne</td>\n    </tr>\n    <tr>\n      <th>4</th>\n      <td>Seattle, Washington, United States</td>\n      <td>Queen Anne</td>\n      <td>West Queen Anne</td>\n      <td>Queen Anne</td>\n    </tr>\n    <tr>\n      <th>...</th>\n      <td>...</td>\n      <td>...</td>\n      <td>...</td>\n      <td>...</td>\n    </tr>\n    <tr>\n      <th>3813</th>\n      <td>US</td>\n      <td>Fremont</td>\n      <td>Fremont</td>\n      <td>Other neighborhoods</td>\n    </tr>\n    <tr>\n      <th>3814</th>\n      <td>Seattle, Washington, United States</td>\n      <td>Portage Bay</td>\n      <td>Portage Bay</td>\n      <td>Capitol Hill</td>\n    </tr>\n    <tr>\n      <th>3815</th>\n      <td>US</td>\n      <td>NaN</td>\n      <td>Rainier Beach</td>\n      <td>Rainier Valley</td>\n    </tr>\n    <tr>\n      <th>3816</th>\n      <td>Tacoma, Washington, United States</td>\n      <td>NaN</td>\n      <td>Madison Park</td>\n      <td>Capitol Hill</td>\n    </tr>\n    <tr>\n      <th>3817</th>\n      <td>Seattle, Washington, United States</td>\n      <td>Queen Anne</td>\n      <td>East Queen Anne</td>\n      <td>Queen Anne</td>\n    </tr>\n  </tbody>\n</table>\n<p>3818 rows × 4 columns</p>\n</div>"
     },
     "metadata": {},
     "execution_count": 236
    }
   ],
   "source": [
    "listings_seattle[[\"host_location\", \"neighbourhood\", \"neighbourhood_cleansed\", \"neighbourhood_group_cleansed\"]]"
   ]
  },
  {
   "cell_type": "code",
   "execution_count": 238,
   "metadata": {},
   "outputs": [
    {
     "output_type": "execute_result",
     "data": {
      "text/plain": "array(['Queen Anne', 'Ballard', 'Other neighborhoods', 'Cascade',\n       'Central Area', 'University District', 'Downtown', 'Magnolia',\n       'West Seattle', 'Interbay', 'Beacon Hill', 'Rainier Valley',\n       'Delridge', 'Seward Park', 'Northgate', 'Capitol Hill',\n       'Lake City'], dtype=object)"
     },
     "metadata": {},
     "execution_count": 238
    }
   ],
   "source": [
    "listings_seattle[\"neighbourhood_group_cleansed\"].unique()\n"
   ]
  },
  {
   "cell_type": "code",
   "execution_count": 239,
   "metadata": {},
   "outputs": [
    {
     "output_type": "execute_result",
     "data": {
      "text/plain": "array(['West Queen Anne', 'Adams', 'West Woodland', 'East Queen Anne',\n       'Wallingford', 'North Queen Anne', 'Green Lake', 'Westlake',\n       'Mann', 'Madrona', 'University District', 'Harrison/Denny-Blaine',\n       'Minor', 'Leschi', 'Atlantic', 'Pike-Market', 'Eastlake',\n       'South Lake Union', 'Lawton Park', 'Briarcliff', 'Belltown',\n       'International District', 'Central Business District',\n       'First Hill', 'Yesler Terrace', 'Pioneer Square', 'Gatewood',\n       'Arbor Heights', 'Alki', 'North Admiral', 'Crown Hill',\n       'Fairmount Park', 'Genesee', 'Interbay', 'Industrial District',\n       'Mid-Beacon Hill', 'South Beacon Hill', 'Greenwood', 'Holly Park',\n       'Fauntleroy', 'North Beacon Hill', 'Mount Baker', 'Brighton',\n       'South Delridge', 'View Ridge', 'Dunlap', 'Rainier Beach',\n       'Columbia City', 'Seward Park', 'North Delridge', 'Maple Leaf',\n       'Ravenna', 'Riverview', 'Portage Bay', 'Bryant', 'Montlake',\n       'Broadway', 'Loyal Heights', 'Victory Heights', 'Matthews Beach',\n       'Whittier Heights', 'Meadowbrook', 'Olympic Hills', 'Roosevelt',\n       'Lower Queen Anne', 'Wedgwood', 'North Beach/Blue Ridge',\n       'Cedar Park', 'Bitter Lake', 'Sunset Hill', 'Haller Lake',\n       'Pinehurst', 'North College Park', 'Phinney Ridge', 'Windermere',\n       'Laurelhurst', 'Southeast Magnolia', 'High Point', 'Seaview',\n       'Georgetown', 'South Park', 'Roxhill', 'Highland Park',\n       'Madison Park', 'Stevens', 'Broadview', 'Fremont'], dtype=object)"
     },
     "metadata": {},
     "execution_count": 239
    }
   ],
   "source": [
    "listings_seattle[\"neighbourhood_cleansed\"].unique()"
   ]
  },
  {
   "cell_type": "code",
   "execution_count": 30,
   "metadata": {},
   "outputs": [
    {
     "output_type": "execute_result",
     "data": {
      "text/plain": "   listing_id        id        date  reviewer_id reviewer_name  \\\n0     7202016  38917982  2015-07-19     28943674        Bianca   \n1     7202016  39087409  2015-07-20     32440555         Frank   \n2     7202016  39820030  2015-07-26     37722850           Ian   \n3     7202016  40813543  2015-08-02     33671805        George   \n4     7202016  41986501  2015-08-10     34959538          Ming   \n\n                                            comments  \n0  Cute and cozy place. Perfect location to every...  \n1  Kelly has a great room in a very central locat...  \n2  Very spacious apartment, and in a great neighb...  \n3  Close to Seattle Center and all it has to offe...  \n4  Kelly was a great host and very accommodating ...  ",
      "text/html": "<div>\n<style scoped>\n    .dataframe tbody tr th:only-of-type {\n        vertical-align: middle;\n    }\n\n    .dataframe tbody tr th {\n        vertical-align: top;\n    }\n\n    .dataframe thead th {\n        text-align: right;\n    }\n</style>\n<table border=\"1\" class=\"dataframe\">\n  <thead>\n    <tr style=\"text-align: right;\">\n      <th></th>\n      <th>listing_id</th>\n      <th>id</th>\n      <th>date</th>\n      <th>reviewer_id</th>\n      <th>reviewer_name</th>\n      <th>comments</th>\n    </tr>\n  </thead>\n  <tbody>\n    <tr>\n      <th>0</th>\n      <td>7202016</td>\n      <td>38917982</td>\n      <td>2015-07-19</td>\n      <td>28943674</td>\n      <td>Bianca</td>\n      <td>Cute and cozy place. Perfect location to every...</td>\n    </tr>\n    <tr>\n      <th>1</th>\n      <td>7202016</td>\n      <td>39087409</td>\n      <td>2015-07-20</td>\n      <td>32440555</td>\n      <td>Frank</td>\n      <td>Kelly has a great room in a very central locat...</td>\n    </tr>\n    <tr>\n      <th>2</th>\n      <td>7202016</td>\n      <td>39820030</td>\n      <td>2015-07-26</td>\n      <td>37722850</td>\n      <td>Ian</td>\n      <td>Very spacious apartment, and in a great neighb...</td>\n    </tr>\n    <tr>\n      <th>3</th>\n      <td>7202016</td>\n      <td>40813543</td>\n      <td>2015-08-02</td>\n      <td>33671805</td>\n      <td>George</td>\n      <td>Close to Seattle Center and all it has to offe...</td>\n    </tr>\n    <tr>\n      <th>4</th>\n      <td>7202016</td>\n      <td>41986501</td>\n      <td>2015-08-10</td>\n      <td>34959538</td>\n      <td>Ming</td>\n      <td>Kelly was a great host and very accommodating ...</td>\n    </tr>\n  </tbody>\n</table>\n</div>"
     },
     "metadata": {},
     "execution_count": 30
    }
   ],
   "source": [
    "reviews_seattle.head()"
   ]
  },
  {
   "cell_type": "markdown",
   "metadata": {},
   "source": [
    "Seattle AirBNB Data\n",
    "\n",
    "The Seattle AirBnB homes data can be used at the above link. You might pair this with the Boston AirBnB data, which can be found at the link below.\n",
    "Boston AirBNB Data\n",
    "\n",
    "If you are looking to really challenge yourself, data from Seattle and Boston AirBNB homes can be used to understand how much AirBNB homes are earning in certain time frames and areas. You can compare rates between the two cities, or try to understand if there is anything about the properties that helps you predict price. Can you find negative and positive reviews based on text? This dataset requires a number of skills beyond those shown thus far in the course, but if you would like a challenge, this will certainly test your ability to work with messy, real world data.\n",
    "\n",
    "You can find additional AirBnB data at the link here.\n",
    "Choose A Dataset of Your Own\n",
    "\n",
    "You are welcome to use Kaggle or another platform (or your own data) to create a blog and Github post instead of using the datasets discussed above.\n",
    "Key Steps for Project\n",
    "\n",
    "Feel free to be creative with your solutions, but do follow the CRISP-DM process in finding your solutions.\n",
    "\n",
    "1) Pick a dataset.\n",
    "\n",
    "2) Pose at least three questions related to business or real-world applications of how the data could be used.\n",
    "\n",
    "3) Create a Jupyter Notebook, using any associated packages you'd like, to:\n",
    "\n",
    "    Prepare data:\n",
    "        Gather necessary data to answer your questions\n",
    "        Handle categorical and missing data\n",
    "        Provide insight into the methods you chose and why you chose them\n",
    "\n",
    "    Analyze, Model, and Visualize\n",
    "        Provide a clear connection between your business questions and how the data answers them.\n",
    "\n",
    "4) Communicate your business insights:\n",
    "\n",
    "    Create a Github repository to share your code and data wrangling/modeling techniques, with a technical audience in mind\n",
    "    Create a blog post to share your questions and insights with a non-technical audience\n",
    "\n",
    "Your deliverables will be a Github repo and a blog post. Use the rubric here to assist in successfully completing this project!"
   ]
  },
  {
   "cell_type": "markdown",
   "metadata": {},
   "source": [
    "## Questions"
   ]
  },
  {
   "cell_type": "markdown",
   "metadata": {},
   "source": [
    "### 1) how much AirBNB homes are earning in certain time frames and areas. "
   ]
  },
  {
   "cell_type": "code",
   "execution_count": null,
   "metadata": {},
   "outputs": [],
   "source": []
  }
 ]
}