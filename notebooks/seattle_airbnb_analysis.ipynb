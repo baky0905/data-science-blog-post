{
 "nbformat": 4,
 "nbformat_minor": 2,
 "metadata": {
  "language_info": {
   "name": "python",
   "codemirror_mode": {
    "name": "ipython",
    "version": 3
   },
   "version": "3.7.3-final"
  },
  "orig_nbformat": 2,
  "file_extension": ".py",
  "mimetype": "text/x-python",
  "name": "python",
  "npconvert_exporter": "python",
  "pygments_lexer": "ipython3",
  "version": 3,
  "kernelspec": {
   "name": "python37364bitminimaldsconda91f0080ae0504f57af51d0d614f986b5",
   "display_name": "Python 3.7.3 64-bit ('minimal_ds': conda)"
  }
 },
 "cells": [
  {
   "cell_type": "markdown",
   "metadata": {},
   "source": [
    "# Seatle airbnb"
   ]
  },
  {
   "cell_type": "markdown",
   "metadata": {},
   "source": [
    "Context\n",
    "\n",
    "Since 2008, guests and hosts have used Airbnb to travel in a more unique, personalized way. As part of the Airbnb Inside initiative, this dataset describes the listing activity of homestays in Seattle, WA.\n",
    "Content\n",
    "\n",
    "The following Airbnb activity is included in this Seattle dataset:\n",
    "\n",
    "    Listings, including full descriptions and average review score\n",
    "    Reviews, including unique id for each reviewer and detailed comments\n",
    "    Calendar, including listing id and the price and availability for that day\n",
    "\n",
    "Inspiration\n",
    "\n",
    "    Can you describe the vibe of each Seattle neighborhood using listing descriptions?\n",
    "    What are the busiest times of the year to visit Seattle? By how much do prices spike?\n",
    "    Is there a general upward trend of both new Airbnb listings and total Airbnb visitors to Seattle?\n"
   ]
  },
  {
   "cell_type": "markdown",
   "metadata": {},
   "source": [
    "Seattle AirBNB Data\n",
    "\n",
    "The Seattle AirBnB homes data can be used at the above link. You might pair this with the Boston AirBnB data, which can be found at the link below.\n",
    "Boston AirBNB Data\n",
    "\n",
    "If you are looking to really challenge yourself, data from Seattle and Boston AirBNB homes can be used to understand how much AirBNB homes are earning in certain time frames and areas. You can compare rates between the two cities, or try to understand if there is anything about the properties that helps you predict price. Can you find negative and positive reviews based on text? This dataset requires a number of skills beyond those shown thus far in the course, but if you would like a challenge, this will certainly test your ability to work with messy, real world data.\n",
    "\n",
    "You can find additional AirBnB data at the link here.\n",
    "Choose A Dataset of Your Own\n",
    "\n",
    "You are welcome to use Kaggle or another platform (or your own data) to create a blog and Github post instead of using the datasets discussed above.\n",
    "Key Steps for Project\n",
    "\n",
    "Feel free to be creative with your solutions, but do follow the CRISP-DM process in finding your solutions.\n",
    "\n",
    "1) Pick a dataset.\n",
    "\n",
    "2) Pose at least three questions related to business or real-world applications of how the data could be used.\n",
    "\n",
    "3) Create a Jupyter Notebook, using any associated packages you'd like, to:\n",
    "\n",
    "    Prepare data:\n",
    "        Gather necessary data to answer your questions\n",
    "        Handle categorical and missing data\n",
    "        Provide insight into the methods you chose and why you chose them\n",
    "\n",
    "    Analyze, Model, and Visualize\n",
    "        Provide a clear connection between your business questions and how the data answers them.\n",
    "\n",
    "4) Communicate your business insights:\n",
    "\n",
    "    Create a Github repository to share your code and data wrangling/modeling techniques, with a technical audience in mind\n",
    "    Create a blog post to share your questions and insights with a non-technical audience\n",
    "\n",
    "Your deliverables will be a Github repo and a blog post. Use the rubric here to assist in successfully completing this project!"
   ]
  },
  {
   "cell_type": "markdown",
   "metadata": {},
   "source": [
    "# Library and data"
   ]
  },
  {
   "cell_type": "code",
   "execution_count": 1,
   "metadata": {},
   "outputs": [],
   "source": [
    "import pandas as pd\n",
    "import datetime\n",
    "import numpy as np\n",
    "import seaborn as sn\n",
    "import matplotlib.pyplot as plt"
   ]
  },
  {
   "cell_type": "code",
   "execution_count": 2,
   "metadata": {},
   "outputs": [],
   "source": [
    "# https://www.kaggle.com/airbnb/seattle/data\n",
    "calendar_seattle = pd.read_csv(\"../data/seattle/calendar.csv\")\n",
    "listings_seattle = pd.read_csv(\"../data/seattle/listings.csv\")\n",
    "reviews_seattle = pd.read_csv(\"../data/seattle/reviews.csv\")"
   ]
  },
  {
   "cell_type": "code",
   "execution_count": 3,
   "metadata": {},
   "outputs": [
    {
     "output_type": "execute_result",
     "data": {
      "text/plain": "['id',\n 'listing_url',\n 'scrape_id',\n 'last_scraped',\n 'name',\n 'summary',\n 'space',\n 'description',\n 'experiences_offered',\n 'neighborhood_overview',\n 'notes',\n 'transit',\n 'thumbnail_url',\n 'medium_url',\n 'picture_url',\n 'xl_picture_url',\n 'host_id',\n 'host_url',\n 'host_name',\n 'host_since',\n 'host_location',\n 'host_about',\n 'host_response_time',\n 'host_response_rate',\n 'host_acceptance_rate',\n 'host_is_superhost',\n 'host_thumbnail_url',\n 'host_picture_url',\n 'host_neighbourhood',\n 'host_listings_count',\n 'host_total_listings_count',\n 'host_verifications',\n 'host_has_profile_pic',\n 'host_identity_verified',\n 'street',\n 'neighbourhood',\n 'neighbourhood_cleansed',\n 'neighbourhood_group_cleansed',\n 'city',\n 'state',\n 'zipcode',\n 'market',\n 'smart_location',\n 'country_code',\n 'country',\n 'latitude',\n 'longitude',\n 'is_location_exact',\n 'property_type',\n 'room_type',\n 'accommodates',\n 'bathrooms',\n 'bedrooms',\n 'beds',\n 'bed_type',\n 'amenities',\n 'square_feet',\n 'price',\n 'weekly_price',\n 'monthly_price',\n 'security_deposit',\n 'cleaning_fee',\n 'guests_included',\n 'extra_people',\n 'minimum_nights',\n 'maximum_nights',\n 'calendar_updated',\n 'has_availability',\n 'availability_30',\n 'availability_60',\n 'availability_90',\n 'availability_365',\n 'calendar_last_scraped',\n 'number_of_reviews',\n 'first_review',\n 'last_review',\n 'review_scores_rating',\n 'review_scores_accuracy',\n 'review_scores_cleanliness',\n 'review_scores_checkin',\n 'review_scores_communication',\n 'review_scores_location',\n 'review_scores_value',\n 'requires_license',\n 'license',\n 'jurisdiction_names',\n 'instant_bookable',\n 'cancellation_policy',\n 'require_guest_profile_picture',\n 'require_guest_phone_verification',\n 'calculated_host_listings_count',\n 'reviews_per_month']"
     },
     "metadata": {},
     "execution_count": 3
    }
   ],
   "source": [
    "list(listings_seattle)"
   ]
  },
  {
   "cell_type": "code",
   "execution_count": 4,
   "metadata": {},
   "outputs": [
    {
     "output_type": "execute_result",
     "data": {
      "text/plain": "((1393570, 4), (3818, 92), (84849, 6))"
     },
     "metadata": {},
     "execution_count": 4
    }
   ],
   "source": [
    "calendar_seattle.shape, listings_seattle.shape, reviews_seattle.shape"
   ]
  },
  {
   "cell_type": "markdown",
   "metadata": {},
   "source": [
    "## 1) How much AirBNB homes are earning per month in specific neighborhood area? By how much do prices spike?"
   ]
  },
  {
   "cell_type": "code",
   "execution_count": 5,
   "metadata": {},
   "outputs": [
    {
     "output_type": "execute_result",
     "data": {
      "text/plain": "   listing_id        date available   price\n0      241032  2016-01-04         t  $85.00\n1      241032  2016-01-05         t  $85.00\n2      241032  2016-01-06         f     NaN\n3      241032  2016-01-07         f     NaN\n4      241032  2016-01-08         f     NaN",
      "text/html": "<div>\n<style scoped>\n    .dataframe tbody tr th:only-of-type {\n        vertical-align: middle;\n    }\n\n    .dataframe tbody tr th {\n        vertical-align: top;\n    }\n\n    .dataframe thead th {\n        text-align: right;\n    }\n</style>\n<table border=\"1\" class=\"dataframe\">\n  <thead>\n    <tr style=\"text-align: right;\">\n      <th></th>\n      <th>listing_id</th>\n      <th>date</th>\n      <th>available</th>\n      <th>price</th>\n    </tr>\n  </thead>\n  <tbody>\n    <tr>\n      <th>0</th>\n      <td>241032</td>\n      <td>2016-01-04</td>\n      <td>t</td>\n      <td>$85.00</td>\n    </tr>\n    <tr>\n      <th>1</th>\n      <td>241032</td>\n      <td>2016-01-05</td>\n      <td>t</td>\n      <td>$85.00</td>\n    </tr>\n    <tr>\n      <th>2</th>\n      <td>241032</td>\n      <td>2016-01-06</td>\n      <td>f</td>\n      <td>NaN</td>\n    </tr>\n    <tr>\n      <th>3</th>\n      <td>241032</td>\n      <td>2016-01-07</td>\n      <td>f</td>\n      <td>NaN</td>\n    </tr>\n    <tr>\n      <th>4</th>\n      <td>241032</td>\n      <td>2016-01-08</td>\n      <td>f</td>\n      <td>NaN</td>\n    </tr>\n  </tbody>\n</table>\n</div>"
     },
     "metadata": {},
     "execution_count": 5
    }
   ],
   "source": [
    "calendar_seattle.head()"
   ]
  },
  {
   "cell_type": "code",
   "execution_count": 6,
   "metadata": {},
   "outputs": [
    {
     "output_type": "execute_result",
     "data": {
      "text/plain": "<matplotlib.axes._subplots.AxesSubplot at 0x25352892ba8>"
     },
     "metadata": {},
     "execution_count": 6
    }
   ],
   "source": [
    "calendar_seattle.isnull().mean().plot(\"bar\")"
   ]
  },
  {
   "cell_type": "markdown",
   "metadata": {},
   "source": [
    "## Prepare data:"
   ]
  },
  {
   "cell_type": "markdown",
   "metadata": {},
   "source": [
    "Since I am interested in agregating and analyzing prices, I will drop all 30% of the rows with NaN."
   ]
  },
  {
   "cell_type": "code",
   "execution_count": 7,
   "metadata": {},
   "outputs": [
    {
     "output_type": "execute_result",
     "data": {
      "text/plain": "(934542, 4)"
     },
     "metadata": {},
     "execution_count": 7
    }
   ],
   "source": [
    "calendar_seattle_dropped_na = calendar_seattle.dropna(subset=[\"price\"])\n",
    "calendar_seattle_dropped_na.shape"
   ]
  },
  {
   "cell_type": "markdown",
   "metadata": {},
   "source": [
    "Convert date column into a datetime datatype.\n",
    "Create year and month columns for grouping together with cleaning price columns since it contains characters, i.e. parse only numbers."
   ]
  },
  {
   "cell_type": "code",
   "execution_count": 8,
   "metadata": {},
   "outputs": [
    {
     "output_type": "execute_result",
     "data": {
      "text/plain": "    listing_id       date available  price  year  month\n0       241032 2016-01-04         t     85  2016      1\n1       241032 2016-01-05         t     85  2016      1\n9       241032 2016-01-13         t     85  2016      1\n10      241032 2016-01-14         t     85  2016      1\n14      241032 2016-01-18         t     85  2016      1",
      "text/html": "<div>\n<style scoped>\n    .dataframe tbody tr th:only-of-type {\n        vertical-align: middle;\n    }\n\n    .dataframe tbody tr th {\n        vertical-align: top;\n    }\n\n    .dataframe thead th {\n        text-align: right;\n    }\n</style>\n<table border=\"1\" class=\"dataframe\">\n  <thead>\n    <tr style=\"text-align: right;\">\n      <th></th>\n      <th>listing_id</th>\n      <th>date</th>\n      <th>available</th>\n      <th>price</th>\n      <th>year</th>\n      <th>month</th>\n    </tr>\n  </thead>\n  <tbody>\n    <tr>\n      <th>0</th>\n      <td>241032</td>\n      <td>2016-01-04</td>\n      <td>t</td>\n      <td>85</td>\n      <td>2016</td>\n      <td>1</td>\n    </tr>\n    <tr>\n      <th>1</th>\n      <td>241032</td>\n      <td>2016-01-05</td>\n      <td>t</td>\n      <td>85</td>\n      <td>2016</td>\n      <td>1</td>\n    </tr>\n    <tr>\n      <th>9</th>\n      <td>241032</td>\n      <td>2016-01-13</td>\n      <td>t</td>\n      <td>85</td>\n      <td>2016</td>\n      <td>1</td>\n    </tr>\n    <tr>\n      <th>10</th>\n      <td>241032</td>\n      <td>2016-01-14</td>\n      <td>t</td>\n      <td>85</td>\n      <td>2016</td>\n      <td>1</td>\n    </tr>\n    <tr>\n      <th>14</th>\n      <td>241032</td>\n      <td>2016-01-18</td>\n      <td>t</td>\n      <td>85</td>\n      <td>2016</td>\n      <td>1</td>\n    </tr>\n  </tbody>\n</table>\n</div>"
     },
     "metadata": {},
     "execution_count": 8
    }
   ],
   "source": [
    "calendar_seattle_dropped_na['date'] = pd.to_datetime(calendar_seattle_dropped_na['date'])\n",
    "\n",
    "calendar_seattle_dropped_na = (calendar_seattle_dropped_na\n",
    "    .assign(\n",
    "        year = calendar_seattle_dropped_na[\"date\"].dt.year,\n",
    "        month = calendar_seattle_dropped_na[\"date\"].dt.month,\n",
    "        price = calendar_seattle_dropped_na[\"price\"].str.extract('(\\d+)').astype(int)\n",
    "        )\n",
    "    )\n",
    "calendar_seattle_dropped_na.head()"
   ]
  },
  {
   "cell_type": "code",
   "execution_count": 9,
   "metadata": {},
   "outputs": [
    {
     "output_type": "execute_result",
     "data": {
      "text/plain": "         listing_id          price           year          month\ncount  9.345420e+05  934542.000000  934542.000000  934542.000000\nmean   5.305517e+06     137.090652    2016.006097       6.661120\nstd    2.974821e+06     101.274170       0.077846       3.446401\nmin    3.335000e+03       1.000000    2016.000000       1.000000\n25%    2.875975e+06      75.000000    2016.000000       4.000000\n50%    5.615620e+06     109.000000    2016.000000       7.000000\n75%    7.873345e+06     160.000000    2016.000000      10.000000\nmax    1.034016e+07     999.000000    2017.000000      12.000000",
      "text/html": "<div>\n<style scoped>\n    .dataframe tbody tr th:only-of-type {\n        vertical-align: middle;\n    }\n\n    .dataframe tbody tr th {\n        vertical-align: top;\n    }\n\n    .dataframe thead th {\n        text-align: right;\n    }\n</style>\n<table border=\"1\" class=\"dataframe\">\n  <thead>\n    <tr style=\"text-align: right;\">\n      <th></th>\n      <th>listing_id</th>\n      <th>price</th>\n      <th>year</th>\n      <th>month</th>\n    </tr>\n  </thead>\n  <tbody>\n    <tr>\n      <th>count</th>\n      <td>9.345420e+05</td>\n      <td>934542.000000</td>\n      <td>934542.000000</td>\n      <td>934542.000000</td>\n    </tr>\n    <tr>\n      <th>mean</th>\n      <td>5.305517e+06</td>\n      <td>137.090652</td>\n      <td>2016.006097</td>\n      <td>6.661120</td>\n    </tr>\n    <tr>\n      <th>std</th>\n      <td>2.974821e+06</td>\n      <td>101.274170</td>\n      <td>0.077846</td>\n      <td>3.446401</td>\n    </tr>\n    <tr>\n      <th>min</th>\n      <td>3.335000e+03</td>\n      <td>1.000000</td>\n      <td>2016.000000</td>\n      <td>1.000000</td>\n    </tr>\n    <tr>\n      <th>25%</th>\n      <td>2.875975e+06</td>\n      <td>75.000000</td>\n      <td>2016.000000</td>\n      <td>4.000000</td>\n    </tr>\n    <tr>\n      <th>50%</th>\n      <td>5.615620e+06</td>\n      <td>109.000000</td>\n      <td>2016.000000</td>\n      <td>7.000000</td>\n    </tr>\n    <tr>\n      <th>75%</th>\n      <td>7.873345e+06</td>\n      <td>160.000000</td>\n      <td>2016.000000</td>\n      <td>10.000000</td>\n    </tr>\n    <tr>\n      <th>max</th>\n      <td>1.034016e+07</td>\n      <td>999.000000</td>\n      <td>2017.000000</td>\n      <td>12.000000</td>\n    </tr>\n  </tbody>\n</table>\n</div>"
     },
     "metadata": {},
     "execution_count": 9
    }
   ],
   "source": [
    "calendar_seattle_dropped_na.describe()"
   ]
  },
  {
   "cell_type": "code",
   "execution_count": 10,
   "metadata": {},
   "outputs": [
    {
     "output_type": "display_data",
     "data": {
      "text/plain": "<Figure size 432x288 with 4 Axes>",
      "image/svg+xml": "<?xml version=\"1.0\" encoding=\"utf-8\" standalone=\"no\"?>\r\n<!DOCTYPE svg PUBLIC \"-//W3C//DTD SVG 1.1//EN\"\r\n  \"http://www.w3.org/Graphics/SVG/1.1/DTD/svg11.dtd\">\r\n<!-- Created with matplotlib (https://matplotlib.org/) -->\r\n<svg height=\"263.63625pt\" version=\"1.1\" viewBox=\"0 0 405.253712 263.63625\" width=\"405.253712pt\" xmlns=\"http://www.w3.org/2000/svg\" xmlns:xlink=\"http://www.w3.org/1999/xlink\">\r\n <defs>\r\n  <style type=\"text/css\">\r\n*{stroke-linecap:butt;stroke-linejoin:round;}\r\n  </style>\r\n </defs>\r\n <g id=\"figure_1\">\r\n  <g id=\"patch_1\">\r\n   <path d=\"M 0 263.63625 \r\nL 405.253712 263.63625 \r\nL 405.253712 0 \r\nL 0 0 \r\nz\r\n\" style=\"fill:none;\"/>\r\n  </g>\r\n  <g id=\"axes_1\">\r\n   <g id=\"patch_2\">\r\n    <path d=\"M 52.375 116.857255 \r\nL 197.940217 116.857255 \r\nL 197.940217 22.318125 \r\nL 52.375 22.318125 \r\nz\r\n\" style=\"fill:#ffffff;\"/>\r\n   </g>\r\n   <g id=\"patch_3\">\r\n    <path clip-path=\"url(#p802daf818d)\" d=\"M 58.991601 116.857255 \r\nL 72.224802 116.857255 \r\nL 72.224802 46.632855 \r\nL 58.991601 46.632855 \r\nz\r\n\" style=\"fill:#1f77b4;\"/>\r\n   </g>\r\n   <g id=\"patch_4\">\r\n    <path clip-path=\"url(#p802daf818d)\" d=\"M 72.224802 116.857255 \r\nL 85.458004 116.857255 \r\nL 85.458004 61.846717 \r\nL 72.224802 61.846717 \r\nz\r\n\" style=\"fill:#1f77b4;\"/>\r\n   </g>\r\n   <g id=\"patch_5\">\r\n    <path clip-path=\"url(#p802daf818d)\" d=\"M 85.458004 116.857255 \r\nL 98.691206 116.857255 \r\nL 98.691206 79.652327 \r\nL 85.458004 79.652327 \r\nz\r\n\" style=\"fill:#1f77b4;\"/>\r\n   </g>\r\n   <g id=\"patch_6\">\r\n    <path clip-path=\"url(#p802daf818d)\" d=\"M 98.691206 116.857255 \r\nL 111.924407 116.857255 \r\nL 111.924407 53.173369 \r\nL 98.691206 53.173369 \r\nz\r\n\" style=\"fill:#1f77b4;\"/>\r\n   </g>\r\n   <g id=\"patch_7\">\r\n    <path clip-path=\"url(#p802daf818d)\" d=\"M 111.924407 116.857255 \r\nL 125.157609 116.857255 \r\nL 125.157609 56.131986 \r\nL 111.924407 56.131986 \r\nz\r\n\" style=\"fill:#1f77b4;\"/>\r\n   </g>\r\n   <g id=\"patch_8\">\r\n    <path clip-path=\"url(#p802daf818d)\" d=\"M 125.157609 116.857255 \r\nL 138.39081 116.857255 \r\nL 138.39081 68.308993 \r\nL 125.157609 68.308993 \r\nz\r\n\" style=\"fill:#1f77b4;\"/>\r\n   </g>\r\n   <g id=\"patch_9\">\r\n    <path clip-path=\"url(#p802daf818d)\" d=\"M 138.39081 116.857255 \r\nL 151.624012 116.857255 \r\nL 151.624012 45.049009 \r\nL 138.39081 45.049009 \r\nz\r\n\" style=\"fill:#1f77b4;\"/>\r\n   </g>\r\n   <g id=\"patch_10\">\r\n    <path clip-path=\"url(#p802daf818d)\" d=\"M 151.624012 116.857255 \r\nL 164.857213 116.857255 \r\nL 164.857213 26.819988 \r\nL 151.624012 26.819988 \r\nz\r\n\" style=\"fill:#1f77b4;\"/>\r\n   </g>\r\n   <g id=\"patch_11\">\r\n    <path clip-path=\"url(#p802daf818d)\" d=\"M 164.857213 116.857255 \r\nL 178.090415 116.857255 \r\nL 178.090415 49.076015 \r\nL 164.857213 49.076015 \r\nz\r\n\" style=\"fill:#1f77b4;\"/>\r\n   </g>\r\n   <g id=\"patch_12\">\r\n    <path clip-path=\"url(#p802daf818d)\" d=\"M 178.090415 116.857255 \r\nL 191.323617 116.857255 \r\nL 191.323617 67.447707 \r\nL 178.090415 67.447707 \r\nz\r\n\" style=\"fill:#1f77b4;\"/>\r\n   </g>\r\n   <g id=\"matplotlib.axis_1\">\r\n    <g id=\"xtick_1\">\r\n     <g id=\"line2d_1\">\r\n      <path clip-path=\"url(#p802daf818d)\" d=\"M 58.948906 116.857255 \r\nL 58.948906 22.318125 \r\n\" style=\"fill:none;stroke:#b0b0b0;stroke-linecap:square;stroke-width:0.8;\"/>\r\n     </g>\r\n     <g id=\"line2d_2\">\r\n      <defs>\r\n       <path d=\"M 0 0 \r\nL 0 3.5 \r\n\" id=\"m2dcb64008b\" style=\"stroke:#000000;stroke-width:0.8;\"/>\r\n      </defs>\r\n      <g>\r\n       <use style=\"stroke:#000000;stroke-width:0.8;\" x=\"58.948906\" xlink:href=\"#m2dcb64008b\" y=\"116.857255\"/>\r\n      </g>\r\n     </g>\r\n     <g id=\"text_1\">\r\n      <!-- 0.0 -->\r\n      <defs>\r\n       <path d=\"M 31.78125 66.40625 \r\nQ 24.171875 66.40625 20.328125 58.90625 \r\nQ 16.5 51.421875 16.5 36.375 \r\nQ 16.5 21.390625 20.328125 13.890625 \r\nQ 24.171875 6.390625 31.78125 6.390625 \r\nQ 39.453125 6.390625 43.28125 13.890625 \r\nQ 47.125 21.390625 47.125 36.375 \r\nQ 47.125 51.421875 43.28125 58.90625 \r\nQ 39.453125 66.40625 31.78125 66.40625 \r\nz\r\nM 31.78125 74.21875 \r\nQ 44.046875 74.21875 50.515625 64.515625 \r\nQ 56.984375 54.828125 56.984375 36.375 \r\nQ 56.984375 17.96875 50.515625 8.265625 \r\nQ 44.046875 -1.421875 31.78125 -1.421875 \r\nQ 19.53125 -1.421875 13.0625 8.265625 \r\nQ 6.59375 17.96875 6.59375 36.375 \r\nQ 6.59375 54.828125 13.0625 64.515625 \r\nQ 19.53125 74.21875 31.78125 74.21875 \r\nz\r\n\" id=\"DejaVuSans-48\"/>\r\n       <path d=\"M 10.6875 12.40625 \r\nL 21 12.40625 \r\nL 21 0 \r\nL 10.6875 0 \r\nz\r\n\" id=\"DejaVuSans-46\"/>\r\n      </defs>\r\n      <g transform=\"translate(50.997344 131.455693)scale(0.1 -0.1)\">\r\n       <use xlink:href=\"#DejaVuSans-48\"/>\r\n       <use x=\"63.623047\" xlink:href=\"#DejaVuSans-46\"/>\r\n       <use x=\"95.410156\" xlink:href=\"#DejaVuSans-48\"/>\r\n      </g>\r\n     </g>\r\n    </g>\r\n    <g id=\"xtick_2\">\r\n     <g id=\"line2d_3\">\r\n      <path clip-path=\"url(#p802daf818d)\" d=\"M 122.958867 116.857255 \r\nL 122.958867 22.318125 \r\n\" style=\"fill:none;stroke:#b0b0b0;stroke-linecap:square;stroke-width:0.8;\"/>\r\n     </g>\r\n     <g id=\"line2d_4\">\r\n      <g>\r\n       <use style=\"stroke:#000000;stroke-width:0.8;\" x=\"122.958867\" xlink:href=\"#m2dcb64008b\" y=\"116.857255\"/>\r\n      </g>\r\n     </g>\r\n     <g id=\"text_2\">\r\n      <!-- 0.5 -->\r\n      <defs>\r\n       <path d=\"M 10.796875 72.90625 \r\nL 49.515625 72.90625 \r\nL 49.515625 64.59375 \r\nL 19.828125 64.59375 \r\nL 19.828125 46.734375 \r\nQ 21.96875 47.46875 24.109375 47.828125 \r\nQ 26.265625 48.1875 28.421875 48.1875 \r\nQ 40.625 48.1875 47.75 41.5 \r\nQ 54.890625 34.8125 54.890625 23.390625 \r\nQ 54.890625 11.625 47.5625 5.09375 \r\nQ 40.234375 -1.421875 26.90625 -1.421875 \r\nQ 22.3125 -1.421875 17.546875 -0.640625 \r\nQ 12.796875 0.140625 7.71875 1.703125 \r\nL 7.71875 11.625 \r\nQ 12.109375 9.234375 16.796875 8.0625 \r\nQ 21.484375 6.890625 26.703125 6.890625 \r\nQ 35.15625 6.890625 40.078125 11.328125 \r\nQ 45.015625 15.765625 45.015625 23.390625 \r\nQ 45.015625 31 40.078125 35.4375 \r\nQ 35.15625 39.890625 26.703125 39.890625 \r\nQ 22.75 39.890625 18.8125 39.015625 \r\nQ 14.890625 38.140625 10.796875 36.28125 \r\nz\r\n\" id=\"DejaVuSans-53\"/>\r\n      </defs>\r\n      <g transform=\"translate(115.007304 131.455693)scale(0.1 -0.1)\">\r\n       <use xlink:href=\"#DejaVuSans-48\"/>\r\n       <use x=\"63.623047\" xlink:href=\"#DejaVuSans-46\"/>\r\n       <use x=\"95.410156\" xlink:href=\"#DejaVuSans-53\"/>\r\n      </g>\r\n     </g>\r\n    </g>\r\n    <g id=\"xtick_3\">\r\n     <g id=\"line2d_5\">\r\n      <path clip-path=\"url(#p802daf818d)\" d=\"M 186.968827 116.857255 \r\nL 186.968827 22.318125 \r\n\" style=\"fill:none;stroke:#b0b0b0;stroke-linecap:square;stroke-width:0.8;\"/>\r\n     </g>\r\n     <g id=\"line2d_6\">\r\n      <g>\r\n       <use style=\"stroke:#000000;stroke-width:0.8;\" x=\"186.968827\" xlink:href=\"#m2dcb64008b\" y=\"116.857255\"/>\r\n      </g>\r\n     </g>\r\n     <g id=\"text_3\">\r\n      <!-- 1.0 -->\r\n      <defs>\r\n       <path d=\"M 12.40625 8.296875 \r\nL 28.515625 8.296875 \r\nL 28.515625 63.921875 \r\nL 10.984375 60.40625 \r\nL 10.984375 69.390625 \r\nL 28.421875 72.90625 \r\nL 38.28125 72.90625 \r\nL 38.28125 8.296875 \r\nL 54.390625 8.296875 \r\nL 54.390625 0 \r\nL 12.40625 0 \r\nz\r\n\" id=\"DejaVuSans-49\"/>\r\n      </defs>\r\n      <g transform=\"translate(179.017264 131.455693)scale(0.1 -0.1)\">\r\n       <use xlink:href=\"#DejaVuSans-49\"/>\r\n       <use x=\"63.623047\" xlink:href=\"#DejaVuSans-46\"/>\r\n       <use x=\"95.410156\" xlink:href=\"#DejaVuSans-48\"/>\r\n      </g>\r\n     </g>\r\n    </g>\r\n    <g id=\"text_4\">\r\n     <!-- 1e7 -->\r\n     <defs>\r\n      <path d=\"M 56.203125 29.59375 \r\nL 56.203125 25.203125 \r\nL 14.890625 25.203125 \r\nQ 15.484375 15.921875 20.484375 11.0625 \r\nQ 25.484375 6.203125 34.421875 6.203125 \r\nQ 39.59375 6.203125 44.453125 7.46875 \r\nQ 49.3125 8.734375 54.109375 11.28125 \r\nL 54.109375 2.78125 \r\nQ 49.265625 0.734375 44.1875 -0.34375 \r\nQ 39.109375 -1.421875 33.890625 -1.421875 \r\nQ 20.796875 -1.421875 13.15625 6.1875 \r\nQ 5.515625 13.8125 5.515625 26.8125 \r\nQ 5.515625 40.234375 12.765625 48.109375 \r\nQ 20.015625 56 32.328125 56 \r\nQ 43.359375 56 49.78125 48.890625 \r\nQ 56.203125 41.796875 56.203125 29.59375 \r\nz\r\nM 47.21875 32.234375 \r\nQ 47.125 39.59375 43.09375 43.984375 \r\nQ 39.0625 48.390625 32.421875 48.390625 \r\nQ 24.90625 48.390625 20.390625 44.140625 \r\nQ 15.875 39.890625 15.1875 32.171875 \r\nz\r\n\" id=\"DejaVuSans-101\"/>\r\n      <path d=\"M 8.203125 72.90625 \r\nL 55.078125 72.90625 \r\nL 55.078125 68.703125 \r\nL 28.609375 0 \r\nL 18.3125 0 \r\nL 43.21875 64.59375 \r\nL 8.203125 64.59375 \r\nz\r\n\" id=\"DejaVuSans-55\"/>\r\n     </defs>\r\n     <g transform=\"translate(179.062092 144.133818)scale(0.1 -0.1)\">\r\n      <use xlink:href=\"#DejaVuSans-49\"/>\r\n      <use x=\"63.623047\" xlink:href=\"#DejaVuSans-101\"/>\r\n      <use x=\"125.146484\" xlink:href=\"#DejaVuSans-55\"/>\r\n     </g>\r\n    </g>\r\n   </g>\r\n   <g id=\"matplotlib.axis_2\">\r\n    <g id=\"ytick_1\">\r\n     <g id=\"line2d_7\">\r\n      <path clip-path=\"url(#p802daf818d)\" d=\"M 52.375 116.857255 \r\nL 197.940217 116.857255 \r\n\" style=\"fill:none;stroke:#b0b0b0;stroke-linecap:square;stroke-width:0.8;\"/>\r\n     </g>\r\n     <g id=\"line2d_8\">\r\n      <defs>\r\n       <path d=\"M 0 0 \r\nL -3.5 0 \r\n\" id=\"mfd80544dfb\" style=\"stroke:#000000;stroke-width:0.8;\"/>\r\n      </defs>\r\n      <g>\r\n       <use style=\"stroke:#000000;stroke-width:0.8;\" x=\"52.375\" xlink:href=\"#mfd80544dfb\" y=\"116.857255\"/>\r\n      </g>\r\n     </g>\r\n     <g id=\"text_5\">\r\n      <!-- 0 -->\r\n      <g transform=\"translate(39.0125 120.656474)scale(0.1 -0.1)\">\r\n       <use xlink:href=\"#DejaVuSans-48\"/>\r\n      </g>\r\n     </g>\r\n    </g>\r\n    <g id=\"ytick_2\">\r\n     <g id=\"line2d_9\">\r\n      <path clip-path=\"url(#p802daf818d)\" d=\"M 52.375 83.983742 \r\nL 197.940217 83.983742 \r\n\" style=\"fill:none;stroke:#b0b0b0;stroke-linecap:square;stroke-width:0.8;\"/>\r\n     </g>\r\n     <g id=\"line2d_10\">\r\n      <g>\r\n       <use style=\"stroke:#000000;stroke-width:0.8;\" x=\"52.375\" xlink:href=\"#mfd80544dfb\" y=\"83.983742\"/>\r\n      </g>\r\n     </g>\r\n     <g id=\"text_6\">\r\n      <!-- 50000 -->\r\n      <g transform=\"translate(13.5625 87.78296)scale(0.1 -0.1)\">\r\n       <use xlink:href=\"#DejaVuSans-53\"/>\r\n       <use x=\"63.623047\" xlink:href=\"#DejaVuSans-48\"/>\r\n       <use x=\"127.246094\" xlink:href=\"#DejaVuSans-48\"/>\r\n       <use x=\"190.869141\" xlink:href=\"#DejaVuSans-48\"/>\r\n       <use x=\"254.492188\" xlink:href=\"#DejaVuSans-48\"/>\r\n      </g>\r\n     </g>\r\n    </g>\r\n    <g id=\"ytick_3\">\r\n     <g id=\"line2d_11\">\r\n      <path clip-path=\"url(#p802daf818d)\" d=\"M 52.375 51.110228 \r\nL 197.940217 51.110228 \r\n\" style=\"fill:none;stroke:#b0b0b0;stroke-linecap:square;stroke-width:0.8;\"/>\r\n     </g>\r\n     <g id=\"line2d_12\">\r\n      <g>\r\n       <use style=\"stroke:#000000;stroke-width:0.8;\" x=\"52.375\" xlink:href=\"#mfd80544dfb\" y=\"51.110228\"/>\r\n      </g>\r\n     </g>\r\n     <g id=\"text_7\">\r\n      <!-- 100000 -->\r\n      <g transform=\"translate(7.2 54.909446)scale(0.1 -0.1)\">\r\n       <use xlink:href=\"#DejaVuSans-49\"/>\r\n       <use x=\"63.623047\" xlink:href=\"#DejaVuSans-48\"/>\r\n       <use x=\"127.246094\" xlink:href=\"#DejaVuSans-48\"/>\r\n       <use x=\"190.869141\" xlink:href=\"#DejaVuSans-48\"/>\r\n       <use x=\"254.492188\" xlink:href=\"#DejaVuSans-48\"/>\r\n       <use x=\"318.115234\" xlink:href=\"#DejaVuSans-48\"/>\r\n      </g>\r\n     </g>\r\n    </g>\r\n   </g>\r\n   <g id=\"patch_13\">\r\n    <path d=\"M 52.375 116.857255 \r\nL 52.375 22.318125 \r\n\" style=\"fill:none;stroke:#000000;stroke-linecap:square;stroke-linejoin:miter;stroke-width:0.8;\"/>\r\n   </g>\r\n   <g id=\"patch_14\">\r\n    <path d=\"M 197.940217 116.857255 \r\nL 197.940217 22.318125 \r\n\" style=\"fill:none;stroke:#000000;stroke-linecap:square;stroke-linejoin:miter;stroke-width:0.8;\"/>\r\n   </g>\r\n   <g id=\"patch_15\">\r\n    <path d=\"M 52.375 116.857255 \r\nL 197.940217 116.857255 \r\n\" style=\"fill:none;stroke:#000000;stroke-linecap:square;stroke-linejoin:miter;stroke-width:0.8;\"/>\r\n   </g>\r\n   <g id=\"patch_16\">\r\n    <path d=\"M 52.375 22.318125 \r\nL 197.940217 22.318125 \r\n\" style=\"fill:none;stroke:#000000;stroke-linecap:square;stroke-linejoin:miter;stroke-width:0.8;\"/>\r\n   </g>\r\n   <g id=\"text_8\">\r\n    <!-- listing_id -->\r\n    <defs>\r\n     <path d=\"M 9.421875 75.984375 \r\nL 18.40625 75.984375 \r\nL 18.40625 0 \r\nL 9.421875 0 \r\nz\r\n\" id=\"DejaVuSans-108\"/>\r\n     <path d=\"M 9.421875 54.6875 \r\nL 18.40625 54.6875 \r\nL 18.40625 0 \r\nL 9.421875 0 \r\nz\r\nM 9.421875 75.984375 \r\nL 18.40625 75.984375 \r\nL 18.40625 64.59375 \r\nL 9.421875 64.59375 \r\nz\r\n\" id=\"DejaVuSans-105\"/>\r\n     <path d=\"M 44.28125 53.078125 \r\nL 44.28125 44.578125 \r\nQ 40.484375 46.53125 36.375 47.5 \r\nQ 32.28125 48.484375 27.875 48.484375 \r\nQ 21.1875 48.484375 17.84375 46.4375 \r\nQ 14.5 44.390625 14.5 40.28125 \r\nQ 14.5 37.15625 16.890625 35.375 \r\nQ 19.28125 33.59375 26.515625 31.984375 \r\nL 29.59375 31.296875 \r\nQ 39.15625 29.25 43.1875 25.515625 \r\nQ 47.21875 21.78125 47.21875 15.09375 \r\nQ 47.21875 7.46875 41.1875 3.015625 \r\nQ 35.15625 -1.421875 24.609375 -1.421875 \r\nQ 20.21875 -1.421875 15.453125 -0.5625 \r\nQ 10.6875 0.296875 5.421875 2 \r\nL 5.421875 11.28125 \r\nQ 10.40625 8.6875 15.234375 7.390625 \r\nQ 20.0625 6.109375 24.8125 6.109375 \r\nQ 31.15625 6.109375 34.5625 8.28125 \r\nQ 37.984375 10.453125 37.984375 14.40625 \r\nQ 37.984375 18.0625 35.515625 20.015625 \r\nQ 33.0625 21.96875 24.703125 23.78125 \r\nL 21.578125 24.515625 \r\nQ 13.234375 26.265625 9.515625 29.90625 \r\nQ 5.8125 33.546875 5.8125 39.890625 \r\nQ 5.8125 47.609375 11.28125 51.796875 \r\nQ 16.75 56 26.8125 56 \r\nQ 31.78125 56 36.171875 55.265625 \r\nQ 40.578125 54.546875 44.28125 53.078125 \r\nz\r\n\" id=\"DejaVuSans-115\"/>\r\n     <path d=\"M 18.3125 70.21875 \r\nL 18.3125 54.6875 \r\nL 36.8125 54.6875 \r\nL 36.8125 47.703125 \r\nL 18.3125 47.703125 \r\nL 18.3125 18.015625 \r\nQ 18.3125 11.328125 20.140625 9.421875 \r\nQ 21.96875 7.515625 27.59375 7.515625 \r\nL 36.8125 7.515625 \r\nL 36.8125 0 \r\nL 27.59375 0 \r\nQ 17.1875 0 13.234375 3.875 \r\nQ 9.28125 7.765625 9.28125 18.015625 \r\nL 9.28125 47.703125 \r\nL 2.6875 47.703125 \r\nL 2.6875 54.6875 \r\nL 9.28125 54.6875 \r\nL 9.28125 70.21875 \r\nz\r\n\" id=\"DejaVuSans-116\"/>\r\n     <path d=\"M 54.890625 33.015625 \r\nL 54.890625 0 \r\nL 45.90625 0 \r\nL 45.90625 32.71875 \r\nQ 45.90625 40.484375 42.875 44.328125 \r\nQ 39.84375 48.1875 33.796875 48.1875 \r\nQ 26.515625 48.1875 22.3125 43.546875 \r\nQ 18.109375 38.921875 18.109375 30.90625 \r\nL 18.109375 0 \r\nL 9.078125 0 \r\nL 9.078125 54.6875 \r\nL 18.109375 54.6875 \r\nL 18.109375 46.1875 \r\nQ 21.34375 51.125 25.703125 53.5625 \r\nQ 30.078125 56 35.796875 56 \r\nQ 45.21875 56 50.046875 50.171875 \r\nQ 54.890625 44.34375 54.890625 33.015625 \r\nz\r\n\" id=\"DejaVuSans-110\"/>\r\n     <path d=\"M 45.40625 27.984375 \r\nQ 45.40625 37.75 41.375 43.109375 \r\nQ 37.359375 48.484375 30.078125 48.484375 \r\nQ 22.859375 48.484375 18.828125 43.109375 \r\nQ 14.796875 37.75 14.796875 27.984375 \r\nQ 14.796875 18.265625 18.828125 12.890625 \r\nQ 22.859375 7.515625 30.078125 7.515625 \r\nQ 37.359375 7.515625 41.375 12.890625 \r\nQ 45.40625 18.265625 45.40625 27.984375 \r\nz\r\nM 54.390625 6.78125 \r\nQ 54.390625 -7.171875 48.1875 -13.984375 \r\nQ 42 -20.796875 29.203125 -20.796875 \r\nQ 24.46875 -20.796875 20.265625 -20.09375 \r\nQ 16.0625 -19.390625 12.109375 -17.921875 \r\nL 12.109375 -9.1875 \r\nQ 16.0625 -11.328125 19.921875 -12.34375 \r\nQ 23.78125 -13.375 27.78125 -13.375 \r\nQ 36.625 -13.375 41.015625 -8.765625 \r\nQ 45.40625 -4.15625 45.40625 5.171875 \r\nL 45.40625 9.625 \r\nQ 42.625 4.78125 38.28125 2.390625 \r\nQ 33.9375 0 27.875 0 \r\nQ 17.828125 0 11.671875 7.65625 \r\nQ 5.515625 15.328125 5.515625 27.984375 \r\nQ 5.515625 40.671875 11.671875 48.328125 \r\nQ 17.828125 56 27.875 56 \r\nQ 33.9375 56 38.28125 53.609375 \r\nQ 42.625 51.21875 45.40625 46.390625 \r\nL 45.40625 54.6875 \r\nL 54.390625 54.6875 \r\nz\r\n\" id=\"DejaVuSans-103\"/>\r\n     <path d=\"M 50.984375 -16.609375 \r\nL 50.984375 -23.578125 \r\nL -0.984375 -23.578125 \r\nL -0.984375 -16.609375 \r\nz\r\n\" id=\"DejaVuSans-95\"/>\r\n     <path d=\"M 45.40625 46.390625 \r\nL 45.40625 75.984375 \r\nL 54.390625 75.984375 \r\nL 54.390625 0 \r\nL 45.40625 0 \r\nL 45.40625 8.203125 \r\nQ 42.578125 3.328125 38.25 0.953125 \r\nQ 33.9375 -1.421875 27.875 -1.421875 \r\nQ 17.96875 -1.421875 11.734375 6.484375 \r\nQ 5.515625 14.40625 5.515625 27.296875 \r\nQ 5.515625 40.1875 11.734375 48.09375 \r\nQ 17.96875 56 27.875 56 \r\nQ 33.9375 56 38.25 53.625 \r\nQ 42.578125 51.265625 45.40625 46.390625 \r\nz\r\nM 14.796875 27.296875 \r\nQ 14.796875 17.390625 18.875 11.75 \r\nQ 22.953125 6.109375 30.078125 6.109375 \r\nQ 37.203125 6.109375 41.296875 11.75 \r\nQ 45.40625 17.390625 45.40625 27.296875 \r\nQ 45.40625 37.203125 41.296875 42.84375 \r\nQ 37.203125 48.484375 30.078125 48.484375 \r\nQ 22.953125 48.484375 18.875 42.84375 \r\nQ 14.796875 37.203125 14.796875 27.296875 \r\nz\r\n\" id=\"DejaVuSans-100\"/>\r\n    </defs>\r\n    <g transform=\"translate(98.591671 16.318125)scale(0.12 -0.12)\">\r\n     <use xlink:href=\"#DejaVuSans-108\"/>\r\n     <use x=\"27.783203\" xlink:href=\"#DejaVuSans-105\"/>\r\n     <use x=\"55.566406\" xlink:href=\"#DejaVuSans-115\"/>\r\n     <use x=\"107.666016\" xlink:href=\"#DejaVuSans-116\"/>\r\n     <use x=\"146.875\" xlink:href=\"#DejaVuSans-105\"/>\r\n     <use x=\"174.658203\" xlink:href=\"#DejaVuSans-110\"/>\r\n     <use x=\"238.037109\" xlink:href=\"#DejaVuSans-103\"/>\r\n     <use x=\"301.513672\" xlink:href=\"#DejaVuSans-95\"/>\r\n     <use x=\"351.513672\" xlink:href=\"#DejaVuSans-105\"/>\r\n     <use x=\"379.296875\" xlink:href=\"#DejaVuSans-100\"/>\r\n    </g>\r\n   </g>\r\n  </g>\r\n  <g id=\"axes_2\">\r\n   <g id=\"patch_17\">\r\n    <path d=\"M 241.609783 116.857255 \r\nL 387.175 116.857255 \r\nL 387.175 22.318125 \r\nL 241.609783 22.318125 \r\nz\r\n\" style=\"fill:#ffffff;\"/>\r\n   </g>\r\n   <g id=\"patch_18\">\r\n    <path clip-path=\"url(#pd6f6a31888)\" d=\"M 248.226383 116.857255 \r\nL 261.459585 116.857255 \r\nL 261.459585 43.128881 \r\nL 248.226383 43.128881 \r\nz\r\n\" style=\"fill:#1f77b4;\"/>\r\n   </g>\r\n   <g id=\"patch_19\">\r\n    <path clip-path=\"url(#pd6f6a31888)\" d=\"M 261.459585 116.857255 \r\nL 274.692787 116.857255 \r\nL 274.692787 72.095923 \r\nL 261.459585 72.095923 \r\nz\r\n\" style=\"fill:#1f77b4;\"/>\r\n   </g>\r\n   <g id=\"patch_20\">\r\n    <path clip-path=\"url(#pd6f6a31888)\" d=\"M 274.692787 116.857255 \r\nL 287.925988 116.857255 \r\nL 287.925988 76.309262 \r\nL 274.692787 76.309262 \r\nz\r\n\" style=\"fill:#1f77b4;\"/>\r\n   </g>\r\n   <g id=\"patch_21\">\r\n    <path clip-path=\"url(#pd6f6a31888)\" d=\"M 287.925988 116.857255 \r\nL 301.15919 116.857255 \r\nL 301.15919 74.211392 \r\nL 287.925988 74.211392 \r\nz\r\n\" style=\"fill:#1f77b4;\"/>\r\n   </g>\r\n   <g id=\"patch_22\">\r\n    <path clip-path=\"url(#pd6f6a31888)\" d=\"M 301.15919 116.857255 \r\nL 314.392391 116.857255 \r\nL 314.392391 75.66561 \r\nL 301.15919 75.66561 \r\nz\r\n\" style=\"fill:#1f77b4;\"/>\r\n   </g>\r\n   <g id=\"patch_23\">\r\n    <path clip-path=\"url(#pd6f6a31888)\" d=\"M 314.392391 116.857255 \r\nL 327.625593 116.857255 \r\nL 327.625593 77.277141 \r\nL 314.392391 77.277141 \r\nz\r\n\" style=\"fill:#1f77b4;\"/>\r\n   </g>\r\n   <g id=\"patch_24\">\r\n    <path clip-path=\"url(#pd6f6a31888)\" d=\"M 327.625593 116.857255 \r\nL 340.858794 116.857255 \r\nL 340.858794 76.14395 \r\nL 327.625593 76.14395 \r\nz\r\n\" style=\"fill:#1f77b4;\"/>\r\n   </g>\r\n   <g id=\"patch_25\">\r\n    <path clip-path=\"url(#pd6f6a31888)\" d=\"M 340.858794 116.857255 \r\nL 354.091996 116.857255 \r\nL 354.091996 75.664543 \r\nL 340.858794 75.664543 \r\nz\r\n\" style=\"fill:#1f77b4;\"/>\r\n   </g>\r\n   <g id=\"patch_26\">\r\n    <path clip-path=\"url(#pd6f6a31888)\" d=\"M 354.091996 116.857255 \r\nL 367.325198 116.857255 \r\nL 367.325198 72.895823 \r\nL 354.091996 72.895823 \r\nz\r\n\" style=\"fill:#1f77b4;\"/>\r\n   </g>\r\n   <g id=\"patch_27\">\r\n    <path clip-path=\"url(#pd6f6a31888)\" d=\"M 367.325198 116.857255 \r\nL 380.558399 116.857255 \r\nL 380.558399 26.819988 \r\nL 367.325198 26.819988 \r\nz\r\n\" style=\"fill:#1f77b4;\"/>\r\n   </g>\r\n   <g id=\"matplotlib.axis_3\">\r\n    <g id=\"xtick_4\">\r\n     <g id=\"line2d_13\">\r\n      <path clip-path=\"url(#pd6f6a31888)\" d=\"M 296.347116 116.857255 \r\nL 296.347116 22.318125 \r\n\" style=\"fill:none;stroke:#b0b0b0;stroke-linecap:square;stroke-width:0.8;\"/>\r\n     </g>\r\n     <g id=\"line2d_14\">\r\n      <g>\r\n       <use style=\"stroke:#000000;stroke-width:0.8;\" x=\"296.347116\" xlink:href=\"#m2dcb64008b\" y=\"116.857255\"/>\r\n      </g>\r\n     </g>\r\n     <g id=\"text_9\">\r\n      <!-- 5 -->\r\n      <g transform=\"translate(293.165866 131.455693)scale(0.1 -0.1)\">\r\n       <use xlink:href=\"#DejaVuSans-53\"/>\r\n      </g>\r\n     </g>\r\n    </g>\r\n    <g id=\"xtick_5\">\r\n     <g id=\"line2d_15\">\r\n      <path clip-path=\"url(#pd6f6a31888)\" d=\"M 356.498033 116.857255 \r\nL 356.498033 22.318125 \r\n\" style=\"fill:none;stroke:#b0b0b0;stroke-linecap:square;stroke-width:0.8;\"/>\r\n     </g>\r\n     <g id=\"line2d_16\">\r\n      <g>\r\n       <use style=\"stroke:#000000;stroke-width:0.8;\" x=\"356.498033\" xlink:href=\"#m2dcb64008b\" y=\"116.857255\"/>\r\n      </g>\r\n     </g>\r\n     <g id=\"text_10\">\r\n      <!-- 10 -->\r\n      <g transform=\"translate(350.135533 131.455693)scale(0.1 -0.1)\">\r\n       <use xlink:href=\"#DejaVuSans-49\"/>\r\n       <use x=\"63.623047\" xlink:href=\"#DejaVuSans-48\"/>\r\n      </g>\r\n     </g>\r\n    </g>\r\n   </g>\r\n   <g id=\"matplotlib.axis_4\">\r\n    <g id=\"ytick_4\">\r\n     <g id=\"line2d_17\">\r\n      <path clip-path=\"url(#pd6f6a31888)\" d=\"M 241.609783 116.857255 \r\nL 387.175 116.857255 \r\n\" style=\"fill:none;stroke:#b0b0b0;stroke-linecap:square;stroke-width:0.8;\"/>\r\n     </g>\r\n     <g id=\"line2d_18\">\r\n      <g>\r\n       <use style=\"stroke:#000000;stroke-width:0.8;\" x=\"241.609783\" xlink:href=\"#mfd80544dfb\" y=\"116.857255\"/>\r\n      </g>\r\n     </g>\r\n     <g id=\"text_11\">\r\n      <!-- 0 -->\r\n      <g transform=\"translate(228.247283 120.656474)scale(0.1 -0.1)\">\r\n       <use xlink:href=\"#DejaVuSans-48\"/>\r\n      </g>\r\n     </g>\r\n    </g>\r\n    <g id=\"ytick_5\">\r\n     <g id=\"line2d_19\">\r\n      <path clip-path=\"url(#pd6f6a31888)\" d=\"M 241.609783 90.193925 \r\nL 387.175 90.193925 \r\n\" style=\"fill:none;stroke:#b0b0b0;stroke-linecap:square;stroke-width:0.8;\"/>\r\n     </g>\r\n     <g id=\"line2d_20\">\r\n      <g>\r\n       <use style=\"stroke:#000000;stroke-width:0.8;\" x=\"241.609783\" xlink:href=\"#mfd80544dfb\" y=\"90.193925\"/>\r\n      </g>\r\n     </g>\r\n     <g id=\"text_12\">\r\n      <!-- 50000 -->\r\n      <g transform=\"translate(202.797283 93.993144)scale(0.1 -0.1)\">\r\n       <use xlink:href=\"#DejaVuSans-53\"/>\r\n       <use x=\"63.623047\" xlink:href=\"#DejaVuSans-48\"/>\r\n       <use x=\"127.246094\" xlink:href=\"#DejaVuSans-48\"/>\r\n       <use x=\"190.869141\" xlink:href=\"#DejaVuSans-48\"/>\r\n       <use x=\"254.492188\" xlink:href=\"#DejaVuSans-48\"/>\r\n      </g>\r\n     </g>\r\n    </g>\r\n    <g id=\"ytick_6\">\r\n     <g id=\"line2d_21\">\r\n      <path clip-path=\"url(#pd6f6a31888)\" d=\"M 241.609783 63.530595 \r\nL 387.175 63.530595 \r\n\" style=\"fill:none;stroke:#b0b0b0;stroke-linecap:square;stroke-width:0.8;\"/>\r\n     </g>\r\n     <g id=\"line2d_22\">\r\n      <g>\r\n       <use style=\"stroke:#000000;stroke-width:0.8;\" x=\"241.609783\" xlink:href=\"#mfd80544dfb\" y=\"63.530595\"/>\r\n      </g>\r\n     </g>\r\n     <g id=\"text_13\">\r\n      <!-- 100000 -->\r\n      <g transform=\"translate(196.434783 67.329814)scale(0.1 -0.1)\">\r\n       <use xlink:href=\"#DejaVuSans-49\"/>\r\n       <use x=\"63.623047\" xlink:href=\"#DejaVuSans-48\"/>\r\n       <use x=\"127.246094\" xlink:href=\"#DejaVuSans-48\"/>\r\n       <use x=\"190.869141\" xlink:href=\"#DejaVuSans-48\"/>\r\n       <use x=\"254.492188\" xlink:href=\"#DejaVuSans-48\"/>\r\n       <use x=\"318.115234\" xlink:href=\"#DejaVuSans-48\"/>\r\n      </g>\r\n     </g>\r\n    </g>\r\n    <g id=\"ytick_7\">\r\n     <g id=\"line2d_23\">\r\n      <path clip-path=\"url(#pd6f6a31888)\" d=\"M 241.609783 36.867264 \r\nL 387.175 36.867264 \r\n\" style=\"fill:none;stroke:#b0b0b0;stroke-linecap:square;stroke-width:0.8;\"/>\r\n     </g>\r\n     <g id=\"line2d_24\">\r\n      <g>\r\n       <use style=\"stroke:#000000;stroke-width:0.8;\" x=\"241.609783\" xlink:href=\"#mfd80544dfb\" y=\"36.867264\"/>\r\n      </g>\r\n     </g>\r\n     <g id=\"text_14\">\r\n      <!-- 150000 -->\r\n      <g transform=\"translate(196.434783 40.666483)scale(0.1 -0.1)\">\r\n       <use xlink:href=\"#DejaVuSans-49\"/>\r\n       <use x=\"63.623047\" xlink:href=\"#DejaVuSans-53\"/>\r\n       <use x=\"127.246094\" xlink:href=\"#DejaVuSans-48\"/>\r\n       <use x=\"190.869141\" xlink:href=\"#DejaVuSans-48\"/>\r\n       <use x=\"254.492188\" xlink:href=\"#DejaVuSans-48\"/>\r\n       <use x=\"318.115234\" xlink:href=\"#DejaVuSans-48\"/>\r\n      </g>\r\n     </g>\r\n    </g>\r\n   </g>\r\n   <g id=\"patch_28\">\r\n    <path d=\"M 241.609783 116.857255 \r\nL 241.609783 22.318125 \r\n\" style=\"fill:none;stroke:#000000;stroke-linecap:square;stroke-linejoin:miter;stroke-width:0.8;\"/>\r\n   </g>\r\n   <g id=\"patch_29\">\r\n    <path d=\"M 387.175 116.857255 \r\nL 387.175 22.318125 \r\n\" style=\"fill:none;stroke:#000000;stroke-linecap:square;stroke-linejoin:miter;stroke-width:0.8;\"/>\r\n   </g>\r\n   <g id=\"patch_30\">\r\n    <path d=\"M 241.609783 116.857255 \r\nL 387.175 116.857255 \r\n\" style=\"fill:none;stroke:#000000;stroke-linecap:square;stroke-linejoin:miter;stroke-width:0.8;\"/>\r\n   </g>\r\n   <g id=\"patch_31\">\r\n    <path d=\"M 241.609783 22.318125 \r\nL 387.175 22.318125 \r\n\" style=\"fill:none;stroke:#000000;stroke-linecap:square;stroke-linejoin:miter;stroke-width:0.8;\"/>\r\n   </g>\r\n   <g id=\"text_15\">\r\n    <!-- month -->\r\n    <defs>\r\n     <path d=\"M 52 44.1875 \r\nQ 55.375 50.25 60.0625 53.125 \r\nQ 64.75 56 71.09375 56 \r\nQ 79.640625 56 84.28125 50.015625 \r\nQ 88.921875 44.046875 88.921875 33.015625 \r\nL 88.921875 0 \r\nL 79.890625 0 \r\nL 79.890625 32.71875 \r\nQ 79.890625 40.578125 77.09375 44.375 \r\nQ 74.3125 48.1875 68.609375 48.1875 \r\nQ 61.625 48.1875 57.5625 43.546875 \r\nQ 53.515625 38.921875 53.515625 30.90625 \r\nL 53.515625 0 \r\nL 44.484375 0 \r\nL 44.484375 32.71875 \r\nQ 44.484375 40.625 41.703125 44.40625 \r\nQ 38.921875 48.1875 33.109375 48.1875 \r\nQ 26.21875 48.1875 22.15625 43.53125 \r\nQ 18.109375 38.875 18.109375 30.90625 \r\nL 18.109375 0 \r\nL 9.078125 0 \r\nL 9.078125 54.6875 \r\nL 18.109375 54.6875 \r\nL 18.109375 46.1875 \r\nQ 21.1875 51.21875 25.484375 53.609375 \r\nQ 29.78125 56 35.6875 56 \r\nQ 41.65625 56 45.828125 52.96875 \r\nQ 50 49.953125 52 44.1875 \r\nz\r\n\" id=\"DejaVuSans-109\"/>\r\n     <path d=\"M 30.609375 48.390625 \r\nQ 23.390625 48.390625 19.1875 42.75 \r\nQ 14.984375 37.109375 14.984375 27.296875 \r\nQ 14.984375 17.484375 19.15625 11.84375 \r\nQ 23.34375 6.203125 30.609375 6.203125 \r\nQ 37.796875 6.203125 41.984375 11.859375 \r\nQ 46.1875 17.53125 46.1875 27.296875 \r\nQ 46.1875 37.015625 41.984375 42.703125 \r\nQ 37.796875 48.390625 30.609375 48.390625 \r\nz\r\nM 30.609375 56 \r\nQ 42.328125 56 49.015625 48.375 \r\nQ 55.71875 40.765625 55.71875 27.296875 \r\nQ 55.71875 13.875 49.015625 6.21875 \r\nQ 42.328125 -1.421875 30.609375 -1.421875 \r\nQ 18.84375 -1.421875 12.171875 6.21875 \r\nQ 5.515625 13.875 5.515625 27.296875 \r\nQ 5.515625 40.765625 12.171875 48.375 \r\nQ 18.84375 56 30.609375 56 \r\nz\r\n\" id=\"DejaVuSans-111\"/>\r\n     <path d=\"M 54.890625 33.015625 \r\nL 54.890625 0 \r\nL 45.90625 0 \r\nL 45.90625 32.71875 \r\nQ 45.90625 40.484375 42.875 44.328125 \r\nQ 39.84375 48.1875 33.796875 48.1875 \r\nQ 26.515625 48.1875 22.3125 43.546875 \r\nQ 18.109375 38.921875 18.109375 30.90625 \r\nL 18.109375 0 \r\nL 9.078125 0 \r\nL 9.078125 75.984375 \r\nL 18.109375 75.984375 \r\nL 18.109375 46.1875 \r\nQ 21.34375 51.125 25.703125 53.5625 \r\nQ 30.078125 56 35.796875 56 \r\nQ 45.21875 56 50.046875 50.171875 \r\nQ 54.890625 44.34375 54.890625 33.015625 \r\nz\r\n\" id=\"DejaVuSans-104\"/>\r\n    </defs>\r\n    <g transform=\"translate(294.919579 16.318125)scale(0.12 -0.12)\">\r\n     <use xlink:href=\"#DejaVuSans-109\"/>\r\n     <use x=\"97.412109\" xlink:href=\"#DejaVuSans-111\"/>\r\n     <use x=\"158.59375\" xlink:href=\"#DejaVuSans-110\"/>\r\n     <use x=\"221.972656\" xlink:href=\"#DejaVuSans-116\"/>\r\n     <use x=\"261.181641\" xlink:href=\"#DejaVuSans-104\"/>\r\n    </g>\r\n   </g>\r\n  </g>\r\n  <g id=\"axes_3\">\r\n   <g id=\"patch_32\">\r\n    <path d=\"M 52.375 239.758125 \r\nL 197.940217 239.758125 \r\nL 197.940217 145.218995 \r\nL 52.375 145.218995 \r\nz\r\n\" style=\"fill:#ffffff;\"/>\r\n   </g>\r\n   <g id=\"patch_33\">\r\n    <path clip-path=\"url(#p8903013940)\" d=\"M 58.991601 239.758125 \r\nL 72.224802 239.758125 \r\nL 72.224802 149.720858 \r\nL 58.991601 149.720858 \r\nz\r\n\" style=\"fill:#1f77b4;\"/>\r\n   </g>\r\n   <g id=\"patch_34\">\r\n    <path clip-path=\"url(#p8903013940)\" d=\"M 72.224802 239.758125 \r\nL 85.458004 239.758125 \r\nL 85.458004 171.412461 \r\nL 72.224802 171.412461 \r\nz\r\n\" style=\"fill:#1f77b4;\"/>\r\n   </g>\r\n   <g id=\"patch_35\">\r\n    <path clip-path=\"url(#p8903013940)\" d=\"M 85.458004 239.758125 \r\nL 98.691206 239.758125 \r\nL 98.691206 221.800576 \r\nL 85.458004 221.800576 \r\nz\r\n\" style=\"fill:#1f77b4;\"/>\r\n   </g>\r\n   <g id=\"patch_36\">\r\n    <path clip-path=\"url(#p8903013940)\" d=\"M 98.691206 239.758125 \r\nL 111.924407 239.758125 \r\nL 111.924407 233.783156 \r\nL 98.691206 233.783156 \r\nz\r\n\" style=\"fill:#1f77b4;\"/>\r\n   </g>\r\n   <g id=\"patch_37\">\r\n    <path clip-path=\"url(#p8903013940)\" d=\"M 111.924407 239.758125 \r\nL 125.157609 239.758125 \r\nL 125.157609 237.496785 \r\nL 111.924407 237.496785 \r\nz\r\n\" style=\"fill:#1f77b4;\"/>\r\n   </g>\r\n   <g id=\"patch_38\">\r\n    <path clip-path=\"url(#p8903013940)\" d=\"M 125.157609 239.758125 \r\nL 138.39081 239.758125 \r\nL 138.39081 238.659096 \r\nL 125.157609 238.659096 \r\nz\r\n\" style=\"fill:#1f77b4;\"/>\r\n   </g>\r\n   <g id=\"patch_39\">\r\n    <path clip-path=\"url(#p8903013940)\" d=\"M 138.39081 239.758125 \r\nL 151.624012 239.758125 \r\nL 151.624012 239.152938 \r\nL 138.39081 239.152938 \r\nz\r\n\" style=\"fill:#1f77b4;\"/>\r\n   </g>\r\n   <g id=\"patch_40\">\r\n    <path clip-path=\"url(#p8903013940)\" d=\"M 151.624012 239.758125 \r\nL 164.857213 239.758125 \r\nL 164.857213 239.196795 \r\nL 151.624012 239.196795 \r\nz\r\n\" style=\"fill:#1f77b4;\"/>\r\n   </g>\r\n   <g id=\"patch_41\">\r\n    <path clip-path=\"url(#p8903013940)\" d=\"M 164.857213 239.758125 \r\nL 178.090415 239.758125 \r\nL 178.090415 239.63096 \r\nL 164.857213 239.63096 \r\nz\r\n\" style=\"fill:#1f77b4;\"/>\r\n   </g>\r\n   <g id=\"patch_42\">\r\n    <path clip-path=\"url(#p8903013940)\" d=\"M 178.090415 239.758125 \r\nL 191.323617 239.758125 \r\nL 191.323617 239.575888 \r\nL 178.090415 239.575888 \r\nz\r\n\" style=\"fill:#1f77b4;\"/>\r\n   </g>\r\n   <g id=\"matplotlib.axis_5\">\r\n    <g id=\"xtick_6\">\r\n     <g id=\"line2d_25\">\r\n      <path clip-path=\"url(#p8903013940)\" d=\"M 58.859004 239.758125 \r\nL 58.859004 145.218995 \r\n\" style=\"fill:none;stroke:#b0b0b0;stroke-linecap:square;stroke-width:0.8;\"/>\r\n     </g>\r\n     <g id=\"line2d_26\">\r\n      <g>\r\n       <use style=\"stroke:#000000;stroke-width:0.8;\" x=\"58.859004\" xlink:href=\"#m2dcb64008b\" y=\"239.758125\"/>\r\n      </g>\r\n     </g>\r\n     <g id=\"text_16\">\r\n      <!-- 0 -->\r\n      <g transform=\"translate(55.677754 254.356563)scale(0.1 -0.1)\">\r\n       <use xlink:href=\"#DejaVuSans-48\"/>\r\n      </g>\r\n     </g>\r\n    </g>\r\n    <g id=\"xtick_7\">\r\n     <g id=\"line2d_27\">\r\n      <path clip-path=\"url(#p8903013940)\" d=\"M 125.157609 239.758125 \r\nL 125.157609 145.218995 \r\n\" style=\"fill:none;stroke:#b0b0b0;stroke-linecap:square;stroke-width:0.8;\"/>\r\n     </g>\r\n     <g id=\"line2d_28\">\r\n      <g>\r\n       <use style=\"stroke:#000000;stroke-width:0.8;\" x=\"125.157609\" xlink:href=\"#m2dcb64008b\" y=\"239.758125\"/>\r\n      </g>\r\n     </g>\r\n     <g id=\"text_17\">\r\n      <!-- 500 -->\r\n      <g transform=\"translate(115.613859 254.356563)scale(0.1 -0.1)\">\r\n       <use xlink:href=\"#DejaVuSans-53\"/>\r\n       <use x=\"63.623047\" xlink:href=\"#DejaVuSans-48\"/>\r\n       <use x=\"127.246094\" xlink:href=\"#DejaVuSans-48\"/>\r\n      </g>\r\n     </g>\r\n    </g>\r\n    <g id=\"xtick_8\">\r\n     <g id=\"line2d_29\">\r\n      <path clip-path=\"url(#p8903013940)\" d=\"M 191.456214 239.758125 \r\nL 191.456214 145.218995 \r\n\" style=\"fill:none;stroke:#b0b0b0;stroke-linecap:square;stroke-width:0.8;\"/>\r\n     </g>\r\n     <g id=\"line2d_30\">\r\n      <g>\r\n       <use style=\"stroke:#000000;stroke-width:0.8;\" x=\"191.456214\" xlink:href=\"#m2dcb64008b\" y=\"239.758125\"/>\r\n      </g>\r\n     </g>\r\n     <g id=\"text_18\">\r\n      <!-- 1000 -->\r\n      <g transform=\"translate(178.731214 254.356563)scale(0.1 -0.1)\">\r\n       <use xlink:href=\"#DejaVuSans-49\"/>\r\n       <use x=\"63.623047\" xlink:href=\"#DejaVuSans-48\"/>\r\n       <use x=\"127.246094\" xlink:href=\"#DejaVuSans-48\"/>\r\n       <use x=\"190.869141\" xlink:href=\"#DejaVuSans-48\"/>\r\n      </g>\r\n     </g>\r\n    </g>\r\n   </g>\r\n   <g id=\"matplotlib.axis_6\">\r\n    <g id=\"ytick_8\">\r\n     <g id=\"line2d_31\">\r\n      <path clip-path=\"url(#p8903013940)\" d=\"M 52.375 239.758125 \r\nL 197.940217 239.758125 \r\n\" style=\"fill:none;stroke:#b0b0b0;stroke-linecap:square;stroke-width:0.8;\"/>\r\n     </g>\r\n     <g id=\"line2d_32\">\r\n      <g>\r\n       <use style=\"stroke:#000000;stroke-width:0.8;\" x=\"52.375\" xlink:href=\"#mfd80544dfb\" y=\"239.758125\"/>\r\n      </g>\r\n     </g>\r\n     <g id=\"text_19\">\r\n      <!-- 0 -->\r\n      <g transform=\"translate(39.0125 243.557344)scale(0.1 -0.1)\">\r\n       <use xlink:href=\"#DejaVuSans-48\"/>\r\n      </g>\r\n     </g>\r\n    </g>\r\n    <g id=\"ytick_9\">\r\n     <g id=\"line2d_33\">\r\n      <path clip-path=\"url(#p8903013940)\" d=\"M 52.375 199.706049 \r\nL 197.940217 199.706049 \r\n\" style=\"fill:none;stroke:#b0b0b0;stroke-linecap:square;stroke-width:0.8;\"/>\r\n     </g>\r\n     <g id=\"line2d_34\">\r\n      <g>\r\n       <use style=\"stroke:#000000;stroke-width:0.8;\" x=\"52.375\" xlink:href=\"#mfd80544dfb\" y=\"199.706049\"/>\r\n      </g>\r\n     </g>\r\n     <g id=\"text_20\">\r\n      <!-- 200000 -->\r\n      <defs>\r\n       <path d=\"M 19.1875 8.296875 \r\nL 53.609375 8.296875 \r\nL 53.609375 0 \r\nL 7.328125 0 \r\nL 7.328125 8.296875 \r\nQ 12.9375 14.109375 22.625 23.890625 \r\nQ 32.328125 33.6875 34.8125 36.53125 \r\nQ 39.546875 41.84375 41.421875 45.53125 \r\nQ 43.3125 49.21875 43.3125 52.78125 \r\nQ 43.3125 58.59375 39.234375 62.25 \r\nQ 35.15625 65.921875 28.609375 65.921875 \r\nQ 23.96875 65.921875 18.8125 64.3125 \r\nQ 13.671875 62.703125 7.8125 59.421875 \r\nL 7.8125 69.390625 \r\nQ 13.765625 71.78125 18.9375 73 \r\nQ 24.125 74.21875 28.421875 74.21875 \r\nQ 39.75 74.21875 46.484375 68.546875 \r\nQ 53.21875 62.890625 53.21875 53.421875 \r\nQ 53.21875 48.921875 51.53125 44.890625 \r\nQ 49.859375 40.875 45.40625 35.40625 \r\nQ 44.1875 33.984375 37.640625 27.21875 \r\nQ 31.109375 20.453125 19.1875 8.296875 \r\nz\r\n\" id=\"DejaVuSans-50\"/>\r\n      </defs>\r\n      <g transform=\"translate(7.2 203.505268)scale(0.1 -0.1)\">\r\n       <use xlink:href=\"#DejaVuSans-50\"/>\r\n       <use x=\"63.623047\" xlink:href=\"#DejaVuSans-48\"/>\r\n       <use x=\"127.246094\" xlink:href=\"#DejaVuSans-48\"/>\r\n       <use x=\"190.869141\" xlink:href=\"#DejaVuSans-48\"/>\r\n       <use x=\"254.492188\" xlink:href=\"#DejaVuSans-48\"/>\r\n       <use x=\"318.115234\" xlink:href=\"#DejaVuSans-48\"/>\r\n      </g>\r\n     </g>\r\n    </g>\r\n    <g id=\"ytick_10\">\r\n     <g id=\"line2d_35\">\r\n      <path clip-path=\"url(#p8903013940)\" d=\"M 52.375 159.653973 \r\nL 197.940217 159.653973 \r\n\" style=\"fill:none;stroke:#b0b0b0;stroke-linecap:square;stroke-width:0.8;\"/>\r\n     </g>\r\n     <g id=\"line2d_36\">\r\n      <g>\r\n       <use style=\"stroke:#000000;stroke-width:0.8;\" x=\"52.375\" xlink:href=\"#mfd80544dfb\" y=\"159.653973\"/>\r\n      </g>\r\n     </g>\r\n     <g id=\"text_21\">\r\n      <!-- 400000 -->\r\n      <defs>\r\n       <path d=\"M 37.796875 64.3125 \r\nL 12.890625 25.390625 \r\nL 37.796875 25.390625 \r\nz\r\nM 35.203125 72.90625 \r\nL 47.609375 72.90625 \r\nL 47.609375 25.390625 \r\nL 58.015625 25.390625 \r\nL 58.015625 17.1875 \r\nL 47.609375 17.1875 \r\nL 47.609375 0 \r\nL 37.796875 0 \r\nL 37.796875 17.1875 \r\nL 4.890625 17.1875 \r\nL 4.890625 26.703125 \r\nz\r\n\" id=\"DejaVuSans-52\"/>\r\n      </defs>\r\n      <g transform=\"translate(7.2 163.453192)scale(0.1 -0.1)\">\r\n       <use xlink:href=\"#DejaVuSans-52\"/>\r\n       <use x=\"63.623047\" xlink:href=\"#DejaVuSans-48\"/>\r\n       <use x=\"127.246094\" xlink:href=\"#DejaVuSans-48\"/>\r\n       <use x=\"190.869141\" xlink:href=\"#DejaVuSans-48\"/>\r\n       <use x=\"254.492188\" xlink:href=\"#DejaVuSans-48\"/>\r\n       <use x=\"318.115234\" xlink:href=\"#DejaVuSans-48\"/>\r\n      </g>\r\n     </g>\r\n    </g>\r\n   </g>\r\n   <g id=\"patch_43\">\r\n    <path d=\"M 52.375 239.758125 \r\nL 52.375 145.218995 \r\n\" style=\"fill:none;stroke:#000000;stroke-linecap:square;stroke-linejoin:miter;stroke-width:0.8;\"/>\r\n   </g>\r\n   <g id=\"patch_44\">\r\n    <path d=\"M 197.940217 239.758125 \r\nL 197.940217 145.218995 \r\n\" style=\"fill:none;stroke:#000000;stroke-linecap:square;stroke-linejoin:miter;stroke-width:0.8;\"/>\r\n   </g>\r\n   <g id=\"patch_45\">\r\n    <path d=\"M 52.375 239.758125 \r\nL 197.940217 239.758125 \r\n\" style=\"fill:none;stroke:#000000;stroke-linecap:square;stroke-linejoin:miter;stroke-width:0.8;\"/>\r\n   </g>\r\n   <g id=\"patch_46\">\r\n    <path d=\"M 52.375 145.218995 \r\nL 197.940217 145.218995 \r\n\" style=\"fill:none;stroke:#000000;stroke-linecap:square;stroke-linejoin:miter;stroke-width:0.8;\"/>\r\n   </g>\r\n   <g id=\"text_22\">\r\n    <!-- price -->\r\n    <defs>\r\n     <path d=\"M 18.109375 8.203125 \r\nL 18.109375 -20.796875 \r\nL 9.078125 -20.796875 \r\nL 9.078125 54.6875 \r\nL 18.109375 54.6875 \r\nL 18.109375 46.390625 \r\nQ 20.953125 51.265625 25.265625 53.625 \r\nQ 29.59375 56 35.59375 56 \r\nQ 45.5625 56 51.78125 48.09375 \r\nQ 58.015625 40.1875 58.015625 27.296875 \r\nQ 58.015625 14.40625 51.78125 6.484375 \r\nQ 45.5625 -1.421875 35.59375 -1.421875 \r\nQ 29.59375 -1.421875 25.265625 0.953125 \r\nQ 20.953125 3.328125 18.109375 8.203125 \r\nz\r\nM 48.6875 27.296875 \r\nQ 48.6875 37.203125 44.609375 42.84375 \r\nQ 40.53125 48.484375 33.40625 48.484375 \r\nQ 26.265625 48.484375 22.1875 42.84375 \r\nQ 18.109375 37.203125 18.109375 27.296875 \r\nQ 18.109375 17.390625 22.1875 11.75 \r\nQ 26.265625 6.109375 33.40625 6.109375 \r\nQ 40.53125 6.109375 44.609375 11.75 \r\nQ 48.6875 17.390625 48.6875 27.296875 \r\nz\r\n\" id=\"DejaVuSans-112\"/>\r\n     <path d=\"M 41.109375 46.296875 \r\nQ 39.59375 47.171875 37.8125 47.578125 \r\nQ 36.03125 48 33.890625 48 \r\nQ 26.265625 48 22.1875 43.046875 \r\nQ 18.109375 38.09375 18.109375 28.8125 \r\nL 18.109375 0 \r\nL 9.078125 0 \r\nL 9.078125 54.6875 \r\nL 18.109375 54.6875 \r\nL 18.109375 46.1875 \r\nQ 20.953125 51.171875 25.484375 53.578125 \r\nQ 30.03125 56 36.53125 56 \r\nQ 37.453125 56 38.578125 55.875 \r\nQ 39.703125 55.765625 41.0625 55.515625 \r\nz\r\n\" id=\"DejaVuSans-114\"/>\r\n     <path d=\"M 48.78125 52.59375 \r\nL 48.78125 44.1875 \r\nQ 44.96875 46.296875 41.140625 47.34375 \r\nQ 37.3125 48.390625 33.40625 48.390625 \r\nQ 24.65625 48.390625 19.8125 42.84375 \r\nQ 14.984375 37.3125 14.984375 27.296875 \r\nQ 14.984375 17.28125 19.8125 11.734375 \r\nQ 24.65625 6.203125 33.40625 6.203125 \r\nQ 37.3125 6.203125 41.140625 7.25 \r\nQ 44.96875 8.296875 48.78125 10.40625 \r\nL 48.78125 2.09375 \r\nQ 45.015625 0.34375 40.984375 -0.53125 \r\nQ 36.96875 -1.421875 32.421875 -1.421875 \r\nQ 20.0625 -1.421875 12.78125 6.34375 \r\nQ 5.515625 14.109375 5.515625 27.296875 \r\nQ 5.515625 40.671875 12.859375 48.328125 \r\nQ 20.21875 56 33.015625 56 \r\nQ 37.15625 56 41.109375 55.140625 \r\nQ 45.0625 54.296875 48.78125 52.59375 \r\nz\r\n\" id=\"DejaVuSans-99\"/>\r\n    </defs>\r\n    <g transform=\"translate(110.224171 139.218995)scale(0.12 -0.12)\">\r\n     <use xlink:href=\"#DejaVuSans-112\"/>\r\n     <use x=\"63.476562\" xlink:href=\"#DejaVuSans-114\"/>\r\n     <use x=\"104.589844\" xlink:href=\"#DejaVuSans-105\"/>\r\n     <use x=\"132.373047\" xlink:href=\"#DejaVuSans-99\"/>\r\n     <use x=\"187.353516\" xlink:href=\"#DejaVuSans-101\"/>\r\n    </g>\r\n   </g>\r\n  </g>\r\n  <g id=\"axes_4\">\r\n   <g id=\"patch_47\">\r\n    <path d=\"M 241.609783 239.758125 \r\nL 387.175 239.758125 \r\nL 387.175 145.218995 \r\nL 241.609783 145.218995 \r\nz\r\n\" style=\"fill:#ffffff;\"/>\r\n   </g>\r\n   <g id=\"patch_48\">\r\n    <path clip-path=\"url(#pb9b4e3f111)\" d=\"M 248.226383 239.758125 \r\nL 261.459585 239.758125 \r\nL 261.459585 149.720858 \r\nL 248.226383 149.720858 \r\nz\r\n\" style=\"fill:#1f77b4;\"/>\r\n   </g>\r\n   <g id=\"patch_49\">\r\n    <path clip-path=\"url(#pb9b4e3f111)\" d=\"M 261.459585 239.758125 \r\nL 274.692787 239.758125 \r\nL 274.692787 239.758125 \r\nL 261.459585 239.758125 \r\nz\r\n\" style=\"fill:#1f77b4;\"/>\r\n   </g>\r\n   <g id=\"patch_50\">\r\n    <path clip-path=\"url(#pb9b4e3f111)\" d=\"M 274.692787 239.758125 \r\nL 287.925988 239.758125 \r\nL 287.925988 239.758125 \r\nL 274.692787 239.758125 \r\nz\r\n\" style=\"fill:#1f77b4;\"/>\r\n   </g>\r\n   <g id=\"patch_51\">\r\n    <path clip-path=\"url(#pb9b4e3f111)\" d=\"M 287.925988 239.758125 \r\nL 301.15919 239.758125 \r\nL 301.15919 239.758125 \r\nL 287.925988 239.758125 \r\nz\r\n\" style=\"fill:#1f77b4;\"/>\r\n   </g>\r\n   <g id=\"patch_52\">\r\n    <path clip-path=\"url(#pb9b4e3f111)\" d=\"M 301.15919 239.758125 \r\nL 314.392391 239.758125 \r\nL 314.392391 239.758125 \r\nL 301.15919 239.758125 \r\nz\r\n\" style=\"fill:#1f77b4;\"/>\r\n   </g>\r\n   <g id=\"patch_53\">\r\n    <path clip-path=\"url(#pb9b4e3f111)\" d=\"M 314.392391 239.758125 \r\nL 327.625593 239.758125 \r\nL 327.625593 239.758125 \r\nL 314.392391 239.758125 \r\nz\r\n\" style=\"fill:#1f77b4;\"/>\r\n   </g>\r\n   <g id=\"patch_54\">\r\n    <path clip-path=\"url(#pb9b4e3f111)\" d=\"M 327.625593 239.758125 \r\nL 340.858794 239.758125 \r\nL 340.858794 239.758125 \r\nL 327.625593 239.758125 \r\nz\r\n\" style=\"fill:#1f77b4;\"/>\r\n   </g>\r\n   <g id=\"patch_55\">\r\n    <path clip-path=\"url(#pb9b4e3f111)\" d=\"M 340.858794 239.758125 \r\nL 354.091996 239.758125 \r\nL 354.091996 239.758125 \r\nL 340.858794 239.758125 \r\nz\r\n\" style=\"fill:#1f77b4;\"/>\r\n   </g>\r\n   <g id=\"patch_56\">\r\n    <path clip-path=\"url(#pb9b4e3f111)\" d=\"M 354.091996 239.758125 \r\nL 367.325198 239.758125 \r\nL 367.325198 239.758125 \r\nL 354.091996 239.758125 \r\nz\r\n\" style=\"fill:#1f77b4;\"/>\r\n   </g>\r\n   <g id=\"patch_57\">\r\n    <path clip-path=\"url(#pb9b4e3f111)\" d=\"M 367.325198 239.758125 \r\nL 380.558399 239.758125 \r\nL 380.558399 239.205791 \r\nL 367.325198 239.205791 \r\nz\r\n\" style=\"fill:#1f77b4;\"/>\r\n   </g>\r\n   <g id=\"matplotlib.axis_7\">\r\n    <g id=\"xtick_9\">\r\n     <g id=\"line2d_37\">\r\n      <path clip-path=\"url(#pb9b4e3f111)\" d=\"M 248.226383 239.758125 \r\nL 248.226383 145.218995 \r\n\" style=\"fill:none;stroke:#b0b0b0;stroke-linecap:square;stroke-width:0.8;\"/>\r\n     </g>\r\n     <g id=\"line2d_38\">\r\n      <g>\r\n       <use style=\"stroke:#000000;stroke-width:0.8;\" x=\"248.226383\" xlink:href=\"#m2dcb64008b\" y=\"239.758125\"/>\r\n      </g>\r\n     </g>\r\n     <g id=\"text_23\">\r\n      <!-- 2016.0 -->\r\n      <defs>\r\n       <path d=\"M 33.015625 40.375 \r\nQ 26.375 40.375 22.484375 35.828125 \r\nQ 18.609375 31.296875 18.609375 23.390625 \r\nQ 18.609375 15.53125 22.484375 10.953125 \r\nQ 26.375 6.390625 33.015625 6.390625 \r\nQ 39.65625 6.390625 43.53125 10.953125 \r\nQ 47.40625 15.53125 47.40625 23.390625 \r\nQ 47.40625 31.296875 43.53125 35.828125 \r\nQ 39.65625 40.375 33.015625 40.375 \r\nz\r\nM 52.59375 71.296875 \r\nL 52.59375 62.3125 \r\nQ 48.875 64.0625 45.09375 64.984375 \r\nQ 41.3125 65.921875 37.59375 65.921875 \r\nQ 27.828125 65.921875 22.671875 59.328125 \r\nQ 17.53125 52.734375 16.796875 39.40625 \r\nQ 19.671875 43.65625 24.015625 45.921875 \r\nQ 28.375 48.1875 33.59375 48.1875 \r\nQ 44.578125 48.1875 50.953125 41.515625 \r\nQ 57.328125 34.859375 57.328125 23.390625 \r\nQ 57.328125 12.15625 50.6875 5.359375 \r\nQ 44.046875 -1.421875 33.015625 -1.421875 \r\nQ 20.359375 -1.421875 13.671875 8.265625 \r\nQ 6.984375 17.96875 6.984375 36.375 \r\nQ 6.984375 53.65625 15.1875 63.9375 \r\nQ 23.390625 74.21875 37.203125 74.21875 \r\nQ 40.921875 74.21875 44.703125 73.484375 \r\nQ 48.484375 72.75 52.59375 71.296875 \r\nz\r\n\" id=\"DejaVuSans-54\"/>\r\n      </defs>\r\n      <g transform=\"translate(230.731071 254.356563)scale(0.1 -0.1)\">\r\n       <use xlink:href=\"#DejaVuSans-50\"/>\r\n       <use x=\"63.623047\" xlink:href=\"#DejaVuSans-48\"/>\r\n       <use x=\"127.246094\" xlink:href=\"#DejaVuSans-49\"/>\r\n       <use x=\"190.869141\" xlink:href=\"#DejaVuSans-54\"/>\r\n       <use x=\"254.492188\" xlink:href=\"#DejaVuSans-46\"/>\r\n       <use x=\"286.279297\" xlink:href=\"#DejaVuSans-48\"/>\r\n      </g>\r\n     </g>\r\n    </g>\r\n    <g id=\"xtick_10\">\r\n     <g id=\"line2d_39\">\r\n      <path clip-path=\"url(#pb9b4e3f111)\" d=\"M 314.392391 239.758125 \r\nL 314.392391 145.218995 \r\n\" style=\"fill:none;stroke:#b0b0b0;stroke-linecap:square;stroke-width:0.8;\"/>\r\n     </g>\r\n     <g id=\"line2d_40\">\r\n      <g>\r\n       <use style=\"stroke:#000000;stroke-width:0.8;\" x=\"314.392391\" xlink:href=\"#m2dcb64008b\" y=\"239.758125\"/>\r\n      </g>\r\n     </g>\r\n     <g id=\"text_24\">\r\n      <!-- 2016.5 -->\r\n      <g transform=\"translate(296.897079 254.356563)scale(0.1 -0.1)\">\r\n       <use xlink:href=\"#DejaVuSans-50\"/>\r\n       <use x=\"63.623047\" xlink:href=\"#DejaVuSans-48\"/>\r\n       <use x=\"127.246094\" xlink:href=\"#DejaVuSans-49\"/>\r\n       <use x=\"190.869141\" xlink:href=\"#DejaVuSans-54\"/>\r\n       <use x=\"254.492188\" xlink:href=\"#DejaVuSans-46\"/>\r\n       <use x=\"286.279297\" xlink:href=\"#DejaVuSans-53\"/>\r\n      </g>\r\n     </g>\r\n    </g>\r\n    <g id=\"xtick_11\">\r\n     <g id=\"line2d_41\">\r\n      <path clip-path=\"url(#pb9b4e3f111)\" d=\"M 380.558399 239.758125 \r\nL 380.558399 145.218995 \r\n\" style=\"fill:none;stroke:#b0b0b0;stroke-linecap:square;stroke-width:0.8;\"/>\r\n     </g>\r\n     <g id=\"line2d_42\">\r\n      <g>\r\n       <use style=\"stroke:#000000;stroke-width:0.8;\" x=\"380.558399\" xlink:href=\"#m2dcb64008b\" y=\"239.758125\"/>\r\n      </g>\r\n     </g>\r\n     <g id=\"text_25\">\r\n      <!-- 2017.0 -->\r\n      <g transform=\"translate(363.063087 254.356563)scale(0.1 -0.1)\">\r\n       <use xlink:href=\"#DejaVuSans-50\"/>\r\n       <use x=\"63.623047\" xlink:href=\"#DejaVuSans-48\"/>\r\n       <use x=\"127.246094\" xlink:href=\"#DejaVuSans-49\"/>\r\n       <use x=\"190.869141\" xlink:href=\"#DejaVuSans-55\"/>\r\n       <use x=\"254.492188\" xlink:href=\"#DejaVuSans-46\"/>\r\n       <use x=\"286.279297\" xlink:href=\"#DejaVuSans-48\"/>\r\n      </g>\r\n     </g>\r\n    </g>\r\n   </g>\r\n   <g id=\"matplotlib.axis_8\">\r\n    <g id=\"ytick_11\">\r\n     <g id=\"line2d_43\">\r\n      <path clip-path=\"url(#pb9b4e3f111)\" d=\"M 241.609783 239.758125 \r\nL 387.175 239.758125 \r\n\" style=\"fill:none;stroke:#b0b0b0;stroke-linecap:square;stroke-width:0.8;\"/>\r\n     </g>\r\n     <g id=\"line2d_44\">\r\n      <g>\r\n       <use style=\"stroke:#000000;stroke-width:0.8;\" x=\"241.609783\" xlink:href=\"#mfd80544dfb\" y=\"239.758125\"/>\r\n      </g>\r\n     </g>\r\n     <g id=\"text_26\">\r\n      <!-- 0 -->\r\n      <g transform=\"translate(228.247283 243.557344)scale(0.1 -0.1)\">\r\n       <use xlink:href=\"#DejaVuSans-48\"/>\r\n      </g>\r\n     </g>\r\n    </g>\r\n    <g id=\"ytick_12\">\r\n     <g id=\"line2d_45\">\r\n      <path clip-path=\"url(#pb9b4e3f111)\" d=\"M 241.609783 215.524436 \r\nL 387.175 215.524436 \r\n\" style=\"fill:none;stroke:#b0b0b0;stroke-linecap:square;stroke-width:0.8;\"/>\r\n     </g>\r\n     <g id=\"line2d_46\">\r\n      <g>\r\n       <use style=\"stroke:#000000;stroke-width:0.8;\" x=\"241.609783\" xlink:href=\"#mfd80544dfb\" y=\"215.524436\"/>\r\n      </g>\r\n     </g>\r\n     <g id=\"text_27\">\r\n      <!-- 250000 -->\r\n      <g transform=\"translate(196.434783 219.323655)scale(0.1 -0.1)\">\r\n       <use xlink:href=\"#DejaVuSans-50\"/>\r\n       <use x=\"63.623047\" xlink:href=\"#DejaVuSans-53\"/>\r\n       <use x=\"127.246094\" xlink:href=\"#DejaVuSans-48\"/>\r\n       <use x=\"190.869141\" xlink:href=\"#DejaVuSans-48\"/>\r\n       <use x=\"254.492188\" xlink:href=\"#DejaVuSans-48\"/>\r\n       <use x=\"318.115234\" xlink:href=\"#DejaVuSans-48\"/>\r\n      </g>\r\n     </g>\r\n    </g>\r\n    <g id=\"ytick_13\">\r\n     <g id=\"line2d_47\">\r\n      <path clip-path=\"url(#pb9b4e3f111)\" d=\"M 241.609783 191.290747 \r\nL 387.175 191.290747 \r\n\" style=\"fill:none;stroke:#b0b0b0;stroke-linecap:square;stroke-width:0.8;\"/>\r\n     </g>\r\n     <g id=\"line2d_48\">\r\n      <g>\r\n       <use style=\"stroke:#000000;stroke-width:0.8;\" x=\"241.609783\" xlink:href=\"#mfd80544dfb\" y=\"191.290747\"/>\r\n      </g>\r\n     </g>\r\n     <g id=\"text_28\">\r\n      <!-- 500000 -->\r\n      <g transform=\"translate(196.434783 195.089965)scale(0.1 -0.1)\">\r\n       <use xlink:href=\"#DejaVuSans-53\"/>\r\n       <use x=\"63.623047\" xlink:href=\"#DejaVuSans-48\"/>\r\n       <use x=\"127.246094\" xlink:href=\"#DejaVuSans-48\"/>\r\n       <use x=\"190.869141\" xlink:href=\"#DejaVuSans-48\"/>\r\n       <use x=\"254.492188\" xlink:href=\"#DejaVuSans-48\"/>\r\n       <use x=\"318.115234\" xlink:href=\"#DejaVuSans-48\"/>\r\n      </g>\r\n     </g>\r\n    </g>\r\n    <g id=\"ytick_14\">\r\n     <g id=\"line2d_49\">\r\n      <path clip-path=\"url(#pb9b4e3f111)\" d=\"M 241.609783 167.057058 \r\nL 387.175 167.057058 \r\n\" style=\"fill:none;stroke:#b0b0b0;stroke-linecap:square;stroke-width:0.8;\"/>\r\n     </g>\r\n     <g id=\"line2d_50\">\r\n      <g>\r\n       <use style=\"stroke:#000000;stroke-width:0.8;\" x=\"241.609783\" xlink:href=\"#mfd80544dfb\" y=\"167.057058\"/>\r\n      </g>\r\n     </g>\r\n     <g id=\"text_29\">\r\n      <!-- 750000 -->\r\n      <g transform=\"translate(196.434783 170.856276)scale(0.1 -0.1)\">\r\n       <use xlink:href=\"#DejaVuSans-55\"/>\r\n       <use x=\"63.623047\" xlink:href=\"#DejaVuSans-53\"/>\r\n       <use x=\"127.246094\" xlink:href=\"#DejaVuSans-48\"/>\r\n       <use x=\"190.869141\" xlink:href=\"#DejaVuSans-48\"/>\r\n       <use x=\"254.492188\" xlink:href=\"#DejaVuSans-48\"/>\r\n       <use x=\"318.115234\" xlink:href=\"#DejaVuSans-48\"/>\r\n      </g>\r\n     </g>\r\n    </g>\r\n   </g>\r\n   <g id=\"patch_58\">\r\n    <path d=\"M 241.609783 239.758125 \r\nL 241.609783 145.218995 \r\n\" style=\"fill:none;stroke:#000000;stroke-linecap:square;stroke-linejoin:miter;stroke-width:0.8;\"/>\r\n   </g>\r\n   <g id=\"patch_59\">\r\n    <path d=\"M 387.175 239.758125 \r\nL 387.175 145.218995 \r\n\" style=\"fill:none;stroke:#000000;stroke-linecap:square;stroke-linejoin:miter;stroke-width:0.8;\"/>\r\n   </g>\r\n   <g id=\"patch_60\">\r\n    <path d=\"M 241.609783 239.758125 \r\nL 387.175 239.758125 \r\n\" style=\"fill:none;stroke:#000000;stroke-linecap:square;stroke-linejoin:miter;stroke-width:0.8;\"/>\r\n   </g>\r\n   <g id=\"patch_61\">\r\n    <path d=\"M 241.609783 145.218995 \r\nL 387.175 145.218995 \r\n\" style=\"fill:none;stroke:#000000;stroke-linecap:square;stroke-linejoin:miter;stroke-width:0.8;\"/>\r\n   </g>\r\n   <g id=\"text_30\">\r\n    <!-- year -->\r\n    <defs>\r\n     <path d=\"M 32.171875 -5.078125 \r\nQ 28.375 -14.84375 24.75 -17.8125 \r\nQ 21.140625 -20.796875 15.09375 -20.796875 \r\nL 7.90625 -20.796875 \r\nL 7.90625 -13.28125 \r\nL 13.1875 -13.28125 \r\nQ 16.890625 -13.28125 18.9375 -11.515625 \r\nQ 21 -9.765625 23.484375 -3.21875 \r\nL 25.09375 0.875 \r\nL 2.984375 54.6875 \r\nL 12.5 54.6875 \r\nL 29.59375 11.921875 \r\nL 46.6875 54.6875 \r\nL 56.203125 54.6875 \r\nz\r\n\" id=\"DejaVuSans-121\"/>\r\n     <path d=\"M 34.28125 27.484375 \r\nQ 23.390625 27.484375 19.1875 25 \r\nQ 14.984375 22.515625 14.984375 16.5 \r\nQ 14.984375 11.71875 18.140625 8.90625 \r\nQ 21.296875 6.109375 26.703125 6.109375 \r\nQ 34.1875 6.109375 38.703125 11.40625 \r\nQ 43.21875 16.703125 43.21875 25.484375 \r\nL 43.21875 27.484375 \r\nz\r\nM 52.203125 31.203125 \r\nL 52.203125 0 \r\nL 43.21875 0 \r\nL 43.21875 8.296875 \r\nQ 40.140625 3.328125 35.546875 0.953125 \r\nQ 30.953125 -1.421875 24.3125 -1.421875 \r\nQ 15.921875 -1.421875 10.953125 3.296875 \r\nQ 6 8.015625 6 15.921875 \r\nQ 6 25.140625 12.171875 29.828125 \r\nQ 18.359375 34.515625 30.609375 34.515625 \r\nL 43.21875 34.515625 \r\nL 43.21875 35.40625 \r\nQ 43.21875 41.609375 39.140625 45 \r\nQ 35.0625 48.390625 27.6875 48.390625 \r\nQ 23 48.390625 18.546875 47.265625 \r\nQ 14.109375 46.140625 10.015625 43.890625 \r\nL 10.015625 52.203125 \r\nQ 14.9375 54.109375 19.578125 55.046875 \r\nQ 24.21875 56 28.609375 56 \r\nQ 40.484375 56 46.34375 49.84375 \r\nQ 52.203125 43.703125 52.203125 31.203125 \r\nz\r\n\" id=\"DejaVuSans-97\"/>\r\n    </defs>\r\n    <g transform=\"translate(301.005829 139.218995)scale(0.12 -0.12)\">\r\n     <use xlink:href=\"#DejaVuSans-121\"/>\r\n     <use x=\"59.179688\" xlink:href=\"#DejaVuSans-101\"/>\r\n     <use x=\"120.703125\" xlink:href=\"#DejaVuSans-97\"/>\r\n     <use x=\"181.982422\" xlink:href=\"#DejaVuSans-114\"/>\r\n    </g>\r\n   </g>\r\n  </g>\r\n </g>\r\n <defs>\r\n  <clipPath id=\"p802daf818d\">\r\n   <rect height=\"94.53913\" width=\"145.565217\" x=\"52.375\" y=\"22.318125\"/>\r\n  </clipPath>\r\n  <clipPath id=\"pd6f6a31888\">\r\n   <rect height=\"94.53913\" width=\"145.565217\" x=\"241.609783\" y=\"22.318125\"/>\r\n  </clipPath>\r\n  <clipPath id=\"p8903013940\">\r\n   <rect height=\"94.53913\" width=\"145.565217\" x=\"52.375\" y=\"145.218995\"/>\r\n  </clipPath>\r\n  <clipPath id=\"pb9b4e3f111\">\r\n   <rect height=\"94.53913\" width=\"145.565217\" x=\"241.609783\" y=\"145.218995\"/>\r\n  </clipPath>\r\n </defs>\r\n</svg>\r\n",
      "image/png": "[encoded data removed]"
     },
     "metadata": {
      "needs_background": "light"
     }
    }
   ],
   "source": [
    "calendar_seattle_dropped_na.hist();"
   ]
  },
  {
   "cell_type": "markdown",
   "metadata": {},
   "source": [
    "Group by listing_id, year and month, and extract mean price."
   ]
  },
  {
   "cell_type": "code",
   "execution_count": 11,
   "metadata": {},
   "outputs": [
    {
     "output_type": "execute_result",
     "data": {
      "text/plain": "       listing_id  year  month  price_year_month_mean\n0            3335  2016      2                    120\n1            3335  2016      3                    120\n2            3335  2016      4                    120\n3            3335  2016      5                    120\n4            3335  2016      6                    120\n...           ...   ...    ...                    ...\n36110    10340165  2016      9                     43\n36111    10340165  2016     10                     43\n36112    10340165  2016     11                     43\n36113    10340165  2016     12                     43\n36114    10340165  2017      1                     43\n\n[36115 rows x 4 columns]",
      "text/html": "<div>\n<style scoped>\n    .dataframe tbody tr th:only-of-type {\n        vertical-align: middle;\n    }\n\n    .dataframe tbody tr th {\n        vertical-align: top;\n    }\n\n    .dataframe thead th {\n        text-align: right;\n    }\n</style>\n<table border=\"1\" class=\"dataframe\">\n  <thead>\n    <tr style=\"text-align: right;\">\n      <th></th>\n      <th>listing_id</th>\n      <th>year</th>\n      <th>month</th>\n      <th>price_year_month_mean</th>\n    </tr>\n  </thead>\n  <tbody>\n    <tr>\n      <th>0</th>\n      <td>3335</td>\n      <td>2016</td>\n      <td>2</td>\n      <td>120</td>\n    </tr>\n    <tr>\n      <th>1</th>\n      <td>3335</td>\n      <td>2016</td>\n      <td>3</td>\n      <td>120</td>\n    </tr>\n    <tr>\n      <th>2</th>\n      <td>3335</td>\n      <td>2016</td>\n      <td>4</td>\n      <td>120</td>\n    </tr>\n    <tr>\n      <th>3</th>\n      <td>3335</td>\n      <td>2016</td>\n      <td>5</td>\n      <td>120</td>\n    </tr>\n    <tr>\n      <th>4</th>\n      <td>3335</td>\n      <td>2016</td>\n      <td>6</td>\n      <td>120</td>\n    </tr>\n    <tr>\n      <th>...</th>\n      <td>...</td>\n      <td>...</td>\n      <td>...</td>\n      <td>...</td>\n    </tr>\n    <tr>\n      <th>36110</th>\n      <td>10340165</td>\n      <td>2016</td>\n      <td>9</td>\n      <td>43</td>\n    </tr>\n    <tr>\n      <th>36111</th>\n      <td>10340165</td>\n      <td>2016</td>\n      <td>10</td>\n      <td>43</td>\n    </tr>\n    <tr>\n      <th>36112</th>\n      <td>10340165</td>\n      <td>2016</td>\n      <td>11</td>\n      <td>43</td>\n    </tr>\n    <tr>\n      <th>36113</th>\n      <td>10340165</td>\n      <td>2016</td>\n      <td>12</td>\n      <td>43</td>\n    </tr>\n    <tr>\n      <th>36114</th>\n      <td>10340165</td>\n      <td>2017</td>\n      <td>1</td>\n      <td>43</td>\n    </tr>\n  </tbody>\n</table>\n<p>36115 rows × 4 columns</p>\n</div>"
     },
     "metadata": {},
     "execution_count": 11
    }
   ],
   "source": [
    "calendar_seattle_grouped = (calendar_seattle_dropped_na\n",
    "    .groupby([\"listing_id\", \"year\", \"month\"])\n",
    "    .agg(price_year_month_mean = pd.NamedAgg(column=\"price\", aggfunc=\"mean\")).astype(\"int\")\n",
    "    .reset_index()\n",
    "    )\n",
    "calendar_seattle_grouped"
   ]
  },
  {
   "cell_type": "code",
   "execution_count": 12,
   "metadata": {},
   "outputs": [
    {
     "output_type": "execute_result",
     "data": {
      "text/plain": "license                        1.000000\nsquare_feet                    0.974594\nmonthly_price                  0.602672\nsecurity_deposit               0.511262\nweekly_price                   0.473808\nnotes                          0.420639\nneighborhood_overview          0.270299\ncleaning_fee                   0.269775\ntransit                        0.244631\nhost_about                     0.224987\nhost_acceptance_rate           0.202462\nreview_scores_accuracy         0.172342\nreview_scores_checkin          0.172342\nreview_scores_value            0.171818\nreview_scores_location         0.171556\nreview_scores_cleanliness      0.171032\nreview_scores_communication    0.170508\nreview_scores_rating           0.169460\nreviews_per_month              0.164222\nfirst_review                   0.164222\nlast_review                    0.164222\nspace                          0.149031\nhost_response_time             0.136983\nhost_response_rate             0.136983\nneighbourhood                  0.108958\nthumbnail_url                  0.083814\nmedium_url                     0.083814\nxl_picture_url                 0.083814\nhost_neighbourhood             0.078575\nsummary                        0.046359\nbathrooms                      0.004191\nhost_location                  0.002095\nzipcode                        0.001833\nbedrooms                       0.001572\nhost_is_superhost              0.000524\nhost_thumbnail_url             0.000524\nhost_picture_url               0.000524\nhost_listings_count            0.000524\nhost_since                     0.000524\nhost_name                      0.000524\nhost_total_listings_count      0.000524\nhost_has_profile_pic           0.000524\nhost_identity_verified         0.000524\nproperty_type                  0.000262\nbeds                           0.000262\ndtype: float64"
     },
     "metadata": {},
     "execution_count": 12
    }
   ],
   "source": [
    "listings_seattle.isnull().mean()[listings_seattle.isnull().mean() != 0].sort_values(ascending=False)"
   ]
  },
  {
   "cell_type": "markdown",
   "metadata": {},
   "source": [
    "Remove one \\n value from zip code."
   ]
  },
  {
   "cell_type": "code",
   "execution_count": 13,
   "metadata": {},
   "outputs": [
    {
     "output_type": "execute_result",
     "data": {
      "text/plain": "'99\\n98122'"
     },
     "metadata": {},
     "execution_count": 13
    }
   ],
   "source": [
    "# error\n",
    "listings_seattle.loc[859,\"zipcode\"]"
   ]
  },
  {
   "cell_type": "code",
   "execution_count": 14,
   "metadata": {},
   "outputs": [],
   "source": [
    "listings_seattle = listings_seattle.assign(zipcode = pd.to_numeric(listings_seattle[\"zipcode\"], errors='coerce'))"
   ]
  },
  {
   "cell_type": "code",
   "execution_count": 15,
   "metadata": {},
   "outputs": [
    {
     "output_type": "execute_result",
     "data": {
      "text/plain": "        id                           listing_url       scrape_id last_scraped  \\\n0   241032   https://www.airbnb.com/rooms/241032  20160104002432   2016-01-04   \n1   953595   https://www.airbnb.com/rooms/953595  20160104002432   2016-01-04   \n2  3308979  https://www.airbnb.com/rooms/3308979  20160104002432   2016-01-04   \n3  7421966  https://www.airbnb.com/rooms/7421966  20160104002432   2016-01-04   \n4   278830   https://www.airbnb.com/rooms/278830  20160104002432   2016-01-04   \n\n                                  name  \\\n0         Stylish Queen Anne Apartment   \n1   Bright & Airy Queen Anne Apartment   \n2  New Modern House-Amazing water view   \n3                   Queen Anne Chateau   \n4       Charming craftsman 3 bdm house   \n\n                                             summary  \\\n0                                                NaN   \n1  Chemically sensitive? We've removed the irrita...   \n2  New modern house built in 2013.  Spectacular s...   \n3  A charming apartment that sits atop Queen Anne...   \n4  Cozy family craftman house in beautiful neighb...   \n\n                                               space  \\\n0  Make your self at home in this charming one-be...   \n1  Beautiful, hypoallergenic apartment in an extr...   \n2  Our house is modern, light and fresh with a wa...   \n3                                                NaN   \n4  Cozy family craftman house in beautiful neighb...   \n\n                                         description experiences_offered  \\\n0  Make your self at home in this charming one-be...                none   \n1  Chemically sensitive? We've removed the irrita...                none   \n2  New modern house built in 2013.  Spectacular s...                none   \n3  A charming apartment that sits atop Queen Anne...                none   \n4  Cozy family craftman house in beautiful neighb...                none   \n\n                               neighborhood_overview  ... review_scores_value  \\\n0                                                NaN  ...                10.0   \n1  Queen Anne is a wonderful, truly functional vi...  ...                10.0   \n2  Upper Queen Anne is a charming neighborhood fu...  ...                10.0   \n3                                                NaN  ...                 NaN   \n4  We are in the beautiful neighborhood of Queen ...  ...                 9.0   \n\n  requires_license license jurisdiction_names instant_bookable  \\\n0                f     NaN         WASHINGTON                f   \n1                f     NaN         WASHINGTON                f   \n2                f     NaN         WASHINGTON                f   \n3                f     NaN         WASHINGTON                f   \n4                f     NaN         WASHINGTON                f   \n\n  cancellation_policy  require_guest_profile_picture  \\\n0            moderate                              f   \n1              strict                              t   \n2              strict                              f   \n3            flexible                              f   \n4              strict                              f   \n\n  require_guest_phone_verification calculated_host_listings_count  \\\n0                                f                              2   \n1                                t                              6   \n2                                f                              2   \n3                                f                              1   \n4                                f                              1   \n\n  reviews_per_month  \n0              4.07  \n1              1.48  \n2              1.15  \n3               NaN  \n4              0.89  \n\n[5 rows x 92 columns]",
      "text/html": "<div>\n<style scoped>\n    .dataframe tbody tr th:only-of-type {\n        vertical-align: middle;\n    }\n\n    .dataframe tbody tr th {\n        vertical-align: top;\n    }\n\n    .dataframe thead th {\n        text-align: right;\n    }\n</style>\n<table border=\"1\" class=\"dataframe\">\n  <thead>\n    <tr style=\"text-align: right;\">\n      <th></th>\n      <th>id</th>\n      <th>listing_url</th>\n      <th>scrape_id</th>\n      <th>last_scraped</th>\n      <th>name</th>\n      <th>summary</th>\n      <th>space</th>\n      <th>description</th>\n      <th>experiences_offered</th>\n      <th>neighborhood_overview</th>\n      <th>...</th>\n      <th>review_scores_value</th>\n      <th>requires_license</th>\n      <th>license</th>\n      <th>jurisdiction_names</th>\n      <th>instant_bookable</th>\n      <th>cancellation_policy</th>\n      <th>require_guest_profile_picture</th>\n      <th>require_guest_phone_verification</th>\n      <th>calculated_host_listings_count</th>\n      <th>reviews_per_month</th>\n    </tr>\n  </thead>\n  <tbody>\n    <tr>\n      <th>0</th>\n      <td>241032</td>\n      <td>https://www.airbnb.com/rooms/241032</td>\n      <td>20160104002432</td>\n      <td>2016-01-04</td>\n      <td>Stylish Queen Anne Apartment</td>\n      <td>NaN</td>\n      <td>Make your self at home in this charming one-be...</td>\n      <td>Make your self at home in this charming one-be...</td>\n      <td>none</td>\n      <td>NaN</td>\n      <td>...</td>\n      <td>10.0</td>\n      <td>f</td>\n      <td>NaN</td>\n      <td>WASHINGTON</td>\n      <td>f</td>\n      <td>moderate</td>\n      <td>f</td>\n      <td>f</td>\n      <td>2</td>\n      <td>4.07</td>\n    </tr>\n    <tr>\n      <th>1</th>\n      <td>953595</td>\n      <td>https://www.airbnb.com/rooms/953595</td>\n      <td>20160104002432</td>\n      <td>2016-01-04</td>\n      <td>Bright &amp; Airy Queen Anne Apartment</td>\n      <td>Chemically sensitive? We've removed the irrita...</td>\n      <td>Beautiful, hypoallergenic apartment in an extr...</td>\n      <td>Chemically sensitive? We've removed the irrita...</td>\n      <td>none</td>\n      <td>Queen Anne is a wonderful, truly functional vi...</td>\n      <td>...</td>\n      <td>10.0</td>\n      <td>f</td>\n      <td>NaN</td>\n      <td>WASHINGTON</td>\n      <td>f</td>\n      <td>strict</td>\n      <td>t</td>\n      <td>t</td>\n      <td>6</td>\n      <td>1.48</td>\n    </tr>\n    <tr>\n      <th>2</th>\n      <td>3308979</td>\n      <td>https://www.airbnb.com/rooms/3308979</td>\n      <td>20160104002432</td>\n      <td>2016-01-04</td>\n      <td>New Modern House-Amazing water view</td>\n      <td>New modern house built in 2013.  Spectacular s...</td>\n      <td>Our house is modern, light and fresh with a wa...</td>\n      <td>New modern house built in 2013.  Spectacular s...</td>\n      <td>none</td>\n      <td>Upper Queen Anne is a charming neighborhood fu...</td>\n      <td>...</td>\n      <td>10.0</td>\n      <td>f</td>\n      <td>NaN</td>\n      <td>WASHINGTON</td>\n      <td>f</td>\n      <td>strict</td>\n      <td>f</td>\n      <td>f</td>\n      <td>2</td>\n      <td>1.15</td>\n    </tr>\n    <tr>\n      <th>3</th>\n      <td>7421966</td>\n      <td>https://www.airbnb.com/rooms/7421966</td>\n      <td>20160104002432</td>\n      <td>2016-01-04</td>\n      <td>Queen Anne Chateau</td>\n      <td>A charming apartment that sits atop Queen Anne...</td>\n      <td>NaN</td>\n      <td>A charming apartment that sits atop Queen Anne...</td>\n      <td>none</td>\n      <td>NaN</td>\n      <td>...</td>\n      <td>NaN</td>\n      <td>f</td>\n      <td>NaN</td>\n      <td>WASHINGTON</td>\n      <td>f</td>\n      <td>flexible</td>\n      <td>f</td>\n      <td>f</td>\n      <td>1</td>\n      <td>NaN</td>\n    </tr>\n    <tr>\n      <th>4</th>\n      <td>278830</td>\n      <td>https://www.airbnb.com/rooms/278830</td>\n      <td>20160104002432</td>\n      <td>2016-01-04</td>\n      <td>Charming craftsman 3 bdm house</td>\n      <td>Cozy family craftman house in beautiful neighb...</td>\n      <td>Cozy family craftman house in beautiful neighb...</td>\n      <td>Cozy family craftman house in beautiful neighb...</td>\n      <td>none</td>\n      <td>We are in the beautiful neighborhood of Queen ...</td>\n      <td>...</td>\n      <td>9.0</td>\n      <td>f</td>\n      <td>NaN</td>\n      <td>WASHINGTON</td>\n      <td>f</td>\n      <td>strict</td>\n      <td>f</td>\n      <td>f</td>\n      <td>1</td>\n      <td>0.89</td>\n    </tr>\n  </tbody>\n</table>\n<p>5 rows × 92 columns</p>\n</div>"
     },
     "metadata": {},
     "execution_count": 15
    }
   ],
   "source": [
    "listings_seattle.head()"
   ]
  },
  {
   "cell_type": "code",
   "execution_count": 16,
   "metadata": {},
   "outputs": [
    {
     "output_type": "execute_result",
     "data": {
      "text/plain": "((3818, 92), (36115, 4))"
     },
     "metadata": {},
     "execution_count": 16
    }
   ],
   "source": [
    "listings_seattle.shape, calendar_seattle_grouped.shape"
   ]
  },
  {
   "cell_type": "code",
   "execution_count": 17,
   "metadata": {},
   "outputs": [],
   "source": [
    "calendar_listings_joined = calendar_seattle_grouped.merge(\n",
    "    listings_seattle, \n",
    "    how = \"left\",\n",
    "    left_on = \"listing_id\",\n",
    "    right_on= \"id\")"
   ]
  },
  {
   "cell_type": "code",
   "execution_count": 18,
   "metadata": {},
   "outputs": [],
   "source": [
    "df_lineplot = (calendar_listings_joined\n",
    "    .filter([\"year\", \"month\", \"price_year_month_mean\", \"neighbourhood_group_cleansed\"])\n",
    "    .groupby([\"year\", \"month\", \"neighbourhood_group_cleansed\"])\n",
    "    .agg(price_year_month_mean = pd.NamedAgg(column=\"price_year_month_mean\", aggfunc=\"mean\"))\n",
    "    .reset_index()\n",
    ")"
   ]
  },
  {
   "cell_type": "code",
   "execution_count": 19,
   "metadata": {},
   "outputs": [
    {
     "output_type": "stream",
     "name": "stdout",
     "text": "<class 'pandas.core.frame.DataFrame'>\nRangeIndex: 221 entries, 0 to 220\nData columns (total 4 columns):\nyear                            221 non-null int64\nmonth                           221 non-null int64\nneighbourhood_group_cleansed    221 non-null object\nprice_year_month_mean           221 non-null float64\ndtypes: float64(1), int64(2), object(1)\nmemory usage: 7.0+ KB\n"
    }
   ],
   "source": [
    "df_lineplot.info()"
   ]
  },
  {
   "cell_type": "code",
   "execution_count": 20,
   "metadata": {},
   "outputs": [],
   "source": [
    "df_lineplot[\"day\"] = 1\n",
    "df_lineplot[\"date\"] = pd.to_datetime(df_lineplot[[\"year\",\"month\", \"day\"]])"
   ]
  },
  {
   "cell_type": "code",
   "execution_count": 31,
   "metadata": {},
   "outputs": [
    {
     "output_type": "execute_result",
     "data": {
      "application/vnd.vegalite.v3+json": {
       "config": {
        "view": {
         "width": 400,
         "height": 300
        },
        "mark": {
         "tooltip": null
        }
       },
       "data": {
        "name": "data-fe1b2df9de8de16b7b19801f18643f3a"
       },
       "mark": "line",
       "encoding": {
        "color": {
         "type": "nominal",
         "field": "neighbourhood_group_cleansed"
        },
        "x": {
         "type": "temporal",
         "field": "date"
        },
        "y": {
         "type": "quantitative",
         "field": "price_year_month_mean"
        }
       },
       "$schema": "https://vega.github.io/schema/vega-lite/v3.4.0.json",
       "datasets": {
        "data-fe1b2df9de8de16b7b19801f18643f3a": [
         {
          "year": 2016,
          "month": 1,
          "neighbourhood_group_cleansed": "Ballard",
          "price_year_month_mean": 107.60479041916167,
          "day": 1,
          "date": "2016-01-01T00:00:00"
         },
         {
          "year": 2016,
          "month": 1,
          "neighbourhood_group_cleansed": "Beacon Hill",
          "price_year_month_mean": 93.32222222222222,
          "day": 1,
          "date": "2016-01-01T00:00:00"
         },
         {
          "year": 2016,
          "month": 1,
          "neighbourhood_group_cleansed": "Capitol Hill",
          "price_year_month_mean": 120.22911694510739,
          "day": 1,
          "date": "2016-01-01T00:00:00"
         },
         {
          "year": 2016,
          "month": 1,
          "neighbourhood_group_cleansed": "Cascade",
          "price_year_month_mean": 138.9,
          "day": 1,
          "date": "2016-01-01T00:00:00"
         },
         {
          "year": 2016,
          "month": 1,
          "neighbourhood_group_cleansed": "Central Area",
          "price_year_month_mean": 114.06463878326996,
          "day": 1,
          "date": "2016-01-01T00:00:00"
         },
         {
          "year": 2016,
          "month": 1,
          "neighbourhood_group_cleansed": "Delridge",
          "price_year_month_mean": 74.12903225806451,
          "day": 1,
          "date": "2016-01-01T00:00:00"
         },
         {
          "year": 2016,
          "month": 1,
          "neighbourhood_group_cleansed": "Downtown",
          "price_year_month_mean": 145.2408256880734,
          "day": 1,
          "date": "2016-01-01T00:00:00"
         },
         {
          "year": 2016,
          "month": 1,
          "neighbourhood_group_cleansed": "Interbay",
          "price_year_month_mean": 112.5,
          "day": 1,
          "date": "2016-01-01T00:00:00"
         },
         {
          "year": 2016,
          "month": 1,
          "neighbourhood_group_cleansed": "Lake City",
          "price_year_month_mean": 90.16363636363636,
          "day": 1,
          "date": "2016-01-01T00:00:00"
         },
         {
          "year": 2016,
          "month": 1,
          "neighbourhood_group_cleansed": "Magnolia",
          "price_year_month_mean": 176.18867924528303,
          "day": 1,
          "date": "2016-01-01T00:00:00"
         },
         {
          "year": 2016,
          "month": 1,
          "neighbourhood_group_cleansed": "Northgate",
          "price_year_month_mean": 88.06666666666666,
          "day": 1,
          "date": "2016-01-01T00:00:00"
         },
         {
          "year": 2016,
          "month": 1,
          "neighbourhood_group_cleansed": "Other neighborhoods",
          "price_year_month_mean": 105.70298769771529,
          "day": 1,
          "date": "2016-01-01T00:00:00"
         },
         {
          "year": 2016,
          "month": 1,
          "neighbourhood_group_cleansed": "Queen Anne",
          "price_year_month_mean": 148.26291079812208,
          "day": 1,
          "date": "2016-01-01T00:00:00"
         },
         {
          "year": 2016,
          "month": 1,
          "neighbourhood_group_cleansed": "Rainier Valley",
          "price_year_month_mean": 87.92436974789916,
          "day": 1,
          "date": "2016-01-01T00:00:00"
         },
         {
          "year": 2016,
          "month": 1,
          "neighbourhood_group_cleansed": "Seward Park",
          "price_year_month_mean": 96.55263157894737,
          "day": 1,
          "date": "2016-01-01T00:00:00"
         },
         {
          "year": 2016,
          "month": 1,
          "neighbourhood_group_cleansed": "University District",
          "price_year_month_mean": 93.27450980392157,
          "day": 1,
          "date": "2016-01-01T00:00:00"
         },
         {
          "year": 2016,
          "month": 1,
          "neighbourhood_group_cleansed": "West Seattle",
          "price_year_month_mean": 134.0921052631579,
          "day": 1,
          "date": "2016-01-01T00:00:00"
         },
         {
          "year": 2016,
          "month": 2,
          "neighbourhood_group_cleansed": "Ballard",
          "price_year_month_mean": 111.35882352941177,
          "day": 1,
          "date": "2016-02-01T00:00:00"
         },
         {
          "year": 2016,
          "month": 2,
          "neighbourhood_group_cleansed": "Beacon Hill",
          "price_year_month_mean": 93.79120879120879,
          "day": 1,
          "date": "2016-02-01T00:00:00"
         },
         {
          "year": 2016,
          "month": 2,
          "neighbourhood_group_cleansed": "Capitol Hill",
          "price_year_month_mean": 124.55690072639226,
          "day": 1,
          "date": "2016-02-01T00:00:00"
         },
         {
          "year": 2016,
          "month": 2,
          "neighbourhood_group_cleansed": "Cascade",
          "price_year_month_mean": 145.60655737704917,
          "day": 1,
          "date": "2016-02-01T00:00:00"
         },
         {
          "year": 2016,
          "month": 2,
          "neighbourhood_group_cleansed": "Central Area",
          "price_year_month_mean": 121.73260073260073,
          "day": 1,
          "date": "2016-02-01T00:00:00"
         },
         {
          "year": 2016,
          "month": 2,
          "neighbourhood_group_cleansed": "Delridge",
          "price_year_month_mean": 80.70769230769231,
          "day": 1,
          "date": "2016-02-01T00:00:00"
         },
         {
          "year": 2016,
          "month": 2,
          "neighbourhood_group_cleansed": "Downtown",
          "price_year_month_mean": 153.5625,
          "day": 1,
          "date": "2016-02-01T00:00:00"
         },
         {
          "year": 2016,
          "month": 2,
          "neighbourhood_group_cleansed": "Interbay",
          "price_year_month_mean": 112.2,
          "day": 1,
          "date": "2016-02-01T00:00:00"
         },
         {
          "year": 2016,
          "month": 2,
          "neighbourhood_group_cleansed": "Lake City",
          "price_year_month_mean": 92.71698113207547,
          "day": 1,
          "date": "2016-02-01T00:00:00"
         },
         {
          "year": 2016,
          "month": 2,
          "neighbourhood_group_cleansed": "Magnolia",
          "price_year_month_mean": 182,
          "day": 1,
          "date": "2016-02-01T00:00:00"
         },
         {
          "year": 2016,
          "month": 2,
          "neighbourhood_group_cleansed": "Northgate",
          "price_year_month_mean": 86.61290322580645,
          "day": 1,
          "date": "2016-02-01T00:00:00"
         },
         {
          "year": 2016,
          "month": 2,
          "neighbourhood_group_cleansed": "Other neighborhoods",
          "price_year_month_mean": 110.60172413793103,
          "day": 1,
          "date": "2016-02-01T00:00:00"
         },
         {
          "year": 2016,
          "month": 2,
          "neighbourhood_group_cleansed": "Queen Anne",
          "price_year_month_mean": 153.373786407767,
          "day": 1,
          "date": "2016-02-01T00:00:00"
         },
         {
          "year": 2016,
          "month": 2,
          "neighbourhood_group_cleansed": "Rainier Valley",
          "price_year_month_mean": 89.352,
          "day": 1,
          "date": "2016-02-01T00:00:00"
         },
         {
          "year": 2016,
          "month": 2,
          "neighbourhood_group_cleansed": "Seward Park",
          "price_year_month_mean": 97.05405405405405,
          "day": 1,
          "date": "2016-02-01T00:00:00"
         },
         {
          "year": 2016,
          "month": 2,
          "neighbourhood_group_cleansed": "University District",
          "price_year_month_mean": 99.15841584158416,
          "day": 1,
          "date": "2016-02-01T00:00:00"
         },
         {
          "year": 2016,
          "month": 2,
          "neighbourhood_group_cleansed": "West Seattle",
          "price_year_month_mean": 138.42944785276075,
          "day": 1,
          "date": "2016-02-01T00:00:00"
         },
         {
          "year": 2016,
          "month": 3,
          "neighbourhood_group_cleansed": "Ballard",
          "price_year_month_mean": 114.57714285714286,
          "day": 1,
          "date": "2016-03-01T00:00:00"
         },
         {
          "year": 2016,
          "month": 3,
          "neighbourhood_group_cleansed": "Beacon Hill",
          "price_year_month_mean": 93.22340425531915,
          "day": 1,
          "date": "2016-03-01T00:00:00"
         },
         {
          "year": 2016,
          "month": 3,
          "neighbourhood_group_cleansed": "Capitol Hill",
          "price_year_month_mean": 130.16058394160584,
          "day": 1,
          "date": "2016-03-01T00:00:00"
         },
         {
          "year": 2016,
          "month": 3,
          "neighbourhood_group_cleansed": "Cascade",
          "price_year_month_mean": 144.82258064516128,
          "day": 1,
          "date": "2016-03-01T00:00:00"
         },
         {
          "year": 2016,
          "month": 3,
          "neighbourhood_group_cleansed": "Central Area",
          "price_year_month_mean": 121.48028673835125,
          "day": 1,
          "date": "2016-03-01T00:00:00"
         },
         {
          "year": 2016,
          "month": 3,
          "neighbourhood_group_cleansed": "Delridge",
          "price_year_month_mean": 86.8030303030303,
          "day": 1,
          "date": "2016-03-01T00:00:00"
         },
         {
          "year": 2016,
          "month": 3,
          "neighbourhood_group_cleansed": "Downtown",
          "price_year_month_mean": 169.52927927927928,
          "day": 1,
          "date": "2016-03-01T00:00:00"
         },
         {
          "year": 2016,
          "month": 3,
          "neighbourhood_group_cleansed": "Interbay",
          "price_year_month_mean": 118.9,
          "day": 1,
          "date": "2016-03-01T00:00:00"
         },
         {
          "year": 2016,
          "month": 3,
          "neighbourhood_group_cleansed": "Lake City",
          "price_year_month_mean": 90.82456140350877,
          "day": 1,
          "date": "2016-03-01T00:00:00"
         },
         {
          "year": 2016,
          "month": 3,
          "neighbourhood_group_cleansed": "Magnolia",
          "price_year_month_mean": 187.27450980392157,
          "day": 1,
          "date": "2016-03-01T00:00:00"
         },
         {
          "year": 2016,
          "month": 3,
          "neighbourhood_group_cleansed": "Northgate",
          "price_year_month_mean": 89.54545454545455,
          "day": 1,
          "date": "2016-03-01T00:00:00"
         },
         {
          "year": 2016,
          "month": 3,
          "neighbourhood_group_cleansed": "Other neighborhoods",
          "price_year_month_mean": 112.75462184873949,
          "day": 1,
          "date": "2016-03-01T00:00:00"
         },
         {
          "year": 2016,
          "month": 3,
          "neighbourhood_group_cleansed": "Queen Anne",
          "price_year_month_mean": 156.59047619047618,
          "day": 1,
          "date": "2016-03-01T00:00:00"
         },
         {
          "year": 2016,
          "month": 3,
          "neighbourhood_group_cleansed": "Rainier Valley",
          "price_year_month_mean": 93.27131782945736,
          "day": 1,
          "date": "2016-03-01T00:00:00"
         },
         {
          "year": 2016,
          "month": 3,
          "neighbourhood_group_cleansed": "Seward Park",
          "price_year_month_mean": 97.48648648648648,
          "day": 1,
          "date": "2016-03-01T00:00:00"
         },
         {
          "year": 2016,
          "month": 3,
          "neighbourhood_group_cleansed": "University District",
          "price_year_month_mean": 100.05940594059406,
          "day": 1,
          "date": "2016-03-01T00:00:00"
         },
         {
          "year": 2016,
          "month": 3,
          "neighbourhood_group_cleansed": "West Seattle",
          "price_year_month_mean": 138.22699386503066,
          "day": 1,
          "date": "2016-03-01T00:00:00"
         },
         {
          "year": 2016,
          "month": 4,
          "neighbourhood_group_cleansed": "Ballard",
          "price_year_month_mean": 121.5303867403315,
          "day": 1,
          "date": "2016-04-01T00:00:00"
         },
         {
          "year": 2016,
          "month": 4,
          "neighbourhood_group_cleansed": "Beacon Hill",
          "price_year_month_mean": 95.84,
          "day": 1,
          "date": "2016-04-01T00:00:00"
         },
         {
          "year": 2016,
          "month": 4,
          "neighbourhood_group_cleansed": "Capitol Hill",
          "price_year_month_mean": 135.0286396181384,
          "day": 1,
          "date": "2016-04-01T00:00:00"
         },
         {
          "year": 2016,
          "month": 4,
          "neighbourhood_group_cleansed": "Cascade",
          "price_year_month_mean": 151.33870967741936,
          "day": 1,
          "date": "2016-04-01T00:00:00"
         },
         {
          "year": 2016,
          "month": 4,
          "neighbourhood_group_cleansed": "Central Area",
          "price_year_month_mean": 125.63829787234043,
          "day": 1,
          "date": "2016-04-01T00:00:00"
         },
         {
          "year": 2016,
          "month": 4,
          "neighbourhood_group_cleansed": "Delridge",
          "price_year_month_mean": 87.72058823529412,
          "day": 1,
          "date": "2016-04-01T00:00:00"
         },
         {
          "year": 2016,
          "month": 4,
          "neighbourhood_group_cleansed": "Downtown",
          "price_year_month_mean": 177.9241379310345,
          "day": 1,
          "date": "2016-04-01T00:00:00"
         },
         {
          "year": 2016,
          "month": 4,
          "neighbourhood_group_cleansed": "Interbay",
          "price_year_month_mean": 119.5,
          "day": 1,
          "date": "2016-04-01T00:00:00"
         },
         {
          "year": 2016,
          "month": 4,
          "neighbourhood_group_cleansed": "Lake City",
          "price_year_month_mean": 92.24561403508773,
          "day": 1,
          "date": "2016-04-01T00:00:00"
         },
         {
          "year": 2016,
          "month": 4,
          "neighbourhood_group_cleansed": "Magnolia",
          "price_year_month_mean": 192.69811320754718,
          "day": 1,
          "date": "2016-04-01T00:00:00"
         },
         {
          "year": 2016,
          "month": 4,
          "neighbourhood_group_cleansed": "Northgate",
          "price_year_month_mean": 90.41791044776119,
          "day": 1,
          "date": "2016-04-01T00:00:00"
         },
         {
          "year": 2016,
          "month": 4,
          "neighbourhood_group_cleansed": "Other neighborhoods",
          "price_year_month_mean": 117.14814814814815,
          "day": 1,
          "date": "2016-04-01T00:00:00"
         },
         {
          "year": 2016,
          "month": 4,
          "neighbourhood_group_cleansed": "Queen Anne",
          "price_year_month_mean": 163.40952380952382,
          "day": 1,
          "date": "2016-04-01T00:00:00"
         },
         {
          "year": 2016,
          "month": 4,
          "neighbourhood_group_cleansed": "Rainier Valley",
          "price_year_month_mean": 95.67669172932331,
          "day": 1,
          "date": "2016-04-01T00:00:00"
         },
         {
          "year": 2016,
          "month": 4,
          "neighbourhood_group_cleansed": "Seward Park",
          "price_year_month_mean": 97.13888888888889,
          "day": 1,
          "date": "2016-04-01T00:00:00"
         },
         {
          "year": 2016,
          "month": 4,
          "neighbourhood_group_cleansed": "University District",
          "price_year_month_mean": 102.8019801980198,
          "day": 1,
          "date": "2016-04-01T00:00:00"
         },
         {
          "year": 2016,
          "month": 4,
          "neighbourhood_group_cleansed": "West Seattle",
          "price_year_month_mean": 144.63473053892216,
          "day": 1,
          "date": "2016-04-01T00:00:00"
         },
         {
          "year": 2016,
          "month": 5,
          "neighbourhood_group_cleansed": "Ballard",
          "price_year_month_mean": 126.12352941176471,
          "day": 1,
          "date": "2016-05-01T00:00:00"
         },
         {
          "year": 2016,
          "month": 5,
          "neighbourhood_group_cleansed": "Beacon Hill",
          "price_year_month_mean": 103.20652173913044,
          "day": 1,
          "date": "2016-05-01T00:00:00"
         },
         {
          "year": 2016,
          "month": 5,
          "neighbourhood_group_cleansed": "Capitol Hill",
          "price_year_month_mean": 137.53066666666666,
          "day": 1,
          "date": "2016-05-01T00:00:00"
         },
         {
          "year": 2016,
          "month": 5,
          "neighbourhood_group_cleansed": "Cascade",
          "price_year_month_mean": 169.5,
          "day": 1,
          "date": "2016-05-01T00:00:00"
         },
         {
          "year": 2016,
          "month": 5,
          "neighbourhood_group_cleansed": "Central Area",
          "price_year_month_mean": 134.31007751937983,
          "day": 1,
          "date": "2016-05-01T00:00:00"
         },
         {
          "year": 2016,
          "month": 5,
          "neighbourhood_group_cleansed": "Delridge",
          "price_year_month_mean": 91.51612903225806,
          "day": 1,
          "date": "2016-05-01T00:00:00"
         },
         {
          "year": 2016,
          "month": 5,
          "neighbourhood_group_cleansed": "Downtown",
          "price_year_month_mean": 195.16153846153847,
          "day": 1,
          "date": "2016-05-01T00:00:00"
         },
         {
          "year": 2016,
          "month": 5,
          "neighbourhood_group_cleansed": "Interbay",
          "price_year_month_mean": 116.22222222222223,
          "day": 1,
          "date": "2016-05-01T00:00:00"
         },
         {
          "year": 2016,
          "month": 5,
          "neighbourhood_group_cleansed": "Lake City",
          "price_year_month_mean": 98.58181818181818,
          "day": 1,
          "date": "2016-05-01T00:00:00"
         },
         {
          "year": 2016,
          "month": 5,
          "neighbourhood_group_cleansed": "Magnolia",
          "price_year_month_mean": 201.04166666666666,
          "day": 1,
          "date": "2016-05-01T00:00:00"
         },
         {
          "year": 2016,
          "month": 5,
          "neighbourhood_group_cleansed": "Northgate",
          "price_year_month_mean": 95.82539682539682,
          "day": 1,
          "date": "2016-05-01T00:00:00"
         },
         {
          "year": 2016,
          "month": 5,
          "neighbourhood_group_cleansed": "Other neighborhoods",
          "price_year_month_mean": 123.52035398230089,
          "day": 1,
          "date": "2016-05-01T00:00:00"
         },
         {
          "year": 2016,
          "month": 5,
          "neighbourhood_group_cleansed": "Queen Anne",
          "price_year_month_mean": 171.39444444444445,
          "day": 1,
          "date": "2016-05-01T00:00:00"
         },
         {
          "year": 2016,
          "month": 5,
          "neighbourhood_group_cleansed": "Rainier Valley",
          "price_year_month_mean": 104.2909090909091,
          "day": 1,
          "date": "2016-05-01T00:00:00"
         },
         {
          "year": 2016,
          "month": 5,
          "neighbourhood_group_cleansed": "Seward Park",
          "price_year_month_mean": 107.46875,
          "day": 1,
          "date": "2016-05-01T00:00:00"
         },
         {
          "year": 2016,
          "month": 5,
          "neighbourhood_group_cleansed": "University District",
          "price_year_month_mean": 107.06451612903226,
          "day": 1,
          "date": "2016-05-01T00:00:00"
         },
         {
          "year": 2016,
          "month": 5,
          "neighbourhood_group_cleansed": "West Seattle",
          "price_year_month_mean": 149.1208053691275,
          "day": 1,
          "date": "2016-05-01T00:00:00"
         },
         {
          "year": 2016,
          "month": 6,
          "neighbourhood_group_cleansed": "Ballard",
          "price_year_month_mean": 137.54748603351956,
          "day": 1,
          "date": "2016-06-01T00:00:00"
         },
         {
          "year": 2016,
          "month": 6,
          "neighbourhood_group_cleansed": "Beacon Hill",
          "price_year_month_mean": 105.93181818181819,
          "day": 1,
          "date": "2016-06-01T00:00:00"
         },
         {
          "year": 2016,
          "month": 6,
          "neighbourhood_group_cleansed": "Capitol Hill",
          "price_year_month_mean": 146.5064935064935,
          "day": 1,
          "date": "2016-06-01T00:00:00"
         },
         {
          "year": 2016,
          "month": 6,
          "neighbourhood_group_cleansed": "Cascade",
          "price_year_month_mean": 168.8653846153846,
          "day": 1,
          "date": "2016-06-01T00:00:00"
         },
         {
          "year": 2016,
          "month": 6,
          "neighbourhood_group_cleansed": "Central Area",
          "price_year_month_mean": 142.11278195488723,
          "day": 1,
          "date": "2016-06-01T00:00:00"
         },
         {
          "year": 2016,
          "month": 6,
          "neighbourhood_group_cleansed": "Delridge",
          "price_year_month_mean": 92.5079365079365,
          "day": 1,
          "date": "2016-06-01T00:00:00"
         },
         {
          "year": 2016,
          "month": 6,
          "neighbourhood_group_cleansed": "Downtown",
          "price_year_month_mean": 223.09615384615384,
          "day": 1,
          "date": "2016-06-01T00:00:00"
         },
         {
          "year": 2016,
          "month": 6,
          "neighbourhood_group_cleansed": "Interbay",
          "price_year_month_mean": 121.66666666666667,
          "day": 1,
          "date": "2016-06-01T00:00:00"
         },
         {
          "year": 2016,
          "month": 6,
          "neighbourhood_group_cleansed": "Lake City",
          "price_year_month_mean": 102.64814814814815,
          "day": 1,
          "date": "2016-06-01T00:00:00"
         },
         {
          "year": 2016,
          "month": 6,
          "neighbourhood_group_cleansed": "Magnolia",
          "price_year_month_mean": 200.875,
          "day": 1,
          "date": "2016-06-01T00:00:00"
         },
         {
          "year": 2016,
          "month": 6,
          "neighbourhood_group_cleansed": "Northgate",
          "price_year_month_mean": 98.0625,
          "day": 1,
          "date": "2016-06-01T00:00:00"
         },
         {
          "year": 2016,
          "month": 6,
          "neighbourhood_group_cleansed": "Other neighborhoods",
          "price_year_month_mean": 129.55221238938054,
          "day": 1,
          "date": "2016-06-01T00:00:00"
         },
         {
          "year": 2016,
          "month": 6,
          "neighbourhood_group_cleansed": "Queen Anne",
          "price_year_month_mean": 185.4866310160428,
          "day": 1,
          "date": "2016-06-01T00:00:00"
         },
         {
          "year": 2016,
          "month": 6,
          "neighbourhood_group_cleansed": "Rainier Valley",
          "price_year_month_mean": 106.86725663716814,
          "day": 1,
          "date": "2016-06-01T00:00:00"
         },
         {
          "year": 2016,
          "month": 6,
          "neighbourhood_group_cleansed": "Seward Park",
          "price_year_month_mean": 106.29032258064517,
          "day": 1,
          "date": "2016-06-01T00:00:00"
         },
         {
          "year": 2016,
          "month": 6,
          "neighbourhood_group_cleansed": "University District",
          "price_year_month_mean": 109.89583333333333,
          "day": 1,
          "date": "2016-06-01T00:00:00"
         },
         {
          "year": 2016,
          "month": 6,
          "neighbourhood_group_cleansed": "West Seattle",
          "price_year_month_mean": 160.57692307692307,
          "day": 1,
          "date": "2016-06-01T00:00:00"
         },
         {
          "year": 2016,
          "month": 7,
          "neighbourhood_group_cleansed": "Ballard",
          "price_year_month_mean": 142.76687116564418,
          "day": 1,
          "date": "2016-07-01T00:00:00"
         },
         {
          "year": 2016,
          "month": 7,
          "neighbourhood_group_cleansed": "Beacon Hill",
          "price_year_month_mean": 105.16455696202532,
          "day": 1,
          "date": "2016-07-01T00:00:00"
         },
         {
          "year": 2016,
          "month": 7,
          "neighbourhood_group_cleansed": "Capitol Hill",
          "price_year_month_mean": 146.06741573033707,
          "day": 1,
          "date": "2016-07-01T00:00:00"
         },
         {
          "year": 2016,
          "month": 7,
          "neighbourhood_group_cleansed": "Cascade",
          "price_year_month_mean": 175.40425531914894,
          "day": 1,
          "date": "2016-07-01T00:00:00"
         },
         {
          "year": 2016,
          "month": 7,
          "neighbourhood_group_cleansed": "Central Area",
          "price_year_month_mean": 148.0691056910569,
          "day": 1,
          "date": "2016-07-01T00:00:00"
         },
         {
          "year": 2016,
          "month": 7,
          "neighbourhood_group_cleansed": "Delridge",
          "price_year_month_mean": 95.15517241379311,
          "day": 1,
          "date": "2016-07-01T00:00:00"
         },
         {
          "year": 2016,
          "month": 7,
          "neighbourhood_group_cleansed": "Downtown",
          "price_year_month_mean": 228.12883435582822,
          "day": 1,
          "date": "2016-07-01T00:00:00"
         },
         {
          "year": 2016,
          "month": 7,
          "neighbourhood_group_cleansed": "Interbay",
          "price_year_month_mean": 126.11111111111111,
          "day": 1,
          "date": "2016-07-01T00:00:00"
         },
         {
          "year": 2016,
          "month": 7,
          "neighbourhood_group_cleansed": "Lake City",
          "price_year_month_mean": 105.87755102040816,
          "day": 1,
          "date": "2016-07-01T00:00:00"
         },
         {
          "year": 2016,
          "month": 7,
          "neighbourhood_group_cleansed": "Magnolia",
          "price_year_month_mean": 215.75,
          "day": 1,
          "date": "2016-07-01T00:00:00"
         },
         {
          "year": 2016,
          "month": 7,
          "neighbourhood_group_cleansed": "Northgate",
          "price_year_month_mean": 99.84482758620689,
          "day": 1,
          "date": "2016-07-01T00:00:00"
         },
         {
          "year": 2016,
          "month": 7,
          "neighbourhood_group_cleansed": "Other neighborhoods",
          "price_year_month_mean": 136.35687022900763,
          "day": 1,
          "date": "2016-07-01T00:00:00"
         },
         {
          "year": 2016,
          "month": 7,
          "neighbourhood_group_cleansed": "Queen Anne",
          "price_year_month_mean": 188.2888888888889,
          "day": 1,
          "date": "2016-07-01T00:00:00"
         },
         {
          "year": 2016,
          "month": 7,
          "neighbourhood_group_cleansed": "Rainier Valley",
          "price_year_month_mean": 110.69902912621359,
          "day": 1,
          "date": "2016-07-01T00:00:00"
         },
         {
          "year": 2016,
          "month": 7,
          "neighbourhood_group_cleansed": "Seward Park",
          "price_year_month_mean": 121.25925925925925,
          "day": 1,
          "date": "2016-07-01T00:00:00"
         },
         {
          "year": 2016,
          "month": 7,
          "neighbourhood_group_cleansed": "University District",
          "price_year_month_mean": 110.74444444444444,
          "day": 1,
          "date": "2016-07-01T00:00:00"
         },
         {
          "year": 2016,
          "month": 7,
          "neighbourhood_group_cleansed": "West Seattle",
          "price_year_month_mean": 165.27857142857144,
          "day": 1,
          "date": "2016-07-01T00:00:00"
         },
         {
          "year": 2016,
          "month": 8,
          "neighbourhood_group_cleansed": "Ballard",
          "price_year_month_mean": 139.2,
          "day": 1,
          "date": "2016-08-01T00:00:00"
         },
         {
          "year": 2016,
          "month": 8,
          "neighbourhood_group_cleansed": "Beacon Hill",
          "price_year_month_mean": 103.12048192771084,
          "day": 1,
          "date": "2016-08-01T00:00:00"
         },
         {
          "year": 2016,
          "month": 8,
          "neighbourhood_group_cleansed": "Capitol Hill",
          "price_year_month_mean": 143.76775956284152,
          "day": 1,
          "date": "2016-08-01T00:00:00"
         },
         {
          "year": 2016,
          "month": 8,
          "neighbourhood_group_cleansed": "Cascade",
          "price_year_month_mean": 173.54166666666666,
          "day": 1,
          "date": "2016-08-01T00:00:00"
         },
         {
          "year": 2016,
          "month": 8,
          "neighbourhood_group_cleansed": "Central Area",
          "price_year_month_mean": 145.13899613899613,
          "day": 1,
          "date": "2016-08-01T00:00:00"
         },
         {
          "year": 2016,
          "month": 8,
          "neighbourhood_group_cleansed": "Delridge",
          "price_year_month_mean": 96.08771929824562,
          "day": 1,
          "date": "2016-08-01T00:00:00"
         },
         {
          "year": 2016,
          "month": 8,
          "neighbourhood_group_cleansed": "Downtown",
          "price_year_month_mean": 223.73394495412845,
          "day": 1,
          "date": "2016-08-01T00:00:00"
         },
         {
          "year": 2016,
          "month": 8,
          "neighbourhood_group_cleansed": "Interbay",
          "price_year_month_mean": 124.55555555555556,
          "day": 1,
          "date": "2016-08-01T00:00:00"
         },
         {
          "year": 2016,
          "month": 8,
          "neighbourhood_group_cleansed": "Lake City",
          "price_year_month_mean": 99.05882352941177,
          "day": 1,
          "date": "2016-08-01T00:00:00"
         },
         {
          "year": 2016,
          "month": 8,
          "neighbourhood_group_cleansed": "Magnolia",
          "price_year_month_mean": 213.47916666666666,
          "day": 1,
          "date": "2016-08-01T00:00:00"
         },
         {
          "year": 2016,
          "month": 8,
          "neighbourhood_group_cleansed": "Northgate",
          "price_year_month_mean": 99.29310344827586,
          "day": 1,
          "date": "2016-08-01T00:00:00"
         },
         {
          "year": 2016,
          "month": 8,
          "neighbourhood_group_cleansed": "Other neighborhoods",
          "price_year_month_mean": 134.98327137546468,
          "day": 1,
          "date": "2016-08-01T00:00:00"
         },
         {
          "year": 2016,
          "month": 8,
          "neighbourhood_group_cleansed": "Queen Anne",
          "price_year_month_mean": 185.4945054945055,
          "day": 1,
          "date": "2016-08-01T00:00:00"
         },
         {
          "year": 2016,
          "month": 8,
          "neighbourhood_group_cleansed": "Rainier Valley",
          "price_year_month_mean": 107.94174757281553,
          "day": 1,
          "date": "2016-08-01T00:00:00"
         },
         {
          "year": 2016,
          "month": 8,
          "neighbourhood_group_cleansed": "Seward Park",
          "price_year_month_mean": 122.70370370370371,
          "day": 1,
          "date": "2016-08-01T00:00:00"
         },
         {
          "year": 2016,
          "month": 8,
          "neighbourhood_group_cleansed": "University District",
          "price_year_month_mean": 112.47826086956522,
          "day": 1,
          "date": "2016-08-01T00:00:00"
         },
         {
          "year": 2016,
          "month": 8,
          "neighbourhood_group_cleansed": "West Seattle",
          "price_year_month_mean": 162.3986013986014,
          "day": 1,
          "date": "2016-08-01T00:00:00"
         },
         {
          "year": 2016,
          "month": 9,
          "neighbourhood_group_cleansed": "Ballard",
          "price_year_month_mean": 132.69230769230768,
          "day": 1,
          "date": "2016-09-01T00:00:00"
         },
         {
          "year": 2016,
          "month": 9,
          "neighbourhood_group_cleansed": "Beacon Hill",
          "price_year_month_mean": 101.45882352941176,
          "day": 1,
          "date": "2016-09-01T00:00:00"
         },
         {
          "year": 2016,
          "month": 9,
          "neighbourhood_group_cleansed": "Capitol Hill",
          "price_year_month_mean": 138.31413612565444,
          "day": 1,
          "date": "2016-09-01T00:00:00"
         },
         {
          "year": 2016,
          "month": 9,
          "neighbourhood_group_cleansed": "Cascade",
          "price_year_month_mean": 152.72727272727272,
          "day": 1,
          "date": "2016-09-01T00:00:00"
         },
         {
          "year": 2016,
          "month": 9,
          "neighbourhood_group_cleansed": "Central Area",
          "price_year_month_mean": 141.83333333333334,
          "day": 1,
          "date": "2016-09-01T00:00:00"
         },
         {
          "year": 2016,
          "month": 9,
          "neighbourhood_group_cleansed": "Delridge",
          "price_year_month_mean": 95.31147540983606,
          "day": 1,
          "date": "2016-09-01T00:00:00"
         },
         {
          "year": 2016,
          "month": 9,
          "neighbourhood_group_cleansed": "Downtown",
          "price_year_month_mean": 194.5868263473054,
          "day": 1,
          "date": "2016-09-01T00:00:00"
         },
         {
          "year": 2016,
          "month": 9,
          "neighbourhood_group_cleansed": "Interbay",
          "price_year_month_mean": 119.22222222222223,
          "day": 1,
          "date": "2016-09-01T00:00:00"
         },
         {
          "year": 2016,
          "month": 9,
          "neighbourhood_group_cleansed": "Lake City",
          "price_year_month_mean": 96.77358490566037,
          "day": 1,
          "date": "2016-09-01T00:00:00"
         },
         {
          "year": 2016,
          "month": 9,
          "neighbourhood_group_cleansed": "Magnolia",
          "price_year_month_mean": 203.16666666666666,
          "day": 1,
          "date": "2016-09-01T00:00:00"
         },
         {
          "year": 2016,
          "month": 9,
          "neighbourhood_group_cleansed": "Northgate",
          "price_year_month_mean": 96.32203389830508,
          "day": 1,
          "date": "2016-09-01T00:00:00"
         },
         {
          "year": 2016,
          "month": 9,
          "neighbourhood_group_cleansed": "Other neighborhoods",
          "price_year_month_mean": 132.36851520572452,
          "day": 1,
          "date": "2016-09-01T00:00:00"
         },
         {
          "year": 2016,
          "month": 9,
          "neighbourhood_group_cleansed": "Queen Anne",
          "price_year_month_mean": 175.73604060913706,
          "day": 1,
          "date": "2016-09-01T00:00:00"
         },
         {
          "year": 2016,
          "month": 9,
          "neighbourhood_group_cleansed": "Rainier Valley",
          "price_year_month_mean": 103.96261682242991,
          "day": 1,
          "date": "2016-09-01T00:00:00"
         },
         {
          "year": 2016,
          "month": 9,
          "neighbourhood_group_cleansed": "Seward Park",
          "price_year_month_mean": 123.17857142857143,
          "day": 1,
          "date": "2016-09-01T00:00:00"
         },
         {
          "year": 2016,
          "month": 9,
          "neighbourhood_group_cleansed": "University District",
          "price_year_month_mean": 107.8586956521739,
          "day": 1,
          "date": "2016-09-01T00:00:00"
         },
         {
          "year": 2016,
          "month": 9,
          "neighbourhood_group_cleansed": "West Seattle",
          "price_year_month_mean": 156.5374149659864,
          "day": 1,
          "date": "2016-09-01T00:00:00"
         },
         {
          "year": 2016,
          "month": 10,
          "neighbourhood_group_cleansed": "Ballard",
          "price_year_month_mean": 126.75862068965517,
          "day": 1,
          "date": "2016-10-01T00:00:00"
         },
         {
          "year": 2016,
          "month": 10,
          "neighbourhood_group_cleansed": "Beacon Hill",
          "price_year_month_mean": 99.72619047619048,
          "day": 1,
          "date": "2016-10-01T00:00:00"
         },
         {
          "year": 2016,
          "month": 10,
          "neighbourhood_group_cleansed": "Capitol Hill",
          "price_year_month_mean": 132.24427480916032,
          "day": 1,
          "date": "2016-10-01T00:00:00"
         },
         {
          "year": 2016,
          "month": 10,
          "neighbourhood_group_cleansed": "Cascade",
          "price_year_month_mean": 149.05454545454546,
          "day": 1,
          "date": "2016-10-01T00:00:00"
         },
         {
          "year": 2016,
          "month": 10,
          "neighbourhood_group_cleansed": "Central Area",
          "price_year_month_mean": 137.7680608365019,
          "day": 1,
          "date": "2016-10-01T00:00:00"
         },
         {
          "year": 2016,
          "month": 10,
          "neighbourhood_group_cleansed": "Delridge",
          "price_year_month_mean": 93.73770491803279,
          "day": 1,
          "date": "2016-10-01T00:00:00"
         },
         {
          "year": 2016,
          "month": 10,
          "neighbourhood_group_cleansed": "Downtown",
          "price_year_month_mean": 174.19590643274853,
          "day": 1,
          "date": "2016-10-01T00:00:00"
         },
         {
          "year": 2016,
          "month": 10,
          "neighbourhood_group_cleansed": "Interbay",
          "price_year_month_mean": 116.33333333333333,
          "day": 1,
          "date": "2016-10-01T00:00:00"
         },
         {
          "year": 2016,
          "month": 10,
          "neighbourhood_group_cleansed": "Lake City",
          "price_year_month_mean": 89.9090909090909,
          "day": 1,
          "date": "2016-10-01T00:00:00"
         },
         {
          "year": 2016,
          "month": 10,
          "neighbourhood_group_cleansed": "Magnolia",
          "price_year_month_mean": 199.91836734693877,
          "day": 1,
          "date": "2016-10-01T00:00:00"
         },
         {
          "year": 2016,
          "month": 10,
          "neighbourhood_group_cleansed": "Northgate",
          "price_year_month_mean": 93.05,
          "day": 1,
          "date": "2016-10-01T00:00:00"
         },
         {
          "year": 2016,
          "month": 10,
          "neighbourhood_group_cleansed": "Other neighborhoods",
          "price_year_month_mean": 127.23985890652557,
          "day": 1,
          "date": "2016-10-01T00:00:00"
         },
         {
          "year": 2016,
          "month": 10,
          "neighbourhood_group_cleansed": "Queen Anne",
          "price_year_month_mean": 167.7536231884058,
          "day": 1,
          "date": "2016-10-01T00:00:00"
         },
         {
          "year": 2016,
          "month": 10,
          "neighbourhood_group_cleansed": "Rainier Valley",
          "price_year_month_mean": 100.45370370370371,
          "day": 1,
          "date": "2016-10-01T00:00:00"
         },
         {
          "year": 2016,
          "month": 10,
          "neighbourhood_group_cleansed": "Seward Park",
          "price_year_month_mean": 119.2,
          "day": 1,
          "date": "2016-10-01T00:00:00"
         },
         {
          "year": 2016,
          "month": 10,
          "neighbourhood_group_cleansed": "University District",
          "price_year_month_mean": 104.93406593406593,
          "day": 1,
          "date": "2016-10-01T00:00:00"
         },
         {
          "year": 2016,
          "month": 10,
          "neighbourhood_group_cleansed": "West Seattle",
          "price_year_month_mean": 146.63698630136986,
          "day": 1,
          "date": "2016-10-01T00:00:00"
         },
         {
          "year": 2016,
          "month": 11,
          "neighbourhood_group_cleansed": "Ballard",
          "price_year_month_mean": 126.53107344632768,
          "day": 1,
          "date": "2016-11-01T00:00:00"
         },
         {
          "year": 2016,
          "month": 11,
          "neighbourhood_group_cleansed": "Beacon Hill",
          "price_year_month_mean": 101.29069767441861,
          "day": 1,
          "date": "2016-11-01T00:00:00"
         },
         {
          "year": 2016,
          "month": 11,
          "neighbourhood_group_cleansed": "Capitol Hill",
          "price_year_month_mean": 134.18069306930693,
          "day": 1,
          "date": "2016-11-01T00:00:00"
         },
         {
          "year": 2016,
          "month": 11,
          "neighbourhood_group_cleansed": "Cascade",
          "price_year_month_mean": 142.6949152542373,
          "day": 1,
          "date": "2016-11-01T00:00:00"
         },
         {
          "year": 2016,
          "month": 11,
          "neighbourhood_group_cleansed": "Central Area",
          "price_year_month_mean": 138.19272727272727,
          "day": 1,
          "date": "2016-11-01T00:00:00"
         },
         {
          "year": 2016,
          "month": 11,
          "neighbourhood_group_cleansed": "Delridge",
          "price_year_month_mean": 92.88709677419355,
          "day": 1,
          "date": "2016-11-01T00:00:00"
         },
         {
          "year": 2016,
          "month": 11,
          "neighbourhood_group_cleansed": "Downtown",
          "price_year_month_mean": 168.3449275362319,
          "day": 1,
          "date": "2016-11-01T00:00:00"
         },
         {
          "year": 2016,
          "month": 11,
          "neighbourhood_group_cleansed": "Interbay",
          "price_year_month_mean": 112.2,
          "day": 1,
          "date": "2016-11-01T00:00:00"
         },
         {
          "year": 2016,
          "month": 11,
          "neighbourhood_group_cleansed": "Lake City",
          "price_year_month_mean": 90.2909090909091,
          "day": 1,
          "date": "2016-11-01T00:00:00"
         },
         {
          "year": 2016,
          "month": 11,
          "neighbourhood_group_cleansed": "Magnolia",
          "price_year_month_mean": 197.44,
          "day": 1,
          "date": "2016-11-01T00:00:00"
         },
         {
          "year": 2016,
          "month": 11,
          "neighbourhood_group_cleansed": "Northgate",
          "price_year_month_mean": 91.45901639344262,
          "day": 1,
          "date": "2016-11-01T00:00:00"
         },
         {
          "year": 2016,
          "month": 11,
          "neighbourhood_group_cleansed": "Other neighborhoods",
          "price_year_month_mean": 127.9706390328152,
          "day": 1,
          "date": "2016-11-01T00:00:00"
         },
         {
          "year": 2016,
          "month": 11,
          "neighbourhood_group_cleansed": "Queen Anne",
          "price_year_month_mean": 163.38181818181818,
          "day": 1,
          "date": "2016-11-01T00:00:00"
         },
         {
          "year": 2016,
          "month": 11,
          "neighbourhood_group_cleansed": "Rainier Valley",
          "price_year_month_mean": 98.77586206896552,
          "day": 1,
          "date": "2016-11-01T00:00:00"
         },
         {
          "year": 2016,
          "month": 11,
          "neighbourhood_group_cleansed": "Seward Park",
          "price_year_month_mean": 118.7,
          "day": 1,
          "date": "2016-11-01T00:00:00"
         },
         {
          "year": 2016,
          "month": 11,
          "neighbourhood_group_cleansed": "University District",
          "price_year_month_mean": 104.03260869565217,
          "day": 1,
          "date": "2016-11-01T00:00:00"
         },
         {
          "year": 2016,
          "month": 11,
          "neighbourhood_group_cleansed": "West Seattle",
          "price_year_month_mean": 146.15333333333334,
          "day": 1,
          "date": "2016-11-01T00:00:00"
         },
         {
          "year": 2016,
          "month": 12,
          "neighbourhood_group_cleansed": "Ballard",
          "price_year_month_mean": 131.86187845303868,
          "day": 1,
          "date": "2016-12-01T00:00:00"
         },
         {
          "year": 2016,
          "month": 12,
          "neighbourhood_group_cleansed": "Beacon Hill",
          "price_year_month_mean": 100.93258426966293,
          "day": 1,
          "date": "2016-12-01T00:00:00"
         },
         {
          "year": 2016,
          "month": 12,
          "neighbourhood_group_cleansed": "Capitol Hill",
          "price_year_month_mean": 132.88755980861245,
          "day": 1,
          "date": "2016-12-01T00:00:00"
         },
         {
          "year": 2016,
          "month": 12,
          "neighbourhood_group_cleansed": "Cascade",
          "price_year_month_mean": 142.65079365079364,
          "day": 1,
          "date": "2016-12-01T00:00:00"
         },
         {
          "year": 2016,
          "month": 12,
          "neighbourhood_group_cleansed": "Central Area",
          "price_year_month_mean": 138.5658362989324,
          "day": 1,
          "date": "2016-12-01T00:00:00"
         },
         {
          "year": 2016,
          "month": 12,
          "neighbourhood_group_cleansed": "Delridge",
          "price_year_month_mean": 92.15625,
          "day": 1,
          "date": "2016-12-01T00:00:00"
         },
         {
          "year": 2016,
          "month": 12,
          "neighbourhood_group_cleansed": "Downtown",
          "price_year_month_mean": 175.45478723404256,
          "day": 1,
          "date": "2016-12-01T00:00:00"
         },
         {
          "year": 2016,
          "month": 12,
          "neighbourhood_group_cleansed": "Interbay",
          "price_year_month_mean": 114.4,
          "day": 1,
          "date": "2016-12-01T00:00:00"
         },
         {
          "year": 2016,
          "month": 12,
          "neighbourhood_group_cleansed": "Lake City",
          "price_year_month_mean": 90.72727272727273,
          "day": 1,
          "date": "2016-12-01T00:00:00"
         },
         {
          "year": 2016,
          "month": 12,
          "neighbourhood_group_cleansed": "Magnolia",
          "price_year_month_mean": 206.12,
          "day": 1,
          "date": "2016-12-01T00:00:00"
         },
         {
          "year": 2016,
          "month": 12,
          "neighbourhood_group_cleansed": "Northgate",
          "price_year_month_mean": 92.66666666666667,
          "day": 1,
          "date": "2016-12-01T00:00:00"
         },
         {
          "year": 2016,
          "month": 12,
          "neighbourhood_group_cleansed": "Other neighborhoods",
          "price_year_month_mean": 128.0569514237856,
          "day": 1,
          "date": "2016-12-01T00:00:00"
         },
         {
          "year": 2016,
          "month": 12,
          "neighbourhood_group_cleansed": "Queen Anne",
          "price_year_month_mean": 164.43303571428572,
          "day": 1,
          "date": "2016-12-01T00:00:00"
         },
         {
          "year": 2016,
          "month": 12,
          "neighbourhood_group_cleansed": "Rainier Valley",
          "price_year_month_mean": 98.67521367521367,
          "day": 1,
          "date": "2016-12-01T00:00:00"
         },
         {
          "year": 2016,
          "month": 12,
          "neighbourhood_group_cleansed": "Seward Park",
          "price_year_month_mean": 120.58064516129032,
          "day": 1,
          "date": "2016-12-01T00:00:00"
         },
         {
          "year": 2016,
          "month": 12,
          "neighbourhood_group_cleansed": "University District",
          "price_year_month_mean": 104.13978494623656,
          "day": 1,
          "date": "2016-12-01T00:00:00"
         },
         {
          "year": 2016,
          "month": 12,
          "neighbourhood_group_cleansed": "West Seattle",
          "price_year_month_mean": 148.36363636363637,
          "day": 1,
          "date": "2016-12-01T00:00:00"
         },
         {
          "year": 2017,
          "month": 1,
          "neighbourhood_group_cleansed": "Ballard",
          "price_year_month_mean": 131.29508196721312,
          "day": 1,
          "date": "2017-01-01T00:00:00"
         },
         {
          "year": 2017,
          "month": 1,
          "neighbourhood_group_cleansed": "Beacon Hill",
          "price_year_month_mean": 101.17045454545455,
          "day": 1,
          "date": "2017-01-01T00:00:00"
         },
         {
          "year": 2017,
          "month": 1,
          "neighbourhood_group_cleansed": "Capitol Hill",
          "price_year_month_mean": 130.73863636363637,
          "day": 1,
          "date": "2017-01-01T00:00:00"
         },
         {
          "year": 2017,
          "month": 1,
          "neighbourhood_group_cleansed": "Cascade",
          "price_year_month_mean": 142.73846153846154,
          "day": 1,
          "date": "2017-01-01T00:00:00"
         },
         {
          "year": 2017,
          "month": 1,
          "neighbourhood_group_cleansed": "Central Area",
          "price_year_month_mean": 135.75524475524475,
          "day": 1,
          "date": "2017-01-01T00:00:00"
         },
         {
          "year": 2017,
          "month": 1,
          "neighbourhood_group_cleansed": "Delridge",
          "price_year_month_mean": 92.53968253968254,
          "day": 1,
          "date": "2017-01-01T00:00:00"
         },
         {
          "year": 2017,
          "month": 1,
          "neighbourhood_group_cleansed": "Downtown",
          "price_year_month_mean": 174.02295918367346,
          "day": 1,
          "date": "2017-01-01T00:00:00"
         },
         {
          "year": 2017,
          "month": 1,
          "neighbourhood_group_cleansed": "Interbay",
          "price_year_month_mean": 141.5,
          "day": 1,
          "date": "2017-01-01T00:00:00"
         },
         {
          "year": 2017,
          "month": 1,
          "neighbourhood_group_cleansed": "Lake City",
          "price_year_month_mean": 90.21428571428571,
          "day": 1,
          "date": "2017-01-01T00:00:00"
         },
         {
          "year": 2017,
          "month": 1,
          "neighbourhood_group_cleansed": "Magnolia",
          "price_year_month_mean": 213.78,
          "day": 1,
          "date": "2017-01-01T00:00:00"
         },
         {
          "year": 2017,
          "month": 1,
          "neighbourhood_group_cleansed": "Northgate",
          "price_year_month_mean": 88.46774193548387,
          "day": 1,
          "date": "2017-01-01T00:00:00"
         },
         {
          "year": 2017,
          "month": 1,
          "neighbourhood_group_cleansed": "Other neighborhoods",
          "price_year_month_mean": 128.509900990099,
          "day": 1,
          "date": "2017-01-01T00:00:00"
         },
         {
          "year": 2017,
          "month": 1,
          "neighbourhood_group_cleansed": "Queen Anne",
          "price_year_month_mean": 175.78695652173914,
          "day": 1,
          "date": "2017-01-01T00:00:00"
         },
         {
          "year": 2017,
          "month": 1,
          "neighbourhood_group_cleansed": "Rainier Valley",
          "price_year_month_mean": 96.85950413223141,
          "day": 1,
          "date": "2017-01-01T00:00:00"
         },
         {
          "year": 2017,
          "month": 1,
          "neighbourhood_group_cleansed": "Seward Park",
          "price_year_month_mean": 120,
          "day": 1,
          "date": "2017-01-01T00:00:00"
         },
         {
          "year": 2017,
          "month": 1,
          "neighbourhood_group_cleansed": "University District",
          "price_year_month_mean": 106.7872340425532,
          "day": 1,
          "date": "2017-01-01T00:00:00"
         },
         {
          "year": 2017,
          "month": 1,
          "neighbourhood_group_cleansed": "West Seattle",
          "price_year_month_mean": 145.48701298701297,
          "day": 1,
          "date": "2017-01-01T00:00:00"
         }
        ]
       }
      },
      "text/plain": "<VegaLite 3 object>\n\nIf you see this message, it means the renderer has not been properly enabled\nfor the frontend that you are using. For more information, see\nhttps://altair-viz.github.io/user_guide/troubleshooting.html\n"
     },
     "metadata": {},
     "execution_count": 31
    }
   ],
   "source": [
    "import altair as alt\n",
    "from vega_datasets import data\n",
    "\n",
    "lineplot = alt.Chart(df_lineplot).mark_line().encode(\n",
    "    x='date',\n",
    "    y='price_year_month_mean',\n",
    "    color='neighbourhood_group_cleansed'\n",
    ")\n",
    "\n",
    "lineplot"
   ]
  },
  {
   "cell_type": "markdown",
   "metadata": {},
   "source": [
    "## 2) What are the busiest times of the year to visit Seattle? "
   ]
  },
  {
   "cell_type": "code",
   "execution_count": 32,
   "metadata": {},
   "outputs": [],
   "source": [
    "#alt.data_transformers.disable_max_rows()"
   ]
  },
  {
   "cell_type": "code",
   "execution_count": 37,
   "metadata": {},
   "outputs": [],
   "source": [
    "calendar_listings_joined[\"day\"] = 1\n",
    "df_count = (calendar_listings_joined\n",
    "    .filter([\"id\",\"year\", \"month\"])\n",
    "    .groupby([\"year\", \"month\"])[\"id\"]\n",
    "    .count()\n",
    "    .reset_index()\n",
    "    .assign(date = pd.to_datetime(calendar_listings_joined[[\"year\",\"month\", \"day\"]]))\n",
    "    .rename(columns={\"id\" : \"listing_count\"})\n",
    ")\n",
    ""
   ]
  },
  {
   "cell_type": "code",
   "execution_count": 38,
   "metadata": {},
   "outputs": [
    {
     "output_type": "execute_result",
     "data": {
      "text/plain": "    year  month  listing_count       date\n0   2016      1           2868 2016-02-01\n1   2016      2           2895 2016-03-01\n2   2016      3           2950 2016-04-01\n3   2016      4           3002 2016-05-01\n4   2016      5           2705 2016-06-01\n5   2016      6           2720 2016-07-01\n6   2016      7           2503 2016-08-01\n7   2016      8           2561 2016-09-01\n8   2016      9           2649 2016-10-01\n9   2016     10           2694 2016-11-01\n10  2016     11           2771 2016-12-01\n11  2016     12           2866 2017-01-01\n12  2017      1           2931 2016-01-01",
      "text/html": "<div>\n<style scoped>\n    .dataframe tbody tr th:only-of-type {\n        vertical-align: middle;\n    }\n\n    .dataframe tbody tr th {\n        vertical-align: top;\n    }\n\n    .dataframe thead th {\n        text-align: right;\n    }\n</style>\n<table border=\"1\" class=\"dataframe\">\n  <thead>\n    <tr style=\"text-align: right;\">\n      <th></th>\n      <th>year</th>\n      <th>month</th>\n      <th>listing_count</th>\n      <th>date</th>\n    </tr>\n  </thead>\n  <tbody>\n    <tr>\n      <th>0</th>\n      <td>2016</td>\n      <td>1</td>\n      <td>2868</td>\n      <td>2016-02-01</td>\n    </tr>\n    <tr>\n      <th>1</th>\n      <td>2016</td>\n      <td>2</td>\n      <td>2895</td>\n      <td>2016-03-01</td>\n    </tr>\n    <tr>\n      <th>2</th>\n      <td>2016</td>\n      <td>3</td>\n      <td>2950</td>\n      <td>2016-04-01</td>\n    </tr>\n    <tr>\n      <th>3</th>\n      <td>2016</td>\n      <td>4</td>\n      <td>3002</td>\n      <td>2016-05-01</td>\n    </tr>\n    <tr>\n      <th>4</th>\n      <td>2016</td>\n      <td>5</td>\n      <td>2705</td>\n      <td>2016-06-01</td>\n    </tr>\n    <tr>\n      <th>5</th>\n      <td>2016</td>\n      <td>6</td>\n      <td>2720</td>\n      <td>2016-07-01</td>\n    </tr>\n    <tr>\n      <th>6</th>\n      <td>2016</td>\n      <td>7</td>\n      <td>2503</td>\n      <td>2016-08-01</td>\n    </tr>\n    <tr>\n      <th>7</th>\n      <td>2016</td>\n      <td>8</td>\n      <td>2561</td>\n      <td>2016-09-01</td>\n    </tr>\n    <tr>\n      <th>8</th>\n      <td>2016</td>\n      <td>9</td>\n      <td>2649</td>\n      <td>2016-10-01</td>\n    </tr>\n    <tr>\n      <th>9</th>\n      <td>2016</td>\n      <td>10</td>\n      <td>2694</td>\n      <td>2016-11-01</td>\n    </tr>\n    <tr>\n      <th>10</th>\n      <td>2016</td>\n      <td>11</td>\n      <td>2771</td>\n      <td>2016-12-01</td>\n    </tr>\n    <tr>\n      <th>11</th>\n      <td>2016</td>\n      <td>12</td>\n      <td>2866</td>\n      <td>2017-01-01</td>\n    </tr>\n    <tr>\n      <th>12</th>\n      <td>2017</td>\n      <td>1</td>\n      <td>2931</td>\n      <td>2016-01-01</td>\n    </tr>\n  </tbody>\n</table>\n</div>"
     },
     "metadata": {},
     "execution_count": 38
    }
   ],
   "source": [
    "df_count"
   ]
  },
  {
   "cell_type": "code",
   "execution_count": 60,
   "metadata": {},
   "outputs": [
    {
     "output_type": "execute_result",
     "data": {
      "application/vnd.vegalite.v3+json": {
       "config": {
        "view": {
         "width": 400,
         "height": 300
        },
        "mark": {
         "tooltip": null
        }
       },
       "data": {
        "name": "data-f4ec19a45b26e3396ddaad86657349ff"
       },
       "mark": {
        "type": "line",
        "color": "red",
        "point": true
       },
       "encoding": {
        "x": {
         "type": "temporal",
         "field": "date"
        },
        "y": {
         "type": "quantitative",
         "field": "listing_count"
        }
       },
       "$schema": "https://vega.github.io/schema/vega-lite/v3.4.0.json",
       "datasets": {
        "data-f4ec19a45b26e3396ddaad86657349ff": [
         {
          "year": 2016,
          "month": 1,
          "listing_count": 2868,
          "date": "2016-02-01T00:00:00"
         },
         {
          "year": 2016,
          "month": 2,
          "listing_count": 2895,
          "date": "2016-03-01T00:00:00"
         },
         {
          "year": 2016,
          "month": 3,
          "listing_count": 2950,
          "date": "2016-04-01T00:00:00"
         },
         {
          "year": 2016,
          "month": 4,
          "listing_count": 3002,
          "date": "2016-05-01T00:00:00"
         },
         {
          "year": 2016,
          "month": 5,
          "listing_count": 2705,
          "date": "2016-06-01T00:00:00"
         },
         {
          "year": 2016,
          "month": 6,
          "listing_count": 2720,
          "date": "2016-07-01T00:00:00"
         },
         {
          "year": 2016,
          "month": 7,
          "listing_count": 2503,
          "date": "2016-08-01T00:00:00"
         },
         {
          "year": 2016,
          "month": 8,
          "listing_count": 2561,
          "date": "2016-09-01T00:00:00"
         },
         {
          "year": 2016,
          "month": 9,
          "listing_count": 2649,
          "date": "2016-10-01T00:00:00"
         },
         {
          "year": 2016,
          "month": 10,
          "listing_count": 2694,
          "date": "2016-11-01T00:00:00"
         },
         {
          "year": 2016,
          "month": 11,
          "listing_count": 2771,
          "date": "2016-12-01T00:00:00"
         },
         {
          "year": 2016,
          "month": 12,
          "listing_count": 2866,
          "date": "2017-01-01T00:00:00"
         },
         {
          "year": 2017,
          "month": 1,
          "listing_count": 2931,
          "date": "2016-01-01T00:00:00"
         }
        ]
       }
      },
      "text/plain": "<VegaLite 3 object>\n\nIf you see this message, it means the renderer has not been properly enabled\nfor the frontend that you are using. For more information, see\nhttps://altair-viz.github.io/user_guide/troubleshooting.html\n"
     },
     "metadata": {},
     "execution_count": 60
    }
   ],
   "source": [
    "alt.Chart(df_count).mark_line(point=True, color=\"red\").encode(\n",
    "    x='date',\n",
    "    y='listing_count'\n",
    ")"
   ]
  },
  {
   "cell_type": "markdown",
   "metadata": {},
   "source": [
    "Top 3 months based on the total listing count"
   ]
  },
  {
   "cell_type": "code",
   "execution_count": 45,
   "metadata": {},
   "outputs": [
    {
     "output_type": "execute_result",
     "data": {
      "text/plain": "    year  month  listing_count       date\n3   2016      4           3002 2016-05-01\n2   2016      3           2950 2016-04-01\n12  2017      1           2931 2016-01-01",
      "text/html": "<div>\n<style scoped>\n    .dataframe tbody tr th:only-of-type {\n        vertical-align: middle;\n    }\n\n    .dataframe tbody tr th {\n        vertical-align: top;\n    }\n\n    .dataframe thead th {\n        text-align: right;\n    }\n</style>\n<table border=\"1\" class=\"dataframe\">\n  <thead>\n    <tr style=\"text-align: right;\">\n      <th></th>\n      <th>year</th>\n      <th>month</th>\n      <th>listing_count</th>\n      <th>date</th>\n    </tr>\n  </thead>\n  <tbody>\n    <tr>\n      <th>3</th>\n      <td>2016</td>\n      <td>4</td>\n      <td>3002</td>\n      <td>2016-05-01</td>\n    </tr>\n    <tr>\n      <th>2</th>\n      <td>2016</td>\n      <td>3</td>\n      <td>2950</td>\n      <td>2016-04-01</td>\n    </tr>\n    <tr>\n      <th>12</th>\n      <td>2017</td>\n      <td>1</td>\n      <td>2931</td>\n      <td>2016-01-01</td>\n    </tr>\n  </tbody>\n</table>\n</div>"
     },
     "metadata": {},
     "execution_count": 45
    }
   ],
   "source": [
    "df_count.nlargest(columns=\"listing_count\", n=3)"
   ]
  },
  {
   "cell_type": "code",
   "execution_count": 46,
   "metadata": {},
   "outputs": [],
   "source": [
    "calendar_listings_joined[\"day\"] = 1\n",
    "df_price = (calendar_listings_joined\n",
    "    .filter([\"id\",\"year\", \"month\", \"price_year_month_mean\"])\n",
    "    .groupby([\"year\", \"month\"])[\"price_year_month_mean\"]\n",
    "    .agg(\"mean\")\n",
    "    .reset_index()\n",
    "    .assign(date = pd.to_datetime(calendar_listings_joined[[\"year\",\"month\", \"day\"]]))\n",
    ")\n",
    "df_point = df_count.merge(df_price, how=\"left\", on=\"date\")"
   ]
  },
  {
   "cell_type": "markdown",
   "metadata": {},
   "source": [
    "# 3) Are there any correlations between any of the numerical attributes and the mean montly price of listings."
   ]
  },
  {
   "cell_type": "code",
   "execution_count": 96,
   "metadata": {},
   "outputs": [],
   "source": [
    "corrMatrix  = calendar_listings_joined.select_dtypes(include=[\"float64\", \"int32\"]).drop(columns=[\"latitude\",\"longitude\", \"license\"]).corr()\n",
    "corrMatrix = corrMatrix[(corrMatrix >= 0.5) | (corrMatrix <= -0.5)]"
   ]
  },
  {
   "cell_type": "code",
   "execution_count": 97,
   "metadata": {},
   "outputs": [
    {
     "output_type": "display_data",
     "data": {
      "text/plain": "<Figure size 1152x432 with 2 Axes>",
      "image/svg+xml": "<?xml version=\"1.0\" encoding=\"utf-8\" standalone=\"no\"?>\r\n<!DOCTYPE svg PUBLIC \"-//W3C//DTD SVG 1.1//EN\"\r\n  \"http://www.w3.org/Graphics/SVG/1.1/DTD/svg11.dtd\">\r\n<!-- Created with matplotlib (https://matplotlib.org/) -->\r\n<svg height=\"503.834219pt\" version=\"1.1\" viewBox=\"0 0 971.966125 503.834219\" width=\"971.966125pt\" xmlns=\"http://www.w3.org/2000/svg\" xmlns:xlink=\"http://www.w3.org/1999/xlink\">\r\n <defs>\r\n  <style type=\"text/css\">\r\n*{stroke-linecap:butt;stroke-linejoin:round;}\r\n  </style>\r\n </defs>\r\n <g id=\"figure_1\">\r\n  <g id=\"patch_1\">\r\n   <path d=\"M 0 503.834219 \r\nL 971.966125 503.834219 \r\nL 971.966125 0 \r\nL 0 0 \r\nz\r\n\" style=\"fill:none;\"/>\r\n  </g>\r\n  <g id=\"axes_1\">\r\n   <g id=\"patch_2\">\r\n    <path d=\"M 166.675 337.159219 \r\nL 880.915 337.159219 \r\nL 880.915 10.999219 \r\nL 166.675 10.999219 \r\nz\r\n\" style=\"fill:#ffffff;\"/>\r\n   </g>\r\n   <g id=\"QuadMesh_1\">\r\n    <path clip-path=\"url(#pfe6373559b)\" d=\"M 166.675 10.999219 \r\nL 211.315 10.999219 \r\nL 211.315 31.384219 \r\nL 166.675 31.384219 \r\nL 166.675 10.999219 \r\n\" style=\"fill:#faebdd;\"/>\r\n    <path clip-path=\"url(#pfe6373559b)\" d=\"M 211.315 10.999219 \r\nL 255.955 10.999219 \r\nL 255.955 31.384219 \r\nL 211.315 31.384219 \r\nL 211.315 10.999219 \r\n\" style=\"fill:none;\"/>\r\n    <path clip-path=\"url(#pfe6373559b)\" d=\"M 255.955 10.999219 \r\nL 300.595 10.999219 \r\nL 300.595 31.384219 \r\nL 255.955 31.384219 \r\nL 255.955 10.999219 \r\n\" style=\"fill:none;\"/>\r\n    <path clip-path=\"url(#pfe6373559b)\" d=\"M 300.595 10.999219 \r\nL 345.235 10.999219 \r\nL 345.235 31.384219 \r\nL 300.595 31.384219 \r\nL 300.595 10.999219 \r\n\" style=\"fill:none;\"/>\r\n    <path clip-path=\"url(#pfe6373559b)\" d=\"M 345.235 10.999219 \r\nL 389.875 10.999219 \r\nL 389.875 31.384219 \r\nL 345.235 31.384219 \r\nL 345.235 10.999219 \r\n\" style=\"fill:#160e27;\"/>\r\n    <path clip-path=\"url(#pfe6373559b)\" d=\"M 389.875 10.999219 \r\nL 434.515 10.999219 \r\nL 434.515 31.384219 \r\nL 389.875 31.384219 \r\nL 389.875 10.999219 \r\n\" style=\"fill:#6b1f56;\"/>\r\n    <path clip-path=\"url(#pfe6373559b)\" d=\"M 434.515 10.999219 \r\nL 479.155 10.999219 \r\nL 479.155 31.384219 \r\nL 434.515 31.384219 \r\nL 434.515 10.999219 \r\n\" style=\"fill:#5b1e51;\"/>\r\n    <path clip-path=\"url(#pfe6373559b)\" d=\"M 479.155 10.999219 \r\nL 523.795 10.999219 \r\nL 523.795 31.384219 \r\nL 479.155 31.384219 \r\nL 479.155 10.999219 \r\n\" style=\"fill:#05061b;\"/>\r\n    <path clip-path=\"url(#pfe6373559b)\" d=\"M 523.795 10.999219 \r\nL 568.435 10.999219 \r\nL 568.435 31.384219 \r\nL 523.795 31.384219 \r\nL 523.795 10.999219 \r\n\" style=\"fill:none;\"/>\r\n    <path clip-path=\"url(#pfe6373559b)\" d=\"M 568.435 10.999219 \r\nL 613.075 10.999219 \r\nL 613.075 31.384219 \r\nL 568.435 31.384219 \r\nL 568.435 10.999219 \r\n\" style=\"fill:none;\"/>\r\n    <path clip-path=\"url(#pfe6373559b)\" d=\"M 613.075 10.999219 \r\nL 657.715 10.999219 \r\nL 657.715 31.384219 \r\nL 613.075 31.384219 \r\nL 613.075 10.999219 \r\n\" style=\"fill:none;\"/>\r\n    <path clip-path=\"url(#pfe6373559b)\" d=\"M 657.715 10.999219 \r\nL 702.355 10.999219 \r\nL 702.355 31.384219 \r\nL 657.715 31.384219 \r\nL 657.715 10.999219 \r\n\" style=\"fill:none;\"/>\r\n    <path clip-path=\"url(#pfe6373559b)\" d=\"M 702.355 10.999219 \r\nL 746.995 10.999219 \r\nL 746.995 31.384219 \r\nL 702.355 31.384219 \r\nL 702.355 10.999219 \r\n\" style=\"fill:none;\"/>\r\n    <path clip-path=\"url(#pfe6373559b)\" d=\"M 746.995 10.999219 \r\nL 791.635 10.999219 \r\nL 791.635 31.384219 \r\nL 746.995 31.384219 \r\nL 746.995 10.999219 \r\n\" style=\"fill:none;\"/>\r\n    <path clip-path=\"url(#pfe6373559b)\" d=\"M 791.635 10.999219 \r\nL 836.275 10.999219 \r\nL 836.275 31.384219 \r\nL 791.635 31.384219 \r\nL 791.635 10.999219 \r\n\" style=\"fill:none;\"/>\r\n    <path clip-path=\"url(#pfe6373559b)\" d=\"M 836.275 10.999219 \r\nL 880.915 10.999219 \r\nL 880.915 31.384219 \r\nL 836.275 31.384219 \r\nL 836.275 10.999219 \r\n\" style=\"fill:none;\"/>\r\n    <path clip-path=\"url(#pfe6373559b)\" d=\"M 166.675 31.384219 \r\nL 211.315 31.384219 \r\nL 211.315 51.769219 \r\nL 166.675 51.769219 \r\nL 166.675 31.384219 \r\n\" style=\"fill:none;\"/>\r\n    <path clip-path=\"url(#pfe6373559b)\" d=\"M 211.315 31.384219 \r\nL 255.955 31.384219 \r\nL 255.955 51.769219 \r\nL 211.315 51.769219 \r\nL 211.315 31.384219 \r\n\" style=\"fill:#faebdd;\"/>\r\n    <path clip-path=\"url(#pfe6373559b)\" d=\"M 255.955 31.384219 \r\nL 300.595 31.384219 \r\nL 300.595 51.769219 \r\nL 255.955 51.769219 \r\nL 255.955 31.384219 \r\n\" style=\"fill:#faebdd;\"/>\r\n    <path clip-path=\"url(#pfe6373559b)\" d=\"M 300.595 31.384219 \r\nL 345.235 31.384219 \r\nL 345.235 51.769219 \r\nL 300.595 51.769219 \r\nL 300.595 31.384219 \r\n\" style=\"fill:none;\"/>\r\n    <path clip-path=\"url(#pfe6373559b)\" d=\"M 345.235 31.384219 \r\nL 389.875 31.384219 \r\nL 389.875 51.769219 \r\nL 345.235 51.769219 \r\nL 345.235 31.384219 \r\n\" style=\"fill:none;\"/>\r\n    <path clip-path=\"url(#pfe6373559b)\" d=\"M 389.875 31.384219 \r\nL 434.515 31.384219 \r\nL 434.515 51.769219 \r\nL 389.875 51.769219 \r\nL 389.875 31.384219 \r\n\" style=\"fill:none;\"/>\r\n    <path clip-path=\"url(#pfe6373559b)\" d=\"M 434.515 31.384219 \r\nL 479.155 31.384219 \r\nL 479.155 51.769219 \r\nL 434.515 51.769219 \r\nL 434.515 31.384219 \r\n\" style=\"fill:none;\"/>\r\n    <path clip-path=\"url(#pfe6373559b)\" d=\"M 479.155 31.384219 \r\nL 523.795 31.384219 \r\nL 523.795 51.769219 \r\nL 479.155 51.769219 \r\nL 479.155 31.384219 \r\n\" style=\"fill:none;\"/>\r\n    <path clip-path=\"url(#pfe6373559b)\" d=\"M 523.795 31.384219 \r\nL 568.435 31.384219 \r\nL 568.435 51.769219 \r\nL 523.795 51.769219 \r\nL 523.795 31.384219 \r\n\" style=\"fill:none;\"/>\r\n    <path clip-path=\"url(#pfe6373559b)\" d=\"M 568.435 31.384219 \r\nL 613.075 31.384219 \r\nL 613.075 51.769219 \r\nL 568.435 51.769219 \r\nL 568.435 31.384219 \r\n\" style=\"fill:none;\"/>\r\n    <path clip-path=\"url(#pfe6373559b)\" d=\"M 613.075 31.384219 \r\nL 657.715 31.384219 \r\nL 657.715 51.769219 \r\nL 613.075 51.769219 \r\nL 613.075 31.384219 \r\n\" style=\"fill:none;\"/>\r\n    <path clip-path=\"url(#pfe6373559b)\" d=\"M 657.715 31.384219 \r\nL 702.355 31.384219 \r\nL 702.355 51.769219 \r\nL 657.715 51.769219 \r\nL 657.715 31.384219 \r\n\" style=\"fill:none;\"/>\r\n    <path clip-path=\"url(#pfe6373559b)\" d=\"M 702.355 31.384219 \r\nL 746.995 31.384219 \r\nL 746.995 51.769219 \r\nL 702.355 51.769219 \r\nL 702.355 31.384219 \r\n\" style=\"fill:none;\"/>\r\n    <path clip-path=\"url(#pfe6373559b)\" d=\"M 746.995 31.384219 \r\nL 791.635 31.384219 \r\nL 791.635 51.769219 \r\nL 746.995 51.769219 \r\nL 746.995 31.384219 \r\n\" style=\"fill:none;\"/>\r\n    <path clip-path=\"url(#pfe6373559b)\" d=\"M 791.635 31.384219 \r\nL 836.275 31.384219 \r\nL 836.275 51.769219 \r\nL 791.635 51.769219 \r\nL 791.635 31.384219 \r\n\" style=\"fill:none;\"/>\r\n    <path clip-path=\"url(#pfe6373559b)\" d=\"M 836.275 31.384219 \r\nL 880.915 31.384219 \r\nL 880.915 51.769219 \r\nL 836.275 51.769219 \r\nL 836.275 31.384219 \r\n\" style=\"fill:none;\"/>\r\n    <path clip-path=\"url(#pfe6373559b)\" d=\"M 166.675 51.769219 \r\nL 211.315 51.769219 \r\nL 211.315 72.154219 \r\nL 166.675 72.154219 \r\nL 166.675 51.769219 \r\n\" style=\"fill:none;\"/>\r\n    <path clip-path=\"url(#pfe6373559b)\" d=\"M 211.315 51.769219 \r\nL 255.955 51.769219 \r\nL 255.955 72.154219 \r\nL 211.315 72.154219 \r\nL 211.315 51.769219 \r\n\" style=\"fill:#faebdd;\"/>\r\n    <path clip-path=\"url(#pfe6373559b)\" d=\"M 255.955 51.769219 \r\nL 300.595 51.769219 \r\nL 300.595 72.154219 \r\nL 255.955 72.154219 \r\nL 255.955 51.769219 \r\n\" style=\"fill:#faebdd;\"/>\r\n    <path clip-path=\"url(#pfe6373559b)\" d=\"M 300.595 51.769219 \r\nL 345.235 51.769219 \r\nL 345.235 72.154219 \r\nL 300.595 72.154219 \r\nL 300.595 51.769219 \r\n\" style=\"fill:none;\"/>\r\n    <path clip-path=\"url(#pfe6373559b)\" d=\"M 345.235 51.769219 \r\nL 389.875 51.769219 \r\nL 389.875 72.154219 \r\nL 345.235 72.154219 \r\nL 345.235 51.769219 \r\n\" style=\"fill:none;\"/>\r\n    <path clip-path=\"url(#pfe6373559b)\" d=\"M 389.875 51.769219 \r\nL 434.515 51.769219 \r\nL 434.515 72.154219 \r\nL 389.875 72.154219 \r\nL 389.875 51.769219 \r\n\" style=\"fill:none;\"/>\r\n    <path clip-path=\"url(#pfe6373559b)\" d=\"M 434.515 51.769219 \r\nL 479.155 51.769219 \r\nL 479.155 72.154219 \r\nL 434.515 72.154219 \r\nL 434.515 51.769219 \r\n\" style=\"fill:none;\"/>\r\n    <path clip-path=\"url(#pfe6373559b)\" d=\"M 479.155 51.769219 \r\nL 523.795 51.769219 \r\nL 523.795 72.154219 \r\nL 479.155 72.154219 \r\nL 479.155 51.769219 \r\n\" style=\"fill:none;\"/>\r\n    <path clip-path=\"url(#pfe6373559b)\" d=\"M 523.795 51.769219 \r\nL 568.435 51.769219 \r\nL 568.435 72.154219 \r\nL 523.795 72.154219 \r\nL 523.795 51.769219 \r\n\" style=\"fill:none;\"/>\r\n    <path clip-path=\"url(#pfe6373559b)\" d=\"M 568.435 51.769219 \r\nL 613.075 51.769219 \r\nL 613.075 72.154219 \r\nL 568.435 72.154219 \r\nL 568.435 51.769219 \r\n\" style=\"fill:none;\"/>\r\n    <path clip-path=\"url(#pfe6373559b)\" d=\"M 613.075 51.769219 \r\nL 657.715 51.769219 \r\nL 657.715 72.154219 \r\nL 613.075 72.154219 \r\nL 613.075 51.769219 \r\n\" style=\"fill:none;\"/>\r\n    <path clip-path=\"url(#pfe6373559b)\" d=\"M 657.715 51.769219 \r\nL 702.355 51.769219 \r\nL 702.355 72.154219 \r\nL 657.715 72.154219 \r\nL 657.715 51.769219 \r\n\" style=\"fill:none;\"/>\r\n    <path clip-path=\"url(#pfe6373559b)\" d=\"M 702.355 51.769219 \r\nL 746.995 51.769219 \r\nL 746.995 72.154219 \r\nL 702.355 72.154219 \r\nL 702.355 51.769219 \r\n\" style=\"fill:none;\"/>\r\n    <path clip-path=\"url(#pfe6373559b)\" d=\"M 746.995 51.769219 \r\nL 791.635 51.769219 \r\nL 791.635 72.154219 \r\nL 746.995 72.154219 \r\nL 746.995 51.769219 \r\n\" style=\"fill:none;\"/>\r\n    <path clip-path=\"url(#pfe6373559b)\" d=\"M 791.635 51.769219 \r\nL 836.275 51.769219 \r\nL 836.275 72.154219 \r\nL 791.635 72.154219 \r\nL 791.635 51.769219 \r\n\" style=\"fill:none;\"/>\r\n    <path clip-path=\"url(#pfe6373559b)\" d=\"M 836.275 51.769219 \r\nL 880.915 51.769219 \r\nL 880.915 72.154219 \r\nL 836.275 72.154219 \r\nL 836.275 51.769219 \r\n\" style=\"fill:none;\"/>\r\n    <path clip-path=\"url(#pfe6373559b)\" d=\"M 166.675 72.154219 \r\nL 211.315 72.154219 \r\nL 211.315 92.539219 \r\nL 166.675 92.539219 \r\nL 166.675 72.154219 \r\n\" style=\"fill:none;\"/>\r\n    <path clip-path=\"url(#pfe6373559b)\" d=\"M 211.315 72.154219 \r\nL 255.955 72.154219 \r\nL 255.955 92.539219 \r\nL 211.315 92.539219 \r\nL 211.315 72.154219 \r\n\" style=\"fill:none;\"/>\r\n    <path clip-path=\"url(#pfe6373559b)\" d=\"M 255.955 72.154219 \r\nL 300.595 72.154219 \r\nL 300.595 92.539219 \r\nL 255.955 92.539219 \r\nL 255.955 72.154219 \r\n\" style=\"fill:none;\"/>\r\n    <path clip-path=\"url(#pfe6373559b)\" d=\"M 300.595 72.154219 \r\nL 345.235 72.154219 \r\nL 345.235 92.539219 \r\nL 300.595 92.539219 \r\nL 300.595 72.154219 \r\n\" style=\"fill:#faebdd;\"/>\r\n    <path clip-path=\"url(#pfe6373559b)\" d=\"M 345.235 72.154219 \r\nL 389.875 72.154219 \r\nL 389.875 92.539219 \r\nL 345.235 92.539219 \r\nL 345.235 72.154219 \r\n\" style=\"fill:none;\"/>\r\n    <path clip-path=\"url(#pfe6373559b)\" d=\"M 389.875 72.154219 \r\nL 434.515 72.154219 \r\nL 434.515 92.539219 \r\nL 389.875 92.539219 \r\nL 389.875 72.154219 \r\n\" style=\"fill:none;\"/>\r\n    <path clip-path=\"url(#pfe6373559b)\" d=\"M 434.515 72.154219 \r\nL 479.155 72.154219 \r\nL 479.155 92.539219 \r\nL 434.515 92.539219 \r\nL 434.515 72.154219 \r\n\" style=\"fill:none;\"/>\r\n    <path clip-path=\"url(#pfe6373559b)\" d=\"M 479.155 72.154219 \r\nL 523.795 72.154219 \r\nL 523.795 92.539219 \r\nL 479.155 92.539219 \r\nL 479.155 72.154219 \r\n\" style=\"fill:none;\"/>\r\n    <path clip-path=\"url(#pfe6373559b)\" d=\"M 523.795 72.154219 \r\nL 568.435 72.154219 \r\nL 568.435 92.539219 \r\nL 523.795 92.539219 \r\nL 523.795 72.154219 \r\n\" style=\"fill:none;\"/>\r\n    <path clip-path=\"url(#pfe6373559b)\" d=\"M 568.435 72.154219 \r\nL 613.075 72.154219 \r\nL 613.075 92.539219 \r\nL 568.435 92.539219 \r\nL 568.435 72.154219 \r\n\" style=\"fill:none;\"/>\r\n    <path clip-path=\"url(#pfe6373559b)\" d=\"M 613.075 72.154219 \r\nL 657.715 72.154219 \r\nL 657.715 92.539219 \r\nL 613.075 92.539219 \r\nL 613.075 72.154219 \r\n\" style=\"fill:none;\"/>\r\n    <path clip-path=\"url(#pfe6373559b)\" d=\"M 657.715 72.154219 \r\nL 702.355 72.154219 \r\nL 702.355 92.539219 \r\nL 657.715 92.539219 \r\nL 657.715 72.154219 \r\n\" style=\"fill:none;\"/>\r\n    <path clip-path=\"url(#pfe6373559b)\" d=\"M 702.355 72.154219 \r\nL 746.995 72.154219 \r\nL 746.995 92.539219 \r\nL 702.355 92.539219 \r\nL 702.355 72.154219 \r\n\" style=\"fill:none;\"/>\r\n    <path clip-path=\"url(#pfe6373559b)\" d=\"M 746.995 72.154219 \r\nL 791.635 72.154219 \r\nL 791.635 92.539219 \r\nL 746.995 92.539219 \r\nL 746.995 72.154219 \r\n\" style=\"fill:none;\"/>\r\n    <path clip-path=\"url(#pfe6373559b)\" d=\"M 791.635 72.154219 \r\nL 836.275 72.154219 \r\nL 836.275 92.539219 \r\nL 791.635 92.539219 \r\nL 791.635 72.154219 \r\n\" style=\"fill:none;\"/>\r\n    <path clip-path=\"url(#pfe6373559b)\" d=\"M 836.275 72.154219 \r\nL 880.915 72.154219 \r\nL 880.915 92.539219 \r\nL 836.275 92.539219 \r\nL 836.275 72.154219 \r\n\" style=\"fill:none;\"/>\r\n    <path clip-path=\"url(#pfe6373559b)\" d=\"M 166.675 92.539219 \r\nL 211.315 92.539219 \r\nL 211.315 112.924219 \r\nL 166.675 112.924219 \r\nL 166.675 92.539219 \r\n\" style=\"fill:#160e27;\"/>\r\n    <path clip-path=\"url(#pfe6373559b)\" d=\"M 211.315 92.539219 \r\nL 255.955 92.539219 \r\nL 255.955 112.924219 \r\nL 211.315 112.924219 \r\nL 211.315 92.539219 \r\n\" style=\"fill:none;\"/>\r\n    <path clip-path=\"url(#pfe6373559b)\" d=\"M 255.955 92.539219 \r\nL 300.595 92.539219 \r\nL 300.595 112.924219 \r\nL 255.955 112.924219 \r\nL 255.955 92.539219 \r\n\" style=\"fill:none;\"/>\r\n    <path clip-path=\"url(#pfe6373559b)\" d=\"M 300.595 92.539219 \r\nL 345.235 92.539219 \r\nL 345.235 112.924219 \r\nL 300.595 112.924219 \r\nL 300.595 92.539219 \r\n\" style=\"fill:none;\"/>\r\n    <path clip-path=\"url(#pfe6373559b)\" d=\"M 345.235 92.539219 \r\nL 389.875 92.539219 \r\nL 389.875 112.924219 \r\nL 345.235 112.924219 \r\nL 345.235 92.539219 \r\n\" style=\"fill:#faebdd;\"/>\r\n    <path clip-path=\"url(#pfe6373559b)\" d=\"M 389.875 92.539219 \r\nL 434.515 92.539219 \r\nL 434.515 112.924219 \r\nL 389.875 112.924219 \r\nL 389.875 92.539219 \r\n\" style=\"fill:#4e1d4b;\"/>\r\n    <path clip-path=\"url(#pfe6373559b)\" d=\"M 434.515 92.539219 \r\nL 479.155 92.539219 \r\nL 479.155 112.924219 \r\nL 434.515 112.924219 \r\nL 434.515 92.539219 \r\n\" style=\"fill:#07071d;\"/>\r\n    <path clip-path=\"url(#pfe6373559b)\" d=\"M 479.155 92.539219 \r\nL 523.795 92.539219 \r\nL 523.795 112.924219 \r\nL 479.155 112.924219 \r\nL 479.155 92.539219 \r\n\" style=\"fill:none;\"/>\r\n    <path clip-path=\"url(#pfe6373559b)\" d=\"M 523.795 92.539219 \r\nL 568.435 92.539219 \r\nL 568.435 112.924219 \r\nL 523.795 112.924219 \r\nL 523.795 92.539219 \r\n\" style=\"fill:none;\"/>\r\n    <path clip-path=\"url(#pfe6373559b)\" d=\"M 568.435 92.539219 \r\nL 613.075 92.539219 \r\nL 613.075 112.924219 \r\nL 568.435 112.924219 \r\nL 568.435 92.539219 \r\n\" style=\"fill:none;\"/>\r\n    <path clip-path=\"url(#pfe6373559b)\" d=\"M 613.075 92.539219 \r\nL 657.715 92.539219 \r\nL 657.715 112.924219 \r\nL 613.075 112.924219 \r\nL 613.075 92.539219 \r\n\" style=\"fill:none;\"/>\r\n    <path clip-path=\"url(#pfe6373559b)\" d=\"M 657.715 92.539219 \r\nL 702.355 92.539219 \r\nL 702.355 112.924219 \r\nL 657.715 112.924219 \r\nL 657.715 92.539219 \r\n\" style=\"fill:none;\"/>\r\n    <path clip-path=\"url(#pfe6373559b)\" d=\"M 702.355 92.539219 \r\nL 746.995 92.539219 \r\nL 746.995 112.924219 \r\nL 702.355 112.924219 \r\nL 702.355 92.539219 \r\n\" style=\"fill:none;\"/>\r\n    <path clip-path=\"url(#pfe6373559b)\" d=\"M 746.995 92.539219 \r\nL 791.635 92.539219 \r\nL 791.635 112.924219 \r\nL 746.995 112.924219 \r\nL 746.995 92.539219 \r\n\" style=\"fill:none;\"/>\r\n    <path clip-path=\"url(#pfe6373559b)\" d=\"M 791.635 92.539219 \r\nL 836.275 92.539219 \r\nL 836.275 112.924219 \r\nL 791.635 112.924219 \r\nL 791.635 92.539219 \r\n\" style=\"fill:none;\"/>\r\n    <path clip-path=\"url(#pfe6373559b)\" d=\"M 836.275 92.539219 \r\nL 880.915 92.539219 \r\nL 880.915 112.924219 \r\nL 836.275 112.924219 \r\nL 836.275 92.539219 \r\n\" style=\"fill:none;\"/>\r\n    <path clip-path=\"url(#pfe6373559b)\" d=\"M 166.675 112.924219 \r\nL 211.315 112.924219 \r\nL 211.315 133.309219 \r\nL 166.675 133.309219 \r\nL 166.675 112.924219 \r\n\" style=\"fill:#6b1f56;\"/>\r\n    <path clip-path=\"url(#pfe6373559b)\" d=\"M 211.315 112.924219 \r\nL 255.955 112.924219 \r\nL 255.955 133.309219 \r\nL 211.315 133.309219 \r\nL 211.315 112.924219 \r\n\" style=\"fill:none;\"/>\r\n    <path clip-path=\"url(#pfe6373559b)\" d=\"M 255.955 112.924219 \r\nL 300.595 112.924219 \r\nL 300.595 133.309219 \r\nL 255.955 133.309219 \r\nL 255.955 112.924219 \r\n\" style=\"fill:none;\"/>\r\n    <path clip-path=\"url(#pfe6373559b)\" d=\"M 300.595 112.924219 \r\nL 345.235 112.924219 \r\nL 345.235 133.309219 \r\nL 300.595 133.309219 \r\nL 300.595 112.924219 \r\n\" style=\"fill:none;\"/>\r\n    <path clip-path=\"url(#pfe6373559b)\" d=\"M 345.235 112.924219 \r\nL 389.875 112.924219 \r\nL 389.875 133.309219 \r\nL 345.235 133.309219 \r\nL 345.235 112.924219 \r\n\" style=\"fill:#4e1d4b;\"/>\r\n    <path clip-path=\"url(#pfe6373559b)\" d=\"M 389.875 112.924219 \r\nL 434.515 112.924219 \r\nL 434.515 133.309219 \r\nL 389.875 133.309219 \r\nL 389.875 112.924219 \r\n\" style=\"fill:#faebdd;\"/>\r\n    <path clip-path=\"url(#pfe6373559b)\" d=\"M 434.515 112.924219 \r\nL 479.155 112.924219 \r\nL 479.155 133.309219 \r\nL 434.515 133.309219 \r\nL 434.515 112.924219 \r\n\" style=\"fill:#c81951;\"/>\r\n    <path clip-path=\"url(#pfe6373559b)\" d=\"M 479.155 112.924219 \r\nL 523.795 112.924219 \r\nL 523.795 133.309219 \r\nL 479.155 133.309219 \r\nL 479.155 112.924219 \r\n\" style=\"fill:#04051a;\"/>\r\n    <path clip-path=\"url(#pfe6373559b)\" d=\"M 523.795 112.924219 \r\nL 568.435 112.924219 \r\nL 568.435 133.309219 \r\nL 523.795 133.309219 \r\nL 523.795 112.924219 \r\n\" style=\"fill:none;\"/>\r\n    <path clip-path=\"url(#pfe6373559b)\" d=\"M 568.435 112.924219 \r\nL 613.075 112.924219 \r\nL 613.075 133.309219 \r\nL 568.435 133.309219 \r\nL 568.435 112.924219 \r\n\" style=\"fill:none;\"/>\r\n    <path clip-path=\"url(#pfe6373559b)\" d=\"M 613.075 112.924219 \r\nL 657.715 112.924219 \r\nL 657.715 133.309219 \r\nL 613.075 133.309219 \r\nL 613.075 112.924219 \r\n\" style=\"fill:none;\"/>\r\n    <path clip-path=\"url(#pfe6373559b)\" d=\"M 657.715 112.924219 \r\nL 702.355 112.924219 \r\nL 702.355 133.309219 \r\nL 657.715 133.309219 \r\nL 657.715 112.924219 \r\n\" style=\"fill:none;\"/>\r\n    <path clip-path=\"url(#pfe6373559b)\" d=\"M 702.355 112.924219 \r\nL 746.995 112.924219 \r\nL 746.995 133.309219 \r\nL 702.355 133.309219 \r\nL 702.355 112.924219 \r\n\" style=\"fill:none;\"/>\r\n    <path clip-path=\"url(#pfe6373559b)\" d=\"M 746.995 112.924219 \r\nL 791.635 112.924219 \r\nL 791.635 133.309219 \r\nL 746.995 133.309219 \r\nL 746.995 112.924219 \r\n\" style=\"fill:none;\"/>\r\n    <path clip-path=\"url(#pfe6373559b)\" d=\"M 791.635 112.924219 \r\nL 836.275 112.924219 \r\nL 836.275 133.309219 \r\nL 791.635 133.309219 \r\nL 791.635 112.924219 \r\n\" style=\"fill:none;\"/>\r\n    <path clip-path=\"url(#pfe6373559b)\" d=\"M 836.275 112.924219 \r\nL 880.915 112.924219 \r\nL 880.915 133.309219 \r\nL 836.275 133.309219 \r\nL 836.275 112.924219 \r\n\" style=\"fill:none;\"/>\r\n    <path clip-path=\"url(#pfe6373559b)\" d=\"M 166.675 133.309219 \r\nL 211.315 133.309219 \r\nL 211.315 153.694219 \r\nL 166.675 153.694219 \r\nL 166.675 133.309219 \r\n\" style=\"fill:#5b1e51;\"/>\r\n    <path clip-path=\"url(#pfe6373559b)\" d=\"M 211.315 133.309219 \r\nL 255.955 133.309219 \r\nL 255.955 153.694219 \r\nL 211.315 153.694219 \r\nL 211.315 133.309219 \r\n\" style=\"fill:none;\"/>\r\n    <path clip-path=\"url(#pfe6373559b)\" d=\"M 255.955 133.309219 \r\nL 300.595 133.309219 \r\nL 300.595 153.694219 \r\nL 255.955 153.694219 \r\nL 255.955 133.309219 \r\n\" style=\"fill:none;\"/>\r\n    <path clip-path=\"url(#pfe6373559b)\" d=\"M 300.595 133.309219 \r\nL 345.235 133.309219 \r\nL 345.235 153.694219 \r\nL 300.595 153.694219 \r\nL 300.595 133.309219 \r\n\" style=\"fill:none;\"/>\r\n    <path clip-path=\"url(#pfe6373559b)\" d=\"M 345.235 133.309219 \r\nL 389.875 133.309219 \r\nL 389.875 153.694219 \r\nL 345.235 153.694219 \r\nL 345.235 133.309219 \r\n\" style=\"fill:#07071d;\"/>\r\n    <path clip-path=\"url(#pfe6373559b)\" d=\"M 389.875 133.309219 \r\nL 434.515 133.309219 \r\nL 434.515 153.694219 \r\nL 389.875 153.694219 \r\nL 389.875 133.309219 \r\n\" style=\"fill:#c81951;\"/>\r\n    <path clip-path=\"url(#pfe6373559b)\" d=\"M 434.515 133.309219 \r\nL 479.155 133.309219 \r\nL 479.155 153.694219 \r\nL 434.515 153.694219 \r\nL 434.515 133.309219 \r\n\" style=\"fill:#faebdd;\"/>\r\n    <path clip-path=\"url(#pfe6373559b)\" d=\"M 479.155 133.309219 \r\nL 523.795 133.309219 \r\nL 523.795 153.694219 \r\nL 479.155 153.694219 \r\nL 479.155 133.309219 \r\n\" style=\"fill:none;\"/>\r\n    <path clip-path=\"url(#pfe6373559b)\" d=\"M 523.795 133.309219 \r\nL 568.435 133.309219 \r\nL 568.435 153.694219 \r\nL 523.795 153.694219 \r\nL 523.795 133.309219 \r\n\" style=\"fill:none;\"/>\r\n    <path clip-path=\"url(#pfe6373559b)\" d=\"M 568.435 133.309219 \r\nL 613.075 133.309219 \r\nL 613.075 153.694219 \r\nL 568.435 153.694219 \r\nL 568.435 133.309219 \r\n\" style=\"fill:none;\"/>\r\n    <path clip-path=\"url(#pfe6373559b)\" d=\"M 613.075 133.309219 \r\nL 657.715 133.309219 \r\nL 657.715 153.694219 \r\nL 613.075 153.694219 \r\nL 613.075 133.309219 \r\n\" style=\"fill:none;\"/>\r\n    <path clip-path=\"url(#pfe6373559b)\" d=\"M 657.715 133.309219 \r\nL 702.355 133.309219 \r\nL 702.355 153.694219 \r\nL 657.715 153.694219 \r\nL 657.715 133.309219 \r\n\" style=\"fill:none;\"/>\r\n    <path clip-path=\"url(#pfe6373559b)\" d=\"M 702.355 133.309219 \r\nL 746.995 133.309219 \r\nL 746.995 153.694219 \r\nL 702.355 153.694219 \r\nL 702.355 133.309219 \r\n\" style=\"fill:none;\"/>\r\n    <path clip-path=\"url(#pfe6373559b)\" d=\"M 746.995 133.309219 \r\nL 791.635 133.309219 \r\nL 791.635 153.694219 \r\nL 746.995 153.694219 \r\nL 746.995 133.309219 \r\n\" style=\"fill:none;\"/>\r\n    <path clip-path=\"url(#pfe6373559b)\" d=\"M 791.635 133.309219 \r\nL 836.275 133.309219 \r\nL 836.275 153.694219 \r\nL 791.635 153.694219 \r\nL 791.635 133.309219 \r\n\" style=\"fill:none;\"/>\r\n    <path clip-path=\"url(#pfe6373559b)\" d=\"M 836.275 133.309219 \r\nL 880.915 133.309219 \r\nL 880.915 153.694219 \r\nL 836.275 153.694219 \r\nL 836.275 133.309219 \r\n\" style=\"fill:none;\"/>\r\n    <path clip-path=\"url(#pfe6373559b)\" d=\"M 166.675 153.694219 \r\nL 211.315 153.694219 \r\nL 211.315 174.079219 \r\nL 166.675 174.079219 \r\nL 166.675 153.694219 \r\n\" style=\"fill:#05061b;\"/>\r\n    <path clip-path=\"url(#pfe6373559b)\" d=\"M 211.315 153.694219 \r\nL 255.955 153.694219 \r\nL 255.955 174.079219 \r\nL 211.315 174.079219 \r\nL 211.315 153.694219 \r\n\" style=\"fill:none;\"/>\r\n    <path clip-path=\"url(#pfe6373559b)\" d=\"M 255.955 153.694219 \r\nL 300.595 153.694219 \r\nL 300.595 174.079219 \r\nL 255.955 174.079219 \r\nL 255.955 153.694219 \r\n\" style=\"fill:none;\"/>\r\n    <path clip-path=\"url(#pfe6373559b)\" d=\"M 300.595 153.694219 \r\nL 345.235 153.694219 \r\nL 345.235 174.079219 \r\nL 300.595 174.079219 \r\nL 300.595 153.694219 \r\n\" style=\"fill:none;\"/>\r\n    <path clip-path=\"url(#pfe6373559b)\" d=\"M 345.235 153.694219 \r\nL 389.875 153.694219 \r\nL 389.875 174.079219 \r\nL 345.235 174.079219 \r\nL 345.235 153.694219 \r\n\" style=\"fill:none;\"/>\r\n    <path clip-path=\"url(#pfe6373559b)\" d=\"M 389.875 153.694219 \r\nL 434.515 153.694219 \r\nL 434.515 174.079219 \r\nL 389.875 174.079219 \r\nL 389.875 153.694219 \r\n\" style=\"fill:#04051a;\"/>\r\n    <path clip-path=\"url(#pfe6373559b)\" d=\"M 434.515 153.694219 \r\nL 479.155 153.694219 \r\nL 479.155 174.079219 \r\nL 434.515 174.079219 \r\nL 434.515 153.694219 \r\n\" style=\"fill:none;\"/>\r\n    <path clip-path=\"url(#pfe6373559b)\" d=\"M 479.155 153.694219 \r\nL 523.795 153.694219 \r\nL 523.795 174.079219 \r\nL 479.155 174.079219 \r\nL 479.155 153.694219 \r\n\" style=\"fill:#faebdd;\"/>\r\n    <path clip-path=\"url(#pfe6373559b)\" d=\"M 523.795 153.694219 \r\nL 568.435 153.694219 \r\nL 568.435 174.079219 \r\nL 523.795 174.079219 \r\nL 523.795 153.694219 \r\n\" style=\"fill:none;\"/>\r\n    <path clip-path=\"url(#pfe6373559b)\" d=\"M 568.435 153.694219 \r\nL 613.075 153.694219 \r\nL 613.075 174.079219 \r\nL 568.435 174.079219 \r\nL 568.435 153.694219 \r\n\" style=\"fill:none;\"/>\r\n    <path clip-path=\"url(#pfe6373559b)\" d=\"M 613.075 153.694219 \r\nL 657.715 153.694219 \r\nL 657.715 174.079219 \r\nL 613.075 174.079219 \r\nL 613.075 153.694219 \r\n\" style=\"fill:none;\"/>\r\n    <path clip-path=\"url(#pfe6373559b)\" d=\"M 657.715 153.694219 \r\nL 702.355 153.694219 \r\nL 702.355 174.079219 \r\nL 657.715 174.079219 \r\nL 657.715 153.694219 \r\n\" style=\"fill:none;\"/>\r\n    <path clip-path=\"url(#pfe6373559b)\" d=\"M 702.355 153.694219 \r\nL 746.995 153.694219 \r\nL 746.995 174.079219 \r\nL 702.355 174.079219 \r\nL 702.355 153.694219 \r\n\" style=\"fill:none;\"/>\r\n    <path clip-path=\"url(#pfe6373559b)\" d=\"M 746.995 153.694219 \r\nL 791.635 153.694219 \r\nL 791.635 174.079219 \r\nL 746.995 174.079219 \r\nL 746.995 153.694219 \r\n\" style=\"fill:none;\"/>\r\n    <path clip-path=\"url(#pfe6373559b)\" d=\"M 791.635 153.694219 \r\nL 836.275 153.694219 \r\nL 836.275 174.079219 \r\nL 791.635 174.079219 \r\nL 791.635 153.694219 \r\n\" style=\"fill:none;\"/>\r\n    <path clip-path=\"url(#pfe6373559b)\" d=\"M 836.275 153.694219 \r\nL 880.915 153.694219 \r\nL 880.915 174.079219 \r\nL 836.275 174.079219 \r\nL 836.275 153.694219 \r\n\" style=\"fill:none;\"/>\r\n    <path clip-path=\"url(#pfe6373559b)\" d=\"M 166.675 174.079219 \r\nL 211.315 174.079219 \r\nL 211.315 194.464219 \r\nL 166.675 194.464219 \r\nL 166.675 174.079219 \r\n\" style=\"fill:none;\"/>\r\n    <path clip-path=\"url(#pfe6373559b)\" d=\"M 211.315 174.079219 \r\nL 255.955 174.079219 \r\nL 255.955 194.464219 \r\nL 211.315 194.464219 \r\nL 211.315 174.079219 \r\n\" style=\"fill:none;\"/>\r\n    <path clip-path=\"url(#pfe6373559b)\" d=\"M 255.955 174.079219 \r\nL 300.595 174.079219 \r\nL 300.595 194.464219 \r\nL 255.955 194.464219 \r\nL 255.955 174.079219 \r\n\" style=\"fill:none;\"/>\r\n    <path clip-path=\"url(#pfe6373559b)\" d=\"M 300.595 174.079219 \r\nL 345.235 174.079219 \r\nL 345.235 194.464219 \r\nL 300.595 194.464219 \r\nL 300.595 174.079219 \r\n\" style=\"fill:none;\"/>\r\n    <path clip-path=\"url(#pfe6373559b)\" d=\"M 345.235 174.079219 \r\nL 389.875 174.079219 \r\nL 389.875 194.464219 \r\nL 345.235 194.464219 \r\nL 345.235 174.079219 \r\n\" style=\"fill:none;\"/>\r\n    <path clip-path=\"url(#pfe6373559b)\" d=\"M 389.875 174.079219 \r\nL 434.515 174.079219 \r\nL 434.515 194.464219 \r\nL 389.875 194.464219 \r\nL 389.875 174.079219 \r\n\" style=\"fill:none;\"/>\r\n    <path clip-path=\"url(#pfe6373559b)\" d=\"M 434.515 174.079219 \r\nL 479.155 174.079219 \r\nL 479.155 194.464219 \r\nL 434.515 194.464219 \r\nL 434.515 174.079219 \r\n\" style=\"fill:none;\"/>\r\n    <path clip-path=\"url(#pfe6373559b)\" d=\"M 479.155 174.079219 \r\nL 523.795 174.079219 \r\nL 523.795 194.464219 \r\nL 479.155 194.464219 \r\nL 479.155 174.079219 \r\n\" style=\"fill:none;\"/>\r\n    <path clip-path=\"url(#pfe6373559b)\" d=\"M 523.795 174.079219 \r\nL 568.435 174.079219 \r\nL 568.435 194.464219 \r\nL 523.795 194.464219 \r\nL 523.795 174.079219 \r\n\" style=\"fill:#faebdd;\"/>\r\n    <path clip-path=\"url(#pfe6373559b)\" d=\"M 568.435 174.079219 \r\nL 613.075 174.079219 \r\nL 613.075 194.464219 \r\nL 568.435 194.464219 \r\nL 568.435 174.079219 \r\n\" style=\"fill:#541e4e;\"/>\r\n    <path clip-path=\"url(#pfe6373559b)\" d=\"M 613.075 174.079219 \r\nL 657.715 174.079219 \r\nL 657.715 194.464219 \r\nL 613.075 194.464219 \r\nL 613.075 174.079219 \r\n\" style=\"fill:#6e1f57;\"/>\r\n    <path clip-path=\"url(#pfe6373559b)\" d=\"M 657.715 174.079219 \r\nL 702.355 174.079219 \r\nL 702.355 194.464219 \r\nL 657.715 194.464219 \r\nL 657.715 174.079219 \r\n\" style=\"fill:none;\"/>\r\n    <path clip-path=\"url(#pfe6373559b)\" d=\"M 702.355 174.079219 \r\nL 746.995 174.079219 \r\nL 746.995 194.464219 \r\nL 702.355 194.464219 \r\nL 702.355 174.079219 \r\n\" style=\"fill:#08081e;\"/>\r\n    <path clip-path=\"url(#pfe6373559b)\" d=\"M 746.995 174.079219 \r\nL 791.635 174.079219 \r\nL 791.635 194.464219 \r\nL 746.995 194.464219 \r\nL 746.995 174.079219 \r\n\" style=\"fill:none;\"/>\r\n    <path clip-path=\"url(#pfe6373559b)\" d=\"M 791.635 174.079219 \r\nL 836.275 174.079219 \r\nL 836.275 194.464219 \r\nL 791.635 194.464219 \r\nL 791.635 174.079219 \r\n\" style=\"fill:#901d5b;\"/>\r\n    <path clip-path=\"url(#pfe6373559b)\" d=\"M 836.275 174.079219 \r\nL 880.915 174.079219 \r\nL 880.915 194.464219 \r\nL 836.275 194.464219 \r\nL 836.275 174.079219 \r\n\" style=\"fill:none;\"/>\r\n    <path clip-path=\"url(#pfe6373559b)\" d=\"M 166.675 194.464219 \r\nL 211.315 194.464219 \r\nL 211.315 214.849219 \r\nL 166.675 214.849219 \r\nL 166.675 194.464219 \r\n\" style=\"fill:none;\"/>\r\n    <path clip-path=\"url(#pfe6373559b)\" d=\"M 211.315 194.464219 \r\nL 255.955 194.464219 \r\nL 255.955 214.849219 \r\nL 211.315 214.849219 \r\nL 211.315 194.464219 \r\n\" style=\"fill:none;\"/>\r\n    <path clip-path=\"url(#pfe6373559b)\" d=\"M 255.955 194.464219 \r\nL 300.595 194.464219 \r\nL 300.595 214.849219 \r\nL 255.955 214.849219 \r\nL 255.955 194.464219 \r\n\" style=\"fill:none;\"/>\r\n    <path clip-path=\"url(#pfe6373559b)\" d=\"M 300.595 194.464219 \r\nL 345.235 194.464219 \r\nL 345.235 214.849219 \r\nL 300.595 214.849219 \r\nL 300.595 194.464219 \r\n\" style=\"fill:none;\"/>\r\n    <path clip-path=\"url(#pfe6373559b)\" d=\"M 345.235 194.464219 \r\nL 389.875 194.464219 \r\nL 389.875 214.849219 \r\nL 345.235 214.849219 \r\nL 345.235 194.464219 \r\n\" style=\"fill:none;\"/>\r\n    <path clip-path=\"url(#pfe6373559b)\" d=\"M 389.875 194.464219 \r\nL 434.515 194.464219 \r\nL 434.515 214.849219 \r\nL 389.875 214.849219 \r\nL 389.875 194.464219 \r\n\" style=\"fill:none;\"/>\r\n    <path clip-path=\"url(#pfe6373559b)\" d=\"M 434.515 194.464219 \r\nL 479.155 194.464219 \r\nL 479.155 214.849219 \r\nL 434.515 214.849219 \r\nL 434.515 194.464219 \r\n\" style=\"fill:none;\"/>\r\n    <path clip-path=\"url(#pfe6373559b)\" d=\"M 479.155 194.464219 \r\nL 523.795 194.464219 \r\nL 523.795 214.849219 \r\nL 479.155 214.849219 \r\nL 479.155 194.464219 \r\n\" style=\"fill:none;\"/>\r\n    <path clip-path=\"url(#pfe6373559b)\" d=\"M 523.795 194.464219 \r\nL 568.435 194.464219 \r\nL 568.435 214.849219 \r\nL 523.795 214.849219 \r\nL 523.795 194.464219 \r\n\" style=\"fill:#541e4e;\"/>\r\n    <path clip-path=\"url(#pfe6373559b)\" d=\"M 568.435 194.464219 \r\nL 613.075 194.464219 \r\nL 613.075 214.849219 \r\nL 568.435 214.849219 \r\nL 568.435 194.464219 \r\n\" style=\"fill:#faebdd;\"/>\r\n    <path clip-path=\"url(#pfe6373559b)\" d=\"M 613.075 194.464219 \r\nL 657.715 194.464219 \r\nL 657.715 214.849219 \r\nL 613.075 214.849219 \r\nL 613.075 194.464219 \r\n\" style=\"fill:#1a102a;\"/>\r\n    <path clip-path=\"url(#pfe6373559b)\" d=\"M 657.715 194.464219 \r\nL 702.355 194.464219 \r\nL 702.355 214.849219 \r\nL 657.715 214.849219 \r\nL 657.715 194.464219 \r\n\" style=\"fill:none;\"/>\r\n    <path clip-path=\"url(#pfe6373559b)\" d=\"M 702.355 194.464219 \r\nL 746.995 194.464219 \r\nL 746.995 214.849219 \r\nL 702.355 214.849219 \r\nL 702.355 194.464219 \r\n\" style=\"fill:none;\"/>\r\n    <path clip-path=\"url(#pfe6373559b)\" d=\"M 746.995 194.464219 \r\nL 791.635 194.464219 \r\nL 791.635 214.849219 \r\nL 746.995 214.849219 \r\nL 746.995 194.464219 \r\n\" style=\"fill:none;\"/>\r\n    <path clip-path=\"url(#pfe6373559b)\" d=\"M 791.635 194.464219 \r\nL 836.275 194.464219 \r\nL 836.275 214.849219 \r\nL 791.635 214.849219 \r\nL 791.635 194.464219 \r\n\" style=\"fill:#180f29;\"/>\r\n    <path clip-path=\"url(#pfe6373559b)\" d=\"M 836.275 194.464219 \r\nL 880.915 194.464219 \r\nL 880.915 214.849219 \r\nL 836.275 214.849219 \r\nL 836.275 194.464219 \r\n\" style=\"fill:none;\"/>\r\n    <path clip-path=\"url(#pfe6373559b)\" d=\"M 166.675 214.849219 \r\nL 211.315 214.849219 \r\nL 211.315 235.234219 \r\nL 166.675 235.234219 \r\nL 166.675 214.849219 \r\n\" style=\"fill:none;\"/>\r\n    <path clip-path=\"url(#pfe6373559b)\" d=\"M 211.315 214.849219 \r\nL 255.955 214.849219 \r\nL 255.955 235.234219 \r\nL 211.315 235.234219 \r\nL 211.315 214.849219 \r\n\" style=\"fill:none;\"/>\r\n    <path clip-path=\"url(#pfe6373559b)\" d=\"M 255.955 214.849219 \r\nL 300.595 214.849219 \r\nL 300.595 235.234219 \r\nL 255.955 235.234219 \r\nL 255.955 214.849219 \r\n\" style=\"fill:none;\"/>\r\n    <path clip-path=\"url(#pfe6373559b)\" d=\"M 300.595 214.849219 \r\nL 345.235 214.849219 \r\nL 345.235 235.234219 \r\nL 300.595 235.234219 \r\nL 300.595 214.849219 \r\n\" style=\"fill:none;\"/>\r\n    <path clip-path=\"url(#pfe6373559b)\" d=\"M 345.235 214.849219 \r\nL 389.875 214.849219 \r\nL 389.875 235.234219 \r\nL 345.235 235.234219 \r\nL 345.235 214.849219 \r\n\" style=\"fill:none;\"/>\r\n    <path clip-path=\"url(#pfe6373559b)\" d=\"M 389.875 214.849219 \r\nL 434.515 214.849219 \r\nL 434.515 235.234219 \r\nL 389.875 235.234219 \r\nL 389.875 214.849219 \r\n\" style=\"fill:none;\"/>\r\n    <path clip-path=\"url(#pfe6373559b)\" d=\"M 434.515 214.849219 \r\nL 479.155 214.849219 \r\nL 479.155 235.234219 \r\nL 434.515 235.234219 \r\nL 434.515 214.849219 \r\n\" style=\"fill:none;\"/>\r\n    <path clip-path=\"url(#pfe6373559b)\" d=\"M 479.155 214.849219 \r\nL 523.795 214.849219 \r\nL 523.795 235.234219 \r\nL 479.155 235.234219 \r\nL 479.155 214.849219 \r\n\" style=\"fill:none;\"/>\r\n    <path clip-path=\"url(#pfe6373559b)\" d=\"M 523.795 214.849219 \r\nL 568.435 214.849219 \r\nL 568.435 235.234219 \r\nL 523.795 235.234219 \r\nL 523.795 214.849219 \r\n\" style=\"fill:#6e1f57;\"/>\r\n    <path clip-path=\"url(#pfe6373559b)\" d=\"M 568.435 214.849219 \r\nL 613.075 214.849219 \r\nL 613.075 235.234219 \r\nL 568.435 235.234219 \r\nL 568.435 214.849219 \r\n\" style=\"fill:#1a102a;\"/>\r\n    <path clip-path=\"url(#pfe6373559b)\" d=\"M 613.075 214.849219 \r\nL 657.715 214.849219 \r\nL 657.715 235.234219 \r\nL 613.075 235.234219 \r\nL 613.075 214.849219 \r\n\" style=\"fill:#faebdd;\"/>\r\n    <path clip-path=\"url(#pfe6373559b)\" d=\"M 657.715 214.849219 \r\nL 702.355 214.849219 \r\nL 702.355 235.234219 \r\nL 657.715 235.234219 \r\nL 657.715 214.849219 \r\n\" style=\"fill:none;\"/>\r\n    <path clip-path=\"url(#pfe6373559b)\" d=\"M 702.355 214.849219 \r\nL 746.995 214.849219 \r\nL 746.995 235.234219 \r\nL 702.355 235.234219 \r\nL 702.355 214.849219 \r\n\" style=\"fill:none;\"/>\r\n    <path clip-path=\"url(#pfe6373559b)\" d=\"M 746.995 214.849219 \r\nL 791.635 214.849219 \r\nL 791.635 235.234219 \r\nL 746.995 235.234219 \r\nL 746.995 214.849219 \r\n\" style=\"fill:none;\"/>\r\n    <path clip-path=\"url(#pfe6373559b)\" d=\"M 791.635 214.849219 \r\nL 836.275 214.849219 \r\nL 836.275 235.234219 \r\nL 791.635 235.234219 \r\nL 791.635 214.849219 \r\n\" style=\"fill:#03051a;\"/>\r\n    <path clip-path=\"url(#pfe6373559b)\" d=\"M 836.275 214.849219 \r\nL 880.915 214.849219 \r\nL 880.915 235.234219 \r\nL 836.275 235.234219 \r\nL 836.275 214.849219 \r\n\" style=\"fill:none;\"/>\r\n    <path clip-path=\"url(#pfe6373559b)\" d=\"M 166.675 235.234219 \r\nL 211.315 235.234219 \r\nL 211.315 255.619219 \r\nL 166.675 255.619219 \r\nL 166.675 235.234219 \r\n\" style=\"fill:none;\"/>\r\n    <path clip-path=\"url(#pfe6373559b)\" d=\"M 211.315 235.234219 \r\nL 255.955 235.234219 \r\nL 255.955 255.619219 \r\nL 211.315 255.619219 \r\nL 211.315 235.234219 \r\n\" style=\"fill:none;\"/>\r\n    <path clip-path=\"url(#pfe6373559b)\" d=\"M 255.955 235.234219 \r\nL 300.595 235.234219 \r\nL 300.595 255.619219 \r\nL 255.955 255.619219 \r\nL 255.955 235.234219 \r\n\" style=\"fill:none;\"/>\r\n    <path clip-path=\"url(#pfe6373559b)\" d=\"M 300.595 235.234219 \r\nL 345.235 235.234219 \r\nL 345.235 255.619219 \r\nL 300.595 255.619219 \r\nL 300.595 235.234219 \r\n\" style=\"fill:none;\"/>\r\n    <path clip-path=\"url(#pfe6373559b)\" d=\"M 345.235 235.234219 \r\nL 389.875 235.234219 \r\nL 389.875 255.619219 \r\nL 345.235 255.619219 \r\nL 345.235 235.234219 \r\n\" style=\"fill:none;\"/>\r\n    <path clip-path=\"url(#pfe6373559b)\" d=\"M 389.875 235.234219 \r\nL 434.515 235.234219 \r\nL 434.515 255.619219 \r\nL 389.875 255.619219 \r\nL 389.875 235.234219 \r\n\" style=\"fill:none;\"/>\r\n    <path clip-path=\"url(#pfe6373559b)\" d=\"M 434.515 235.234219 \r\nL 479.155 235.234219 \r\nL 479.155 255.619219 \r\nL 434.515 255.619219 \r\nL 434.515 235.234219 \r\n\" style=\"fill:none;\"/>\r\n    <path clip-path=\"url(#pfe6373559b)\" d=\"M 479.155 235.234219 \r\nL 523.795 235.234219 \r\nL 523.795 255.619219 \r\nL 479.155 255.619219 \r\nL 479.155 235.234219 \r\n\" style=\"fill:none;\"/>\r\n    <path clip-path=\"url(#pfe6373559b)\" d=\"M 523.795 235.234219 \r\nL 568.435 235.234219 \r\nL 568.435 255.619219 \r\nL 523.795 255.619219 \r\nL 523.795 235.234219 \r\n\" style=\"fill:none;\"/>\r\n    <path clip-path=\"url(#pfe6373559b)\" d=\"M 568.435 235.234219 \r\nL 613.075 235.234219 \r\nL 613.075 255.619219 \r\nL 568.435 255.619219 \r\nL 568.435 235.234219 \r\n\" style=\"fill:none;\"/>\r\n    <path clip-path=\"url(#pfe6373559b)\" d=\"M 613.075 235.234219 \r\nL 657.715 235.234219 \r\nL 657.715 255.619219 \r\nL 613.075 255.619219 \r\nL 613.075 235.234219 \r\n\" style=\"fill:none;\"/>\r\n    <path clip-path=\"url(#pfe6373559b)\" d=\"M 657.715 235.234219 \r\nL 702.355 235.234219 \r\nL 702.355 255.619219 \r\nL 657.715 255.619219 \r\nL 657.715 235.234219 \r\n\" style=\"fill:#faebdd;\"/>\r\n    <path clip-path=\"url(#pfe6373559b)\" d=\"M 702.355 235.234219 \r\nL 746.995 235.234219 \r\nL 746.995 255.619219 \r\nL 702.355 255.619219 \r\nL 702.355 235.234219 \r\n\" style=\"fill:#8e1d5b;\"/>\r\n    <path clip-path=\"url(#pfe6373559b)\" d=\"M 746.995 235.234219 \r\nL 791.635 235.234219 \r\nL 791.635 255.619219 \r\nL 746.995 255.619219 \r\nL 746.995 235.234219 \r\n\" style=\"fill:none;\"/>\r\n    <path clip-path=\"url(#pfe6373559b)\" d=\"M 791.635 235.234219 \r\nL 836.275 235.234219 \r\nL 836.275 255.619219 \r\nL 791.635 255.619219 \r\nL 791.635 235.234219 \r\n\" style=\"fill:none;\"/>\r\n    <path clip-path=\"url(#pfe6373559b)\" d=\"M 836.275 235.234219 \r\nL 880.915 235.234219 \r\nL 880.915 255.619219 \r\nL 836.275 255.619219 \r\nL 836.275 235.234219 \r\n\" style=\"fill:none;\"/>\r\n    <path clip-path=\"url(#pfe6373559b)\" d=\"M 166.675 255.619219 \r\nL 211.315 255.619219 \r\nL 211.315 276.004219 \r\nL 166.675 276.004219 \r\nL 166.675 255.619219 \r\n\" style=\"fill:none;\"/>\r\n    <path clip-path=\"url(#pfe6373559b)\" d=\"M 211.315 255.619219 \r\nL 255.955 255.619219 \r\nL 255.955 276.004219 \r\nL 211.315 276.004219 \r\nL 211.315 255.619219 \r\n\" style=\"fill:none;\"/>\r\n    <path clip-path=\"url(#pfe6373559b)\" d=\"M 255.955 255.619219 \r\nL 300.595 255.619219 \r\nL 300.595 276.004219 \r\nL 255.955 276.004219 \r\nL 255.955 255.619219 \r\n\" style=\"fill:none;\"/>\r\n    <path clip-path=\"url(#pfe6373559b)\" d=\"M 300.595 255.619219 \r\nL 345.235 255.619219 \r\nL 345.235 276.004219 \r\nL 300.595 276.004219 \r\nL 300.595 255.619219 \r\n\" style=\"fill:none;\"/>\r\n    <path clip-path=\"url(#pfe6373559b)\" d=\"M 345.235 255.619219 \r\nL 389.875 255.619219 \r\nL 389.875 276.004219 \r\nL 345.235 276.004219 \r\nL 345.235 255.619219 \r\n\" style=\"fill:none;\"/>\r\n    <path clip-path=\"url(#pfe6373559b)\" d=\"M 389.875 255.619219 \r\nL 434.515 255.619219 \r\nL 434.515 276.004219 \r\nL 389.875 276.004219 \r\nL 389.875 255.619219 \r\n\" style=\"fill:none;\"/>\r\n    <path clip-path=\"url(#pfe6373559b)\" d=\"M 434.515 255.619219 \r\nL 479.155 255.619219 \r\nL 479.155 276.004219 \r\nL 434.515 276.004219 \r\nL 434.515 255.619219 \r\n\" style=\"fill:none;\"/>\r\n    <path clip-path=\"url(#pfe6373559b)\" d=\"M 479.155 255.619219 \r\nL 523.795 255.619219 \r\nL 523.795 276.004219 \r\nL 479.155 276.004219 \r\nL 479.155 255.619219 \r\n\" style=\"fill:none;\"/>\r\n    <path clip-path=\"url(#pfe6373559b)\" d=\"M 523.795 255.619219 \r\nL 568.435 255.619219 \r\nL 568.435 276.004219 \r\nL 523.795 276.004219 \r\nL 523.795 255.619219 \r\n\" style=\"fill:#08081e;\"/>\r\n    <path clip-path=\"url(#pfe6373559b)\" d=\"M 568.435 255.619219 \r\nL 613.075 255.619219 \r\nL 613.075 276.004219 \r\nL 568.435 276.004219 \r\nL 568.435 255.619219 \r\n\" style=\"fill:none;\"/>\r\n    <path clip-path=\"url(#pfe6373559b)\" d=\"M 613.075 255.619219 \r\nL 657.715 255.619219 \r\nL 657.715 276.004219 \r\nL 613.075 276.004219 \r\nL 613.075 255.619219 \r\n\" style=\"fill:none;\"/>\r\n    <path clip-path=\"url(#pfe6373559b)\" d=\"M 657.715 255.619219 \r\nL 702.355 255.619219 \r\nL 702.355 276.004219 \r\nL 657.715 276.004219 \r\nL 657.715 255.619219 \r\n\" style=\"fill:#8e1d5b;\"/>\r\n    <path clip-path=\"url(#pfe6373559b)\" d=\"M 702.355 255.619219 \r\nL 746.995 255.619219 \r\nL 746.995 276.004219 \r\nL 702.355 276.004219 \r\nL 702.355 255.619219 \r\n\" style=\"fill:#faebdd;\"/>\r\n    <path clip-path=\"url(#pfe6373559b)\" d=\"M 746.995 255.619219 \r\nL 791.635 255.619219 \r\nL 791.635 276.004219 \r\nL 746.995 276.004219 \r\nL 746.995 255.619219 \r\n\" style=\"fill:none;\"/>\r\n    <path clip-path=\"url(#pfe6373559b)\" d=\"M 791.635 255.619219 \r\nL 836.275 255.619219 \r\nL 836.275 276.004219 \r\nL 791.635 276.004219 \r\nL 791.635 255.619219 \r\n\" style=\"fill:none;\"/>\r\n    <path clip-path=\"url(#pfe6373559b)\" d=\"M 836.275 255.619219 \r\nL 880.915 255.619219 \r\nL 880.915 276.004219 \r\nL 836.275 276.004219 \r\nL 836.275 255.619219 \r\n\" style=\"fill:none;\"/>\r\n    <path clip-path=\"url(#pfe6373559b)\" d=\"M 166.675 276.004219 \r\nL 211.315 276.004219 \r\nL 211.315 296.389219 \r\nL 166.675 296.389219 \r\nL 166.675 276.004219 \r\n\" style=\"fill:none;\"/>\r\n    <path clip-path=\"url(#pfe6373559b)\" d=\"M 211.315 276.004219 \r\nL 255.955 276.004219 \r\nL 255.955 296.389219 \r\nL 211.315 296.389219 \r\nL 211.315 276.004219 \r\n\" style=\"fill:none;\"/>\r\n    <path clip-path=\"url(#pfe6373559b)\" d=\"M 255.955 276.004219 \r\nL 300.595 276.004219 \r\nL 300.595 296.389219 \r\nL 255.955 296.389219 \r\nL 255.955 276.004219 \r\n\" style=\"fill:none;\"/>\r\n    <path clip-path=\"url(#pfe6373559b)\" d=\"M 300.595 276.004219 \r\nL 345.235 276.004219 \r\nL 345.235 296.389219 \r\nL 300.595 296.389219 \r\nL 300.595 276.004219 \r\n\" style=\"fill:none;\"/>\r\n    <path clip-path=\"url(#pfe6373559b)\" d=\"M 345.235 276.004219 \r\nL 389.875 276.004219 \r\nL 389.875 296.389219 \r\nL 345.235 296.389219 \r\nL 345.235 276.004219 \r\n\" style=\"fill:none;\"/>\r\n    <path clip-path=\"url(#pfe6373559b)\" d=\"M 389.875 276.004219 \r\nL 434.515 276.004219 \r\nL 434.515 296.389219 \r\nL 389.875 296.389219 \r\nL 389.875 276.004219 \r\n\" style=\"fill:none;\"/>\r\n    <path clip-path=\"url(#pfe6373559b)\" d=\"M 434.515 276.004219 \r\nL 479.155 276.004219 \r\nL 479.155 296.389219 \r\nL 434.515 296.389219 \r\nL 434.515 276.004219 \r\n\" style=\"fill:none;\"/>\r\n    <path clip-path=\"url(#pfe6373559b)\" d=\"M 479.155 276.004219 \r\nL 523.795 276.004219 \r\nL 523.795 296.389219 \r\nL 479.155 296.389219 \r\nL 479.155 276.004219 \r\n\" style=\"fill:none;\"/>\r\n    <path clip-path=\"url(#pfe6373559b)\" d=\"M 523.795 276.004219 \r\nL 568.435 276.004219 \r\nL 568.435 296.389219 \r\nL 523.795 296.389219 \r\nL 523.795 276.004219 \r\n\" style=\"fill:none;\"/>\r\n    <path clip-path=\"url(#pfe6373559b)\" d=\"M 568.435 276.004219 \r\nL 613.075 276.004219 \r\nL 613.075 296.389219 \r\nL 568.435 296.389219 \r\nL 568.435 276.004219 \r\n\" style=\"fill:none;\"/>\r\n    <path clip-path=\"url(#pfe6373559b)\" d=\"M 613.075 276.004219 \r\nL 657.715 276.004219 \r\nL 657.715 296.389219 \r\nL 613.075 296.389219 \r\nL 613.075 276.004219 \r\n\" style=\"fill:none;\"/>\r\n    <path clip-path=\"url(#pfe6373559b)\" d=\"M 657.715 276.004219 \r\nL 702.355 276.004219 \r\nL 702.355 296.389219 \r\nL 657.715 296.389219 \r\nL 657.715 276.004219 \r\n\" style=\"fill:none;\"/>\r\n    <path clip-path=\"url(#pfe6373559b)\" d=\"M 702.355 276.004219 \r\nL 746.995 276.004219 \r\nL 746.995 296.389219 \r\nL 702.355 296.389219 \r\nL 702.355 276.004219 \r\n\" style=\"fill:none;\"/>\r\n    <path clip-path=\"url(#pfe6373559b)\" d=\"M 746.995 276.004219 \r\nL 791.635 276.004219 \r\nL 791.635 296.389219 \r\nL 746.995 296.389219 \r\nL 746.995 276.004219 \r\n\" style=\"fill:#faebdd;\"/>\r\n    <path clip-path=\"url(#pfe6373559b)\" d=\"M 791.635 276.004219 \r\nL 836.275 276.004219 \r\nL 836.275 296.389219 \r\nL 791.635 296.389219 \r\nL 791.635 276.004219 \r\n\" style=\"fill:none;\"/>\r\n    <path clip-path=\"url(#pfe6373559b)\" d=\"M 836.275 276.004219 \r\nL 880.915 276.004219 \r\nL 880.915 296.389219 \r\nL 836.275 296.389219 \r\nL 836.275 276.004219 \r\n\" style=\"fill:none;\"/>\r\n    <path clip-path=\"url(#pfe6373559b)\" d=\"M 166.675 296.389219 \r\nL 211.315 296.389219 \r\nL 211.315 316.774219 \r\nL 166.675 316.774219 \r\nL 166.675 296.389219 \r\n\" style=\"fill:none;\"/>\r\n    <path clip-path=\"url(#pfe6373559b)\" d=\"M 211.315 296.389219 \r\nL 255.955 296.389219 \r\nL 255.955 316.774219 \r\nL 211.315 316.774219 \r\nL 211.315 296.389219 \r\n\" style=\"fill:none;\"/>\r\n    <path clip-path=\"url(#pfe6373559b)\" d=\"M 255.955 296.389219 \r\nL 300.595 296.389219 \r\nL 300.595 316.774219 \r\nL 255.955 316.774219 \r\nL 255.955 296.389219 \r\n\" style=\"fill:none;\"/>\r\n    <path clip-path=\"url(#pfe6373559b)\" d=\"M 300.595 296.389219 \r\nL 345.235 296.389219 \r\nL 345.235 316.774219 \r\nL 300.595 316.774219 \r\nL 300.595 296.389219 \r\n\" style=\"fill:none;\"/>\r\n    <path clip-path=\"url(#pfe6373559b)\" d=\"M 345.235 296.389219 \r\nL 389.875 296.389219 \r\nL 389.875 316.774219 \r\nL 345.235 316.774219 \r\nL 345.235 296.389219 \r\n\" style=\"fill:none;\"/>\r\n    <path clip-path=\"url(#pfe6373559b)\" d=\"M 389.875 296.389219 \r\nL 434.515 296.389219 \r\nL 434.515 316.774219 \r\nL 389.875 316.774219 \r\nL 389.875 296.389219 \r\n\" style=\"fill:none;\"/>\r\n    <path clip-path=\"url(#pfe6373559b)\" d=\"M 434.515 296.389219 \r\nL 479.155 296.389219 \r\nL 479.155 316.774219 \r\nL 434.515 316.774219 \r\nL 434.515 296.389219 \r\n\" style=\"fill:none;\"/>\r\n    <path clip-path=\"url(#pfe6373559b)\" d=\"M 479.155 296.389219 \r\nL 523.795 296.389219 \r\nL 523.795 316.774219 \r\nL 479.155 316.774219 \r\nL 479.155 296.389219 \r\n\" style=\"fill:none;\"/>\r\n    <path clip-path=\"url(#pfe6373559b)\" d=\"M 523.795 296.389219 \r\nL 568.435 296.389219 \r\nL 568.435 316.774219 \r\nL 523.795 316.774219 \r\nL 523.795 296.389219 \r\n\" style=\"fill:#901d5b;\"/>\r\n    <path clip-path=\"url(#pfe6373559b)\" d=\"M 568.435 296.389219 \r\nL 613.075 296.389219 \r\nL 613.075 316.774219 \r\nL 568.435 316.774219 \r\nL 568.435 296.389219 \r\n\" style=\"fill:#180f29;\"/>\r\n    <path clip-path=\"url(#pfe6373559b)\" d=\"M 613.075 296.389219 \r\nL 657.715 296.389219 \r\nL 657.715 316.774219 \r\nL 613.075 316.774219 \r\nL 613.075 296.389219 \r\n\" style=\"fill:#03051a;\"/>\r\n    <path clip-path=\"url(#pfe6373559b)\" d=\"M 657.715 296.389219 \r\nL 702.355 296.389219 \r\nL 702.355 316.774219 \r\nL 657.715 316.774219 \r\nL 657.715 296.389219 \r\n\" style=\"fill:none;\"/>\r\n    <path clip-path=\"url(#pfe6373559b)\" d=\"M 702.355 296.389219 \r\nL 746.995 296.389219 \r\nL 746.995 316.774219 \r\nL 702.355 316.774219 \r\nL 702.355 296.389219 \r\n\" style=\"fill:none;\"/>\r\n    <path clip-path=\"url(#pfe6373559b)\" d=\"M 746.995 296.389219 \r\nL 791.635 296.389219 \r\nL 791.635 316.774219 \r\nL 746.995 316.774219 \r\nL 746.995 296.389219 \r\n\" style=\"fill:none;\"/>\r\n    <path clip-path=\"url(#pfe6373559b)\" d=\"M 791.635 296.389219 \r\nL 836.275 296.389219 \r\nL 836.275 316.774219 \r\nL 791.635 316.774219 \r\nL 791.635 296.389219 \r\n\" style=\"fill:#faebdd;\"/>\r\n    <path clip-path=\"url(#pfe6373559b)\" d=\"M 836.275 296.389219 \r\nL 880.915 296.389219 \r\nL 880.915 316.774219 \r\nL 836.275 316.774219 \r\nL 836.275 296.389219 \r\n\" style=\"fill:none;\"/>\r\n    <path clip-path=\"url(#pfe6373559b)\" d=\"M 166.675 316.774219 \r\nL 211.315 316.774219 \r\nL 211.315 337.159219 \r\nL 166.675 337.159219 \r\nL 166.675 316.774219 \r\n\" style=\"fill:none;\"/>\r\n    <path clip-path=\"url(#pfe6373559b)\" d=\"M 211.315 316.774219 \r\nL 255.955 316.774219 \r\nL 255.955 337.159219 \r\nL 211.315 337.159219 \r\nL 211.315 316.774219 \r\n\" style=\"fill:none;\"/>\r\n    <path clip-path=\"url(#pfe6373559b)\" d=\"M 255.955 316.774219 \r\nL 300.595 316.774219 \r\nL 300.595 337.159219 \r\nL 255.955 337.159219 \r\nL 255.955 316.774219 \r\n\" style=\"fill:none;\"/>\r\n    <path clip-path=\"url(#pfe6373559b)\" d=\"M 300.595 316.774219 \r\nL 345.235 316.774219 \r\nL 345.235 337.159219 \r\nL 300.595 337.159219 \r\nL 300.595 316.774219 \r\n\" style=\"fill:none;\"/>\r\n    <path clip-path=\"url(#pfe6373559b)\" d=\"M 345.235 316.774219 \r\nL 389.875 316.774219 \r\nL 389.875 337.159219 \r\nL 345.235 337.159219 \r\nL 345.235 316.774219 \r\n\" style=\"fill:none;\"/>\r\n    <path clip-path=\"url(#pfe6373559b)\" d=\"M 389.875 316.774219 \r\nL 434.515 316.774219 \r\nL 434.515 337.159219 \r\nL 389.875 337.159219 \r\nL 389.875 316.774219 \r\n\" style=\"fill:none;\"/>\r\n    <path clip-path=\"url(#pfe6373559b)\" d=\"M 434.515 316.774219 \r\nL 479.155 316.774219 \r\nL 479.155 337.159219 \r\nL 434.515 337.159219 \r\nL 434.515 316.774219 \r\n\" style=\"fill:none;\"/>\r\n    <path clip-path=\"url(#pfe6373559b)\" d=\"M 479.155 316.774219 \r\nL 523.795 316.774219 \r\nL 523.795 337.159219 \r\nL 479.155 337.159219 \r\nL 479.155 316.774219 \r\n\" style=\"fill:none;\"/>\r\n    <path clip-path=\"url(#pfe6373559b)\" d=\"M 523.795 316.774219 \r\nL 568.435 316.774219 \r\nL 568.435 337.159219 \r\nL 523.795 337.159219 \r\nL 523.795 316.774219 \r\n\" style=\"fill:none;\"/>\r\n    <path clip-path=\"url(#pfe6373559b)\" d=\"M 568.435 316.774219 \r\nL 613.075 316.774219 \r\nL 613.075 337.159219 \r\nL 568.435 337.159219 \r\nL 568.435 316.774219 \r\n\" style=\"fill:none;\"/>\r\n    <path clip-path=\"url(#pfe6373559b)\" d=\"M 613.075 316.774219 \r\nL 657.715 316.774219 \r\nL 657.715 337.159219 \r\nL 613.075 337.159219 \r\nL 613.075 316.774219 \r\n\" style=\"fill:none;\"/>\r\n    <path clip-path=\"url(#pfe6373559b)\" d=\"M 657.715 316.774219 \r\nL 702.355 316.774219 \r\nL 702.355 337.159219 \r\nL 657.715 337.159219 \r\nL 657.715 316.774219 \r\n\" style=\"fill:none;\"/>\r\n    <path clip-path=\"url(#pfe6373559b)\" d=\"M 702.355 316.774219 \r\nL 746.995 316.774219 \r\nL 746.995 337.159219 \r\nL 702.355 337.159219 \r\nL 702.355 316.774219 \r\n\" style=\"fill:none;\"/>\r\n    <path clip-path=\"url(#pfe6373559b)\" d=\"M 746.995 316.774219 \r\nL 791.635 316.774219 \r\nL 791.635 337.159219 \r\nL 746.995 337.159219 \r\nL 746.995 316.774219 \r\n\" style=\"fill:none;\"/>\r\n    <path clip-path=\"url(#pfe6373559b)\" d=\"M 791.635 316.774219 \r\nL 836.275 316.774219 \r\nL 836.275 337.159219 \r\nL 791.635 337.159219 \r\nL 791.635 316.774219 \r\n\" style=\"fill:none;\"/>\r\n    <path clip-path=\"url(#pfe6373559b)\" d=\"M 836.275 316.774219 \r\nL 880.915 316.774219 \r\nL 880.915 337.159219 \r\nL 836.275 337.159219 \r\nL 836.275 316.774219 \r\n\" style=\"fill:#faebdd;\"/>\r\n   </g>\r\n   <g id=\"matplotlib.axis_1\">\r\n    <g id=\"xtick_1\">\r\n     <g id=\"line2d_1\">\r\n      <defs>\r\n       <path d=\"M 0 0 \r\nL 0 3.5 \r\n\" id=\"me8de767d72\" style=\"stroke:#000000;stroke-width:0.8;\"/>\r\n      </defs>\r\n      <g>\r\n       <use style=\"stroke:#000000;stroke-width:0.8;\" x=\"188.995\" xlink:href=\"#me8de767d72\" y=\"337.159219\"/>\r\n      </g>\r\n     </g>\r\n     <g id=\"text_1\">\r\n      <!-- price_year_month_mean -->\r\n      <defs>\r\n       <path d=\"M 18.109375 8.203125 \r\nL 18.109375 -20.796875 \r\nL 9.078125 -20.796875 \r\nL 9.078125 54.6875 \r\nL 18.109375 54.6875 \r\nL 18.109375 46.390625 \r\nQ 20.953125 51.265625 25.265625 53.625 \r\nQ 29.59375 56 35.59375 56 \r\nQ 45.5625 56 51.78125 48.09375 \r\nQ 58.015625 40.1875 58.015625 27.296875 \r\nQ 58.015625 14.40625 51.78125 6.484375 \r\nQ 45.5625 -1.421875 35.59375 -1.421875 \r\nQ 29.59375 -1.421875 25.265625 0.953125 \r\nQ 20.953125 3.328125 18.109375 8.203125 \r\nz\r\nM 48.6875 27.296875 \r\nQ 48.6875 37.203125 44.609375 42.84375 \r\nQ 40.53125 48.484375 33.40625 48.484375 \r\nQ 26.265625 48.484375 22.1875 42.84375 \r\nQ 18.109375 37.203125 18.109375 27.296875 \r\nQ 18.109375 17.390625 22.1875 11.75 \r\nQ 26.265625 6.109375 33.40625 6.109375 \r\nQ 40.53125 6.109375 44.609375 11.75 \r\nQ 48.6875 17.390625 48.6875 27.296875 \r\nz\r\n\" id=\"DejaVuSans-112\"/>\r\n       <path d=\"M 41.109375 46.296875 \r\nQ 39.59375 47.171875 37.8125 47.578125 \r\nQ 36.03125 48 33.890625 48 \r\nQ 26.265625 48 22.1875 43.046875 \r\nQ 18.109375 38.09375 18.109375 28.8125 \r\nL 18.109375 0 \r\nL 9.078125 0 \r\nL 9.078125 54.6875 \r\nL 18.109375 54.6875 \r\nL 18.109375 46.1875 \r\nQ 20.953125 51.171875 25.484375 53.578125 \r\nQ 30.03125 56 36.53125 56 \r\nQ 37.453125 56 38.578125 55.875 \r\nQ 39.703125 55.765625 41.0625 55.515625 \r\nz\r\n\" id=\"DejaVuSans-114\"/>\r\n       <path d=\"M 9.421875 54.6875 \r\nL 18.40625 54.6875 \r\nL 18.40625 0 \r\nL 9.421875 0 \r\nz\r\nM 9.421875 75.984375 \r\nL 18.40625 75.984375 \r\nL 18.40625 64.59375 \r\nL 9.421875 64.59375 \r\nz\r\n\" id=\"DejaVuSans-105\"/>\r\n       <path d=\"M 48.78125 52.59375 \r\nL 48.78125 44.1875 \r\nQ 44.96875 46.296875 41.140625 47.34375 \r\nQ 37.3125 48.390625 33.40625 48.390625 \r\nQ 24.65625 48.390625 19.8125 42.84375 \r\nQ 14.984375 37.3125 14.984375 27.296875 \r\nQ 14.984375 17.28125 19.8125 11.734375 \r\nQ 24.65625 6.203125 33.40625 6.203125 \r\nQ 37.3125 6.203125 41.140625 7.25 \r\nQ 44.96875 8.296875 48.78125 10.40625 \r\nL 48.78125 2.09375 \r\nQ 45.015625 0.34375 40.984375 -0.53125 \r\nQ 36.96875 -1.421875 32.421875 -1.421875 \r\nQ 20.0625 -1.421875 12.78125 6.34375 \r\nQ 5.515625 14.109375 5.515625 27.296875 \r\nQ 5.515625 40.671875 12.859375 48.328125 \r\nQ 20.21875 56 33.015625 56 \r\nQ 37.15625 56 41.109375 55.140625 \r\nQ 45.0625 54.296875 48.78125 52.59375 \r\nz\r\n\" id=\"DejaVuSans-99\"/>\r\n       <path d=\"M 56.203125 29.59375 \r\nL 56.203125 25.203125 \r\nL 14.890625 25.203125 \r\nQ 15.484375 15.921875 20.484375 11.0625 \r\nQ 25.484375 6.203125 34.421875 6.203125 \r\nQ 39.59375 6.203125 44.453125 7.46875 \r\nQ 49.3125 8.734375 54.109375 11.28125 \r\nL 54.109375 2.78125 \r\nQ 49.265625 0.734375 44.1875 -0.34375 \r\nQ 39.109375 -1.421875 33.890625 -1.421875 \r\nQ 20.796875 -1.421875 13.15625 6.1875 \r\nQ 5.515625 13.8125 5.515625 26.8125 \r\nQ 5.515625 40.234375 12.765625 48.109375 \r\nQ 20.015625 56 32.328125 56 \r\nQ 43.359375 56 49.78125 48.890625 \r\nQ 56.203125 41.796875 56.203125 29.59375 \r\nz\r\nM 47.21875 32.234375 \r\nQ 47.125 39.59375 43.09375 43.984375 \r\nQ 39.0625 48.390625 32.421875 48.390625 \r\nQ 24.90625 48.390625 20.390625 44.140625 \r\nQ 15.875 39.890625 15.1875 32.171875 \r\nz\r\n\" id=\"DejaVuSans-101\"/>\r\n       <path d=\"M 50.984375 -16.609375 \r\nL 50.984375 -23.578125 \r\nL -0.984375 -23.578125 \r\nL -0.984375 -16.609375 \r\nz\r\n\" id=\"DejaVuSans-95\"/>\r\n       <path d=\"M 32.171875 -5.078125 \r\nQ 28.375 -14.84375 24.75 -17.8125 \r\nQ 21.140625 -20.796875 15.09375 -20.796875 \r\nL 7.90625 -20.796875 \r\nL 7.90625 -13.28125 \r\nL 13.1875 -13.28125 \r\nQ 16.890625 -13.28125 18.9375 -11.515625 \r\nQ 21 -9.765625 23.484375 -3.21875 \r\nL 25.09375 0.875 \r\nL 2.984375 54.6875 \r\nL 12.5 54.6875 \r\nL 29.59375 11.921875 \r\nL 46.6875 54.6875 \r\nL 56.203125 54.6875 \r\nz\r\n\" id=\"DejaVuSans-121\"/>\r\n       <path d=\"M 34.28125 27.484375 \r\nQ 23.390625 27.484375 19.1875 25 \r\nQ 14.984375 22.515625 14.984375 16.5 \r\nQ 14.984375 11.71875 18.140625 8.90625 \r\nQ 21.296875 6.109375 26.703125 6.109375 \r\nQ 34.1875 6.109375 38.703125 11.40625 \r\nQ 43.21875 16.703125 43.21875 25.484375 \r\nL 43.21875 27.484375 \r\nz\r\nM 52.203125 31.203125 \r\nL 52.203125 0 \r\nL 43.21875 0 \r\nL 43.21875 8.296875 \r\nQ 40.140625 3.328125 35.546875 0.953125 \r\nQ 30.953125 -1.421875 24.3125 -1.421875 \r\nQ 15.921875 -1.421875 10.953125 3.296875 \r\nQ 6 8.015625 6 15.921875 \r\nQ 6 25.140625 12.171875 29.828125 \r\nQ 18.359375 34.515625 30.609375 34.515625 \r\nL 43.21875 34.515625 \r\nL 43.21875 35.40625 \r\nQ 43.21875 41.609375 39.140625 45 \r\nQ 35.0625 48.390625 27.6875 48.390625 \r\nQ 23 48.390625 18.546875 47.265625 \r\nQ 14.109375 46.140625 10.015625 43.890625 \r\nL 10.015625 52.203125 \r\nQ 14.9375 54.109375 19.578125 55.046875 \r\nQ 24.21875 56 28.609375 56 \r\nQ 40.484375 56 46.34375 49.84375 \r\nQ 52.203125 43.703125 52.203125 31.203125 \r\nz\r\n\" id=\"DejaVuSans-97\"/>\r\n       <path d=\"M 52 44.1875 \r\nQ 55.375 50.25 60.0625 53.125 \r\nQ 64.75 56 71.09375 56 \r\nQ 79.640625 56 84.28125 50.015625 \r\nQ 88.921875 44.046875 88.921875 33.015625 \r\nL 88.921875 0 \r\nL 79.890625 0 \r\nL 79.890625 32.71875 \r\nQ 79.890625 40.578125 77.09375 44.375 \r\nQ 74.3125 48.1875 68.609375 48.1875 \r\nQ 61.625 48.1875 57.5625 43.546875 \r\nQ 53.515625 38.921875 53.515625 30.90625 \r\nL 53.515625 0 \r\nL 44.484375 0 \r\nL 44.484375 32.71875 \r\nQ 44.484375 40.625 41.703125 44.40625 \r\nQ 38.921875 48.1875 33.109375 48.1875 \r\nQ 26.21875 48.1875 22.15625 43.53125 \r\nQ 18.109375 38.875 18.109375 30.90625 \r\nL 18.109375 0 \r\nL 9.078125 0 \r\nL 9.078125 54.6875 \r\nL 18.109375 54.6875 \r\nL 18.109375 46.1875 \r\nQ 21.1875 51.21875 25.484375 53.609375 \r\nQ 29.78125 56 35.6875 56 \r\nQ 41.65625 56 45.828125 52.96875 \r\nQ 50 49.953125 52 44.1875 \r\nz\r\n\" id=\"DejaVuSans-109\"/>\r\n       <path d=\"M 30.609375 48.390625 \r\nQ 23.390625 48.390625 19.1875 42.75 \r\nQ 14.984375 37.109375 14.984375 27.296875 \r\nQ 14.984375 17.484375 19.15625 11.84375 \r\nQ 23.34375 6.203125 30.609375 6.203125 \r\nQ 37.796875 6.203125 41.984375 11.859375 \r\nQ 46.1875 17.53125 46.1875 27.296875 \r\nQ 46.1875 37.015625 41.984375 42.703125 \r\nQ 37.796875 48.390625 30.609375 48.390625 \r\nz\r\nM 30.609375 56 \r\nQ 42.328125 56 49.015625 48.375 \r\nQ 55.71875 40.765625 55.71875 27.296875 \r\nQ 55.71875 13.875 49.015625 6.21875 \r\nQ 42.328125 -1.421875 30.609375 -1.421875 \r\nQ 18.84375 -1.421875 12.171875 6.21875 \r\nQ 5.515625 13.875 5.515625 27.296875 \r\nQ 5.515625 40.765625 12.171875 48.375 \r\nQ 18.84375 56 30.609375 56 \r\nz\r\n\" id=\"DejaVuSans-111\"/>\r\n       <path d=\"M 54.890625 33.015625 \r\nL 54.890625 0 \r\nL 45.90625 0 \r\nL 45.90625 32.71875 \r\nQ 45.90625 40.484375 42.875 44.328125 \r\nQ 39.84375 48.1875 33.796875 48.1875 \r\nQ 26.515625 48.1875 22.3125 43.546875 \r\nQ 18.109375 38.921875 18.109375 30.90625 \r\nL 18.109375 0 \r\nL 9.078125 0 \r\nL 9.078125 54.6875 \r\nL 18.109375 54.6875 \r\nL 18.109375 46.1875 \r\nQ 21.34375 51.125 25.703125 53.5625 \r\nQ 30.078125 56 35.796875 56 \r\nQ 45.21875 56 50.046875 50.171875 \r\nQ 54.890625 44.34375 54.890625 33.015625 \r\nz\r\n\" id=\"DejaVuSans-110\"/>\r\n       <path d=\"M 18.3125 70.21875 \r\nL 18.3125 54.6875 \r\nL 36.8125 54.6875 \r\nL 36.8125 47.703125 \r\nL 18.3125 47.703125 \r\nL 18.3125 18.015625 \r\nQ 18.3125 11.328125 20.140625 9.421875 \r\nQ 21.96875 7.515625 27.59375 7.515625 \r\nL 36.8125 7.515625 \r\nL 36.8125 0 \r\nL 27.59375 0 \r\nQ 17.1875 0 13.234375 3.875 \r\nQ 9.28125 7.765625 9.28125 18.015625 \r\nL 9.28125 47.703125 \r\nL 2.6875 47.703125 \r\nL 2.6875 54.6875 \r\nL 9.28125 54.6875 \r\nL 9.28125 70.21875 \r\nz\r\n\" id=\"DejaVuSans-116\"/>\r\n       <path d=\"M 54.890625 33.015625 \r\nL 54.890625 0 \r\nL 45.90625 0 \r\nL 45.90625 32.71875 \r\nQ 45.90625 40.484375 42.875 44.328125 \r\nQ 39.84375 48.1875 33.796875 48.1875 \r\nQ 26.515625 48.1875 22.3125 43.546875 \r\nQ 18.109375 38.921875 18.109375 30.90625 \r\nL 18.109375 0 \r\nL 9.078125 0 \r\nL 9.078125 75.984375 \r\nL 18.109375 75.984375 \r\nL 18.109375 46.1875 \r\nQ 21.34375 51.125 25.703125 53.5625 \r\nQ 30.078125 56 35.796875 56 \r\nQ 45.21875 56 50.046875 50.171875 \r\nQ 54.890625 44.34375 54.890625 33.015625 \r\nz\r\n\" id=\"DejaVuSans-104\"/>\r\n      </defs>\r\n      <g transform=\"translate(191.615313 467.173281)rotate(-90)scale(0.1 -0.1)\">\r\n       <use xlink:href=\"#DejaVuSans-112\"/>\r\n       <use x=\"63.476562\" xlink:href=\"#DejaVuSans-114\"/>\r\n       <use x=\"104.589844\" xlink:href=\"#DejaVuSans-105\"/>\r\n       <use x=\"132.373047\" xlink:href=\"#DejaVuSans-99\"/>\r\n       <use x=\"187.353516\" xlink:href=\"#DejaVuSans-101\"/>\r\n       <use x=\"248.876953\" xlink:href=\"#DejaVuSans-95\"/>\r\n       <use x=\"298.876953\" xlink:href=\"#DejaVuSans-121\"/>\r\n       <use x=\"358.056641\" xlink:href=\"#DejaVuSans-101\"/>\r\n       <use x=\"419.580078\" xlink:href=\"#DejaVuSans-97\"/>\r\n       <use x=\"480.859375\" xlink:href=\"#DejaVuSans-114\"/>\r\n       <use x=\"521.972656\" xlink:href=\"#DejaVuSans-95\"/>\r\n       <use x=\"571.972656\" xlink:href=\"#DejaVuSans-109\"/>\r\n       <use x=\"669.384766\" xlink:href=\"#DejaVuSans-111\"/>\r\n       <use x=\"730.566406\" xlink:href=\"#DejaVuSans-110\"/>\r\n       <use x=\"793.945312\" xlink:href=\"#DejaVuSans-116\"/>\r\n       <use x=\"833.154297\" xlink:href=\"#DejaVuSans-104\"/>\r\n       <use x=\"896.533203\" xlink:href=\"#DejaVuSans-95\"/>\r\n       <use x=\"946.533203\" xlink:href=\"#DejaVuSans-109\"/>\r\n       <use x=\"1043.945312\" xlink:href=\"#DejaVuSans-101\"/>\r\n       <use x=\"1105.46875\" xlink:href=\"#DejaVuSans-97\"/>\r\n       <use x=\"1166.748047\" xlink:href=\"#DejaVuSans-110\"/>\r\n      </g>\r\n     </g>\r\n    </g>\r\n    <g id=\"xtick_2\">\r\n     <g id=\"line2d_2\">\r\n      <g>\r\n       <use style=\"stroke:#000000;stroke-width:0.8;\" x=\"233.635\" xlink:href=\"#me8de767d72\" y=\"337.159219\"/>\r\n      </g>\r\n     </g>\r\n     <g id=\"text_2\">\r\n      <!-- host_listings_count -->\r\n      <defs>\r\n       <path d=\"M 44.28125 53.078125 \r\nL 44.28125 44.578125 \r\nQ 40.484375 46.53125 36.375 47.5 \r\nQ 32.28125 48.484375 27.875 48.484375 \r\nQ 21.1875 48.484375 17.84375 46.4375 \r\nQ 14.5 44.390625 14.5 40.28125 \r\nQ 14.5 37.15625 16.890625 35.375 \r\nQ 19.28125 33.59375 26.515625 31.984375 \r\nL 29.59375 31.296875 \r\nQ 39.15625 29.25 43.1875 25.515625 \r\nQ 47.21875 21.78125 47.21875 15.09375 \r\nQ 47.21875 7.46875 41.1875 3.015625 \r\nQ 35.15625 -1.421875 24.609375 -1.421875 \r\nQ 20.21875 -1.421875 15.453125 -0.5625 \r\nQ 10.6875 0.296875 5.421875 2 \r\nL 5.421875 11.28125 \r\nQ 10.40625 8.6875 15.234375 7.390625 \r\nQ 20.0625 6.109375 24.8125 6.109375 \r\nQ 31.15625 6.109375 34.5625 8.28125 \r\nQ 37.984375 10.453125 37.984375 14.40625 \r\nQ 37.984375 18.0625 35.515625 20.015625 \r\nQ 33.0625 21.96875 24.703125 23.78125 \r\nL 21.578125 24.515625 \r\nQ 13.234375 26.265625 9.515625 29.90625 \r\nQ 5.8125 33.546875 5.8125 39.890625 \r\nQ 5.8125 47.609375 11.28125 51.796875 \r\nQ 16.75 56 26.8125 56 \r\nQ 31.78125 56 36.171875 55.265625 \r\nQ 40.578125 54.546875 44.28125 53.078125 \r\nz\r\n\" id=\"DejaVuSans-115\"/>\r\n       <path d=\"M 9.421875 75.984375 \r\nL 18.40625 75.984375 \r\nL 18.40625 0 \r\nL 9.421875 0 \r\nz\r\n\" id=\"DejaVuSans-108\"/>\r\n       <path d=\"M 45.40625 27.984375 \r\nQ 45.40625 37.75 41.375 43.109375 \r\nQ 37.359375 48.484375 30.078125 48.484375 \r\nQ 22.859375 48.484375 18.828125 43.109375 \r\nQ 14.796875 37.75 14.796875 27.984375 \r\nQ 14.796875 18.265625 18.828125 12.890625 \r\nQ 22.859375 7.515625 30.078125 7.515625 \r\nQ 37.359375 7.515625 41.375 12.890625 \r\nQ 45.40625 18.265625 45.40625 27.984375 \r\nz\r\nM 54.390625 6.78125 \r\nQ 54.390625 -7.171875 48.1875 -13.984375 \r\nQ 42 -20.796875 29.203125 -20.796875 \r\nQ 24.46875 -20.796875 20.265625 -20.09375 \r\nQ 16.0625 -19.390625 12.109375 -17.921875 \r\nL 12.109375 -9.1875 \r\nQ 16.0625 -11.328125 19.921875 -12.34375 \r\nQ 23.78125 -13.375 27.78125 -13.375 \r\nQ 36.625 -13.375 41.015625 -8.765625 \r\nQ 45.40625 -4.15625 45.40625 5.171875 \r\nL 45.40625 9.625 \r\nQ 42.625 4.78125 38.28125 2.390625 \r\nQ 33.9375 0 27.875 0 \r\nQ 17.828125 0 11.671875 7.65625 \r\nQ 5.515625 15.328125 5.515625 27.984375 \r\nQ 5.515625 40.671875 11.671875 48.328125 \r\nQ 17.828125 56 27.875 56 \r\nQ 33.9375 56 38.28125 53.609375 \r\nQ 42.625 51.21875 45.40625 46.390625 \r\nL 45.40625 54.6875 \r\nL 54.390625 54.6875 \r\nz\r\n\" id=\"DejaVuSans-103\"/>\r\n       <path d=\"M 8.5 21.578125 \r\nL 8.5 54.6875 \r\nL 17.484375 54.6875 \r\nL 17.484375 21.921875 \r\nQ 17.484375 14.15625 20.5 10.265625 \r\nQ 23.53125 6.390625 29.59375 6.390625 \r\nQ 36.859375 6.390625 41.078125 11.03125 \r\nQ 45.3125 15.671875 45.3125 23.6875 \r\nL 45.3125 54.6875 \r\nL 54.296875 54.6875 \r\nL 54.296875 0 \r\nL 45.3125 0 \r\nL 45.3125 8.40625 \r\nQ 42.046875 3.421875 37.71875 1 \r\nQ 33.40625 -1.421875 27.6875 -1.421875 \r\nQ 18.265625 -1.421875 13.375 4.4375 \r\nQ 8.5 10.296875 8.5 21.578125 \r\nz\r\nM 31.109375 56 \r\nz\r\n\" id=\"DejaVuSans-117\"/>\r\n      </defs>\r\n      <g transform=\"translate(236.255313 439.317031)rotate(-90)scale(0.1 -0.1)\">\r\n       <use xlink:href=\"#DejaVuSans-104\"/>\r\n       <use x=\"63.378906\" xlink:href=\"#DejaVuSans-111\"/>\r\n       <use x=\"124.560547\" xlink:href=\"#DejaVuSans-115\"/>\r\n       <use x=\"176.660156\" xlink:href=\"#DejaVuSans-116\"/>\r\n       <use x=\"215.869141\" xlink:href=\"#DejaVuSans-95\"/>\r\n       <use x=\"265.869141\" xlink:href=\"#DejaVuSans-108\"/>\r\n       <use x=\"293.652344\" xlink:href=\"#DejaVuSans-105\"/>\r\n       <use x=\"321.435547\" xlink:href=\"#DejaVuSans-115\"/>\r\n       <use x=\"373.535156\" xlink:href=\"#DejaVuSans-116\"/>\r\n       <use x=\"412.744141\" xlink:href=\"#DejaVuSans-105\"/>\r\n       <use x=\"440.527344\" xlink:href=\"#DejaVuSans-110\"/>\r\n       <use x=\"503.90625\" xlink:href=\"#DejaVuSans-103\"/>\r\n       <use x=\"567.382812\" xlink:href=\"#DejaVuSans-115\"/>\r\n       <use x=\"619.482422\" xlink:href=\"#DejaVuSans-95\"/>\r\n       <use x=\"669.482422\" xlink:href=\"#DejaVuSans-99\"/>\r\n       <use x=\"724.462891\" xlink:href=\"#DejaVuSans-111\"/>\r\n       <use x=\"785.644531\" xlink:href=\"#DejaVuSans-117\"/>\r\n       <use x=\"849.023438\" xlink:href=\"#DejaVuSans-110\"/>\r\n       <use x=\"912.402344\" xlink:href=\"#DejaVuSans-116\"/>\r\n      </g>\r\n     </g>\r\n    </g>\r\n    <g id=\"xtick_3\">\r\n     <g id=\"line2d_3\">\r\n      <g>\r\n       <use style=\"stroke:#000000;stroke-width:0.8;\" x=\"278.275\" xlink:href=\"#me8de767d72\" y=\"337.159219\"/>\r\n      </g>\r\n     </g>\r\n     <g id=\"text_3\">\r\n      <!-- host_total_listings_count -->\r\n      <g transform=\"translate(280.895312 467.182656)rotate(-90)scale(0.1 -0.1)\">\r\n       <use xlink:href=\"#DejaVuSans-104\"/>\r\n       <use x=\"63.378906\" xlink:href=\"#DejaVuSans-111\"/>\r\n       <use x=\"124.560547\" xlink:href=\"#DejaVuSans-115\"/>\r\n       <use x=\"176.660156\" xlink:href=\"#DejaVuSans-116\"/>\r\n       <use x=\"215.869141\" xlink:href=\"#DejaVuSans-95\"/>\r\n       <use x=\"265.869141\" xlink:href=\"#DejaVuSans-116\"/>\r\n       <use x=\"305.078125\" xlink:href=\"#DejaVuSans-111\"/>\r\n       <use x=\"366.259766\" xlink:href=\"#DejaVuSans-116\"/>\r\n       <use x=\"405.46875\" xlink:href=\"#DejaVuSans-97\"/>\r\n       <use x=\"466.748047\" xlink:href=\"#DejaVuSans-108\"/>\r\n       <use x=\"494.53125\" xlink:href=\"#DejaVuSans-95\"/>\r\n       <use x=\"544.53125\" xlink:href=\"#DejaVuSans-108\"/>\r\n       <use x=\"572.314453\" xlink:href=\"#DejaVuSans-105\"/>\r\n       <use x=\"600.097656\" xlink:href=\"#DejaVuSans-115\"/>\r\n       <use x=\"652.197266\" xlink:href=\"#DejaVuSans-116\"/>\r\n       <use x=\"691.40625\" xlink:href=\"#DejaVuSans-105\"/>\r\n       <use x=\"719.189453\" xlink:href=\"#DejaVuSans-110\"/>\r\n       <use x=\"782.568359\" xlink:href=\"#DejaVuSans-103\"/>\r\n       <use x=\"846.044922\" xlink:href=\"#DejaVuSans-115\"/>\r\n       <use x=\"898.144531\" xlink:href=\"#DejaVuSans-95\"/>\r\n       <use x=\"948.144531\" xlink:href=\"#DejaVuSans-99\"/>\r\n       <use x=\"1003.125\" xlink:href=\"#DejaVuSans-111\"/>\r\n       <use x=\"1064.306641\" xlink:href=\"#DejaVuSans-117\"/>\r\n       <use x=\"1127.685547\" xlink:href=\"#DejaVuSans-110\"/>\r\n       <use x=\"1191.064453\" xlink:href=\"#DejaVuSans-116\"/>\r\n      </g>\r\n     </g>\r\n    </g>\r\n    <g id=\"xtick_4\">\r\n     <g id=\"line2d_4\">\r\n      <g>\r\n       <use style=\"stroke:#000000;stroke-width:0.8;\" x=\"322.915\" xlink:href=\"#me8de767d72\" y=\"337.159219\"/>\r\n      </g>\r\n     </g>\r\n     <g id=\"text_4\">\r\n      <!-- zipcode -->\r\n      <defs>\r\n       <path d=\"M 5.515625 54.6875 \r\nL 48.1875 54.6875 \r\nL 48.1875 46.484375 \r\nL 14.40625 7.171875 \r\nL 48.1875 7.171875 \r\nL 48.1875 0 \r\nL 4.296875 0 \r\nL 4.296875 8.203125 \r\nL 38.09375 47.515625 \r\nL 5.515625 47.515625 \r\nz\r\n\" id=\"DejaVuSans-122\"/>\r\n       <path d=\"M 45.40625 46.390625 \r\nL 45.40625 75.984375 \r\nL 54.390625 75.984375 \r\nL 54.390625 0 \r\nL 45.40625 0 \r\nL 45.40625 8.203125 \r\nQ 42.578125 3.328125 38.25 0.953125 \r\nQ 33.9375 -1.421875 27.875 -1.421875 \r\nQ 17.96875 -1.421875 11.734375 6.484375 \r\nQ 5.515625 14.40625 5.515625 27.296875 \r\nQ 5.515625 40.1875 11.734375 48.09375 \r\nQ 17.96875 56 27.875 56 \r\nQ 33.9375 56 38.25 53.625 \r\nQ 42.578125 51.265625 45.40625 46.390625 \r\nz\r\nM 14.796875 27.296875 \r\nQ 14.796875 17.390625 18.875 11.75 \r\nQ 22.953125 6.109375 30.078125 6.109375 \r\nQ 37.203125 6.109375 41.296875 11.75 \r\nQ 45.40625 17.390625 45.40625 27.296875 \r\nQ 45.40625 37.203125 41.296875 42.84375 \r\nQ 37.203125 48.484375 30.078125 48.484375 \r\nQ 22.953125 48.484375 18.875 42.84375 \r\nQ 14.796875 37.203125 14.796875 27.296875 \r\nz\r\n\" id=\"DejaVuSans-100\"/>\r\n      </defs>\r\n      <g transform=\"translate(325.674375 382.652969)rotate(-90)scale(0.1 -0.1)\">\r\n       <use xlink:href=\"#DejaVuSans-122\"/>\r\n       <use x=\"52.490234\" xlink:href=\"#DejaVuSans-105\"/>\r\n       <use x=\"80.273438\" xlink:href=\"#DejaVuSans-112\"/>\r\n       <use x=\"143.75\" xlink:href=\"#DejaVuSans-99\"/>\r\n       <use x=\"198.730469\" xlink:href=\"#DejaVuSans-111\"/>\r\n       <use x=\"259.912109\" xlink:href=\"#DejaVuSans-100\"/>\r\n       <use x=\"323.388672\" xlink:href=\"#DejaVuSans-101\"/>\r\n      </g>\r\n     </g>\r\n    </g>\r\n    <g id=\"xtick_5\">\r\n     <g id=\"line2d_5\">\r\n      <g>\r\n       <use style=\"stroke:#000000;stroke-width:0.8;\" x=\"367.555\" xlink:href=\"#me8de767d72\" y=\"337.159219\"/>\r\n      </g>\r\n     </g>\r\n     <g id=\"text_5\">\r\n      <!-- bathrooms -->\r\n      <defs>\r\n       <path d=\"M 48.6875 27.296875 \r\nQ 48.6875 37.203125 44.609375 42.84375 \r\nQ 40.53125 48.484375 33.40625 48.484375 \r\nQ 26.265625 48.484375 22.1875 42.84375 \r\nQ 18.109375 37.203125 18.109375 27.296875 \r\nQ 18.109375 17.390625 22.1875 11.75 \r\nQ 26.265625 6.109375 33.40625 6.109375 \r\nQ 40.53125 6.109375 44.609375 11.75 \r\nQ 48.6875 17.390625 48.6875 27.296875 \r\nz\r\nM 18.109375 46.390625 \r\nQ 20.953125 51.265625 25.265625 53.625 \r\nQ 29.59375 56 35.59375 56 \r\nQ 45.5625 56 51.78125 48.09375 \r\nQ 58.015625 40.1875 58.015625 27.296875 \r\nQ 58.015625 14.40625 51.78125 6.484375 \r\nQ 45.5625 -1.421875 35.59375 -1.421875 \r\nQ 29.59375 -1.421875 25.265625 0.953125 \r\nQ 20.953125 3.328125 18.109375 8.203125 \r\nL 18.109375 0 \r\nL 9.078125 0 \r\nL 9.078125 75.984375 \r\nL 18.109375 75.984375 \r\nz\r\n\" id=\"DejaVuSans-98\"/>\r\n      </defs>\r\n      <g transform=\"translate(370.314375 397.967031)rotate(-90)scale(0.1 -0.1)\">\r\n       <use xlink:href=\"#DejaVuSans-98\"/>\r\n       <use x=\"63.476562\" xlink:href=\"#DejaVuSans-97\"/>\r\n       <use x=\"124.755859\" xlink:href=\"#DejaVuSans-116\"/>\r\n       <use x=\"163.964844\" xlink:href=\"#DejaVuSans-104\"/>\r\n       <use x=\"227.34375\" xlink:href=\"#DejaVuSans-114\"/>\r\n       <use x=\"266.207031\" xlink:href=\"#DejaVuSans-111\"/>\r\n       <use x=\"327.388672\" xlink:href=\"#DejaVuSans-111\"/>\r\n       <use x=\"388.570312\" xlink:href=\"#DejaVuSans-109\"/>\r\n       <use x=\"485.982422\" xlink:href=\"#DejaVuSans-115\"/>\r\n      </g>\r\n     </g>\r\n    </g>\r\n    <g id=\"xtick_6\">\r\n     <g id=\"line2d_6\">\r\n      <g>\r\n       <use style=\"stroke:#000000;stroke-width:0.8;\" x=\"412.195\" xlink:href=\"#me8de767d72\" y=\"337.159219\"/>\r\n      </g>\r\n     </g>\r\n     <g id=\"text_6\">\r\n      <!-- bedrooms -->\r\n      <g transform=\"translate(414.954375 394.082656)rotate(-90)scale(0.1 -0.1)\">\r\n       <use xlink:href=\"#DejaVuSans-98\"/>\r\n       <use x=\"63.476562\" xlink:href=\"#DejaVuSans-101\"/>\r\n       <use x=\"125\" xlink:href=\"#DejaVuSans-100\"/>\r\n       <use x=\"188.476562\" xlink:href=\"#DejaVuSans-114\"/>\r\n       <use x=\"227.339844\" xlink:href=\"#DejaVuSans-111\"/>\r\n       <use x=\"288.521484\" xlink:href=\"#DejaVuSans-111\"/>\r\n       <use x=\"349.703125\" xlink:href=\"#DejaVuSans-109\"/>\r\n       <use x=\"447.115234\" xlink:href=\"#DejaVuSans-115\"/>\r\n      </g>\r\n     </g>\r\n    </g>\r\n    <g id=\"xtick_7\">\r\n     <g id=\"line2d_7\">\r\n      <g>\r\n       <use style=\"stroke:#000000;stroke-width:0.8;\" x=\"456.835\" xlink:href=\"#me8de767d72\" y=\"337.159219\"/>\r\n      </g>\r\n     </g>\r\n     <g id=\"text_7\">\r\n      <!-- beds -->\r\n      <g transform=\"translate(459.594375 368.218594)rotate(-90)scale(0.1 -0.1)\">\r\n       <use xlink:href=\"#DejaVuSans-98\"/>\r\n       <use x=\"63.476562\" xlink:href=\"#DejaVuSans-101\"/>\r\n       <use x=\"125\" xlink:href=\"#DejaVuSans-100\"/>\r\n       <use x=\"188.476562\" xlink:href=\"#DejaVuSans-115\"/>\r\n      </g>\r\n     </g>\r\n    </g>\r\n    <g id=\"xtick_8\">\r\n     <g id=\"line2d_8\">\r\n      <g>\r\n       <use style=\"stroke:#000000;stroke-width:0.8;\" x=\"501.475\" xlink:href=\"#me8de767d72\" y=\"337.159219\"/>\r\n      </g>\r\n     </g>\r\n     <g id=\"text_8\">\r\n      <!-- square_feet -->\r\n      <defs>\r\n       <path d=\"M 14.796875 27.296875 \r\nQ 14.796875 17.390625 18.875 11.75 \r\nQ 22.953125 6.109375 30.078125 6.109375 \r\nQ 37.203125 6.109375 41.296875 11.75 \r\nQ 45.40625 17.390625 45.40625 27.296875 \r\nQ 45.40625 37.203125 41.296875 42.84375 \r\nQ 37.203125 48.484375 30.078125 48.484375 \r\nQ 22.953125 48.484375 18.875 42.84375 \r\nQ 14.796875 37.203125 14.796875 27.296875 \r\nz\r\nM 45.40625 8.203125 \r\nQ 42.578125 3.328125 38.25 0.953125 \r\nQ 33.9375 -1.421875 27.875 -1.421875 \r\nQ 17.96875 -1.421875 11.734375 6.484375 \r\nQ 5.515625 14.40625 5.515625 27.296875 \r\nQ 5.515625 40.1875 11.734375 48.09375 \r\nQ 17.96875 56 27.875 56 \r\nQ 33.9375 56 38.25 53.625 \r\nQ 42.578125 51.265625 45.40625 46.390625 \r\nL 45.40625 54.6875 \r\nL 54.390625 54.6875 \r\nL 54.390625 -20.796875 \r\nL 45.40625 -20.796875 \r\nz\r\n\" id=\"DejaVuSans-113\"/>\r\n       <path d=\"M 37.109375 75.984375 \r\nL 37.109375 68.5 \r\nL 28.515625 68.5 \r\nQ 23.6875 68.5 21.796875 66.546875 \r\nQ 19.921875 64.59375 19.921875 59.515625 \r\nL 19.921875 54.6875 \r\nL 34.71875 54.6875 \r\nL 34.71875 47.703125 \r\nL 19.921875 47.703125 \r\nL 19.921875 0 \r\nL 10.890625 0 \r\nL 10.890625 47.703125 \r\nL 2.296875 47.703125 \r\nL 2.296875 54.6875 \r\nL 10.890625 54.6875 \r\nL 10.890625 58.5 \r\nQ 10.890625 67.625 15.140625 71.796875 \r\nQ 19.390625 75.984375 28.609375 75.984375 \r\nz\r\n\" id=\"DejaVuSans-102\"/>\r\n      </defs>\r\n      <g transform=\"translate(504.095313 402.968594)rotate(-90)scale(0.1 -0.1)\">\r\n       <use xlink:href=\"#DejaVuSans-115\"/>\r\n       <use x=\"52.099609\" xlink:href=\"#DejaVuSans-113\"/>\r\n       <use x=\"115.576172\" xlink:href=\"#DejaVuSans-117\"/>\r\n       <use x=\"178.955078\" xlink:href=\"#DejaVuSans-97\"/>\r\n       <use x=\"240.234375\" xlink:href=\"#DejaVuSans-114\"/>\r\n       <use x=\"279.097656\" xlink:href=\"#DejaVuSans-101\"/>\r\n       <use x=\"340.621094\" xlink:href=\"#DejaVuSans-95\"/>\r\n       <use x=\"390.621094\" xlink:href=\"#DejaVuSans-102\"/>\r\n       <use x=\"425.826172\" xlink:href=\"#DejaVuSans-101\"/>\r\n       <use x=\"487.349609\" xlink:href=\"#DejaVuSans-101\"/>\r\n       <use x=\"548.873047\" xlink:href=\"#DejaVuSans-116\"/>\r\n      </g>\r\n     </g>\r\n    </g>\r\n    <g id=\"xtick_9\">\r\n     <g id=\"line2d_9\">\r\n      <g>\r\n       <use style=\"stroke:#000000;stroke-width:0.8;\" x=\"546.115\" xlink:href=\"#me8de767d72\" y=\"337.159219\"/>\r\n      </g>\r\n     </g>\r\n     <g id=\"text_9\">\r\n      <!-- review_scores_rating -->\r\n      <defs>\r\n       <path d=\"M 2.984375 54.6875 \r\nL 12.5 54.6875 \r\nL 29.59375 8.796875 \r\nL 46.6875 54.6875 \r\nL 56.203125 54.6875 \r\nL 35.6875 0 \r\nL 23.484375 0 \r\nz\r\n\" id=\"DejaVuSans-118\"/>\r\n       <path d=\"M 4.203125 54.6875 \r\nL 13.1875 54.6875 \r\nL 24.421875 12.015625 \r\nL 35.59375 54.6875 \r\nL 46.1875 54.6875 \r\nL 57.421875 12.015625 \r\nL 68.609375 54.6875 \r\nL 77.59375 54.6875 \r\nL 63.28125 0 \r\nL 52.6875 0 \r\nL 40.921875 44.828125 \r\nL 29.109375 0 \r\nL 18.5 0 \r\nz\r\n\" id=\"DejaVuSans-119\"/>\r\n      </defs>\r\n      <g transform=\"translate(548.735312 448.924844)rotate(-90)scale(0.1 -0.1)\">\r\n       <use xlink:href=\"#DejaVuSans-114\"/>\r\n       <use x=\"38.863281\" xlink:href=\"#DejaVuSans-101\"/>\r\n       <use x=\"100.386719\" xlink:href=\"#DejaVuSans-118\"/>\r\n       <use x=\"159.566406\" xlink:href=\"#DejaVuSans-105\"/>\r\n       <use x=\"187.349609\" xlink:href=\"#DejaVuSans-101\"/>\r\n       <use x=\"248.873047\" xlink:href=\"#DejaVuSans-119\"/>\r\n       <use x=\"330.660156\" xlink:href=\"#DejaVuSans-95\"/>\r\n       <use x=\"380.660156\" xlink:href=\"#DejaVuSans-115\"/>\r\n       <use x=\"432.759766\" xlink:href=\"#DejaVuSans-99\"/>\r\n       <use x=\"487.740234\" xlink:href=\"#DejaVuSans-111\"/>\r\n       <use x=\"548.921875\" xlink:href=\"#DejaVuSans-114\"/>\r\n       <use x=\"587.785156\" xlink:href=\"#DejaVuSans-101\"/>\r\n       <use x=\"649.308594\" xlink:href=\"#DejaVuSans-115\"/>\r\n       <use x=\"701.408203\" xlink:href=\"#DejaVuSans-95\"/>\r\n       <use x=\"751.408203\" xlink:href=\"#DejaVuSans-114\"/>\r\n       <use x=\"792.521484\" xlink:href=\"#DejaVuSans-97\"/>\r\n       <use x=\"853.800781\" xlink:href=\"#DejaVuSans-116\"/>\r\n       <use x=\"893.009766\" xlink:href=\"#DejaVuSans-105\"/>\r\n       <use x=\"920.792969\" xlink:href=\"#DejaVuSans-110\"/>\r\n       <use x=\"984.171875\" xlink:href=\"#DejaVuSans-103\"/>\r\n      </g>\r\n     </g>\r\n    </g>\r\n    <g id=\"xtick_10\">\r\n     <g id=\"line2d_10\">\r\n      <g>\r\n       <use style=\"stroke:#000000;stroke-width:0.8;\" x=\"590.755\" xlink:href=\"#me8de767d72\" y=\"337.159219\"/>\r\n      </g>\r\n     </g>\r\n     <g id=\"text_10\">\r\n      <!-- review_scores_accuracy -->\r\n      <g transform=\"translate(593.375312 464.420156)rotate(-90)scale(0.1 -0.1)\">\r\n       <use xlink:href=\"#DejaVuSans-114\"/>\r\n       <use x=\"38.863281\" xlink:href=\"#DejaVuSans-101\"/>\r\n       <use x=\"100.386719\" xlink:href=\"#DejaVuSans-118\"/>\r\n       <use x=\"159.566406\" xlink:href=\"#DejaVuSans-105\"/>\r\n       <use x=\"187.349609\" xlink:href=\"#DejaVuSans-101\"/>\r\n       <use x=\"248.873047\" xlink:href=\"#DejaVuSans-119\"/>\r\n       <use x=\"330.660156\" xlink:href=\"#DejaVuSans-95\"/>\r\n       <use x=\"380.660156\" xlink:href=\"#DejaVuSans-115\"/>\r\n       <use x=\"432.759766\" xlink:href=\"#DejaVuSans-99\"/>\r\n       <use x=\"487.740234\" xlink:href=\"#DejaVuSans-111\"/>\r\n       <use x=\"548.921875\" xlink:href=\"#DejaVuSans-114\"/>\r\n       <use x=\"587.785156\" xlink:href=\"#DejaVuSans-101\"/>\r\n       <use x=\"649.308594\" xlink:href=\"#DejaVuSans-115\"/>\r\n       <use x=\"701.408203\" xlink:href=\"#DejaVuSans-95\"/>\r\n       <use x=\"751.408203\" xlink:href=\"#DejaVuSans-97\"/>\r\n       <use x=\"812.6875\" xlink:href=\"#DejaVuSans-99\"/>\r\n       <use x=\"867.667969\" xlink:href=\"#DejaVuSans-99\"/>\r\n       <use x=\"922.648438\" xlink:href=\"#DejaVuSans-117\"/>\r\n       <use x=\"986.027344\" xlink:href=\"#DejaVuSans-114\"/>\r\n       <use x=\"1027.140625\" xlink:href=\"#DejaVuSans-97\"/>\r\n       <use x=\"1088.419922\" xlink:href=\"#DejaVuSans-99\"/>\r\n       <use x=\"1143.400391\" xlink:href=\"#DejaVuSans-121\"/>\r\n      </g>\r\n     </g>\r\n    </g>\r\n    <g id=\"xtick_11\">\r\n     <g id=\"line2d_11\">\r\n      <g>\r\n       <use style=\"stroke:#000000;stroke-width:0.8;\" x=\"635.395\" xlink:href=\"#me8de767d72\" y=\"337.159219\"/>\r\n      </g>\r\n     </g>\r\n     <g id=\"text_11\">\r\n      <!-- review_scores_cleanliness -->\r\n      <g transform=\"translate(638.015312 474.662344)rotate(-90)scale(0.1 -0.1)\">\r\n       <use xlink:href=\"#DejaVuSans-114\"/>\r\n       <use x=\"38.863281\" xlink:href=\"#DejaVuSans-101\"/>\r\n       <use x=\"100.386719\" xlink:href=\"#DejaVuSans-118\"/>\r\n       <use x=\"159.566406\" xlink:href=\"#DejaVuSans-105\"/>\r\n       <use x=\"187.349609\" xlink:href=\"#DejaVuSans-101\"/>\r\n       <use x=\"248.873047\" xlink:href=\"#DejaVuSans-119\"/>\r\n       <use x=\"330.660156\" xlink:href=\"#DejaVuSans-95\"/>\r\n       <use x=\"380.660156\" xlink:href=\"#DejaVuSans-115\"/>\r\n       <use x=\"432.759766\" xlink:href=\"#DejaVuSans-99\"/>\r\n       <use x=\"487.740234\" xlink:href=\"#DejaVuSans-111\"/>\r\n       <use x=\"548.921875\" xlink:href=\"#DejaVuSans-114\"/>\r\n       <use x=\"587.785156\" xlink:href=\"#DejaVuSans-101\"/>\r\n       <use x=\"649.308594\" xlink:href=\"#DejaVuSans-115\"/>\r\n       <use x=\"701.408203\" xlink:href=\"#DejaVuSans-95\"/>\r\n       <use x=\"751.408203\" xlink:href=\"#DejaVuSans-99\"/>\r\n       <use x=\"806.388672\" xlink:href=\"#DejaVuSans-108\"/>\r\n       <use x=\"834.171875\" xlink:href=\"#DejaVuSans-101\"/>\r\n       <use x=\"895.695312\" xlink:href=\"#DejaVuSans-97\"/>\r\n       <use x=\"956.974609\" xlink:href=\"#DejaVuSans-110\"/>\r\n       <use x=\"1020.353516\" xlink:href=\"#DejaVuSans-108\"/>\r\n       <use x=\"1048.136719\" xlink:href=\"#DejaVuSans-105\"/>\r\n       <use x=\"1075.919922\" xlink:href=\"#DejaVuSans-110\"/>\r\n       <use x=\"1139.298828\" xlink:href=\"#DejaVuSans-101\"/>\r\n       <use x=\"1200.822266\" xlink:href=\"#DejaVuSans-115\"/>\r\n       <use x=\"1252.921875\" xlink:href=\"#DejaVuSans-115\"/>\r\n      </g>\r\n     </g>\r\n    </g>\r\n    <g id=\"xtick_12\">\r\n     <g id=\"line2d_12\">\r\n      <g>\r\n       <use style=\"stroke:#000000;stroke-width:0.8;\" x=\"680.035\" xlink:href=\"#me8de767d72\" y=\"337.159219\"/>\r\n      </g>\r\n     </g>\r\n     <g id=\"text_12\">\r\n      <!-- review_scores_checkin -->\r\n      <defs>\r\n       <path d=\"M 9.078125 75.984375 \r\nL 18.109375 75.984375 \r\nL 18.109375 31.109375 \r\nL 44.921875 54.6875 \r\nL 56.390625 54.6875 \r\nL 27.390625 29.109375 \r\nL 57.625 0 \r\nL 45.90625 0 \r\nL 18.109375 26.703125 \r\nL 18.109375 0 \r\nL 9.078125 0 \r\nz\r\n\" id=\"DejaVuSans-107\"/>\r\n      </defs>\r\n      <g transform=\"translate(682.655313 457.695156)rotate(-90)scale(0.1 -0.1)\">\r\n       <use xlink:href=\"#DejaVuSans-114\"/>\r\n       <use x=\"38.863281\" xlink:href=\"#DejaVuSans-101\"/>\r\n       <use x=\"100.386719\" xlink:href=\"#DejaVuSans-118\"/>\r\n       <use x=\"159.566406\" xlink:href=\"#DejaVuSans-105\"/>\r\n       <use x=\"187.349609\" xlink:href=\"#DejaVuSans-101\"/>\r\n       <use x=\"248.873047\" xlink:href=\"#DejaVuSans-119\"/>\r\n       <use x=\"330.660156\" xlink:href=\"#DejaVuSans-95\"/>\r\n       <use x=\"380.660156\" xlink:href=\"#DejaVuSans-115\"/>\r\n       <use x=\"432.759766\" xlink:href=\"#DejaVuSans-99\"/>\r\n       <use x=\"487.740234\" xlink:href=\"#DejaVuSans-111\"/>\r\n       <use x=\"548.921875\" xlink:href=\"#DejaVuSans-114\"/>\r\n       <use x=\"587.785156\" xlink:href=\"#DejaVuSans-101\"/>\r\n       <use x=\"649.308594\" xlink:href=\"#DejaVuSans-115\"/>\r\n       <use x=\"701.408203\" xlink:href=\"#DejaVuSans-95\"/>\r\n       <use x=\"751.408203\" xlink:href=\"#DejaVuSans-99\"/>\r\n       <use x=\"806.388672\" xlink:href=\"#DejaVuSans-104\"/>\r\n       <use x=\"869.767578\" xlink:href=\"#DejaVuSans-101\"/>\r\n       <use x=\"931.291016\" xlink:href=\"#DejaVuSans-99\"/>\r\n       <use x=\"986.271484\" xlink:href=\"#DejaVuSans-107\"/>\r\n       <use x=\"1044.181641\" xlink:href=\"#DejaVuSans-105\"/>\r\n       <use x=\"1071.964844\" xlink:href=\"#DejaVuSans-110\"/>\r\n      </g>\r\n     </g>\r\n    </g>\r\n    <g id=\"xtick_13\">\r\n     <g id=\"line2d_13\">\r\n      <g>\r\n       <use style=\"stroke:#000000;stroke-width:0.8;\" x=\"724.675\" xlink:href=\"#me8de767d72\" y=\"337.159219\"/>\r\n      </g>\r\n     </g>\r\n     <g id=\"text_13\">\r\n      <!-- review_scores_communication -->\r\n      <g transform=\"translate(727.295312 496.634219)rotate(-90)scale(0.1 -0.1)\">\r\n       <use xlink:href=\"#DejaVuSans-114\"/>\r\n       <use x=\"38.863281\" xlink:href=\"#DejaVuSans-101\"/>\r\n       <use x=\"100.386719\" xlink:href=\"#DejaVuSans-118\"/>\r\n       <use x=\"159.566406\" xlink:href=\"#DejaVuSans-105\"/>\r\n       <use x=\"187.349609\" xlink:href=\"#DejaVuSans-101\"/>\r\n       <use x=\"248.873047\" xlink:href=\"#DejaVuSans-119\"/>\r\n       <use x=\"330.660156\" xlink:href=\"#DejaVuSans-95\"/>\r\n       <use x=\"380.660156\" xlink:href=\"#DejaVuSans-115\"/>\r\n       <use x=\"432.759766\" xlink:href=\"#DejaVuSans-99\"/>\r\n       <use x=\"487.740234\" xlink:href=\"#DejaVuSans-111\"/>\r\n       <use x=\"548.921875\" xlink:href=\"#DejaVuSans-114\"/>\r\n       <use x=\"587.785156\" xlink:href=\"#DejaVuSans-101\"/>\r\n       <use x=\"649.308594\" xlink:href=\"#DejaVuSans-115\"/>\r\n       <use x=\"701.408203\" xlink:href=\"#DejaVuSans-95\"/>\r\n       <use x=\"751.408203\" xlink:href=\"#DejaVuSans-99\"/>\r\n       <use x=\"806.388672\" xlink:href=\"#DejaVuSans-111\"/>\r\n       <use x=\"867.570312\" xlink:href=\"#DejaVuSans-109\"/>\r\n       <use x=\"964.982422\" xlink:href=\"#DejaVuSans-109\"/>\r\n       <use x=\"1062.394531\" xlink:href=\"#DejaVuSans-117\"/>\r\n       <use x=\"1125.773438\" xlink:href=\"#DejaVuSans-110\"/>\r\n       <use x=\"1189.152344\" xlink:href=\"#DejaVuSans-105\"/>\r\n       <use x=\"1216.935547\" xlink:href=\"#DejaVuSans-99\"/>\r\n       <use x=\"1271.916016\" xlink:href=\"#DejaVuSans-97\"/>\r\n       <use x=\"1333.195312\" xlink:href=\"#DejaVuSans-116\"/>\r\n       <use x=\"1372.404297\" xlink:href=\"#DejaVuSans-105\"/>\r\n       <use x=\"1400.1875\" xlink:href=\"#DejaVuSans-111\"/>\r\n       <use x=\"1461.369141\" xlink:href=\"#DejaVuSans-110\"/>\r\n      </g>\r\n     </g>\r\n    </g>\r\n    <g id=\"xtick_14\">\r\n     <g id=\"line2d_14\">\r\n      <g>\r\n       <use style=\"stroke:#000000;stroke-width:0.8;\" x=\"769.315\" xlink:href=\"#me8de767d72\" y=\"337.159219\"/>\r\n      </g>\r\n     </g>\r\n     <g id=\"text_14\">\r\n      <!-- review_scores_location -->\r\n      <g transform=\"translate(771.935313 458.979531)rotate(-90)scale(0.1 -0.1)\">\r\n       <use xlink:href=\"#DejaVuSans-114\"/>\r\n       <use x=\"38.863281\" xlink:href=\"#DejaVuSans-101\"/>\r\n       <use x=\"100.386719\" xlink:href=\"#DejaVuSans-118\"/>\r\n       <use x=\"159.566406\" xlink:href=\"#DejaVuSans-105\"/>\r\n       <use x=\"187.349609\" xlink:href=\"#DejaVuSans-101\"/>\r\n       <use x=\"248.873047\" xlink:href=\"#DejaVuSans-119\"/>\r\n       <use x=\"330.660156\" xlink:href=\"#DejaVuSans-95\"/>\r\n       <use x=\"380.660156\" xlink:href=\"#DejaVuSans-115\"/>\r\n       <use x=\"432.759766\" xlink:href=\"#DejaVuSans-99\"/>\r\n       <use x=\"487.740234\" xlink:href=\"#DejaVuSans-111\"/>\r\n       <use x=\"548.921875\" xlink:href=\"#DejaVuSans-114\"/>\r\n       <use x=\"587.785156\" xlink:href=\"#DejaVuSans-101\"/>\r\n       <use x=\"649.308594\" xlink:href=\"#DejaVuSans-115\"/>\r\n       <use x=\"701.408203\" xlink:href=\"#DejaVuSans-95\"/>\r\n       <use x=\"751.408203\" xlink:href=\"#DejaVuSans-108\"/>\r\n       <use x=\"779.191406\" xlink:href=\"#DejaVuSans-111\"/>\r\n       <use x=\"840.373047\" xlink:href=\"#DejaVuSans-99\"/>\r\n       <use x=\"895.353516\" xlink:href=\"#DejaVuSans-97\"/>\r\n       <use x=\"956.632812\" xlink:href=\"#DejaVuSans-116\"/>\r\n       <use x=\"995.841797\" xlink:href=\"#DejaVuSans-105\"/>\r\n       <use x=\"1023.625\" xlink:href=\"#DejaVuSans-111\"/>\r\n       <use x=\"1084.806641\" xlink:href=\"#DejaVuSans-110\"/>\r\n      </g>\r\n     </g>\r\n    </g>\r\n    <g id=\"xtick_15\">\r\n     <g id=\"line2d_15\">\r\n      <g>\r\n       <use style=\"stroke:#000000;stroke-width:0.8;\" x=\"813.955\" xlink:href=\"#me8de767d72\" y=\"337.159219\"/>\r\n      </g>\r\n     </g>\r\n     <g id=\"text_15\">\r\n      <!-- review_scores_value -->\r\n      <g transform=\"translate(816.575312 446.617031)rotate(-90)scale(0.1 -0.1)\">\r\n       <use xlink:href=\"#DejaVuSans-114\"/>\r\n       <use x=\"38.863281\" xlink:href=\"#DejaVuSans-101\"/>\r\n       <use x=\"100.386719\" xlink:href=\"#DejaVuSans-118\"/>\r\n       <use x=\"159.566406\" xlink:href=\"#DejaVuSans-105\"/>\r\n       <use x=\"187.349609\" xlink:href=\"#DejaVuSans-101\"/>\r\n       <use x=\"248.873047\" xlink:href=\"#DejaVuSans-119\"/>\r\n       <use x=\"330.660156\" xlink:href=\"#DejaVuSans-95\"/>\r\n       <use x=\"380.660156\" xlink:href=\"#DejaVuSans-115\"/>\r\n       <use x=\"432.759766\" xlink:href=\"#DejaVuSans-99\"/>\r\n       <use x=\"487.740234\" xlink:href=\"#DejaVuSans-111\"/>\r\n       <use x=\"548.921875\" xlink:href=\"#DejaVuSans-114\"/>\r\n       <use x=\"587.785156\" xlink:href=\"#DejaVuSans-101\"/>\r\n       <use x=\"649.308594\" xlink:href=\"#DejaVuSans-115\"/>\r\n       <use x=\"701.408203\" xlink:href=\"#DejaVuSans-95\"/>\r\n       <use x=\"751.408203\" xlink:href=\"#DejaVuSans-118\"/>\r\n       <use x=\"810.587891\" xlink:href=\"#DejaVuSans-97\"/>\r\n       <use x=\"871.867188\" xlink:href=\"#DejaVuSans-108\"/>\r\n       <use x=\"899.650391\" xlink:href=\"#DejaVuSans-117\"/>\r\n       <use x=\"963.029297\" xlink:href=\"#DejaVuSans-101\"/>\r\n      </g>\r\n     </g>\r\n    </g>\r\n    <g id=\"xtick_16\">\r\n     <g id=\"line2d_16\">\r\n      <g>\r\n       <use style=\"stroke:#000000;stroke-width:0.8;\" x=\"858.595\" xlink:href=\"#me8de767d72\" y=\"337.159219\"/>\r\n      </g>\r\n     </g>\r\n     <g id=\"text_16\">\r\n      <!-- reviews_per_month -->\r\n      <g transform=\"translate(861.215312 441.502969)rotate(-90)scale(0.1 -0.1)\">\r\n       <use xlink:href=\"#DejaVuSans-114\"/>\r\n       <use x=\"38.863281\" xlink:href=\"#DejaVuSans-101\"/>\r\n       <use x=\"100.386719\" xlink:href=\"#DejaVuSans-118\"/>\r\n       <use x=\"159.566406\" xlink:href=\"#DejaVuSans-105\"/>\r\n       <use x=\"187.349609\" xlink:href=\"#DejaVuSans-101\"/>\r\n       <use x=\"248.873047\" xlink:href=\"#DejaVuSans-119\"/>\r\n       <use x=\"330.660156\" xlink:href=\"#DejaVuSans-115\"/>\r\n       <use x=\"382.759766\" xlink:href=\"#DejaVuSans-95\"/>\r\n       <use x=\"432.759766\" xlink:href=\"#DejaVuSans-112\"/>\r\n       <use x=\"496.236328\" xlink:href=\"#DejaVuSans-101\"/>\r\n       <use x=\"557.759766\" xlink:href=\"#DejaVuSans-114\"/>\r\n       <use x=\"598.873047\" xlink:href=\"#DejaVuSans-95\"/>\r\n       <use x=\"648.873047\" xlink:href=\"#DejaVuSans-109\"/>\r\n       <use x=\"746.285156\" xlink:href=\"#DejaVuSans-111\"/>\r\n       <use x=\"807.466797\" xlink:href=\"#DejaVuSans-110\"/>\r\n       <use x=\"870.845703\" xlink:href=\"#DejaVuSans-116\"/>\r\n       <use x=\"910.054688\" xlink:href=\"#DejaVuSans-104\"/>\r\n      </g>\r\n     </g>\r\n    </g>\r\n   </g>\r\n   <g id=\"matplotlib.axis_2\">\r\n    <g id=\"ytick_1\">\r\n     <g id=\"line2d_17\">\r\n      <defs>\r\n       <path d=\"M 0 0 \r\nL -3.5 0 \r\n\" id=\"m165684cc71\" style=\"stroke:#000000;stroke-width:0.8;\"/>\r\n      </defs>\r\n      <g>\r\n       <use style=\"stroke:#000000;stroke-width:0.8;\" x=\"166.675\" xlink:href=\"#m165684cc71\" y=\"21.191719\"/>\r\n      </g>\r\n     </g>\r\n     <g id=\"text_17\">\r\n      <!-- price_year_month_mean -->\r\n      <g transform=\"translate(36.660938 24.990938)scale(0.1 -0.1)\">\r\n       <use xlink:href=\"#DejaVuSans-112\"/>\r\n       <use x=\"63.476562\" xlink:href=\"#DejaVuSans-114\"/>\r\n       <use x=\"104.589844\" xlink:href=\"#DejaVuSans-105\"/>\r\n       <use x=\"132.373047\" xlink:href=\"#DejaVuSans-99\"/>\r\n       <use x=\"187.353516\" xlink:href=\"#DejaVuSans-101\"/>\r\n       <use x=\"248.876953\" xlink:href=\"#DejaVuSans-95\"/>\r\n       <use x=\"298.876953\" xlink:href=\"#DejaVuSans-121\"/>\r\n       <use x=\"358.056641\" xlink:href=\"#DejaVuSans-101\"/>\r\n       <use x=\"419.580078\" xlink:href=\"#DejaVuSans-97\"/>\r\n       <use x=\"480.859375\" xlink:href=\"#DejaVuSans-114\"/>\r\n       <use x=\"521.972656\" xlink:href=\"#DejaVuSans-95\"/>\r\n       <use x=\"571.972656\" xlink:href=\"#DejaVuSans-109\"/>\r\n       <use x=\"669.384766\" xlink:href=\"#DejaVuSans-111\"/>\r\n       <use x=\"730.566406\" xlink:href=\"#DejaVuSans-110\"/>\r\n       <use x=\"793.945312\" xlink:href=\"#DejaVuSans-116\"/>\r\n       <use x=\"833.154297\" xlink:href=\"#DejaVuSans-104\"/>\r\n       <use x=\"896.533203\" xlink:href=\"#DejaVuSans-95\"/>\r\n       <use x=\"946.533203\" xlink:href=\"#DejaVuSans-109\"/>\r\n       <use x=\"1043.945312\" xlink:href=\"#DejaVuSans-101\"/>\r\n       <use x=\"1105.46875\" xlink:href=\"#DejaVuSans-97\"/>\r\n       <use x=\"1166.748047\" xlink:href=\"#DejaVuSans-110\"/>\r\n      </g>\r\n     </g>\r\n    </g>\r\n    <g id=\"ytick_2\">\r\n     <g id=\"line2d_18\">\r\n      <g>\r\n       <use style=\"stroke:#000000;stroke-width:0.8;\" x=\"166.675\" xlink:href=\"#m165684cc71\" y=\"41.576719\"/>\r\n      </g>\r\n     </g>\r\n     <g id=\"text_18\">\r\n      <!-- host_listings_count -->\r\n      <g transform=\"translate(64.517188 45.375938)scale(0.1 -0.1)\">\r\n       <use xlink:href=\"#DejaVuSans-104\"/>\r\n       <use x=\"63.378906\" xlink:href=\"#DejaVuSans-111\"/>\r\n       <use x=\"124.560547\" xlink:href=\"#DejaVuSans-115\"/>\r\n       <use x=\"176.660156\" xlink:href=\"#DejaVuSans-116\"/>\r\n       <use x=\"215.869141\" xlink:href=\"#DejaVuSans-95\"/>\r\n       <use x=\"265.869141\" xlink:href=\"#DejaVuSans-108\"/>\r\n       <use x=\"293.652344\" xlink:href=\"#DejaVuSans-105\"/>\r\n       <use x=\"321.435547\" xlink:href=\"#DejaVuSans-115\"/>\r\n       <use x=\"373.535156\" xlink:href=\"#DejaVuSans-116\"/>\r\n       <use x=\"412.744141\" xlink:href=\"#DejaVuSans-105\"/>\r\n       <use x=\"440.527344\" xlink:href=\"#DejaVuSans-110\"/>\r\n       <use x=\"503.90625\" xlink:href=\"#DejaVuSans-103\"/>\r\n       <use x=\"567.382812\" xlink:href=\"#DejaVuSans-115\"/>\r\n       <use x=\"619.482422\" xlink:href=\"#DejaVuSans-95\"/>\r\n       <use x=\"669.482422\" xlink:href=\"#DejaVuSans-99\"/>\r\n       <use x=\"724.462891\" xlink:href=\"#DejaVuSans-111\"/>\r\n       <use x=\"785.644531\" xlink:href=\"#DejaVuSans-117\"/>\r\n       <use x=\"849.023438\" xlink:href=\"#DejaVuSans-110\"/>\r\n       <use x=\"912.402344\" xlink:href=\"#DejaVuSans-116\"/>\r\n      </g>\r\n     </g>\r\n    </g>\r\n    <g id=\"ytick_3\">\r\n     <g id=\"line2d_19\">\r\n      <g>\r\n       <use style=\"stroke:#000000;stroke-width:0.8;\" x=\"166.675\" xlink:href=\"#m165684cc71\" y=\"61.961719\"/>\r\n      </g>\r\n     </g>\r\n     <g id=\"text_19\">\r\n      <!-- host_total_listings_count -->\r\n      <g transform=\"translate(36.651563 65.760938)scale(0.1 -0.1)\">\r\n       <use xlink:href=\"#DejaVuSans-104\"/>\r\n       <use x=\"63.378906\" xlink:href=\"#DejaVuSans-111\"/>\r\n       <use x=\"124.560547\" xlink:href=\"#DejaVuSans-115\"/>\r\n       <use x=\"176.660156\" xlink:href=\"#DejaVuSans-116\"/>\r\n       <use x=\"215.869141\" xlink:href=\"#DejaVuSans-95\"/>\r\n       <use x=\"265.869141\" xlink:href=\"#DejaVuSans-116\"/>\r\n       <use x=\"305.078125\" xlink:href=\"#DejaVuSans-111\"/>\r\n       <use x=\"366.259766\" xlink:href=\"#DejaVuSans-116\"/>\r\n       <use x=\"405.46875\" xlink:href=\"#DejaVuSans-97\"/>\r\n       <use x=\"466.748047\" xlink:href=\"#DejaVuSans-108\"/>\r\n       <use x=\"494.53125\" xlink:href=\"#DejaVuSans-95\"/>\r\n       <use x=\"544.53125\" xlink:href=\"#DejaVuSans-108\"/>\r\n       <use x=\"572.314453\" xlink:href=\"#DejaVuSans-105\"/>\r\n       <use x=\"600.097656\" xlink:href=\"#DejaVuSans-115\"/>\r\n       <use x=\"652.197266\" xlink:href=\"#DejaVuSans-116\"/>\r\n       <use x=\"691.40625\" xlink:href=\"#DejaVuSans-105\"/>\r\n       <use x=\"719.189453\" xlink:href=\"#DejaVuSans-110\"/>\r\n       <use x=\"782.568359\" xlink:href=\"#DejaVuSans-103\"/>\r\n       <use x=\"846.044922\" xlink:href=\"#DejaVuSans-115\"/>\r\n       <use x=\"898.144531\" xlink:href=\"#DejaVuSans-95\"/>\r\n       <use x=\"948.144531\" xlink:href=\"#DejaVuSans-99\"/>\r\n       <use x=\"1003.125\" xlink:href=\"#DejaVuSans-111\"/>\r\n       <use x=\"1064.306641\" xlink:href=\"#DejaVuSans-117\"/>\r\n       <use x=\"1127.685547\" xlink:href=\"#DejaVuSans-110\"/>\r\n       <use x=\"1191.064453\" xlink:href=\"#DejaVuSans-116\"/>\r\n      </g>\r\n     </g>\r\n    </g>\r\n    <g id=\"ytick_4\">\r\n     <g id=\"line2d_20\">\r\n      <g>\r\n       <use style=\"stroke:#000000;stroke-width:0.8;\" x=\"166.675\" xlink:href=\"#m165684cc71\" y=\"82.346719\"/>\r\n      </g>\r\n     </g>\r\n     <g id=\"text_20\">\r\n      <!-- zipcode -->\r\n      <g transform=\"translate(121.18125 86.145938)scale(0.1 -0.1)\">\r\n       <use xlink:href=\"#DejaVuSans-122\"/>\r\n       <use x=\"52.490234\" xlink:href=\"#DejaVuSans-105\"/>\r\n       <use x=\"80.273438\" xlink:href=\"#DejaVuSans-112\"/>\r\n       <use x=\"143.75\" xlink:href=\"#DejaVuSans-99\"/>\r\n       <use x=\"198.730469\" xlink:href=\"#DejaVuSans-111\"/>\r\n       <use x=\"259.912109\" xlink:href=\"#DejaVuSans-100\"/>\r\n       <use x=\"323.388672\" xlink:href=\"#DejaVuSans-101\"/>\r\n      </g>\r\n     </g>\r\n    </g>\r\n    <g id=\"ytick_5\">\r\n     <g id=\"line2d_21\">\r\n      <g>\r\n       <use style=\"stroke:#000000;stroke-width:0.8;\" x=\"166.675\" xlink:href=\"#m165684cc71\" y=\"102.731719\"/>\r\n      </g>\r\n     </g>\r\n     <g id=\"text_21\">\r\n      <!-- bathrooms -->\r\n      <g transform=\"translate(105.867188 106.530938)scale(0.1 -0.1)\">\r\n       <use xlink:href=\"#DejaVuSans-98\"/>\r\n       <use x=\"63.476562\" xlink:href=\"#DejaVuSans-97\"/>\r\n       <use x=\"124.755859\" xlink:href=\"#DejaVuSans-116\"/>\r\n       <use x=\"163.964844\" xlink:href=\"#DejaVuSans-104\"/>\r\n       <use x=\"227.34375\" xlink:href=\"#DejaVuSans-114\"/>\r\n       <use x=\"266.207031\" xlink:href=\"#DejaVuSans-111\"/>\r\n       <use x=\"327.388672\" xlink:href=\"#DejaVuSans-111\"/>\r\n       <use x=\"388.570312\" xlink:href=\"#DejaVuSans-109\"/>\r\n       <use x=\"485.982422\" xlink:href=\"#DejaVuSans-115\"/>\r\n      </g>\r\n     </g>\r\n    </g>\r\n    <g id=\"ytick_6\">\r\n     <g id=\"line2d_22\">\r\n      <g>\r\n       <use style=\"stroke:#000000;stroke-width:0.8;\" x=\"166.675\" xlink:href=\"#m165684cc71\" y=\"123.116719\"/>\r\n      </g>\r\n     </g>\r\n     <g id=\"text_22\">\r\n      <!-- bedrooms -->\r\n      <g transform=\"translate(109.751563 126.915938)scale(0.1 -0.1)\">\r\n       <use xlink:href=\"#DejaVuSans-98\"/>\r\n       <use x=\"63.476562\" xlink:href=\"#DejaVuSans-101\"/>\r\n       <use x=\"125\" xlink:href=\"#DejaVuSans-100\"/>\r\n       <use x=\"188.476562\" xlink:href=\"#DejaVuSans-114\"/>\r\n       <use x=\"227.339844\" xlink:href=\"#DejaVuSans-111\"/>\r\n       <use x=\"288.521484\" xlink:href=\"#DejaVuSans-111\"/>\r\n       <use x=\"349.703125\" xlink:href=\"#DejaVuSans-109\"/>\r\n       <use x=\"447.115234\" xlink:href=\"#DejaVuSans-115\"/>\r\n      </g>\r\n     </g>\r\n    </g>\r\n    <g id=\"ytick_7\">\r\n     <g id=\"line2d_23\">\r\n      <g>\r\n       <use style=\"stroke:#000000;stroke-width:0.8;\" x=\"166.675\" xlink:href=\"#m165684cc71\" y=\"143.501719\"/>\r\n      </g>\r\n     </g>\r\n     <g id=\"text_23\">\r\n      <!-- beds -->\r\n      <g transform=\"translate(135.615625 147.300938)scale(0.1 -0.1)\">\r\n       <use xlink:href=\"#DejaVuSans-98\"/>\r\n       <use x=\"63.476562\" xlink:href=\"#DejaVuSans-101\"/>\r\n       <use x=\"125\" xlink:href=\"#DejaVuSans-100\"/>\r\n       <use x=\"188.476562\" xlink:href=\"#DejaVuSans-115\"/>\r\n      </g>\r\n     </g>\r\n    </g>\r\n    <g id=\"ytick_8\">\r\n     <g id=\"line2d_24\">\r\n      <g>\r\n       <use style=\"stroke:#000000;stroke-width:0.8;\" x=\"166.675\" xlink:href=\"#m165684cc71\" y=\"163.886719\"/>\r\n      </g>\r\n     </g>\r\n     <g id=\"text_24\">\r\n      <!-- square_feet -->\r\n      <g transform=\"translate(100.865625 167.685938)scale(0.1 -0.1)\">\r\n       <use xlink:href=\"#DejaVuSans-115\"/>\r\n       <use x=\"52.099609\" xlink:href=\"#DejaVuSans-113\"/>\r\n       <use x=\"115.576172\" xlink:href=\"#DejaVuSans-117\"/>\r\n       <use x=\"178.955078\" xlink:href=\"#DejaVuSans-97\"/>\r\n       <use x=\"240.234375\" xlink:href=\"#DejaVuSans-114\"/>\r\n       <use x=\"279.097656\" xlink:href=\"#DejaVuSans-101\"/>\r\n       <use x=\"340.621094\" xlink:href=\"#DejaVuSans-95\"/>\r\n       <use x=\"390.621094\" xlink:href=\"#DejaVuSans-102\"/>\r\n       <use x=\"425.826172\" xlink:href=\"#DejaVuSans-101\"/>\r\n       <use x=\"487.349609\" xlink:href=\"#DejaVuSans-101\"/>\r\n       <use x=\"548.873047\" xlink:href=\"#DejaVuSans-116\"/>\r\n      </g>\r\n     </g>\r\n    </g>\r\n    <g id=\"ytick_9\">\r\n     <g id=\"line2d_25\">\r\n      <g>\r\n       <use style=\"stroke:#000000;stroke-width:0.8;\" x=\"166.675\" xlink:href=\"#m165684cc71\" y=\"184.271719\"/>\r\n      </g>\r\n     </g>\r\n     <g id=\"text_25\">\r\n      <!-- review_scores_rating -->\r\n      <g transform=\"translate(54.909375 188.070938)scale(0.1 -0.1)\">\r\n       <use xlink:href=\"#DejaVuSans-114\"/>\r\n       <use x=\"38.863281\" xlink:href=\"#DejaVuSans-101\"/>\r\n       <use x=\"100.386719\" xlink:href=\"#DejaVuSans-118\"/>\r\n       <use x=\"159.566406\" xlink:href=\"#DejaVuSans-105\"/>\r\n       <use x=\"187.349609\" xlink:href=\"#DejaVuSans-101\"/>\r\n       <use x=\"248.873047\" xlink:href=\"#DejaVuSans-119\"/>\r\n       <use x=\"330.660156\" xlink:href=\"#DejaVuSans-95\"/>\r\n       <use x=\"380.660156\" xlink:href=\"#DejaVuSans-115\"/>\r\n       <use x=\"432.759766\" xlink:href=\"#DejaVuSans-99\"/>\r\n       <use x=\"487.740234\" xlink:href=\"#DejaVuSans-111\"/>\r\n       <use x=\"548.921875\" xlink:href=\"#DejaVuSans-114\"/>\r\n       <use x=\"587.785156\" xlink:href=\"#DejaVuSans-101\"/>\r\n       <use x=\"649.308594\" xlink:href=\"#DejaVuSans-115\"/>\r\n       <use x=\"701.408203\" xlink:href=\"#DejaVuSans-95\"/>\r\n       <use x=\"751.408203\" xlink:href=\"#DejaVuSans-114\"/>\r\n       <use x=\"792.521484\" xlink:href=\"#DejaVuSans-97\"/>\r\n       <use x=\"853.800781\" xlink:href=\"#DejaVuSans-116\"/>\r\n       <use x=\"893.009766\" xlink:href=\"#DejaVuSans-105\"/>\r\n       <use x=\"920.792969\" xlink:href=\"#DejaVuSans-110\"/>\r\n       <use x=\"984.171875\" xlink:href=\"#DejaVuSans-103\"/>\r\n      </g>\r\n     </g>\r\n    </g>\r\n    <g id=\"ytick_10\">\r\n     <g id=\"line2d_26\">\r\n      <g>\r\n       <use style=\"stroke:#000000;stroke-width:0.8;\" x=\"166.675\" xlink:href=\"#m165684cc71\" y=\"204.656719\"/>\r\n      </g>\r\n     </g>\r\n     <g id=\"text_26\">\r\n      <!-- review_scores_accuracy -->\r\n      <g transform=\"translate(39.414062 208.455938)scale(0.1 -0.1)\">\r\n       <use xlink:href=\"#DejaVuSans-114\"/>\r\n       <use x=\"38.863281\" xlink:href=\"#DejaVuSans-101\"/>\r\n       <use x=\"100.386719\" xlink:href=\"#DejaVuSans-118\"/>\r\n       <use x=\"159.566406\" xlink:href=\"#DejaVuSans-105\"/>\r\n       <use x=\"187.349609\" xlink:href=\"#DejaVuSans-101\"/>\r\n       <use x=\"248.873047\" xlink:href=\"#DejaVuSans-119\"/>\r\n       <use x=\"330.660156\" xlink:href=\"#DejaVuSans-95\"/>\r\n       <use x=\"380.660156\" xlink:href=\"#DejaVuSans-115\"/>\r\n       <use x=\"432.759766\" xlink:href=\"#DejaVuSans-99\"/>\r\n       <use x=\"487.740234\" xlink:href=\"#DejaVuSans-111\"/>\r\n       <use x=\"548.921875\" xlink:href=\"#DejaVuSans-114\"/>\r\n       <use x=\"587.785156\" xlink:href=\"#DejaVuSans-101\"/>\r\n       <use x=\"649.308594\" xlink:href=\"#DejaVuSans-115\"/>\r\n       <use x=\"701.408203\" xlink:href=\"#DejaVuSans-95\"/>\r\n       <use x=\"751.408203\" xlink:href=\"#DejaVuSans-97\"/>\r\n       <use x=\"812.6875\" xlink:href=\"#DejaVuSans-99\"/>\r\n       <use x=\"867.667969\" xlink:href=\"#DejaVuSans-99\"/>\r\n       <use x=\"922.648438\" xlink:href=\"#DejaVuSans-117\"/>\r\n       <use x=\"986.027344\" xlink:href=\"#DejaVuSans-114\"/>\r\n       <use x=\"1027.140625\" xlink:href=\"#DejaVuSans-97\"/>\r\n       <use x=\"1088.419922\" xlink:href=\"#DejaVuSans-99\"/>\r\n       <use x=\"1143.400391\" xlink:href=\"#DejaVuSans-121\"/>\r\n      </g>\r\n     </g>\r\n    </g>\r\n    <g id=\"ytick_11\">\r\n     <g id=\"line2d_27\">\r\n      <g>\r\n       <use style=\"stroke:#000000;stroke-width:0.8;\" x=\"166.675\" xlink:href=\"#m165684cc71\" y=\"225.041719\"/>\r\n      </g>\r\n     </g>\r\n     <g id=\"text_27\">\r\n      <!-- review_scores_cleanliness -->\r\n      <g transform=\"translate(29.171875 228.840938)scale(0.1 -0.1)\">\r\n       <use xlink:href=\"#DejaVuSans-114\"/>\r\n       <use x=\"38.863281\" xlink:href=\"#DejaVuSans-101\"/>\r\n       <use x=\"100.386719\" xlink:href=\"#DejaVuSans-118\"/>\r\n       <use x=\"159.566406\" xlink:href=\"#DejaVuSans-105\"/>\r\n       <use x=\"187.349609\" xlink:href=\"#DejaVuSans-101\"/>\r\n       <use x=\"248.873047\" xlink:href=\"#DejaVuSans-119\"/>\r\n       <use x=\"330.660156\" xlink:href=\"#DejaVuSans-95\"/>\r\n       <use x=\"380.660156\" xlink:href=\"#DejaVuSans-115\"/>\r\n       <use x=\"432.759766\" xlink:href=\"#DejaVuSans-99\"/>\r\n       <use x=\"487.740234\" xlink:href=\"#DejaVuSans-111\"/>\r\n       <use x=\"548.921875\" xlink:href=\"#DejaVuSans-114\"/>\r\n       <use x=\"587.785156\" xlink:href=\"#DejaVuSans-101\"/>\r\n       <use x=\"649.308594\" xlink:href=\"#DejaVuSans-115\"/>\r\n       <use x=\"701.408203\" xlink:href=\"#DejaVuSans-95\"/>\r\n       <use x=\"751.408203\" xlink:href=\"#DejaVuSans-99\"/>\r\n       <use x=\"806.388672\" xlink:href=\"#DejaVuSans-108\"/>\r\n       <use x=\"834.171875\" xlink:href=\"#DejaVuSans-101\"/>\r\n       <use x=\"895.695312\" xlink:href=\"#DejaVuSans-97\"/>\r\n       <use x=\"956.974609\" xlink:href=\"#DejaVuSans-110\"/>\r\n       <use x=\"1020.353516\" xlink:href=\"#DejaVuSans-108\"/>\r\n       <use x=\"1048.136719\" xlink:href=\"#DejaVuSans-105\"/>\r\n       <use x=\"1075.919922\" xlink:href=\"#DejaVuSans-110\"/>\r\n       <use x=\"1139.298828\" xlink:href=\"#DejaVuSans-101\"/>\r\n       <use x=\"1200.822266\" xlink:href=\"#DejaVuSans-115\"/>\r\n       <use x=\"1252.921875\" xlink:href=\"#DejaVuSans-115\"/>\r\n      </g>\r\n     </g>\r\n    </g>\r\n    <g id=\"ytick_12\">\r\n     <g id=\"line2d_28\">\r\n      <g>\r\n       <use style=\"stroke:#000000;stroke-width:0.8;\" x=\"166.675\" xlink:href=\"#m165684cc71\" y=\"245.426719\"/>\r\n      </g>\r\n     </g>\r\n     <g id=\"text_28\">\r\n      <!-- review_scores_checkin -->\r\n      <g transform=\"translate(46.139063 249.225938)scale(0.1 -0.1)\">\r\n       <use xlink:href=\"#DejaVuSans-114\"/>\r\n       <use x=\"38.863281\" xlink:href=\"#DejaVuSans-101\"/>\r\n       <use x=\"100.386719\" xlink:href=\"#DejaVuSans-118\"/>\r\n       <use x=\"159.566406\" xlink:href=\"#DejaVuSans-105\"/>\r\n       <use x=\"187.349609\" xlink:href=\"#DejaVuSans-101\"/>\r\n       <use x=\"248.873047\" xlink:href=\"#DejaVuSans-119\"/>\r\n       <use x=\"330.660156\" xlink:href=\"#DejaVuSans-95\"/>\r\n       <use x=\"380.660156\" xlink:href=\"#DejaVuSans-115\"/>\r\n       <use x=\"432.759766\" xlink:href=\"#DejaVuSans-99\"/>\r\n       <use x=\"487.740234\" xlink:href=\"#DejaVuSans-111\"/>\r\n       <use x=\"548.921875\" xlink:href=\"#DejaVuSans-114\"/>\r\n       <use x=\"587.785156\" xlink:href=\"#DejaVuSans-101\"/>\r\n       <use x=\"649.308594\" xlink:href=\"#DejaVuSans-115\"/>\r\n       <use x=\"701.408203\" xlink:href=\"#DejaVuSans-95\"/>\r\n       <use x=\"751.408203\" xlink:href=\"#DejaVuSans-99\"/>\r\n       <use x=\"806.388672\" xlink:href=\"#DejaVuSans-104\"/>\r\n       <use x=\"869.767578\" xlink:href=\"#DejaVuSans-101\"/>\r\n       <use x=\"931.291016\" xlink:href=\"#DejaVuSans-99\"/>\r\n       <use x=\"986.271484\" xlink:href=\"#DejaVuSans-107\"/>\r\n       <use x=\"1044.181641\" xlink:href=\"#DejaVuSans-105\"/>\r\n       <use x=\"1071.964844\" xlink:href=\"#DejaVuSans-110\"/>\r\n      </g>\r\n     </g>\r\n    </g>\r\n    <g id=\"ytick_13\">\r\n     <g id=\"line2d_29\">\r\n      <g>\r\n       <use style=\"stroke:#000000;stroke-width:0.8;\" x=\"166.675\" xlink:href=\"#m165684cc71\" y=\"265.811719\"/>\r\n      </g>\r\n     </g>\r\n     <g id=\"text_29\">\r\n      <!-- review_scores_communication -->\r\n      <g transform=\"translate(7.2 269.610938)scale(0.1 -0.1)\">\r\n       <use xlink:href=\"#DejaVuSans-114\"/>\r\n       <use x=\"38.863281\" xlink:href=\"#DejaVuSans-101\"/>\r\n       <use x=\"100.386719\" xlink:href=\"#DejaVuSans-118\"/>\r\n       <use x=\"159.566406\" xlink:href=\"#DejaVuSans-105\"/>\r\n       <use x=\"187.349609\" xlink:href=\"#DejaVuSans-101\"/>\r\n       <use x=\"248.873047\" xlink:href=\"#DejaVuSans-119\"/>\r\n       <use x=\"330.660156\" xlink:href=\"#DejaVuSans-95\"/>\r\n       <use x=\"380.660156\" xlink:href=\"#DejaVuSans-115\"/>\r\n       <use x=\"432.759766\" xlink:href=\"#DejaVuSans-99\"/>\r\n       <use x=\"487.740234\" xlink:href=\"#DejaVuSans-111\"/>\r\n       <use x=\"548.921875\" xlink:href=\"#DejaVuSans-114\"/>\r\n       <use x=\"587.785156\" xlink:href=\"#DejaVuSans-101\"/>\r\n       <use x=\"649.308594\" xlink:href=\"#DejaVuSans-115\"/>\r\n       <use x=\"701.408203\" xlink:href=\"#DejaVuSans-95\"/>\r\n       <use x=\"751.408203\" xlink:href=\"#DejaVuSans-99\"/>\r\n       <use x=\"806.388672\" xlink:href=\"#DejaVuSans-111\"/>\r\n       <use x=\"867.570312\" xlink:href=\"#DejaVuSans-109\"/>\r\n       <use x=\"964.982422\" xlink:href=\"#DejaVuSans-109\"/>\r\n       <use x=\"1062.394531\" xlink:href=\"#DejaVuSans-117\"/>\r\n       <use x=\"1125.773438\" xlink:href=\"#DejaVuSans-110\"/>\r\n       <use x=\"1189.152344\" xlink:href=\"#DejaVuSans-105\"/>\r\n       <use x=\"1216.935547\" xlink:href=\"#DejaVuSans-99\"/>\r\n       <use x=\"1271.916016\" xlink:href=\"#DejaVuSans-97\"/>\r\n       <use x=\"1333.195312\" xlink:href=\"#DejaVuSans-116\"/>\r\n       <use x=\"1372.404297\" xlink:href=\"#DejaVuSans-105\"/>\r\n       <use x=\"1400.1875\" xlink:href=\"#DejaVuSans-111\"/>\r\n       <use x=\"1461.369141\" xlink:href=\"#DejaVuSans-110\"/>\r\n      </g>\r\n     </g>\r\n    </g>\r\n    <g id=\"ytick_14\">\r\n     <g id=\"line2d_30\">\r\n      <g>\r\n       <use style=\"stroke:#000000;stroke-width:0.8;\" x=\"166.675\" xlink:href=\"#m165684cc71\" y=\"286.196719\"/>\r\n      </g>\r\n     </g>\r\n     <g id=\"text_30\">\r\n      <!-- review_scores_location -->\r\n      <g transform=\"translate(44.854688 289.995938)scale(0.1 -0.1)\">\r\n       <use xlink:href=\"#DejaVuSans-114\"/>\r\n       <use x=\"38.863281\" xlink:href=\"#DejaVuSans-101\"/>\r\n       <use x=\"100.386719\" xlink:href=\"#DejaVuSans-118\"/>\r\n       <use x=\"159.566406\" xlink:href=\"#DejaVuSans-105\"/>\r\n       <use x=\"187.349609\" xlink:href=\"#DejaVuSans-101\"/>\r\n       <use x=\"248.873047\" xlink:href=\"#DejaVuSans-119\"/>\r\n       <use x=\"330.660156\" xlink:href=\"#DejaVuSans-95\"/>\r\n       <use x=\"380.660156\" xlink:href=\"#DejaVuSans-115\"/>\r\n       <use x=\"432.759766\" xlink:href=\"#DejaVuSans-99\"/>\r\n       <use x=\"487.740234\" xlink:href=\"#DejaVuSans-111\"/>\r\n       <use x=\"548.921875\" xlink:href=\"#DejaVuSans-114\"/>\r\n       <use x=\"587.785156\" xlink:href=\"#DejaVuSans-101\"/>\r\n       <use x=\"649.308594\" xlink:href=\"#DejaVuSans-115\"/>\r\n       <use x=\"701.408203\" xlink:href=\"#DejaVuSans-95\"/>\r\n       <use x=\"751.408203\" xlink:href=\"#DejaVuSans-108\"/>\r\n       <use x=\"779.191406\" xlink:href=\"#DejaVuSans-111\"/>\r\n       <use x=\"840.373047\" xlink:href=\"#DejaVuSans-99\"/>\r\n       <use x=\"895.353516\" xlink:href=\"#DejaVuSans-97\"/>\r\n       <use x=\"956.632812\" xlink:href=\"#DejaVuSans-116\"/>\r\n       <use x=\"995.841797\" xlink:href=\"#DejaVuSans-105\"/>\r\n       <use x=\"1023.625\" xlink:href=\"#DejaVuSans-111\"/>\r\n       <use x=\"1084.806641\" xlink:href=\"#DejaVuSans-110\"/>\r\n      </g>\r\n     </g>\r\n    </g>\r\n    <g id=\"ytick_15\">\r\n     <g id=\"line2d_31\">\r\n      <g>\r\n       <use style=\"stroke:#000000;stroke-width:0.8;\" x=\"166.675\" xlink:href=\"#m165684cc71\" y=\"306.581719\"/>\r\n      </g>\r\n     </g>\r\n     <g id=\"text_31\">\r\n      <!-- review_scores_value -->\r\n      <g transform=\"translate(57.217188 310.380938)scale(0.1 -0.1)\">\r\n       <use xlink:href=\"#DejaVuSans-114\"/>\r\n       <use x=\"38.863281\" xlink:href=\"#DejaVuSans-101\"/>\r\n       <use x=\"100.386719\" xlink:href=\"#DejaVuSans-118\"/>\r\n       <use x=\"159.566406\" xlink:href=\"#DejaVuSans-105\"/>\r\n       <use x=\"187.349609\" xlink:href=\"#DejaVuSans-101\"/>\r\n       <use x=\"248.873047\" xlink:href=\"#DejaVuSans-119\"/>\r\n       <use x=\"330.660156\" xlink:href=\"#DejaVuSans-95\"/>\r\n       <use x=\"380.660156\" xlink:href=\"#DejaVuSans-115\"/>\r\n       <use x=\"432.759766\" xlink:href=\"#DejaVuSans-99\"/>\r\n       <use x=\"487.740234\" xlink:href=\"#DejaVuSans-111\"/>\r\n       <use x=\"548.921875\" xlink:href=\"#DejaVuSans-114\"/>\r\n       <use x=\"587.785156\" xlink:href=\"#DejaVuSans-101\"/>\r\n       <use x=\"649.308594\" xlink:href=\"#DejaVuSans-115\"/>\r\n       <use x=\"701.408203\" xlink:href=\"#DejaVuSans-95\"/>\r\n       <use x=\"751.408203\" xlink:href=\"#DejaVuSans-118\"/>\r\n       <use x=\"810.587891\" xlink:href=\"#DejaVuSans-97\"/>\r\n       <use x=\"871.867188\" xlink:href=\"#DejaVuSans-108\"/>\r\n       <use x=\"899.650391\" xlink:href=\"#DejaVuSans-117\"/>\r\n       <use x=\"963.029297\" xlink:href=\"#DejaVuSans-101\"/>\r\n      </g>\r\n     </g>\r\n    </g>\r\n    <g id=\"ytick_16\">\r\n     <g id=\"line2d_32\">\r\n      <g>\r\n       <use style=\"stroke:#000000;stroke-width:0.8;\" x=\"166.675\" xlink:href=\"#m165684cc71\" y=\"326.966719\"/>\r\n      </g>\r\n     </g>\r\n     <g id=\"text_32\">\r\n      <!-- reviews_per_month -->\r\n      <g transform=\"translate(62.33125 330.765938)scale(0.1 -0.1)\">\r\n       <use xlink:href=\"#DejaVuSans-114\"/>\r\n       <use x=\"38.863281\" xlink:href=\"#DejaVuSans-101\"/>\r\n       <use x=\"100.386719\" xlink:href=\"#DejaVuSans-118\"/>\r\n       <use x=\"159.566406\" xlink:href=\"#DejaVuSans-105\"/>\r\n       <use x=\"187.349609\" xlink:href=\"#DejaVuSans-101\"/>\r\n       <use x=\"248.873047\" xlink:href=\"#DejaVuSans-119\"/>\r\n       <use x=\"330.660156\" xlink:href=\"#DejaVuSans-115\"/>\r\n       <use x=\"382.759766\" xlink:href=\"#DejaVuSans-95\"/>\r\n       <use x=\"432.759766\" xlink:href=\"#DejaVuSans-112\"/>\r\n       <use x=\"496.236328\" xlink:href=\"#DejaVuSans-101\"/>\r\n       <use x=\"557.759766\" xlink:href=\"#DejaVuSans-114\"/>\r\n       <use x=\"598.873047\" xlink:href=\"#DejaVuSans-95\"/>\r\n       <use x=\"648.873047\" xlink:href=\"#DejaVuSans-109\"/>\r\n       <use x=\"746.285156\" xlink:href=\"#DejaVuSans-111\"/>\r\n       <use x=\"807.466797\" xlink:href=\"#DejaVuSans-110\"/>\r\n       <use x=\"870.845703\" xlink:href=\"#DejaVuSans-116\"/>\r\n       <use x=\"910.054688\" xlink:href=\"#DejaVuSans-104\"/>\r\n      </g>\r\n     </g>\r\n    </g>\r\n   </g>\r\n   <g id=\"text_33\">\r\n    <!-- 1 -->\r\n    <defs>\r\n     <path d=\"M 12.40625 8.296875 \r\nL 28.515625 8.296875 \r\nL 28.515625 63.921875 \r\nL 10.984375 60.40625 \r\nL 10.984375 69.390625 \r\nL 28.421875 72.90625 \r\nL 38.28125 72.90625 \r\nL 38.28125 8.296875 \r\nL 54.390625 8.296875 \r\nL 54.390625 0 \r\nL 12.40625 0 \r\nz\r\n\" id=\"DejaVuSans-49\"/>\r\n    </defs>\r\n    <g style=\"fill:#262626;\" transform=\"translate(185.81375 23.951094)scale(0.1 -0.1)\">\r\n     <use xlink:href=\"#DejaVuSans-49\"/>\r\n    </g>\r\n   </g>\r\n   <g id=\"text_34\">\r\n    <!-- 0.54 -->\r\n    <defs>\r\n     <path d=\"M 31.78125 66.40625 \r\nQ 24.171875 66.40625 20.328125 58.90625 \r\nQ 16.5 51.421875 16.5 36.375 \r\nQ 16.5 21.390625 20.328125 13.890625 \r\nQ 24.171875 6.390625 31.78125 6.390625 \r\nQ 39.453125 6.390625 43.28125 13.890625 \r\nQ 47.125 21.390625 47.125 36.375 \r\nQ 47.125 51.421875 43.28125 58.90625 \r\nQ 39.453125 66.40625 31.78125 66.40625 \r\nz\r\nM 31.78125 74.21875 \r\nQ 44.046875 74.21875 50.515625 64.515625 \r\nQ 56.984375 54.828125 56.984375 36.375 \r\nQ 56.984375 17.96875 50.515625 8.265625 \r\nQ 44.046875 -1.421875 31.78125 -1.421875 \r\nQ 19.53125 -1.421875 13.0625 8.265625 \r\nQ 6.59375 17.96875 6.59375 36.375 \r\nQ 6.59375 54.828125 13.0625 64.515625 \r\nQ 19.53125 74.21875 31.78125 74.21875 \r\nz\r\n\" id=\"DejaVuSans-48\"/>\r\n     <path d=\"M 10.6875 12.40625 \r\nL 21 12.40625 \r\nL 21 0 \r\nL 10.6875 0 \r\nz\r\n\" id=\"DejaVuSans-46\"/>\r\n     <path d=\"M 10.796875 72.90625 \r\nL 49.515625 72.90625 \r\nL 49.515625 64.59375 \r\nL 19.828125 64.59375 \r\nL 19.828125 46.734375 \r\nQ 21.96875 47.46875 24.109375 47.828125 \r\nQ 26.265625 48.1875 28.421875 48.1875 \r\nQ 40.625 48.1875 47.75 41.5 \r\nQ 54.890625 34.8125 54.890625 23.390625 \r\nQ 54.890625 11.625 47.5625 5.09375 \r\nQ 40.234375 -1.421875 26.90625 -1.421875 \r\nQ 22.3125 -1.421875 17.546875 -0.640625 \r\nQ 12.796875 0.140625 7.71875 1.703125 \r\nL 7.71875 11.625 \r\nQ 12.109375 9.234375 16.796875 8.0625 \r\nQ 21.484375 6.890625 26.703125 6.890625 \r\nQ 35.15625 6.890625 40.078125 11.328125 \r\nQ 45.015625 15.765625 45.015625 23.390625 \r\nQ 45.015625 31 40.078125 35.4375 \r\nQ 35.15625 39.890625 26.703125 39.890625 \r\nQ 22.75 39.890625 18.8125 39.015625 \r\nQ 14.890625 38.140625 10.796875 36.28125 \r\nz\r\n\" id=\"DejaVuSans-53\"/>\r\n     <path d=\"M 37.796875 64.3125 \r\nL 12.890625 25.390625 \r\nL 37.796875 25.390625 \r\nz\r\nM 35.203125 72.90625 \r\nL 47.609375 72.90625 \r\nL 47.609375 25.390625 \r\nL 58.015625 25.390625 \r\nL 58.015625 17.1875 \r\nL 47.609375 17.1875 \r\nL 47.609375 0 \r\nL 37.796875 0 \r\nL 37.796875 17.1875 \r\nL 4.890625 17.1875 \r\nL 4.890625 26.703125 \r\nz\r\n\" id=\"DejaVuSans-52\"/>\r\n    </defs>\r\n    <g style=\"fill:#ffffff;\" transform=\"translate(356.422188 23.951094)scale(0.1 -0.1)\">\r\n     <use xlink:href=\"#DejaVuSans-48\"/>\r\n     <use x=\"63.623047\" xlink:href=\"#DejaVuSans-46\"/>\r\n     <use x=\"95.410156\" xlink:href=\"#DejaVuSans-53\"/>\r\n     <use x=\"159.033203\" xlink:href=\"#DejaVuSans-52\"/>\r\n    </g>\r\n   </g>\r\n   <g id=\"text_35\">\r\n    <!-- 0.64 -->\r\n    <defs>\r\n     <path d=\"M 33.015625 40.375 \r\nQ 26.375 40.375 22.484375 35.828125 \r\nQ 18.609375 31.296875 18.609375 23.390625 \r\nQ 18.609375 15.53125 22.484375 10.953125 \r\nQ 26.375 6.390625 33.015625 6.390625 \r\nQ 39.65625 6.390625 43.53125 10.953125 \r\nQ 47.40625 15.53125 47.40625 23.390625 \r\nQ 47.40625 31.296875 43.53125 35.828125 \r\nQ 39.65625 40.375 33.015625 40.375 \r\nz\r\nM 52.59375 71.296875 \r\nL 52.59375 62.3125 \r\nQ 48.875 64.0625 45.09375 64.984375 \r\nQ 41.3125 65.921875 37.59375 65.921875 \r\nQ 27.828125 65.921875 22.671875 59.328125 \r\nQ 17.53125 52.734375 16.796875 39.40625 \r\nQ 19.671875 43.65625 24.015625 45.921875 \r\nQ 28.375 48.1875 33.59375 48.1875 \r\nQ 44.578125 48.1875 50.953125 41.515625 \r\nQ 57.328125 34.859375 57.328125 23.390625 \r\nQ 57.328125 12.15625 50.6875 5.359375 \r\nQ 44.046875 -1.421875 33.015625 -1.421875 \r\nQ 20.359375 -1.421875 13.671875 8.265625 \r\nQ 6.984375 17.96875 6.984375 36.375 \r\nQ 6.984375 53.65625 15.1875 63.9375 \r\nQ 23.390625 74.21875 37.203125 74.21875 \r\nQ 40.921875 74.21875 44.703125 73.484375 \r\nQ 48.484375 72.75 52.59375 71.296875 \r\nz\r\n\" id=\"DejaVuSans-54\"/>\r\n    </defs>\r\n    <g style=\"fill:#ffffff;\" transform=\"translate(401.062188 23.951094)scale(0.1 -0.1)\">\r\n     <use xlink:href=\"#DejaVuSans-48\"/>\r\n     <use x=\"63.623047\" xlink:href=\"#DejaVuSans-46\"/>\r\n     <use x=\"95.410156\" xlink:href=\"#DejaVuSans-54\"/>\r\n     <use x=\"159.033203\" xlink:href=\"#DejaVuSans-52\"/>\r\n    </g>\r\n   </g>\r\n   <g id=\"text_36\">\r\n    <!-- 0.63 -->\r\n    <defs>\r\n     <path d=\"M 40.578125 39.3125 \r\nQ 47.65625 37.796875 51.625 33 \r\nQ 55.609375 28.21875 55.609375 21.1875 \r\nQ 55.609375 10.40625 48.1875 4.484375 \r\nQ 40.765625 -1.421875 27.09375 -1.421875 \r\nQ 22.515625 -1.421875 17.65625 -0.515625 \r\nQ 12.796875 0.390625 7.625 2.203125 \r\nL 7.625 11.71875 \r\nQ 11.71875 9.328125 16.59375 8.109375 \r\nQ 21.484375 6.890625 26.8125 6.890625 \r\nQ 36.078125 6.890625 40.9375 10.546875 \r\nQ 45.796875 14.203125 45.796875 21.1875 \r\nQ 45.796875 27.640625 41.28125 31.265625 \r\nQ 36.765625 34.90625 28.71875 34.90625 \r\nL 20.21875 34.90625 \r\nL 20.21875 43.015625 \r\nL 29.109375 43.015625 \r\nQ 36.375 43.015625 40.234375 45.921875 \r\nQ 44.09375 48.828125 44.09375 54.296875 \r\nQ 44.09375 59.90625 40.109375 62.90625 \r\nQ 36.140625 65.921875 28.71875 65.921875 \r\nQ 24.65625 65.921875 20.015625 65.03125 \r\nQ 15.375 64.15625 9.8125 62.3125 \r\nL 9.8125 71.09375 \r\nQ 15.4375 72.65625 20.34375 73.4375 \r\nQ 25.25 74.21875 29.59375 74.21875 \r\nQ 40.828125 74.21875 47.359375 69.109375 \r\nQ 53.90625 64.015625 53.90625 55.328125 \r\nQ 53.90625 49.265625 50.4375 45.09375 \r\nQ 46.96875 40.921875 40.578125 39.3125 \r\nz\r\n\" id=\"DejaVuSans-51\"/>\r\n    </defs>\r\n    <g style=\"fill:#ffffff;\" transform=\"translate(445.702188 23.951094)scale(0.1 -0.1)\">\r\n     <use xlink:href=\"#DejaVuSans-48\"/>\r\n     <use x=\"63.623047\" xlink:href=\"#DejaVuSans-46\"/>\r\n     <use x=\"95.410156\" xlink:href=\"#DejaVuSans-54\"/>\r\n     <use x=\"159.033203\" xlink:href=\"#DejaVuSans-51\"/>\r\n    </g>\r\n   </g>\r\n   <g id=\"text_37\">\r\n    <!-- 0.51 -->\r\n    <g style=\"fill:#ffffff;\" transform=\"translate(490.342188 23.951094)scale(0.1 -0.1)\">\r\n     <use xlink:href=\"#DejaVuSans-48\"/>\r\n     <use x=\"63.623047\" xlink:href=\"#DejaVuSans-46\"/>\r\n     <use x=\"95.410156\" xlink:href=\"#DejaVuSans-53\"/>\r\n     <use x=\"159.033203\" xlink:href=\"#DejaVuSans-49\"/>\r\n    </g>\r\n   </g>\r\n   <g id=\"text_38\">\r\n    <!-- 1 -->\r\n    <g style=\"fill:#262626;\" transform=\"translate(230.45375 44.336094)scale(0.1 -0.1)\">\r\n     <use xlink:href=\"#DejaVuSans-49\"/>\r\n    </g>\r\n   </g>\r\n   <g id=\"text_39\">\r\n    <!-- 1 -->\r\n    <g style=\"fill:#262626;\" transform=\"translate(275.09375 44.336094)scale(0.1 -0.1)\">\r\n     <use xlink:href=\"#DejaVuSans-49\"/>\r\n    </g>\r\n   </g>\r\n   <g id=\"text_40\">\r\n    <!-- 1 -->\r\n    <g style=\"fill:#262626;\" transform=\"translate(230.45375 64.721094)scale(0.1 -0.1)\">\r\n     <use xlink:href=\"#DejaVuSans-49\"/>\r\n    </g>\r\n   </g>\r\n   <g id=\"text_41\">\r\n    <!-- 1 -->\r\n    <g style=\"fill:#262626;\" transform=\"translate(275.09375 64.721094)scale(0.1 -0.1)\">\r\n     <use xlink:href=\"#DejaVuSans-49\"/>\r\n    </g>\r\n   </g>\r\n   <g id=\"text_42\">\r\n    <!-- 1 -->\r\n    <g style=\"fill:#262626;\" transform=\"translate(319.73375 85.106094)scale(0.1 -0.1)\">\r\n     <use xlink:href=\"#DejaVuSans-49\"/>\r\n    </g>\r\n   </g>\r\n   <g id=\"text_43\">\r\n    <!-- 0.54 -->\r\n    <g style=\"fill:#ffffff;\" transform=\"translate(177.862188 105.491094)scale(0.1 -0.1)\">\r\n     <use xlink:href=\"#DejaVuSans-48\"/>\r\n     <use x=\"63.623047\" xlink:href=\"#DejaVuSans-46\"/>\r\n     <use x=\"95.410156\" xlink:href=\"#DejaVuSans-53\"/>\r\n     <use x=\"159.033203\" xlink:href=\"#DejaVuSans-52\"/>\r\n    </g>\r\n   </g>\r\n   <g id=\"text_44\">\r\n    <!-- 1 -->\r\n    <g style=\"fill:#262626;\" transform=\"translate(364.37375 105.491094)scale(0.1 -0.1)\">\r\n     <use xlink:href=\"#DejaVuSans-49\"/>\r\n    </g>\r\n   </g>\r\n   <g id=\"text_45\">\r\n    <!-- 0.61 -->\r\n    <g style=\"fill:#ffffff;\" transform=\"translate(401.062188 105.491094)scale(0.1 -0.1)\">\r\n     <use xlink:href=\"#DejaVuSans-48\"/>\r\n     <use x=\"63.623047\" xlink:href=\"#DejaVuSans-46\"/>\r\n     <use x=\"95.410156\" xlink:href=\"#DejaVuSans-54\"/>\r\n     <use x=\"159.033203\" xlink:href=\"#DejaVuSans-49\"/>\r\n    </g>\r\n   </g>\r\n   <g id=\"text_46\">\r\n    <!-- 0.52 -->\r\n    <defs>\r\n     <path d=\"M 19.1875 8.296875 \r\nL 53.609375 8.296875 \r\nL 53.609375 0 \r\nL 7.328125 0 \r\nL 7.328125 8.296875 \r\nQ 12.9375 14.109375 22.625 23.890625 \r\nQ 32.328125 33.6875 34.8125 36.53125 \r\nQ 39.546875 41.84375 41.421875 45.53125 \r\nQ 43.3125 49.21875 43.3125 52.78125 \r\nQ 43.3125 58.59375 39.234375 62.25 \r\nQ 35.15625 65.921875 28.609375 65.921875 \r\nQ 23.96875 65.921875 18.8125 64.3125 \r\nQ 13.671875 62.703125 7.8125 59.421875 \r\nL 7.8125 69.390625 \r\nQ 13.765625 71.78125 18.9375 73 \r\nQ 24.125 74.21875 28.421875 74.21875 \r\nQ 39.75 74.21875 46.484375 68.546875 \r\nQ 53.21875 62.890625 53.21875 53.421875 \r\nQ 53.21875 48.921875 51.53125 44.890625 \r\nQ 49.859375 40.875 45.40625 35.40625 \r\nQ 44.1875 33.984375 37.640625 27.21875 \r\nQ 31.109375 20.453125 19.1875 8.296875 \r\nz\r\n\" id=\"DejaVuSans-50\"/>\r\n    </defs>\r\n    <g style=\"fill:#ffffff;\" transform=\"translate(445.702188 105.491094)scale(0.1 -0.1)\">\r\n     <use xlink:href=\"#DejaVuSans-48\"/>\r\n     <use x=\"63.623047\" xlink:href=\"#DejaVuSans-46\"/>\r\n     <use x=\"95.410156\" xlink:href=\"#DejaVuSans-53\"/>\r\n     <use x=\"159.033203\" xlink:href=\"#DejaVuSans-50\"/>\r\n    </g>\r\n   </g>\r\n   <g id=\"text_47\">\r\n    <!-- 0.64 -->\r\n    <g style=\"fill:#ffffff;\" transform=\"translate(177.862188 125.876094)scale(0.1 -0.1)\">\r\n     <use xlink:href=\"#DejaVuSans-48\"/>\r\n     <use x=\"63.623047\" xlink:href=\"#DejaVuSans-46\"/>\r\n     <use x=\"95.410156\" xlink:href=\"#DejaVuSans-54\"/>\r\n     <use x=\"159.033203\" xlink:href=\"#DejaVuSans-52\"/>\r\n    </g>\r\n   </g>\r\n   <g id=\"text_48\">\r\n    <!-- 0.61 -->\r\n    <g style=\"fill:#ffffff;\" transform=\"translate(356.422188 125.876094)scale(0.1 -0.1)\">\r\n     <use xlink:href=\"#DejaVuSans-48\"/>\r\n     <use x=\"63.623047\" xlink:href=\"#DejaVuSans-46\"/>\r\n     <use x=\"95.410156\" xlink:href=\"#DejaVuSans-54\"/>\r\n     <use x=\"159.033203\" xlink:href=\"#DejaVuSans-49\"/>\r\n    </g>\r\n   </g>\r\n   <g id=\"text_49\">\r\n    <!-- 1 -->\r\n    <g style=\"fill:#262626;\" transform=\"translate(409.01375 125.876094)scale(0.1 -0.1)\">\r\n     <use xlink:href=\"#DejaVuSans-49\"/>\r\n    </g>\r\n   </g>\r\n   <g id=\"text_50\">\r\n    <!-- 0.75 -->\r\n    <defs>\r\n     <path d=\"M 8.203125 72.90625 \r\nL 55.078125 72.90625 \r\nL 55.078125 68.703125 \r\nL 28.609375 0 \r\nL 18.3125 0 \r\nL 43.21875 64.59375 \r\nL 8.203125 64.59375 \r\nz\r\n\" id=\"DejaVuSans-55\"/>\r\n    </defs>\r\n    <g style=\"fill:#ffffff;\" transform=\"translate(445.702188 125.876094)scale(0.1 -0.1)\">\r\n     <use xlink:href=\"#DejaVuSans-48\"/>\r\n     <use x=\"63.623047\" xlink:href=\"#DejaVuSans-46\"/>\r\n     <use x=\"95.410156\" xlink:href=\"#DejaVuSans-55\"/>\r\n     <use x=\"159.033203\" xlink:href=\"#DejaVuSans-53\"/>\r\n    </g>\r\n   </g>\r\n   <g id=\"text_51\">\r\n    <!-- 0.51 -->\r\n    <g style=\"fill:#ffffff;\" transform=\"translate(490.342188 125.876094)scale(0.1 -0.1)\">\r\n     <use xlink:href=\"#DejaVuSans-48\"/>\r\n     <use x=\"63.623047\" xlink:href=\"#DejaVuSans-46\"/>\r\n     <use x=\"95.410156\" xlink:href=\"#DejaVuSans-53\"/>\r\n     <use x=\"159.033203\" xlink:href=\"#DejaVuSans-49\"/>\r\n    </g>\r\n   </g>\r\n   <g id=\"text_52\">\r\n    <!-- 0.63 -->\r\n    <g style=\"fill:#ffffff;\" transform=\"translate(177.862188 146.261094)scale(0.1 -0.1)\">\r\n     <use xlink:href=\"#DejaVuSans-48\"/>\r\n     <use x=\"63.623047\" xlink:href=\"#DejaVuSans-46\"/>\r\n     <use x=\"95.410156\" xlink:href=\"#DejaVuSans-54\"/>\r\n     <use x=\"159.033203\" xlink:href=\"#DejaVuSans-51\"/>\r\n    </g>\r\n   </g>\r\n   <g id=\"text_53\">\r\n    <!-- 0.52 -->\r\n    <g style=\"fill:#ffffff;\" transform=\"translate(356.422188 146.261094)scale(0.1 -0.1)\">\r\n     <use xlink:href=\"#DejaVuSans-48\"/>\r\n     <use x=\"63.623047\" xlink:href=\"#DejaVuSans-46\"/>\r\n     <use x=\"95.410156\" xlink:href=\"#DejaVuSans-53\"/>\r\n     <use x=\"159.033203\" xlink:href=\"#DejaVuSans-50\"/>\r\n    </g>\r\n   </g>\r\n   <g id=\"text_54\">\r\n    <!-- 0.75 -->\r\n    <g style=\"fill:#ffffff;\" transform=\"translate(401.062188 146.261094)scale(0.1 -0.1)\">\r\n     <use xlink:href=\"#DejaVuSans-48\"/>\r\n     <use x=\"63.623047\" xlink:href=\"#DejaVuSans-46\"/>\r\n     <use x=\"95.410156\" xlink:href=\"#DejaVuSans-55\"/>\r\n     <use x=\"159.033203\" xlink:href=\"#DejaVuSans-53\"/>\r\n    </g>\r\n   </g>\r\n   <g id=\"text_55\">\r\n    <!-- 1 -->\r\n    <g style=\"fill:#262626;\" transform=\"translate(453.65375 146.261094)scale(0.1 -0.1)\">\r\n     <use xlink:href=\"#DejaVuSans-49\"/>\r\n    </g>\r\n   </g>\r\n   <g id=\"text_56\">\r\n    <!-- 0.51 -->\r\n    <g style=\"fill:#ffffff;\" transform=\"translate(177.862188 166.646094)scale(0.1 -0.1)\">\r\n     <use xlink:href=\"#DejaVuSans-48\"/>\r\n     <use x=\"63.623047\" xlink:href=\"#DejaVuSans-46\"/>\r\n     <use x=\"95.410156\" xlink:href=\"#DejaVuSans-53\"/>\r\n     <use x=\"159.033203\" xlink:href=\"#DejaVuSans-49\"/>\r\n    </g>\r\n   </g>\r\n   <g id=\"text_57\">\r\n    <!-- 0.51 -->\r\n    <g style=\"fill:#ffffff;\" transform=\"translate(401.062188 166.646094)scale(0.1 -0.1)\">\r\n     <use xlink:href=\"#DejaVuSans-48\"/>\r\n     <use x=\"63.623047\" xlink:href=\"#DejaVuSans-46\"/>\r\n     <use x=\"95.410156\" xlink:href=\"#DejaVuSans-53\"/>\r\n     <use x=\"159.033203\" xlink:href=\"#DejaVuSans-49\"/>\r\n    </g>\r\n   </g>\r\n   <g id=\"text_58\">\r\n    <!-- 1 -->\r\n    <g style=\"fill:#262626;\" transform=\"translate(498.29375 166.646094)scale(0.1 -0.1)\">\r\n     <use xlink:href=\"#DejaVuSans-49\"/>\r\n    </g>\r\n   </g>\r\n   <g id=\"text_59\">\r\n    <!-- 1 -->\r\n    <g style=\"fill:#262626;\" transform=\"translate(542.93375 187.031094)scale(0.1 -0.1)\">\r\n     <use xlink:href=\"#DejaVuSans-49\"/>\r\n    </g>\r\n   </g>\r\n   <g id=\"text_60\">\r\n    <!-- 0.62 -->\r\n    <g style=\"fill:#ffffff;\" transform=\"translate(579.622187 187.031094)scale(0.1 -0.1)\">\r\n     <use xlink:href=\"#DejaVuSans-48\"/>\r\n     <use x=\"63.623047\" xlink:href=\"#DejaVuSans-46\"/>\r\n     <use x=\"95.410156\" xlink:href=\"#DejaVuSans-54\"/>\r\n     <use x=\"159.033203\" xlink:href=\"#DejaVuSans-50\"/>\r\n    </g>\r\n   </g>\r\n   <g id=\"text_61\">\r\n    <!-- 0.65 -->\r\n    <g style=\"fill:#ffffff;\" transform=\"translate(624.262187 187.031094)scale(0.1 -0.1)\">\r\n     <use xlink:href=\"#DejaVuSans-48\"/>\r\n     <use x=\"63.623047\" xlink:href=\"#DejaVuSans-46\"/>\r\n     <use x=\"95.410156\" xlink:href=\"#DejaVuSans-54\"/>\r\n     <use x=\"159.033203\" xlink:href=\"#DejaVuSans-53\"/>\r\n    </g>\r\n   </g>\r\n   <g id=\"text_62\">\r\n    <!-- 0.52 -->\r\n    <g style=\"fill:#ffffff;\" transform=\"translate(713.542187 187.031094)scale(0.1 -0.1)\">\r\n     <use xlink:href=\"#DejaVuSans-48\"/>\r\n     <use x=\"63.623047\" xlink:href=\"#DejaVuSans-46\"/>\r\n     <use x=\"95.410156\" xlink:href=\"#DejaVuSans-53\"/>\r\n     <use x=\"159.033203\" xlink:href=\"#DejaVuSans-50\"/>\r\n    </g>\r\n   </g>\r\n   <g id=\"text_63\">\r\n    <!-- 0.69 -->\r\n    <defs>\r\n     <path d=\"M 10.984375 1.515625 \r\nL 10.984375 10.5 \r\nQ 14.703125 8.734375 18.5 7.8125 \r\nQ 22.3125 6.890625 25.984375 6.890625 \r\nQ 35.75 6.890625 40.890625 13.453125 \r\nQ 46.046875 20.015625 46.78125 33.40625 \r\nQ 43.953125 29.203125 39.59375 26.953125 \r\nQ 35.25 24.703125 29.984375 24.703125 \r\nQ 19.046875 24.703125 12.671875 31.3125 \r\nQ 6.296875 37.9375 6.296875 49.421875 \r\nQ 6.296875 60.640625 12.9375 67.421875 \r\nQ 19.578125 74.21875 30.609375 74.21875 \r\nQ 43.265625 74.21875 49.921875 64.515625 \r\nQ 56.59375 54.828125 56.59375 36.375 \r\nQ 56.59375 19.140625 48.40625 8.859375 \r\nQ 40.234375 -1.421875 26.421875 -1.421875 \r\nQ 22.703125 -1.421875 18.890625 -0.6875 \r\nQ 15.09375 0.046875 10.984375 1.515625 \r\nz\r\nM 30.609375 32.421875 \r\nQ 37.25 32.421875 41.125 36.953125 \r\nQ 45.015625 41.5 45.015625 49.421875 \r\nQ 45.015625 57.28125 41.125 61.84375 \r\nQ 37.25 66.40625 30.609375 66.40625 \r\nQ 23.96875 66.40625 20.09375 61.84375 \r\nQ 16.21875 57.28125 16.21875 49.421875 \r\nQ 16.21875 41.5 20.09375 36.953125 \r\nQ 23.96875 32.421875 30.609375 32.421875 \r\nz\r\n\" id=\"DejaVuSans-57\"/>\r\n    </defs>\r\n    <g style=\"fill:#ffffff;\" transform=\"translate(802.822187 187.031094)scale(0.1 -0.1)\">\r\n     <use xlink:href=\"#DejaVuSans-48\"/>\r\n     <use x=\"63.623047\" xlink:href=\"#DejaVuSans-46\"/>\r\n     <use x=\"95.410156\" xlink:href=\"#DejaVuSans-54\"/>\r\n     <use x=\"159.033203\" xlink:href=\"#DejaVuSans-57\"/>\r\n    </g>\r\n   </g>\r\n   <g id=\"text_64\">\r\n    <!-- 0.62 -->\r\n    <g style=\"fill:#ffffff;\" transform=\"translate(534.982188 207.416094)scale(0.1 -0.1)\">\r\n     <use xlink:href=\"#DejaVuSans-48\"/>\r\n     <use x=\"63.623047\" xlink:href=\"#DejaVuSans-46\"/>\r\n     <use x=\"95.410156\" xlink:href=\"#DejaVuSans-54\"/>\r\n     <use x=\"159.033203\" xlink:href=\"#DejaVuSans-50\"/>\r\n    </g>\r\n   </g>\r\n   <g id=\"text_65\">\r\n    <!-- 1 -->\r\n    <g style=\"fill:#262626;\" transform=\"translate(587.57375 207.416094)scale(0.1 -0.1)\">\r\n     <use xlink:href=\"#DejaVuSans-49\"/>\r\n    </g>\r\n   </g>\r\n   <g id=\"text_66\">\r\n    <!-- 0.54 -->\r\n    <g style=\"fill:#ffffff;\" transform=\"translate(624.262187 207.416094)scale(0.1 -0.1)\">\r\n     <use xlink:href=\"#DejaVuSans-48\"/>\r\n     <use x=\"63.623047\" xlink:href=\"#DejaVuSans-46\"/>\r\n     <use x=\"95.410156\" xlink:href=\"#DejaVuSans-53\"/>\r\n     <use x=\"159.033203\" xlink:href=\"#DejaVuSans-52\"/>\r\n    </g>\r\n   </g>\r\n   <g id=\"text_67\">\r\n    <!-- 0.54 -->\r\n    <g style=\"fill:#ffffff;\" transform=\"translate(802.822187 207.416094)scale(0.1 -0.1)\">\r\n     <use xlink:href=\"#DejaVuSans-48\"/>\r\n     <use x=\"63.623047\" xlink:href=\"#DejaVuSans-46\"/>\r\n     <use x=\"95.410156\" xlink:href=\"#DejaVuSans-53\"/>\r\n     <use x=\"159.033203\" xlink:href=\"#DejaVuSans-52\"/>\r\n    </g>\r\n   </g>\r\n   <g id=\"text_68\">\r\n    <!-- 0.65 -->\r\n    <g style=\"fill:#ffffff;\" transform=\"translate(534.982188 227.801094)scale(0.1 -0.1)\">\r\n     <use xlink:href=\"#DejaVuSans-48\"/>\r\n     <use x=\"63.623047\" xlink:href=\"#DejaVuSans-46\"/>\r\n     <use x=\"95.410156\" xlink:href=\"#DejaVuSans-54\"/>\r\n     <use x=\"159.033203\" xlink:href=\"#DejaVuSans-53\"/>\r\n    </g>\r\n   </g>\r\n   <g id=\"text_69\">\r\n    <!-- 0.54 -->\r\n    <g style=\"fill:#ffffff;\" transform=\"translate(579.622187 227.801094)scale(0.1 -0.1)\">\r\n     <use xlink:href=\"#DejaVuSans-48\"/>\r\n     <use x=\"63.623047\" xlink:href=\"#DejaVuSans-46\"/>\r\n     <use x=\"95.410156\" xlink:href=\"#DejaVuSans-53\"/>\r\n     <use x=\"159.033203\" xlink:href=\"#DejaVuSans-52\"/>\r\n    </g>\r\n   </g>\r\n   <g id=\"text_70\">\r\n    <!-- 1 -->\r\n    <g style=\"fill:#262626;\" transform=\"translate(632.21375 227.801094)scale(0.1 -0.1)\">\r\n     <use xlink:href=\"#DejaVuSans-49\"/>\r\n    </g>\r\n   </g>\r\n   <g id=\"text_71\">\r\n    <!-- 0.51 -->\r\n    <g style=\"fill:#ffffff;\" transform=\"translate(802.822187 227.801094)scale(0.1 -0.1)\">\r\n     <use xlink:href=\"#DejaVuSans-48\"/>\r\n     <use x=\"63.623047\" xlink:href=\"#DejaVuSans-46\"/>\r\n     <use x=\"95.410156\" xlink:href=\"#DejaVuSans-53\"/>\r\n     <use x=\"159.033203\" xlink:href=\"#DejaVuSans-49\"/>\r\n    </g>\r\n   </g>\r\n   <g id=\"text_72\">\r\n    <!-- 1 -->\r\n    <g style=\"fill:#262626;\" transform=\"translate(676.85375 248.186094)scale(0.1 -0.1)\">\r\n     <use xlink:href=\"#DejaVuSans-49\"/>\r\n    </g>\r\n   </g>\r\n   <g id=\"text_73\">\r\n    <!-- 0.68 -->\r\n    <defs>\r\n     <path d=\"M 31.78125 34.625 \r\nQ 24.75 34.625 20.71875 30.859375 \r\nQ 16.703125 27.09375 16.703125 20.515625 \r\nQ 16.703125 13.921875 20.71875 10.15625 \r\nQ 24.75 6.390625 31.78125 6.390625 \r\nQ 38.8125 6.390625 42.859375 10.171875 \r\nQ 46.921875 13.96875 46.921875 20.515625 \r\nQ 46.921875 27.09375 42.890625 30.859375 \r\nQ 38.875 34.625 31.78125 34.625 \r\nz\r\nM 21.921875 38.8125 \r\nQ 15.578125 40.375 12.03125 44.71875 \r\nQ 8.5 49.078125 8.5 55.328125 \r\nQ 8.5 64.0625 14.71875 69.140625 \r\nQ 20.953125 74.21875 31.78125 74.21875 \r\nQ 42.671875 74.21875 48.875 69.140625 \r\nQ 55.078125 64.0625 55.078125 55.328125 \r\nQ 55.078125 49.078125 51.53125 44.71875 \r\nQ 48 40.375 41.703125 38.8125 \r\nQ 48.828125 37.15625 52.796875 32.3125 \r\nQ 56.78125 27.484375 56.78125 20.515625 \r\nQ 56.78125 9.90625 50.3125 4.234375 \r\nQ 43.84375 -1.421875 31.78125 -1.421875 \r\nQ 19.734375 -1.421875 13.25 4.234375 \r\nQ 6.78125 9.90625 6.78125 20.515625 \r\nQ 6.78125 27.484375 10.78125 32.3125 \r\nQ 14.796875 37.15625 21.921875 38.8125 \r\nz\r\nM 18.3125 54.390625 \r\nQ 18.3125 48.734375 21.84375 45.5625 \r\nQ 25.390625 42.390625 31.78125 42.390625 \r\nQ 38.140625 42.390625 41.71875 45.5625 \r\nQ 45.3125 48.734375 45.3125 54.390625 \r\nQ 45.3125 60.0625 41.71875 63.234375 \r\nQ 38.140625 66.40625 31.78125 66.40625 \r\nQ 25.390625 66.40625 21.84375 63.234375 \r\nQ 18.3125 60.0625 18.3125 54.390625 \r\nz\r\n\" id=\"DejaVuSans-56\"/>\r\n    </defs>\r\n    <g style=\"fill:#ffffff;\" transform=\"translate(713.542187 248.186094)scale(0.1 -0.1)\">\r\n     <use xlink:href=\"#DejaVuSans-48\"/>\r\n     <use x=\"63.623047\" xlink:href=\"#DejaVuSans-46\"/>\r\n     <use x=\"95.410156\" xlink:href=\"#DejaVuSans-54\"/>\r\n     <use x=\"159.033203\" xlink:href=\"#DejaVuSans-56\"/>\r\n    </g>\r\n   </g>\r\n   <g id=\"text_74\">\r\n    <!-- 0.52 -->\r\n    <g style=\"fill:#ffffff;\" transform=\"translate(534.982188 268.571094)scale(0.1 -0.1)\">\r\n     <use xlink:href=\"#DejaVuSans-48\"/>\r\n     <use x=\"63.623047\" xlink:href=\"#DejaVuSans-46\"/>\r\n     <use x=\"95.410156\" xlink:href=\"#DejaVuSans-53\"/>\r\n     <use x=\"159.033203\" xlink:href=\"#DejaVuSans-50\"/>\r\n    </g>\r\n   </g>\r\n   <g id=\"text_75\">\r\n    <!-- 0.68 -->\r\n    <g style=\"fill:#ffffff;\" transform=\"translate(668.902188 268.571094)scale(0.1 -0.1)\">\r\n     <use xlink:href=\"#DejaVuSans-48\"/>\r\n     <use x=\"63.623047\" xlink:href=\"#DejaVuSans-46\"/>\r\n     <use x=\"95.410156\" xlink:href=\"#DejaVuSans-54\"/>\r\n     <use x=\"159.033203\" xlink:href=\"#DejaVuSans-56\"/>\r\n    </g>\r\n   </g>\r\n   <g id=\"text_76\">\r\n    <!-- 1 -->\r\n    <g style=\"fill:#262626;\" transform=\"translate(721.49375 268.571094)scale(0.1 -0.1)\">\r\n     <use xlink:href=\"#DejaVuSans-49\"/>\r\n    </g>\r\n   </g>\r\n   <g id=\"text_77\">\r\n    <!-- 1 -->\r\n    <g style=\"fill:#262626;\" transform=\"translate(766.13375 288.956094)scale(0.1 -0.1)\">\r\n     <use xlink:href=\"#DejaVuSans-49\"/>\r\n    </g>\r\n   </g>\r\n   <g id=\"text_78\">\r\n    <!-- 0.69 -->\r\n    <g style=\"fill:#ffffff;\" transform=\"translate(534.982188 309.341094)scale(0.1 -0.1)\">\r\n     <use xlink:href=\"#DejaVuSans-48\"/>\r\n     <use x=\"63.623047\" xlink:href=\"#DejaVuSans-46\"/>\r\n     <use x=\"95.410156\" xlink:href=\"#DejaVuSans-54\"/>\r\n     <use x=\"159.033203\" xlink:href=\"#DejaVuSans-57\"/>\r\n    </g>\r\n   </g>\r\n   <g id=\"text_79\">\r\n    <!-- 0.54 -->\r\n    <g style=\"fill:#ffffff;\" transform=\"translate(579.622187 309.341094)scale(0.1 -0.1)\">\r\n     <use xlink:href=\"#DejaVuSans-48\"/>\r\n     <use x=\"63.623047\" xlink:href=\"#DejaVuSans-46\"/>\r\n     <use x=\"95.410156\" xlink:href=\"#DejaVuSans-53\"/>\r\n     <use x=\"159.033203\" xlink:href=\"#DejaVuSans-52\"/>\r\n    </g>\r\n   </g>\r\n   <g id=\"text_80\">\r\n    <!-- 0.51 -->\r\n    <g style=\"fill:#ffffff;\" transform=\"translate(624.262187 309.341094)scale(0.1 -0.1)\">\r\n     <use xlink:href=\"#DejaVuSans-48\"/>\r\n     <use x=\"63.623047\" xlink:href=\"#DejaVuSans-46\"/>\r\n     <use x=\"95.410156\" xlink:href=\"#DejaVuSans-53\"/>\r\n     <use x=\"159.033203\" xlink:href=\"#DejaVuSans-49\"/>\r\n    </g>\r\n   </g>\r\n   <g id=\"text_81\">\r\n    <!-- 1 -->\r\n    <g style=\"fill:#262626;\" transform=\"translate(810.77375 309.341094)scale(0.1 -0.1)\">\r\n     <use xlink:href=\"#DejaVuSans-49\"/>\r\n    </g>\r\n   </g>\r\n   <g id=\"text_82\">\r\n    <!-- 1 -->\r\n    <g style=\"fill:#262626;\" transform=\"translate(855.41375 329.726094)scale(0.1 -0.1)\">\r\n     <use xlink:href=\"#DejaVuSans-49\"/>\r\n    </g>\r\n   </g>\r\n  </g>\r\n  <g id=\"axes_2\">\r\n   <g id=\"patch_3\">\r\n    <path clip-path=\"url(#peef3bd67c7)\" d=\"M 925.555 337.159219 \r\nL 925.555 335.885156 \r\nL 925.555 12.273281 \r\nL 925.555 10.999219 \r\nL 941.863 10.999219 \r\nL 941.863 12.273281 \r\nL 941.863 335.885156 \r\nL 941.863 337.159219 \r\nz\r\n\" style=\"fill:#ffffff;stroke:#ffffff;stroke-linejoin:miter;stroke-width:0.01;\"/>\r\n   </g>\r\n   <image height=\"326\" id=\"image0d9a395c3e\" transform=\"scale(1 -1)translate(0 -326)\" width=\"16\" x=\"926\" xlink:href=\"data:image/png;base64,\r\niVBORw0KGgoAAAANSUhEUgAAABAAAAFGCAYAAABjUx8/AAAABHNCSVQICAgIfAhkiAAAAbZJREFUeJztnMENAzEIBOHiNJH++7wUMUi7XuH/WTAM2NEl6fP9vQXWQx6uqjrdrd6g2AYGDB41AxyBA0TKQF7GhTjCQN0L+ipkiMSyMDgXdqwbpKCPwAGieqwnjDR5FQwYYJG4iejxkLG+Ik1AZGshWkB0ONrYSrgf0Bwcbuvqk4kfLBEmiiOYEAlvIDfxfogOJrJlMNKWgQEDh25Eb5lMILJlYGICAyqSnMFCzIDY8pGmZ5AgEkxh4iMP3OAploMBA4Pj/aUQYQQrUtVpGIGBiQMqX8+ApjBgImyGiW4UD5TT8IpyHriBw0ijDCjEideFOAUYQYJI1zM4DU9XB4gwhYhuhDFwE1ekERPR8xMQOQMagbwbeQpyiJUAUb0BpWAAkcaAI+AMBlKAbzjkERhALApRXoUJiHoGepHUX2zDEThAhL8ikZtoIFLRn+IEiNRykeRVSOhGCtGgG+830QAiN5EfrnqIKxJmwC+afKxfD1HeTAkmyquQweD+blSnoI/AwcQABuoU9BFMvCr7sA3un4kZ3cjKuN040AsZIsmbSd0LCRDxvxM5mCjvRjlEWsaMiST24A8tly5Jks5+bAAAAABJRU5ErkJggg==\" y=\"-10\"/>\r\n   <g id=\"matplotlib.axis_3\"/>\r\n   <g id=\"matplotlib.axis_4\">\r\n    <g id=\"ytick_17\">\r\n     <g id=\"line2d_33\">\r\n      <defs>\r\n       <path d=\"M 0 0 \r\nL 3.5 0 \r\n\" id=\"m87337d6885\" style=\"stroke:#000000;stroke-width:0.8;\"/>\r\n      </defs>\r\n      <g>\r\n       <use style=\"stroke:#000000;stroke-width:0.8;\" x=\"941.863\" xlink:href=\"#m87337d6885\" y=\"276.243625\"/>\r\n      </g>\r\n     </g>\r\n     <g id=\"text_83\">\r\n      <!-- 0.6 -->\r\n      <g transform=\"translate(948.863 280.042844)scale(0.1 -0.1)\">\r\n       <use xlink:href=\"#DejaVuSans-48\"/>\r\n       <use x=\"63.623047\" xlink:href=\"#DejaVuSans-46\"/>\r\n       <use x=\"95.410156\" xlink:href=\"#DejaVuSans-54\"/>\r\n      </g>\r\n     </g>\r\n    </g>\r\n    <g id=\"ytick_18\">\r\n     <g id=\"line2d_34\">\r\n      <g>\r\n       <use style=\"stroke:#000000;stroke-width:0.8;\" x=\"941.863\" xlink:href=\"#m87337d6885\" y=\"209.932524\"/>\r\n      </g>\r\n     </g>\r\n     <g id=\"text_84\">\r\n      <!-- 0.7 -->\r\n      <g transform=\"translate(948.863 213.731742)scale(0.1 -0.1)\">\r\n       <use xlink:href=\"#DejaVuSans-48\"/>\r\n       <use x=\"63.623047\" xlink:href=\"#DejaVuSans-46\"/>\r\n       <use x=\"95.410156\" xlink:href=\"#DejaVuSans-55\"/>\r\n      </g>\r\n     </g>\r\n    </g>\r\n    <g id=\"ytick_19\">\r\n     <g id=\"line2d_35\">\r\n      <g>\r\n       <use style=\"stroke:#000000;stroke-width:0.8;\" x=\"941.863\" xlink:href=\"#m87337d6885\" y=\"143.621422\"/>\r\n      </g>\r\n     </g>\r\n     <g id=\"text_85\">\r\n      <!-- 0.8 -->\r\n      <g transform=\"translate(948.863 147.420641)scale(0.1 -0.1)\">\r\n       <use xlink:href=\"#DejaVuSans-48\"/>\r\n       <use x=\"63.623047\" xlink:href=\"#DejaVuSans-46\"/>\r\n       <use x=\"95.410156\" xlink:href=\"#DejaVuSans-56\"/>\r\n      </g>\r\n     </g>\r\n    </g>\r\n    <g id=\"ytick_20\">\r\n     <g id=\"line2d_36\">\r\n      <g>\r\n       <use style=\"stroke:#000000;stroke-width:0.8;\" x=\"941.863\" xlink:href=\"#m87337d6885\" y=\"77.31032\"/>\r\n      </g>\r\n     </g>\r\n     <g id=\"text_86\">\r\n      <!-- 0.9 -->\r\n      <g transform=\"translate(948.863 81.109539)scale(0.1 -0.1)\">\r\n       <use xlink:href=\"#DejaVuSans-48\"/>\r\n       <use x=\"63.623047\" xlink:href=\"#DejaVuSans-46\"/>\r\n       <use x=\"95.410156\" xlink:href=\"#DejaVuSans-57\"/>\r\n      </g>\r\n     </g>\r\n    </g>\r\n    <g id=\"ytick_21\">\r\n     <g id=\"line2d_37\">\r\n      <g>\r\n       <use style=\"stroke:#000000;stroke-width:0.8;\" x=\"941.863\" xlink:href=\"#m87337d6885\" y=\"10.999219\"/>\r\n      </g>\r\n     </g>\r\n     <g id=\"text_87\">\r\n      <!-- 1.0 -->\r\n      <g transform=\"translate(948.863 14.798438)scale(0.1 -0.1)\">\r\n       <use xlink:href=\"#DejaVuSans-49\"/>\r\n       <use x=\"63.623047\" xlink:href=\"#DejaVuSans-46\"/>\r\n       <use x=\"95.410156\" xlink:href=\"#DejaVuSans-48\"/>\r\n      </g>\r\n     </g>\r\n    </g>\r\n   </g>\r\n   <g id=\"patch_4\">\r\n    <path d=\"M 925.555 337.159219 \r\nL 925.555 335.885156 \r\nL 925.555 12.273281 \r\nL 925.555 10.999219 \r\nL 941.863 10.999219 \r\nL 941.863 12.273281 \r\nL 941.863 335.885156 \r\nL 941.863 337.159219 \r\nz\r\n\" style=\"fill:none;\"/>\r\n   </g>\r\n  </g>\r\n </g>\r\n <defs>\r\n  <clipPath id=\"pfe6373559b\">\r\n   <rect height=\"326.16\" width=\"714.24\" x=\"166.675\" y=\"10.999219\"/>\r\n  </clipPath>\r\n  <clipPath id=\"peef3bd67c7\">\r\n   <rect height=\"326.16\" width=\"16.308\" x=\"925.555\" y=\"10.999219\"/>\r\n  </clipPath>\r\n </defs>\r\n</svg>\r\n",
      "image/png": "[encoded data removed]"
     },
     "metadata": {
      "needs_background": "light"
     }
    }
   ],
   "source": [
    "plt.figure(figsize=(16,6))\n",
    "sn.heatmap(corrMatrix, annot=True)\n",
    "plt.show()"
   ]
  },
  {
   "cell_type": "code",
   "execution_count": null,
   "metadata": {},
   "outputs": [],
   "source": []
  }
 ]
}